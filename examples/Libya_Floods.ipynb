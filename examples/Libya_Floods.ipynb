{
  "metadata": {
    "kernelspec": {
      "display_name": "Python (Pyodide)",
      "language": "python",
      "name": "python"
    },
    "language_info": {
      "codemirror_mode": {
        "name": "python",
        "version": 3
      },
      "file_extension": ".py",
      "mimetype": "text/x-python",
      "name": "python",
      "nbconvert_exporter": "python",
      "pygments_lexer": "ipython3",
      "version": "3.8"
    },
    "colab": {
      "provenance": []
    },
    "widgets": {
      "application/vnd.jupyter.widget-state+json": {
        "5472b4c3f19c4d03b54ffc06236a7aad": {
          "model_module": "jupyter-leaflet",
          "model_name": "LeafletMapModel",
          "model_module_version": "^0.17",
          "state": {
            "_dom_classes": [],
            "_model_module": "jupyter-leaflet",
            "_model_module_version": "^0.17",
            "_model_name": "LeafletMapModel",
            "_view_count": null,
            "_view_module": "jupyter-leaflet",
            "_view_module_version": "^0.17",
            "_view_name": "LeafletMapView",
            "bottom": 53082,
            "bounce_at_zoom_limits": true,
            "box_zoom": true,
            "center": [
              32.91648534731439,
              24.472045898437504
            ],
            "close_popup_on_click": true,
            "controls": [
              "IPY_MODEL_2c88a4b23d104e16b0405f64aac4c7ea",
              "IPY_MODEL_490b8d7440b6407bbf89708323d267b8",
              "IPY_MODEL_9dd0c1d71473402a8dd54eca78ac3d56",
              "IPY_MODEL_a428fe5d62544c3893be1d670ac93e3c",
              "IPY_MODEL_54f12d89e9ac445e87849b14a1cca6e8",
              "IPY_MODEL_d7ef8161ae944aa3946fe5503b5dd884",
              "IPY_MODEL_8cf91a67bece404c84c0e6af298aa8fd",
              "IPY_MODEL_0754e57d73f14aa69866bc5696a5fefe",
              "IPY_MODEL_4bb74f1c9a50448fbd822f6dc6ac9ce4"
            ],
            "crs": {
              "name": "EPSG3857",
              "custom": false
            },
            "default_style": "IPY_MODEL_67d043726bcd44e0a7fbe7ef9bdd6abe",
            "double_click_zoom": true,
            "dragging": true,
            "dragging_style": "IPY_MODEL_2e485f3fefa24087bfe0fb0558d9e022",
            "east": 28.429870605468754,
            "fullscreen": false,
            "inertia": true,
            "inertia_deceleration": 3000,
            "inertia_max_speed": 1500,
            "interpolation": "bilinear",
            "keyboard": true,
            "keyboard_pan_offset": 80,
            "keyboard_zoom_offset": 1,
            "layers": [
              "IPY_MODEL_c23d7d2f5f30455a9a744f6eb2494f41",
              "IPY_MODEL_80bf0f9e18f441f789739b69bd2d1d7a"
            ],
            "layout": "IPY_MODEL_611e889e90b44fd096fa0956947878a7",
            "left": 73005,
            "max_zoom": 24,
            "min_zoom": null,
            "modisdate": "2023-09-17",
            "north": 33.49101671911275,
            "options": [
              "bounce_at_zoom_limits",
              "box_zoom",
              "center",
              "close_popup_on_click",
              "double_click_zoom",
              "dragging",
              "fullscreen",
              "inertia",
              "inertia_deceleration",
              "inertia_max_speed",
              "interpolation",
              "keyboard",
              "keyboard_pan_offset",
              "keyboard_zoom_offset",
              "max_zoom",
              "min_zoom",
              "prefer_canvas",
              "scroll_wheel_zoom",
              "tap",
              "tap_tolerance",
              "touch_zoom",
              "world_copy_jump",
              "zoom",
              "zoom_animation_threshold",
              "zoom_delta",
              "zoom_snap"
            ],
            "panes": {},
            "prefer_canvas": false,
            "right": 75887,
            "scroll_wheel_zoom": true,
            "south": 32.338200271527754,
            "style": "IPY_MODEL_67d043726bcd44e0a7fbe7ef9bdd6abe",
            "tap": true,
            "tap_tolerance": 15,
            "top": 52582,
            "touch_zoom": true,
            "west": 20.514221191406254,
            "window_url": "https://of4vxotj7pc-496ff2e9c6d22116-0-colab.googleusercontent.com/outputframe.html?vrz=colab_20230914-060107_RC00_565327706",
            "world_copy_jump": false,
            "zoom": 9,
            "zoom_animation_threshold": 4,
            "zoom_delta": 1,
            "zoom_snap": 1
          }
        },
        "2c88a4b23d104e16b0405f64aac4c7ea": {
          "model_module": "jupyter-leaflet",
          "model_name": "LeafletZoomControlModel",
          "model_module_version": "^0.17",
          "state": {
            "_model_module": "jupyter-leaflet",
            "_model_module_version": "^0.17",
            "_model_name": "LeafletZoomControlModel",
            "_view_count": null,
            "_view_module": "jupyter-leaflet",
            "_view_module_version": "^0.17",
            "_view_name": "LeafletZoomControlView",
            "options": [
              "position",
              "zoom_in_text",
              "zoom_in_title",
              "zoom_out_text",
              "zoom_out_title"
            ],
            "position": "topleft",
            "zoom_in_text": "+",
            "zoom_in_title": "Zoom in",
            "zoom_out_text": "-",
            "zoom_out_title": "Zoom out"
          }
        },
        "490b8d7440b6407bbf89708323d267b8": {
          "model_module": "jupyter-leaflet",
          "model_name": "LeafletAttributionControlModel",
          "model_module_version": "^0.17",
          "state": {
            "_model_module": "jupyter-leaflet",
            "_model_module_version": "^0.17",
            "_model_name": "LeafletAttributionControlModel",
            "_view_count": null,
            "_view_module": "jupyter-leaflet",
            "_view_module_version": "^0.17",
            "_view_name": "LeafletAttributionControlView",
            "options": [
              "position",
              "prefix"
            ],
            "position": "bottomright",
            "prefix": "ipyleaflet"
          }
        },
        "9dd0c1d71473402a8dd54eca78ac3d56": {
          "model_module": "jupyter-leaflet",
          "model_name": "LeafletFullScreenControlModel",
          "model_module_version": "^0.17",
          "state": {
            "_model_module": "jupyter-leaflet",
            "_model_module_version": "^0.17",
            "_model_name": "LeafletFullScreenControlModel",
            "_view_count": null,
            "_view_module": "jupyter-leaflet",
            "_view_module_version": "^0.17",
            "_view_name": "LeafletFullScreenControlView",
            "options": [
              "position"
            ],
            "position": "topleft"
          }
        },
        "a428fe5d62544c3893be1d670ac93e3c": {
          "model_module": "jupyter-leaflet",
          "model_name": "LeafletSearchControlModel",
          "model_module_version": "^0.17",
          "state": {
            "_model_module": "jupyter-leaflet",
            "_model_module_version": "^0.17",
            "_model_name": "LeafletSearchControlModel",
            "_view_count": null,
            "_view_module": "jupyter-leaflet",
            "_view_module_version": "^0.17",
            "_view_name": "LeafletSearchControlView",
            "animate_location": false,
            "auto_collapse": false,
            "auto_type": false,
            "found_style": {
              "fillColor": "#3f0",
              "color": "#0f0"
            },
            "jsonp_param": "json_callback",
            "layer": null,
            "marker": null,
            "options": [
              "animate_location",
              "auto_collapse",
              "auto_type",
              "found_style",
              "jsonp_param",
              "position",
              "property_loc",
              "property_name",
              "url",
              "zoom"
            ],
            "position": "topleft",
            "property_loc": [
              "lat",
              "lon"
            ],
            "property_name": "display_name",
            "url": "https://nominatim.openstreetmap.org/search?format=json&q={s}",
            "zoom": 12
          }
        },
        "54f12d89e9ac445e87849b14a1cca6e8": {
          "model_module": "jupyter-leaflet",
          "model_name": "LeafletDrawControlModel",
          "model_module_version": "^0.17",
          "state": {
            "_model_module": "jupyter-leaflet",
            "_model_module_version": "^0.17",
            "_model_name": "LeafletDrawControlModel",
            "_view_count": null,
            "_view_module": "jupyter-leaflet",
            "_view_module_version": "^0.17",
            "_view_name": "LeafletDrawControlView",
            "circle": {
              "shapeOptions": {
                "color": "#3388ff"
              },
              "repeatMode": false
            },
            "circlemarker": {},
            "data": [],
            "edit": true,
            "marker": {
              "shapeOptions": {
                "color": "#3388ff"
              },
              "repeatMode": false
            },
            "options": [
              "position"
            ],
            "polygon": {
              "repeatMode": false
            },
            "polyline": {
              "repeatMode": false
            },
            "position": "topleft",
            "rectangle": {
              "shapeOptions": {
                "color": "#3388ff"
              },
              "repeatMode": false
            },
            "remove": true
          }
        },
        "d7ef8161ae944aa3946fe5503b5dd884": {
          "model_module": "jupyter-leaflet",
          "model_name": "LeafletMeasureControlModel",
          "model_module_version": "^0.17",
          "state": {
            "_custom_units": {},
            "_model_module": "jupyter-leaflet",
            "_model_module_version": "^0.17",
            "_model_name": "LeafletMeasureControlModel",
            "_view_count": null,
            "_view_module": "jupyter-leaflet",
            "_view_module_version": "^0.17",
            "_view_name": "LeafletMeasureControlView",
            "active_color": "#ABE67E",
            "capture_z_index": 10000,
            "completed_color": "#C8F2BE",
            "options": [
              "active_color",
              "capture_z_index",
              "completed_color",
              "popup_options",
              "position",
              "primary_area_unit",
              "primary_length_unit",
              "secondary_area_unit",
              "secondary_length_unit"
            ],
            "popup_options": {
              "className": "leaflet-measure-resultpopup",
              "autoPanPadding": [
                10,
                10
              ]
            },
            "position": "topleft",
            "primary_area_unit": "acres",
            "primary_length_unit": "feet",
            "secondary_area_unit": null,
            "secondary_length_unit": null
          }
        },
        "8cf91a67bece404c84c0e6af298aa8fd": {
          "model_module": "jupyter-leaflet",
          "model_name": "LeafletScaleControlModel",
          "model_module_version": "^0.17",
          "state": {
            "_model_module": "jupyter-leaflet",
            "_model_module_version": "^0.17",
            "_model_name": "LeafletScaleControlModel",
            "_view_count": null,
            "_view_module": "jupyter-leaflet",
            "_view_module_version": "^0.17",
            "_view_name": "LeafletScaleControlView",
            "imperial": true,
            "max_width": 100,
            "metric": true,
            "options": [
              "imperial",
              "max_width",
              "metric",
              "position",
              "update_when_idle"
            ],
            "position": "bottomleft",
            "update_when_idle": false
          }
        },
        "0754e57d73f14aa69866bc5696a5fefe": {
          "model_module": "jupyter-leaflet",
          "model_name": "LeafletWidgetControlModel",
          "model_module_version": "^0.17",
          "state": {
            "_model_module": "jupyter-leaflet",
            "_model_module_version": "^0.17",
            "_model_name": "LeafletWidgetControlModel",
            "_view_count": null,
            "_view_module": "jupyter-leaflet",
            "_view_module_version": "^0.17",
            "_view_name": "LeafletWidgetControlView",
            "max_height": null,
            "max_width": null,
            "min_height": null,
            "min_width": null,
            "options": [
              "position",
              "transparent_bg"
            ],
            "position": "topright",
            "transparent_bg": false,
            "widget": "IPY_MODEL_adaf5cf58561429c9157043ac9444596"
          }
        },
        "4bb74f1c9a50448fbd822f6dc6ac9ce4": {
          "model_module": "jupyter-leaflet",
          "model_name": "LeafletWidgetControlModel",
          "model_module_version": "^0.17",
          "state": {
            "_model_module": "jupyter-leaflet",
            "_model_module_version": "^0.17",
            "_model_name": "LeafletWidgetControlModel",
            "_view_count": null,
            "_view_module": "jupyter-leaflet",
            "_view_module_version": "^0.17",
            "_view_name": "LeafletWidgetControlView",
            "max_height": null,
            "max_width": null,
            "min_height": null,
            "min_width": null,
            "options": [
              "position",
              "transparent_bg"
            ],
            "position": "bottomright",
            "transparent_bg": false,
            "widget": "IPY_MODEL_3288d00fdb2647df82f199e451169de4"
          }
        },
        "67d043726bcd44e0a7fbe7ef9bdd6abe": {
          "model_module": "jupyter-leaflet",
          "model_name": "LeafletMapStyleModel",
          "model_module_version": "^0.17",
          "state": {
            "_model_module": "jupyter-leaflet",
            "_model_module_version": "^0.17",
            "_model_name": "LeafletMapStyleModel",
            "_view_count": null,
            "_view_module": "@jupyter-widgets/base",
            "_view_module_version": "1.2.0",
            "_view_name": "StyleView",
            "cursor": "grab"
          }
        },
        "2e485f3fefa24087bfe0fb0558d9e022": {
          "model_module": "jupyter-leaflet",
          "model_name": "LeafletMapStyleModel",
          "model_module_version": "^0.17",
          "state": {
            "_model_module": "jupyter-leaflet",
            "_model_module_version": "^0.17",
            "_model_name": "LeafletMapStyleModel",
            "_view_count": null,
            "_view_module": "@jupyter-widgets/base",
            "_view_module_version": "1.2.0",
            "_view_name": "StyleView",
            "cursor": "move"
          }
        },
        "c23d7d2f5f30455a9a744f6eb2494f41": {
          "model_module": "jupyter-leaflet",
          "model_name": "LeafletTileLayerModel",
          "model_module_version": "^0.17",
          "state": {
            "_model_module": "jupyter-leaflet",
            "_model_module_version": "^0.17",
            "_model_name": "LeafletTileLayerModel",
            "_view_count": null,
            "_view_module": "jupyter-leaflet",
            "_view_module_version": "^0.17",
            "_view_name": "LeafletTileLayerView",
            "attribution": "&copy; <a href=\"https://www.openstreetmap.org/copyright\">OpenStreetMap</a> contributors",
            "base": true,
            "bottom": true,
            "bounds": null,
            "detect_retina": false,
            "loading": false,
            "max_native_zoom": null,
            "max_zoom": 19,
            "min_native_zoom": null,
            "min_zoom": 1,
            "name": "OpenStreetMap",
            "no_wrap": false,
            "opacity": 1,
            "options": [
              "attribution",
              "bounds",
              "detect_retina",
              "max_native_zoom",
              "max_zoom",
              "min_native_zoom",
              "min_zoom",
              "no_wrap",
              "tile_size",
              "tms",
              "zoom_offset"
            ],
            "pane": "",
            "popup": null,
            "popup_max_height": null,
            "popup_max_width": 300,
            "popup_min_width": 50,
            "show_loading": false,
            "subitems": [],
            "tile_size": 256,
            "tms": false,
            "url": "https://tile.openstreetmap.org/{z}/{x}/{y}.png",
            "visible": true,
            "zoom_offset": 0
          }
        },
        "80bf0f9e18f441f789739b69bd2d1d7a": {
          "model_module": "jupyter-leaflet",
          "model_name": "LeafletGeoJSONModel",
          "model_module_version": "^0.17",
          "state": {
            "_model_module": "jupyter-leaflet",
            "_model_module_version": "^0.17",
            "_model_name": "LeafletGeoJSONModel",
            "_view_count": null,
            "_view_module": "jupyter-leaflet",
            "_view_module_version": "^0.17",
            "_view_name": "LeafletGeoJSONView",
            "base": false,
            "bottom": false,
            "data": {
              "type": "FeatureCollection",
              "features": [
                {
                  "id": "0",
                  "type": "Feature",
                  "properties": {
                    "datetime": "2023-01-22 09:24:17+00:00",
                    "platform": "WV02",
                    "gsd": 0.47,
                    "ard_metadata_version": "0.0.1",
                    "catalog_id": "10300500D8F96700",
                    "utm_zone": 34,
                    "quadkey": "120200210222",
                    "view:off_nadir": 6.8,
                    "view:azimuth": 45.9,
                    "view:incidence_angle": 82.3,
                    "view:sun_azimuth": 157.3,
                    "view:sun_elevation": 34.3,
                    "proj:epsg": 32634,
                    "grid:code": "MXRA-Z34-120200210222",
                    "proj:bbox": "584451.4193005192,3639843.75,585156.25,3640544.6057481826",
                    "tile:data_area": 0.4,
                    "tile:clouds_area": 0,
                    "tile:clouds_percent": 0,
                    "visual": "https://maxar-opendata.s3.amazonaws.com/events/Libya-Floods-Sept-2023/ard/34/120200210222/2023-01-22/10300500D8F96700-visual.tif",
                    "style": {
                      "color": "black",
                      "fillColor": "black"
                    }
                  },
                  "geometry": {
                    "type": "Polygon",
                    "coordinates": [
                      [
                        [
                          21.91047409563659,
                          32.893462474403655
                        ],
                        [
                          21.90293907844315,
                          32.893516757226884
                        ],
                        [
                          21.90388,
                          32.899438
                        ],
                        [
                          21.903981,
                          32.899647
                        ],
                        [
                          21.90417,
                          32.899781
                        ],
                        [
                          21.904287,
                          32.899816
                        ],
                        [
                          21.904444,
                          32.899828
                        ],
                        [
                          21.910535891975712,
                          32.8994985944027
                        ],
                        [
                          21.91047409563659,
                          32.893462474403655
                        ]
                      ]
                    ]
                  },
                  "bbox": [
                    21.90293907844315,
                    32.893462474403655,
                    21.910535891975712,
                    32.899828
                  ]
                },
                {
                  "id": "1",
                  "type": "Feature",
                  "properties": {
                    "datetime": "2023-01-22 09:24:17+00:00",
                    "platform": "WV02",
                    "gsd": 0.47,
                    "ard_metadata_version": "0.0.1",
                    "catalog_id": "10300500D8F96700",
                    "utm_zone": 34,
                    "quadkey": "120200210223",
                    "view:off_nadir": 6.7,
                    "view:azimuth": 45,
                    "view:incidence_angle": 82.4,
                    "view:sun_azimuth": 157.3,
                    "view:sun_elevation": 34.3,
                    "proj:epsg": 32634,
                    "grid:code": "MXRA-Z34-120200210223",
                    "proj:bbox": "584843.75,3639843.75,590156.25,3641261.4759275885",
                    "tile:data_area": 3.9,
                    "tile:clouds_area": 0,
                    "tile:clouds_percent": 0,
                    "visual": "https://maxar-opendata.s3.amazonaws.com/events/Libya-Floods-Sept-2023/ard/34/120200210223/2023-01-22/10300500D8F96700-visual.tif",
                    "style": {
                      "color": "black",
                      "fillColor": "black"
                    }
                  },
                  "geometry": {
                    "type": "Polygon",
                    "coordinates": [
                      [
                        [
                          21.963926758605634,
                          32.893061835365245
                        ],
                        [
                          21.907133269411673,
                          32.893486755845764
                        ],
                        [
                          21.907196433154546,
                          32.89967916825923
                        ],
                        [
                          21.915984,
                          32.899204
                        ],
                        [
                          21.916148,
                          32.899145
                        ],
                        [
                          21.922421,
                          32.895773
                        ],
                        [
                          21.927976,
                          32.897324
                        ],
                        [
                          21.930323,
                          32.899513
                        ],
                        [
                          21.930472,
                          32.899606
                        ],
                        [
                          21.93065,
                          32.899651
                        ],
                        [
                          21.935798,
                          32.899783
                        ],
                        [
                          21.94323,
                          32.898654
                        ],
                        [
                          21.947293,
                          32.901096
                        ],
                        [
                          21.94742,
                          32.901152
                        ],
                        [
                          21.952465,
                          32.901679
                        ],
                        [
                          21.959076,
                          32.904716
                        ],
                        [
                          21.96406546750748,
                          32.905859084455315
                        ],
                        [
                          21.963926758605634,
                          32.893061835365245
                        ]
                      ]
                    ]
                  },
                  "bbox": [
                    21.907133269411673,
                    32.893061835365245,
                    21.96406546750748,
                    32.905859084455315
                  ]
                },
                {
                  "id": "2",
                  "type": "Feature",
                  "properties": {
                    "datetime": "2023-01-22 09:24:17+00:00",
                    "platform": "WV02",
                    "gsd": 0.47,
                    "ard_metadata_version": "0.0.1",
                    "catalog_id": "10300500D8F96700",
                    "utm_zone": 34,
                    "quadkey": "120200210232",
                    "view:off_nadir": 6.5,
                    "view:azimuth": 42.8,
                    "view:incidence_angle": 82.7,
                    "view:sun_azimuth": 157.3,
                    "view:sun_elevation": 34.3,
                    "proj:epsg": 32634,
                    "grid:code": "MXRA-Z34-120200210232",
                    "proj:bbox": "589843.75,3639843.75,593407.3490171629,3641467.38057285",
                    "tile:data_area": 5.1,
                    "tile:clouds_area": 0,
                    "tile:clouds_percent": 0,
                    "visual": "https://maxar-opendata.s3.amazonaws.com/events/Libya-Floods-Sept-2023/ard/34/120200210232/2023-01-22/10300500D8F96700-visual.tif",
                    "style": {
                      "color": "black",
                      "fillColor": "black"
                    }
                  },
                  "geometry": {
                    "type": "Polygon",
                    "coordinates": [
                      [
                        [
                          21.960585998456096,
                          32.89308754455295
                        ],
                        [
                          21.960715659394257,
                          32.90509164512902
                        ],
                        [
                          21.971791,
                          32.907629
                        ],
                        [
                          21.971931,
                          32.907645
                        ],
                        [
                          21.972078,
                          32.907627
                        ],
                        [
                          21.980864,
                          32.905501
                        ],
                        [
                          21.988018,
                          32.905696
                        ],
                        [
                          21.996834,
                          32.90585
                        ],
                        [
                          21.997028,
                          32.905823
                        ],
                        [
                          21.997234,
                          32.905708
                        ],
                        [
                          21.997336,
                          32.905578
                        ],
                        [
                          21.997378,
                          32.905438
                        ],
                        [
                          21.99868229092065,
                          32.89278622705183
                        ],
                        [
                          21.960585998456096,
                          32.89308754455295
                        ]
                      ]
                    ]
                  },
                  "bbox": [
                    21.960585998456096,
                    32.89278622705183,
                    21.99868229092065,
                    32.907645
                  ]
                },
                {
                  "id": "3",
                  "type": "Feature",
                  "properties": {
                    "datetime": "2023-01-22 09:24:17+00:00",
                    "platform": "WV02",
                    "gsd": 0.47,
                    "ard_metadata_version": "0.0.1",
                    "catalog_id": "10300500D8F96700",
                    "utm_zone": 34,
                    "quadkey": "120200212000",
                    "view:off_nadir": 6.9,
                    "view:azimuth": 45.4,
                    "view:incidence_angle": 82.3,
                    "view:sun_azimuth": 157.3,
                    "view:sun_elevation": 34.3,
                    "proj:epsg": 32634,
                    "grid:code": "MXRA-Z34-120200212000",
                    "proj:bbox": "584283.9775149978,3638225.8946303963,585156.25,3640156.25",
                    "tile:data_area": 1.4,
                    "tile:clouds_area": 0,
                    "tile:clouds_percent": 0,
                    "visual": "https://maxar-opendata.s3.amazonaws.com/events/Libya-Floods-Sept-2023/ard/34/120200212000/2023-01-22/10300500D8F96700-visual.tif",
                    "style": {
                      "color": "black",
                      "fillColor": "black"
                    }
                  },
                  "geometry": {
                    "type": "Polygon",
                    "coordinates": [
                      [
                        [
                          21.910502931204384,
                          32.89628103302248
                        ],
                        [
                          21.91032500298263,
                          32.87886981236916
                        ],
                        [
                          21.901413,
                          32.881025
                        ],
                        [
                          21.901267,
                          32.881081
                        ],
                        [
                          21.901132,
                          32.881189
                        ],
                        [
                          21.901049,
                          32.881329
                        ],
                        [
                          21.901027,
                          32.881484
                        ],
                        [
                          21.903386485778377,
                          32.896332302721696
                        ],
                        [
                          21.910502931204384,
                          32.89628103302248
                        ]
                      ]
                    ]
                  },
                  "bbox": [
                    21.901027,
                    32.87886981236916,
                    21.910502931204384,
                    32.896332302721696
                  ]
                },
                {
                  "id": "4",
                  "type": "Feature",
                  "properties": {
                    "datetime": "2023-01-22 09:24:17+00:00",
                    "platform": "WV02",
                    "gsd": 0.47,
                    "ard_metadata_version": "0.0.1",
                    "catalog_id": "10300500D8F96700",
                    "utm_zone": 34,
                    "quadkey": "120200212001",
                    "view:off_nadir": 6.8,
                    "view:azimuth": 44.3,
                    "view:incidence_angle": 82.4,
                    "view:sun_azimuth": 157.3,
                    "view:sun_elevation": 34.3,
                    "proj:epsg": 32634,
                    "grid:code": "MXRA-Z34-120200212001",
                    "proj:bbox": "584843.75,3637880.504079527,590156.25,3640156.25",
                    "tile:data_area": 11.2,
                    "tile:clouds_area": 0,
                    "tile:clouds_percent": 0,
                    "visual": "https://maxar-opendata.s3.amazonaws.com/events/Libya-Floods-Sept-2023/ard/34/120200212001/2023-01-22/10300500D8F96700-visual.tif",
                    "style": {
                      "color": "black",
                      "fillColor": "black"
                    }
                  },
                  "geometry": {
                    "type": "Polygon",
                    "coordinates": [
                      [
                        [
                          21.907161999207805,
                          32.89630531706946
                        ],
                        [
                          21.921632139678117,
                          32.89619704543367
                        ],
                        [
                          21.922421,
                          32.895773
                        ],
                        [
                          21.923879517414065,
                          32.896180229614615
                        ],
                        [
                          21.963957286448142,
                          32.8958803510045
                        ],
                        [
                          21.963762284327544,
                          32.87785642132683
                        ],
                        [
                          21.923683,
                          32.875657
                        ],
                        [
                          21.923536,
                          32.875675
                        ],
                        [
                          21.906992681505134,
                          32.87967566690537
                        ],
                        [
                          21.907161999207805,
                          32.89630531706946
                        ]
                      ]
                    ]
                  },
                  "bbox": [
                    21.906992681505134,
                    32.875657,
                    21.963957286448142,
                    32.89630531706946
                  ]
                },
                {
                  "id": "5",
                  "type": "Feature",
                  "properties": {
                    "datetime": "2023-01-22 09:24:17+00:00",
                    "platform": "WV02",
                    "gsd": 0.47,
                    "ard_metadata_version": "0.0.1",
                    "catalog_id": "10300500D8F96700",
                    "utm_zone": 34,
                    "quadkey": "120200212010",
                    "view:off_nadir": 6.5,
                    "view:azimuth": 42,
                    "view:incidence_angle": 82.7,
                    "view:sun_azimuth": 157.3,
                    "view:sun_elevation": 34.3,
                    "proj:epsg": 32634,
                    "grid:code": "MXRA-Z34-120200212010",
                    "proj:bbox": "589843.75,3638135.3242146843,593540.8303846716,3640156.25",
                    "tile:data_area": 6.8,
                    "tile:clouds_area": 0,
                    "tile:clouds_percent": 0,
                    "visual": "https://maxar-opendata.s3.amazonaws.com/events/Libya-Floods-Sept-2023/ard/34/120200212010/2023-01-22/10300500D8F96700-visual.tif",
                    "style": {
                      "color": "black",
                      "fillColor": "black"
                    }
                  },
                  "geometry": {
                    "type": "Polygon",
                    "coordinates": [
                      [
                        [
                          21.960616420535477,
                          32.8959060629502
                        ],
                        [
                          21.99839146586989,
                          32.89560726371752
                        ],
                        [
                          21.999969,
                          32.880305
                        ],
                        [
                          21.999963,
                          32.880187
                        ],
                        [
                          21.999899,
                          32.88004
                        ],
                        [
                          21.99978,
                          32.87992
                        ],
                        [
                          21.999619,
                          32.879842
                        ],
                        [
                          21.999471,
                          32.879816
                        ],
                        [
                          21.96041983938696,
                          32.87767299877303
                        ],
                        [
                          21.960616420535477,
                          32.8959060629502
                        ]
                      ]
                    ]
                  },
                  "bbox": [
                    21.96041983938696,
                    32.87767299877303,
                    21.999969,
                    32.8959060629502
                  ]
                },
                {
                  "id": "6",
                  "type": "Feature",
                  "properties": {
                    "datetime": "2023-06-29 09:34:21+00:00",
                    "platform": "GE01",
                    "gsd": 0.42,
                    "ard_metadata_version": "0.0.1",
                    "catalog_id": "1050050059DEBF00",
                    "utm_zone": 34,
                    "quadkey": "031313122322",
                    "view:off_nadir": 11.6,
                    "view:azimuth": 316.4,
                    "view:incidence_angle": 77.2,
                    "view:sun_azimuth": 109.7,
                    "view:sun_elevation": 72.7,
                    "proj:epsg": 32634,
                    "grid:code": "MXRA-Z34-031313122322",
                    "proj:bbox": "360198.5815526425,3364139.2295093657,365156.25,3365156.25",
                    "tile:data_area": 4.5,
                    "tile:clouds_area": 0,
                    "tile:clouds_percent": 0,
                    "visual": "https://maxar-opendata.s3.amazonaws.com/events/Libya-Floods-Sept-2023/ard/34/031313122322/2023-06-29/1050050059DEBF00-visual.tif",
                    "style": {
                      "color": "black",
                      "fillColor": "black"
                    }
                  },
                  "geometry": {
                    "type": "Polygon",
                    "coordinates": [
                      [
                        [
                          19.596146475572297,
                          30.410918925801234
                        ],
                        [
                          19.59627764373475,
                          30.40174335701776
                        ],
                        [
                          19.549014,
                          30.402455
                        ],
                        [
                          19.548845,
                          30.402483
                        ],
                        [
                          19.548688,
                          30.402561
                        ],
                        [
                          19.548549,
                          30.40272
                        ],
                        [
                          19.544544662153232,
                          30.410353165994255
                        ],
                        [
                          19.596146475572297,
                          30.410918925801234
                        ]
                      ]
                    ]
                  },
                  "bbox": [
                    19.544544662153232,
                    30.40174335701776,
                    19.59627764373475,
                    30.410918925801234
                  ]
                },
                {
                  "id": "7",
                  "type": "Feature",
                  "properties": {
                    "datetime": "2023-06-29 09:34:21+00:00",
                    "platform": "GE01",
                    "gsd": 0.42,
                    "ard_metadata_version": "0.0.1",
                    "catalog_id": "1050050059DEBF00",
                    "utm_zone": 34,
                    "quadkey": "031313122323",
                    "view:off_nadir": 11.8,
                    "view:azimuth": 314.8,
                    "view:incidence_angle": 76.9,
                    "view:sun_azimuth": 109.7,
                    "view:sun_elevation": 72.7,
                    "proj:epsg": 32634,
                    "grid:code": "MXRA-Z34-031313122323",
                    "proj:bbox": "364843.75,3364128.2642564904,367093.78013299487,3365156.25",
                    "tile:data_area": 1.5,
                    "tile:clouds_area": 0,
                    "tile:clouds_percent": 0,
                    "visual": "https://maxar-opendata.s3.amazonaws.com/events/Libya-Floods-Sept-2023/ard/34/031313122323/2023-06-29/1050050059DEBF00-visual.tif",
                    "style": {
                      "color": "black",
                      "fillColor": "black"
                    }
                  },
                  "geometry": {
                    "type": "Polygon",
                    "coordinates": [
                      [
                        [
                          19.59289387226136,
                          30.410883912707224
                        ],
                        [
                          19.616309525737215,
                          30.411131306527096
                        ],
                        [
                          19.600257,
                          30.401751
                        ],
                        [
                          19.600087,
                          30.401686
                        ],
                        [
                          19.59302414066499,
                          30.401792344621008
                        ],
                        [
                          19.59289387226136,
                          30.410883912707224
                        ]
                      ]
                    ]
                  },
                  "bbox": [
                    19.59289387226136,
                    30.401686,
                    19.616309525737215,
                    30.411131306527096
                  ]
                },
                {
                  "id": "8",
                  "type": "Feature",
                  "properties": {
                    "datetime": "2023-06-29 09:34:22+00:00",
                    "platform": "GE01",
                    "gsd": 0.42,
                    "ard_metadata_version": "0.0.1",
                    "catalog_id": "1050050059DEBF00",
                    "utm_zone": 34,
                    "quadkey": "031313122231",
                    "view:off_nadir": 10.7,
                    "view:azimuth": 313.2,
                    "view:incidence_angle": 78.1,
                    "view:sun_azimuth": 109.8,
                    "view:sun_elevation": 72.7,
                    "proj:epsg": 32634,
                    "grid:code": "MXRA-Z34-031313122231",
                    "proj:bbox": "358301.37027922046,3365252.655941413,360156.25,3369811.5455537764",
                    "tile:data_area": 4.2,
                    "tile:clouds_area": 0,
                    "tile:clouds_percent": 0,
                    "visual": "https://maxar-opendata.s3.amazonaws.com/events/Libya-Floods-Sept-2023/ard/34/031313122231/2023-06-29/1050050059DEBF00-visual.tif",
                    "style": {
                      "color": "black",
                      "fillColor": "black"
                    }
                  },
                  "geometry": {
                    "type": "Polygon",
                    "coordinates": [
                      [
                        [
                          19.544092602066325,
                          30.41121489390403
                        ],
                        [
                          19.524257,
                          30.449026
                        ],
                        [
                          19.524212,
                          30.449187
                        ],
                        [
                          19.524253,
                          30.449392
                        ],
                        [
                          19.524397,
                          30.449559
                        ],
                        [
                          19.524498,
                          30.449616
                        ],
                        [
                          19.524647,
                          30.449658
                        ],
                        [
                          19.543481551883936,
                          30.452338541178637
                        ],
                        [
                          19.544092602066325,
                          30.41121489390403
                        ]
                      ]
                    ]
                  },
                  "bbox": [
                    19.524212,
                    30.41121489390403,
                    19.544092602066325,
                    30.452338541178637
                  ]
                },
                {
                  "id": "9",
                  "type": "Feature",
                  "properties": {
                    "datetime": "2023-06-29 09:34:22+00:00",
                    "platform": "GE01",
                    "gsd": 0.42,
                    "ard_metadata_version": "0.0.1",
                    "catalog_id": "1050050059DEBF00",
                    "utm_zone": 34,
                    "quadkey": "031313122302",
                    "view:off_nadir": 10.6,
                    "view:azimuth": 308.5,
                    "view:incidence_angle": 78.3,
                    "view:sun_azimuth": 109.8,
                    "view:sun_elevation": 72.7,
                    "proj:epsg": 32634,
                    "grid:code": "MXRA-Z34-031313122302",
                    "proj:bbox": "360369.01160396234,3369843.75,365156.25,3370568.365525607",
                    "tile:data_area": 1.7,
                    "tile:clouds_area": 0,
                    "tile:clouds_percent": 0,
                    "visual": "https://maxar-opendata.s3.amazonaws.com/events/Libya-Floods-Sept-2023/ard/34/031313122302/2023-06-29/1050050059DEBF00-visual.tif",
                    "style": {
                      "color": "black",
                      "fillColor": "black"
                    }
                  },
                  "geometry": {
                    "type": "Polygon",
                    "coordinates": [
                      [
                        [
                          19.595540589997196,
                          30.453206249214244
                        ],
                        [
                          19.545736881937735,
                          30.452659520680452
                        ],
                        [
                          19.59544690312664,
                          30.459734271362542
                        ],
                        [
                          19.595540589997196,
                          30.453206249214244
                        ]
                      ]
                    ]
                  },
                  "bbox": [
                    19.545736881937735,
                    30.452659520680452,
                    19.595540589997196,
                    30.459734271362542
                  ]
                },
                {
                  "id": "10",
                  "type": "Feature",
                  "properties": {
                    "datetime": "2023-06-29 09:34:22+00:00",
                    "platform": "GE01",
                    "gsd": 0.42,
                    "ard_metadata_version": "0.0.1",
                    "catalog_id": "1050050059DEBF00",
                    "utm_zone": 34,
                    "quadkey": "031313122303",
                    "view:off_nadir": 10.9,
                    "view:azimuth": 307.2,
                    "view:incidence_angle": 77.9,
                    "view:sun_azimuth": 109.8,
                    "view:sun_elevation": 72.7,
                    "proj:epsg": 32634,
                    "grid:code": "MXRA-Z34-031313122303",
                    "proj:bbox": "364843.75,3369843.75,368235.0417189856,3371025.7021966814",
                    "tile:data_area": 3.1,
                    "tile:clouds_area": 0,
                    "tile:clouds_percent": 0,
                    "visual": "https://maxar-opendata.s3.amazonaws.com/events/Libya-Floods-Sept-2023/ard/34/031313122303/2023-06-29/1050050059DEBF00-visual.tif",
                    "style": {
                      "color": "black",
                      "fillColor": "black"
                    }
                  },
                  "geometry": {
                    "type": "Polygon",
                    "coordinates": [
                      [
                        [
                          19.59228658403193,
                          30.453171177203494
                        ],
                        [
                          19.592198825040434,
                          30.459272003552023
                        ],
                        [
                          19.626853,
                          30.464204
                        ],
                        [
                          19.627115,
                          30.464183
                        ],
                        [
                          19.627223,
                          30.464136
                        ],
                        [
                          19.627355,
                          30.464029
                        ],
                        [
                          19.627436,
                          30.463889
                        ],
                        [
                          19.627457,
                          30.463733
                        ],
                        [
                          19.6266686152152,
                          30.453534888692804
                        ],
                        [
                          19.59228658403193,
                          30.453171177203494
                        ]
                      ]
                    ]
                  },
                  "bbox": [
                    19.592198825040434,
                    30.453171177203494,
                    19.627457,
                    30.464204
                  ]
                },
                {
                  "id": "11",
                  "type": "Feature",
                  "properties": {
                    "datetime": "2023-06-29 09:34:22+00:00",
                    "platform": "GE01",
                    "gsd": 0.42,
                    "ard_metadata_version": "0.0.1",
                    "catalog_id": "1050050059DEBF00",
                    "utm_zone": 34,
                    "quadkey": "031313122320",
                    "view:off_nadir": 11,
                    "view:azimuth": 311.9,
                    "view:incidence_angle": 77.9,
                    "view:sun_azimuth": 109.8,
                    "view:sun_elevation": 72.7,
                    "proj:epsg": 32634,
                    "grid:code": "MXRA-Z34-031313122320",
                    "proj:bbox": "359843.75,3364843.75,365156.25,3370156.25",
                    "tile:data_area": 27.4,
                    "tile:clouds_area": 0,
                    "tile:clouds_percent": 0,
                    "visual": "https://maxar-opendata.s3.amazonaws.com/events/Libya-Floods-Sept-2023/ard/34/031313122320/2023-06-29/1050050059DEBF00-visual.tif",
                    "style": {
                      "color": "black",
                      "fillColor": "black"
                    }
                  },
                  "geometry": {
                    "type": "Polygon",
                    "coordinates": [
                      [
                        [
                          19.54023399024501,
                          30.451876346869106
                        ],
                        [
                          19.56720409594019,
                          30.455714743415708
                        ],
                        [
                          19.595500151957275,
                          30.4560253939686
                        ],
                        [
                          19.596186822306773,
                          30.40809976077055
                        ],
                        [
                          19.546015337525947,
                          30.407549728903486
                        ],
                        [
                          19.54074447709566,
                          30.417597170986674
                        ],
                        [
                          19.54023399024501,
                          30.451876346869106
                        ]
                      ]
                    ]
                  },
                  "bbox": [
                    19.54023399024501,
                    30.407549728903486,
                    19.596186822306773,
                    30.4560253939686
                  ]
                },
                {
                  "id": "12",
                  "type": "Feature",
                  "properties": {
                    "datetime": "2023-06-29 09:34:22+00:00",
                    "platform": "GE01",
                    "gsd": 0.42,
                    "ard_metadata_version": "0.0.1",
                    "catalog_id": "1050050059DEBF00",
                    "utm_zone": 34,
                    "quadkey": "031313122321",
                    "view:off_nadir": 11.2,
                    "view:azimuth": 310.4,
                    "view:incidence_angle": 77.5,
                    "view:sun_azimuth": 109.8,
                    "view:sun_elevation": 72.7,
                    "proj:epsg": 32634,
                    "grid:code": "MXRA-Z34-031313122321",
                    "proj:bbox": "364843.75,3364843.75,368170.3672736583,3370156.25",
                    "tile:data_area": 16.1,
                    "tile:clouds_area": 0,
                    "tile:clouds_percent": 0,
                    "visual": "https://maxar-opendata.s3.amazonaws.com/events/Libya-Floods-Sept-2023/ard/34/031313122321/2023-06-29/1050050059DEBF00-visual.tif",
                    "style": {
                      "color": "black",
                      "fillColor": "black"
                    }
                  },
                  "geometry": {
                    "type": "Polygon",
                    "coordinates": [
                      [
                        [
                          19.592934312400523,
                          30.408064751602552
                        ],
                        [
                          19.592246052376044,
                          30.4559903180283
                        ],
                        [
                          19.626886768277203,
                          30.456356796536785
                        ],
                        [
                          19.623739,
                          30.415639
                        ],
                        [
                          19.623677,
                          30.415492
                        ],
                        [
                          19.623517,
                          30.415343
                        ],
                        [
                          19.611395486184065,
                          30.408259783500164
                        ],
                        [
                          19.592934312400523,
                          30.408064751602552
                        ]
                      ]
                    ]
                  },
                  "bbox": [
                    19.592246052376044,
                    30.408064751602552,
                    19.626886768277203,
                    30.456356796536785
                  ]
                },
                {
                  "id": "13",
                  "type": "Feature",
                  "properties": {
                    "datetime": "2023-07-01 09:07:41+00:00",
                    "platform": "GE01",
                    "gsd": 0.46,
                    "ard_metadata_version": "0.0.1",
                    "catalog_id": "105005005ADE7C00",
                    "utm_zone": 34,
                    "quadkey": "120200213111",
                    "view:off_nadir": 21.2,
                    "view:azimuth": 88.2,
                    "view:incidence_angle": 66.4,
                    "view:sun_azimuth": 111.3,
                    "view:sun_elevation": 68.9,
                    "proj:epsg": 32634,
                    "grid:code": "MXRA-Z34-120200213111",
                    "proj:bbox": "654843.75,3634843.75,660156.25,3635646.3623046875",
                    "tile:data_area": 4,
                    "tile:clouds_area": 0,
                    "tile:clouds_percent": 0,
                    "visual": "https://maxar-opendata.s3.amazonaws.com/events/Libya-Floods-Sept-2023/ard/34/120200213111/2023-07-01/105005005ADE7C00-visual.tif",
                    "style": {
                      "color": "black",
                      "fillColor": "black"
                    }
                  },
                  "geometry": {
                    "type": "Polygon",
                    "coordinates": [
                      [
                        [
                          22.711176527110418,
                          32.84721232388417
                        ],
                        [
                          22.711394932639358,
                          32.84720933632563
                        ],
                        [
                          22.711256018936023,
                          32.839972528327145
                        ],
                        [
                          22.65451322654963,
                          32.84073573895902
                        ],
                        [
                          22.654635178461923,
                          32.847306841977165
                        ],
                        [
                          22.711176527110418,
                          32.84721232388417
                        ]
                      ]
                    ]
                  },
                  "bbox": [
                    22.65451322654963,
                    32.839972528327145,
                    22.711394932639358,
                    32.847306841977165
                  ]
                },
                {
                  "id": "14",
                  "type": "Feature",
                  "properties": {
                    "datetime": "2023-07-01 09:07:41+00:00",
                    "platform": "GE01",
                    "gsd": 0.46,
                    "ard_metadata_version": "0.0.1",
                    "catalog_id": "105005005ADE7C00",
                    "utm_zone": 34,
                    "quadkey": "120200213113",
                    "view:off_nadir": 21.2,
                    "view:azimuth": 87.8,
                    "view:incidence_angle": 66.4,
                    "view:sun_azimuth": 111.3,
                    "view:sun_elevation": 68.9,
                    "proj:epsg": 32634,
                    "grid:code": "MXRA-Z34-120200213113",
                    "proj:bbox": "654843.75,3629843.75,660156.25,3635156.25",
                    "tile:data_area": 28.2,
                    "tile:clouds_area": 0,
                    "tile:clouds_percent": 0,
                    "visual": "https://maxar-opendata.s3.amazonaws.com/events/Libya-Floods-Sept-2023/ard/34/120200213113/2023-07-01/105005005ADE7C00-visual.tif",
                    "style": {
                      "color": "black",
                      "fillColor": "black"
                    }
                  },
                  "geometry": {
                    "type": "Polygon",
                    "coordinates": [
                      [
                        [
                          22.65456551598269,
                          32.84355349927274
                        ],
                        [
                          22.653677586082356,
                          32.795651391124785
                        ],
                        [
                          22.710391753044473,
                          32.794889490532256
                        ],
                        [
                          22.711310099576973,
                          32.84279020672034
                        ],
                        [
                          22.65456551598269,
                          32.84355349927274
                        ]
                      ]
                    ]
                  },
                  "bbox": [
                    22.653677586082356,
                    32.794889490532256,
                    22.711310099576973,
                    32.84355349927274
                  ]
                },
                {
                  "id": "15",
                  "type": "Feature",
                  "properties": {
                    "datetime": "2023-07-01 09:07:41+00:00",
                    "platform": "GE01",
                    "gsd": 0.46,
                    "ard_metadata_version": "0.0.1",
                    "catalog_id": "105005005ADE7C00",
                    "utm_zone": 34,
                    "quadkey": "120200213131",
                    "view:off_nadir": 21.2,
                    "view:azimuth": 86.8,
                    "view:incidence_angle": 66.4,
                    "view:sun_azimuth": 111.3,
                    "view:sun_elevation": 68.9,
                    "proj:epsg": 32634,
                    "grid:code": "MXRA-Z34-120200213131",
                    "proj:bbox": "654843.75,3624843.75,660156.25,3630156.25",
                    "tile:data_area": 28.2,
                    "tile:clouds_area": 0,
                    "tile:clouds_percent": 0,
                    "visual": "https://maxar-opendata.s3.amazonaws.com/events/Libya-Floods-Sept-2023/ard/34/120200213131/2023-07-01/105005005ADE7C00-visual.tif",
                    "style": {
                      "color": "black",
                      "fillColor": "black"
                    }
                  },
                  "geometry": {
                    "type": "Polygon",
                    "coordinates": [
                      [
                        [
                          22.653729759028042,
                          32.798469172943385
                        ],
                        [
                          22.652843807373607,
                          32.75056669936143
                        ],
                        [
                          22.709529412636645,
                          32.749806107513585
                        ],
                        [
                          22.710445713210866,
                          32.79770719051135
                        ],
                        [
                          22.653729759028042,
                          32.798469172943385
                        ]
                      ]
                    ]
                  },
                  "bbox": [
                    22.652843807373607,
                    32.749806107513585,
                    22.710445713210866,
                    32.798469172943385
                  ]
                },
                {
                  "id": "16",
                  "type": "Feature",
                  "properties": {
                    "datetime": "2023-07-01 09:07:41+00:00",
                    "platform": "GE01",
                    "gsd": 0.46,
                    "ard_metadata_version": "0.0.1",
                    "catalog_id": "105005005ADE7C00",
                    "utm_zone": 34,
                    "quadkey": "120200213133",
                    "view:off_nadir": 21.3,
                    "view:azimuth": 85.7,
                    "view:incidence_angle": 66.3,
                    "view:sun_azimuth": 111.3,
                    "view:sun_elevation": 68.9,
                    "proj:epsg": 32634,
                    "grid:code": "MXRA-Z34-120200213133",
                    "proj:bbox": "654843.75,3619843.75,660156.25,3625156.25",
                    "tile:data_area": 28.2,
                    "tile:clouds_area": 0,
                    "tile:clouds_percent": 0,
                    "visual": "https://maxar-opendata.s3.amazonaws.com/events/Libya-Floods-Sept-2023/ard/34/120200213133/2023-07-01/105005005ADE7C00-visual.tif",
                    "style": {
                      "color": "black",
                      "fillColor": "black"
                    }
                  },
                  "geometry": {
                    "type": "Polygon",
                    "coordinates": [
                      [
                        [
                          22.65289586407173,
                          32.75338450266737
                        ],
                        [
                          22.65201188659324,
                          32.70548166394967
                        ],
                        [
                          22.708668993751548,
                          32.70472237955542
                        ],
                        [
                          22.70958325257649,
                          32.75262382906084
                        ],
                        [
                          22.65289586407173,
                          32.75338450266737
                        ]
                      ]
                    ]
                  },
                  "bbox": [
                    22.65201188659324,
                    32.70472237955542,
                    22.70958325257649,
                    32.75338450266737
                  ]
                },
                {
                  "id": "17",
                  "type": "Feature",
                  "properties": {
                    "datetime": "2023-07-01 09:07:41+00:00",
                    "platform": "GE01",
                    "gsd": 0.46,
                    "ard_metadata_version": "0.0.1",
                    "catalog_id": "105005005ADE7C00",
                    "utm_zone": 34,
                    "quadkey": "120200213311",
                    "view:off_nadir": 21.3,
                    "view:azimuth": 85.3,
                    "view:incidence_angle": 66.3,
                    "view:sun_azimuth": 111.3,
                    "view:sun_elevation": 68.9,
                    "proj:epsg": 32634,
                    "grid:code": "MXRA-Z34-120200213311",
                    "proj:bbox": "654843.75,3619034.1186523438,660156.25,3620156.25",
                    "tile:data_area": 5.6,
                    "tile:clouds_area": 0,
                    "tile:clouds_percent": 0,
                    "visual": "https://maxar-opendata.s3.amazonaws.com/events/Libya-Floods-Sept-2023/ard/34/120200213311/2023-07-01/105005005ADE7C00-visual.tif",
                    "style": {
                      "color": "black",
                      "fillColor": "black"
                    }
                  },
                  "geometry": {
                    "type": "Polygon",
                    "coordinates": [
                      [
                        [
                          22.65206382728281,
                          32.70829948872541
                        ],
                        [
                          22.65187735128702,
                          32.69818118004473
                        ],
                        [
                          22.708547312174613,
                          32.6983384253695
                        ],
                        [
                          22.708722713712014,
                          32.70754012265308
                        ],
                        [
                          22.65206382728281,
                          32.70829948872541
                        ]
                      ]
                    ]
                  },
                  "bbox": [
                    22.65187735128702,
                    32.69818118004473,
                    22.708722713712014,
                    32.70829948872541
                  ]
                },
                {
                  "id": "18",
                  "type": "Feature",
                  "properties": {
                    "datetime": "2023-07-01 09:07:41+00:00",
                    "platform": "GE01",
                    "gsd": 0.46,
                    "ard_metadata_version": "0.0.1",
                    "catalog_id": "105005005ADE7C00",
                    "utm_zone": 34,
                    "quadkey": "120200302000",
                    "view:off_nadir": 21.1,
                    "view:azimuth": 87.5,
                    "view:incidence_angle": 66.5,
                    "view:sun_azimuth": 111.3,
                    "view:sun_elevation": 68.9,
                    "proj:epsg": 32634,
                    "grid:code": "MXRA-Z34-120200302000",
                    "proj:bbox": "659843.75,3634843.75,661571.044921875,3635667.1142578125",
                    "tile:data_area": 1.3,
                    "tile:clouds_area": 0,
                    "tile:clouds_percent": 0,
                    "visual": "https://maxar-opendata.s3.amazonaws.com/events/Libya-Floods-Sept-2023/ard/34/120200302000/2023-07-01/105005005ADE7C00-visual.tif",
                    "style": {
                      "color": "black",
                      "fillColor": "black"
                    }
                  },
                  "geometry": {
                    "type": "Polygon",
                    "coordinates": [
                      [
                        [
                          22.72635436839522,
                          32.84719095907321
                        ],
                        [
                          22.726488018445597,
                          32.84718911470202
                        ],
                        [
                          22.726367073831117,
                          32.83976493923921
                        ],
                        [
                          22.70791826721045,
                          32.84001813476968
                        ],
                        [
                          22.708056172132963,
                          32.847216432365734
                        ],
                        [
                          22.72635436839522,
                          32.84719095907321
                        ]
                      ]
                    ]
                  },
                  "bbox": [
                    22.70791826721045,
                    32.83976493923921,
                    22.726488018445597,
                    32.847216432365734
                  ]
                },
                {
                  "id": "19",
                  "type": "Feature",
                  "properties": {
                    "datetime": "2023-07-01 09:07:41+00:00",
                    "platform": "GE01",
                    "gsd": 0.46,
                    "ard_metadata_version": "0.0.1",
                    "catalog_id": "105005005ADE7C00",
                    "utm_zone": 34,
                    "quadkey": "120200302002",
                    "view:off_nadir": 21.1,
                    "view:azimuth": 87.1,
                    "view:incidence_angle": 66.5,
                    "view:sun_azimuth": 111.3,
                    "view:sun_elevation": 68.9,
                    "proj:epsg": 32634,
                    "grid:code": "MXRA-Z34-120200302002",
                    "proj:bbox": "659843.75,3629843.75,661582.6416015625,3635156.25",
                    "tile:data_area": 9.2,
                    "tile:clouds_area": 0,
                    "tile:clouds_percent": 0,
                    "visual": "https://maxar-opendata.s3.amazonaws.com/events/Libya-Floods-Sept-2023/ard/34/120200302002/2023-07-01/105005005ADE7C00-visual.tif",
                    "style": {
                      "color": "black",
                      "fillColor": "black"
                    }
                  },
                  "geometry": {
                    "type": "Polygon",
                    "coordinates": [
                      [
                        [
                          22.707972242493913,
                          32.84283581805806
                        ],
                        [
                          22.707055685044633,
                          32.79493501869265
                        ],
                        [
                          22.725618983313595,
                          32.79468055161378
                        ],
                        [
                          22.72641185268267,
                          32.842582730287646
                        ],
                        [
                          22.707972242493913,
                          32.84283581805806
                        ]
                      ]
                    ]
                  },
                  "bbox": [
                    22.707055685044633,
                    32.79468055161378,
                    22.72641185268267,
                    32.84283581805806
                  ]
                },
                {
                  "id": "20",
                  "type": "Feature",
                  "properties": {
                    "datetime": "2023-07-01 09:07:41+00:00",
                    "platform": "GE01",
                    "gsd": 0.46,
                    "ard_metadata_version": "0.0.1",
                    "catalog_id": "105005005ADE7C00",
                    "utm_zone": 34,
                    "quadkey": "120200302020",
                    "view:off_nadir": 21.1,
                    "view:azimuth": 86,
                    "view:incidence_angle": 66.5,
                    "view:sun_azimuth": 111.3,
                    "view:sun_elevation": 68.9,
                    "proj:epsg": 32634,
                    "grid:code": "MXRA-Z34-120200302020",
                    "proj:bbox": "659843.75,3624843.75,661592.4072265625,3630156.25",
                    "tile:data_area": 9.2,
                    "tile:clouds_area": 0,
                    "tile:clouds_percent": 0,
                    "visual": "https://maxar-opendata.s3.amazonaws.com/events/Libya-Floods-Sept-2023/ard/34/120200302020/2023-07-01/105005005ADE7C00-visual.tif",
                    "style": {
                      "color": "black",
                      "fillColor": "black"
                    }
                  },
                  "geometry": {
                    "type": "Polygon",
                    "coordinates": [
                      [
                        [
                          22.70710954008806,
                          32.79775272356212
                        ],
                        [
                          22.706195024614413,
                          32.7498515574692
                        ],
                        [
                          22.72485317335306,
                          32.74959609310851
                        ],
                        [
                          22.725666907408083,
                          32.79749831896004
                        ],
                        [
                          22.70710954008806,
                          32.79775272356212
                        ]
                      ]
                    ]
                  },
                  "bbox": [
                    22.706195024614413,
                    32.74959609310851,
                    22.725666907408083,
                    32.79775272356212
                  ]
                },
                {
                  "id": "21",
                  "type": "Feature",
                  "properties": {
                    "datetime": "2023-07-01 09:07:41+00:00",
                    "platform": "GE01",
                    "gsd": 0.46,
                    "ard_metadata_version": "0.0.1",
                    "catalog_id": "105005005ADE7C00",
                    "utm_zone": 34,
                    "quadkey": "120200302022",
                    "view:off_nadir": 21.2,
                    "view:azimuth": 84.9,
                    "view:incidence_angle": 66.5,
                    "view:sun_azimuth": 111.3,
                    "view:sun_elevation": 68.9,
                    "proj:epsg": 32634,
                    "grid:code": "MXRA-Z34-120200302022",
                    "proj:bbox": "659843.75,3619843.75,661705.0170898438,3625156.25",
                    "tile:data_area": 9.6,
                    "tile:clouds_area": 0,
                    "tile:clouds_percent": 0,
                    "visual": "https://maxar-opendata.s3.amazonaws.com/events/Libya-Floods-Sept-2023/ard/34/120200302022/2023-07-01/105005005ADE7C00-visual.tif",
                    "style": {
                      "color": "black",
                      "fillColor": "black"
                    }
                  },
                  "geometry": {
                    "type": "Polygon",
                    "coordinates": [
                      [
                        [
                          22.70624875966532,
                          32.75266928390199
                        ],
                        [
                          22.705336281966492,
                          32.70476775138341
                        ],
                        [
                          22.725185984777543,
                          32.70449620809834
                        ],
                        [
                          22.725506342610913,
                          32.722316368940504
                        ],
                        [
                          22.725052600538916,
                          32.726652139292895
                        ],
                        [
                          22.724865778099193,
                          32.73673123651948
                        ],
                        [
                          22.724655804680403,
                          32.7380029804575
                        ],
                        [
                          22.724900982712413,
                          32.75241388174205
                        ],
                        [
                          22.70624875966532,
                          32.75266928390199
                        ]
                      ]
                    ]
                  },
                  "bbox": [
                    22.705336281966492,
                    32.70449620809834,
                    22.725506342610913,
                    32.75266928390199
                  ]
                },
                {
                  "id": "22",
                  "type": "Feature",
                  "properties": {
                    "datetime": "2023-07-01 09:07:41+00:00",
                    "platform": "GE01",
                    "gsd": 0.46,
                    "ard_metadata_version": "0.0.1",
                    "catalog_id": "105005005ADE7C00",
                    "utm_zone": 34,
                    "quadkey": "120200302200",
                    "view:off_nadir": 21.2,
                    "view:azimuth": 84.8,
                    "view:incidence_angle": 66.4,
                    "view:sun_azimuth": 111.3,
                    "view:sun_elevation": 68.9,
                    "proj:epsg": 32634,
                    "grid:code": "MXRA-Z34-120200302200",
                    "proj:bbox": "659843.75,3619129.638671875,661706.54296875,3620156.25",
                    "tile:data_area": 1.8,
                    "tile:clouds_area": 0,
                    "tile:clouds_percent": 0,
                    "visual": "https://maxar-opendata.s3.amazonaws.com/events/Libya-Floods-Sept-2023/ard/34/120200302200/2023-07-01/105005005ADE7C00-visual.tif",
                    "style": {
                      "color": "black",
                      "fillColor": "black"
                    }
                  },
                  "geometry": {
                    "type": "Polygon",
                    "coordinates": [
                      [
                        [
                          22.705389897271576,
                          32.70758549936178
                        ],
                        [
                          22.70521379067675,
                          32.698328751927534
                        ],
                        [
                          22.7250845889074,
                          32.69838175002193
                        ],
                        [
                          22.72520767676656,
                          32.707314374710066
                        ],
                        [
                          22.705389897271576,
                          32.70758549936178
                        ]
                      ]
                    ]
                  },
                  "bbox": [
                    22.70521379067675,
                    32.698328751927534,
                    22.72520767676656,
                    32.70758549936178
                  ]
                },
                {
                  "id": "23",
                  "type": "Feature",
                  "properties": {
                    "datetime": "2023-07-01 09:07:42+00:00",
                    "platform": "GE01",
                    "gsd": 0.46,
                    "ard_metadata_version": "0.0.1",
                    "catalog_id": "105005005ADE7C00",
                    "utm_zone": 34,
                    "quadkey": "120200213110",
                    "view:off_nadir": 21.5,
                    "view:azimuth": 89.7,
                    "view:incidence_angle": 66.1,
                    "view:sun_azimuth": 111.3,
                    "view:sun_elevation": 68.9,
                    "proj:epsg": 32634,
                    "grid:code": "MXRA-Z34-120200213110",
                    "proj:bbox": "649843.75,3634843.75,655156.25,3635576.7822265625",
                    "tile:data_area": 3.7,
                    "tile:clouds_area": 0,
                    "tile:clouds_percent": 0,
                    "visual": "https://maxar-opendata.s3.amazonaws.com/events/Libya-Floods-Sept-2023/ard/34/120200213110/2023-07-01/105005005ADE7C00-visual.tif",
                    "style": {
                      "color": "black",
                      "fillColor": "black"
                    }
                  },
                  "geometry": {
                    "type": "Polygon",
                    "coordinates": [
                      [
                        [
                          22.65786969499545,
                          32.84730255428242
                        ],
                        [
                          22.657851096870832,
                          32.84069155594228
                        ],
                        [
                          22.601106320289365,
                          32.84143056689216
                        ],
                        [
                          22.60121405853662,
                          32.847429471602354
                        ],
                        [
                          22.65786969499545,
                          32.84730255428242
                        ]
                      ]
                    ]
                  },
                  "bbox": [
                    22.601106320289365,
                    32.84069155594228,
                    22.65786969499545,
                    32.847429471602354
                  ]
                },
                {
                  "id": "24",
                  "type": "Feature",
                  "properties": {
                    "datetime": "2023-07-01 09:07:42+00:00",
                    "platform": "GE01",
                    "gsd": 0.46,
                    "ard_metadata_version": "0.0.1",
                    "catalog_id": "105005005ADE7C00",
                    "utm_zone": 34,
                    "quadkey": "120200213112",
                    "view:off_nadir": 21.5,
                    "view:azimuth": 89.3,
                    "view:incidence_angle": 66.1,
                    "view:sun_azimuth": 111.3,
                    "view:sun_elevation": 68.9,
                    "proj:epsg": 32634,
                    "grid:code": "MXRA-Z34-120200213112",
                    "proj:bbox": "649843.75,3629843.75,655156.25,3635156.25",
                    "tile:data_area": 28.2,
                    "tile:clouds_area": 0,
                    "tile:clouds_percent": 0,
                    "visual": "https://maxar-opendata.s3.amazonaws.com/events/Libya-Floods-Sept-2023/ard/34/120200213112/2023-07-01/105005005ADE7C00-visual.tif",
                    "style": {
                      "color": "black",
                      "fillColor": "black"
                    }
                  },
                  "geometry": {
                    "type": "Polygon",
                    "coordinates": [
                      [
                        [
                          22.601156923631404,
                          32.844248401787645
                        ],
                        [
                          22.6002976253637,
                          32.79634502637726
                        ],
                        [
                          22.657013772433526,
                          32.79560728394812
                        ],
                        [
                          22.657903491676674,
                          32.8435093115135
                        ],
                        [
                          22.601156923631404,
                          32.844248401787645
                        ]
                      ]
                    ]
                  },
                  "bbox": [
                    22.6002976253637,
                    32.79560728394812,
                    22.657903491676674,
                    32.844248401787645
                  ]
                },
                {
                  "id": "25",
                  "type": "Feature",
                  "properties": {
                    "datetime": "2023-07-01 09:07:42+00:00",
                    "platform": "GE01",
                    "gsd": 0.46,
                    "ard_metadata_version": "0.0.1",
                    "catalog_id": "105005005ADE7C00",
                    "utm_zone": 34,
                    "quadkey": "120200213130",
                    "view:off_nadir": 21.5,
                    "view:azimuth": 88.3,
                    "view:incidence_angle": 66.1,
                    "view:sun_azimuth": 111.3,
                    "view:sun_elevation": 68.9,
                    "proj:epsg": 32634,
                    "grid:code": "MXRA-Z34-120200213130",
                    "proj:bbox": "649843.75,3624843.75,655156.25,3630156.25",
                    "tile:data_area": 28.2,
                    "tile:clouds_area": 0,
                    "tile:clouds_percent": 0,
                    "visual": "https://maxar-opendata.s3.amazonaws.com/events/Libya-Floods-Sept-2023/ard/34/120200213130/2023-07-01/105005005ADE7C00-visual.tif",
                    "style": {
                      "color": "black",
                      "fillColor": "black"
                    }
                  },
                  "geometry": {
                    "type": "Polygon",
                    "coordinates": [
                      [
                        [
                          22.60034811597184,
                          32.79916288270382
                        ],
                        [
                          22.599490732206565,
                          32.75125914311197
                        ],
                        [
                          22.6561783135037,
                          32.75052266794987
                        ],
                        [
                          22.65706605051743,
                          32.79842506102891
                        ],
                        [
                          22.60034811597184,
                          32.79916288270382
                        ]
                      ]
                    ]
                  },
                  "bbox": [
                    22.599490732206565,
                    32.75052266794987,
                    22.65706605051743,
                    32.79916288270382
                  ]
                },
                {
                  "id": "26",
                  "type": "Feature",
                  "properties": {
                    "datetime": "2023-07-01 09:07:42+00:00",
                    "platform": "GE01",
                    "gsd": 0.46,
                    "ard_metadata_version": "0.0.1",
                    "catalog_id": "105005005ADE7C00",
                    "utm_zone": 34,
                    "quadkey": "120200213132",
                    "view:off_nadir": 21.5,
                    "view:azimuth": 87.3,
                    "view:incidence_angle": 66.1,
                    "view:sun_azimuth": 111.3,
                    "view:sun_elevation": 68.9,
                    "proj:epsg": 32634,
                    "grid:code": "MXRA-Z34-120200213132",
                    "proj:bbox": "649843.75,3619843.75,655156.25,3625156.25",
                    "tile:data_area": 28.2,
                    "tile:clouds_area": 0,
                    "tile:clouds_percent": 0,
                    "visual": "https://maxar-opendata.s3.amazonaws.com/events/Libya-Floods-Sept-2023/ard/34/120200213132/2023-07-01/105005005ADE7C00-visual.tif",
                    "style": {
                      "color": "black",
                      "fillColor": "black"
                    }
                  },
                  "geometry": {
                    "type": "Polygon",
                    "coordinates": [
                      [
                        [
                          22.5995411103129,
                          32.75407702085231
                        ],
                        [
                          22.598685637111,
                          32.706172917373806
                        ],
                        [
                          22.6553447162435,
                          32.70543770822849
                        ],
                        [
                          22.656230475105954,
                          32.753340466522694
                        ],
                        [
                          22.5995411103129,
                          32.75407702085231
                        ]
                      ]
                    ]
                  },
                  "bbox": [
                    22.598685637111,
                    32.70543770822849,
                    22.656230475105954,
                    32.75407702085231
                  ]
                },
                {
                  "id": "27",
                  "type": "Feature",
                  "properties": {
                    "datetime": "2023-07-01 09:07:42+00:00",
                    "platform": "GE01",
                    "gsd": 0.46,
                    "ard_metadata_version": "0.0.1",
                    "catalog_id": "105005005ADE7C00",
                    "utm_zone": 34,
                    "quadkey": "120200213310",
                    "view:off_nadir": 21.5,
                    "view:azimuth": 86.9,
                    "view:incidence_angle": 66.1,
                    "view:sun_azimuth": 111.3,
                    "view:sun_elevation": 68.9,
                    "proj:epsg": 32634,
                    "grid:code": "MXRA-Z34-120200213310",
                    "proj:bbox": "649843.75,3618940.1245117188,655156.25,3620156.25",
                    "tile:data_area": 6.1,
                    "tile:clouds_area": 0,
                    "tile:clouds_percent": 0,
                    "visual": "https://maxar-opendata.s3.amazonaws.com/events/Libya-Floods-Sept-2023/ard/34/120200213310/2023-07-01/105005005ADE7C00-visual.tif",
                    "style": {
                      "color": "black",
                      "fillColor": "black"
                    }
                  },
                  "geometry": {
                    "type": "Polygon",
                    "coordinates": [
                      [
                        [
                          22.598735902946853,
                          32.70899081651058
                        ],
                        [
                          22.59854032777568,
                          32.69802466830633
                        ],
                        [
                          22.65521087509309,
                          32.6981895204199
                        ],
                        [
                          22.655396761603598,
                          32.708255528275764
                        ],
                        [
                          22.598735902946853,
                          32.70899081651058
                        ]
                      ]
                    ]
                  },
                  "bbox": [
                    22.59854032777568,
                    32.69802466830633,
                    22.655396761603598,
                    32.70899081651058
                  ]
                },
                {
                  "id": "28",
                  "type": "Feature",
                  "properties": {
                    "datetime": "2023-07-01 09:07:43+00:00",
                    "platform": "GE01",
                    "gsd": 0.46,
                    "ard_metadata_version": "0.0.1",
                    "catalog_id": "105005005ADE7C00",
                    "utm_zone": 34,
                    "quadkey": "120200213101",
                    "view:off_nadir": 21.7,
                    "view:azimuth": 91.1,
                    "view:incidence_angle": 65.8,
                    "view:sun_azimuth": 111.2,
                    "view:sun_elevation": 68.8,
                    "proj:epsg": 32634,
                    "grid:code": "MXRA-Z34-120200213101",
                    "proj:bbox": "644843.75,3634843.75,650156.25,3635512.6953125",
                    "tile:data_area": 3.3,
                    "tile:clouds_area": 0,
                    "tile:clouds_percent": 0,
                    "visual": "https://maxar-opendata.s3.amazonaws.com/events/Libya-Floods-Sept-2023/ard/34/120200213101/2023-07-01/105005005ADE7C00-visual.tif",
                    "style": {
                      "color": "black",
                      "fillColor": "black"
                    }
                  },
                  "geometry": {
                    "type": "Polygon",
                    "coordinates": [
                      [
                        [
                          22.604422463727317,
                          32.847421396176195
                        ],
                        [
                          22.604444305449526,
                          32.8413878074702
                        ],
                        [
                          22.5476976085432,
                          32.84210261591142
                        ],
                        [
                          22.547792821479714,
                          32.84758707631954
                        ],
                        [
                          22.604422463727317,
                          32.847421396176195
                        ]
                      ]
                    ]
                  },
                  "bbox": [
                    22.5476976085432,
                    32.8413878074702,
                    22.604444305449526,
                    32.84758707631954
                  ]
                },
                {
                  "id": "29",
                  "type": "Feature",
                  "properties": {
                    "datetime": "2023-07-01 09:07:43+00:00",
                    "platform": "GE01",
                    "gsd": 0.46,
                    "ard_metadata_version": "0.0.1",
                    "catalog_id": "105005005ADE7C00",
                    "utm_zone": 34,
                    "quadkey": "120200213103",
                    "view:off_nadir": 21.7,
                    "view:azimuth": 90.8,
                    "view:incidence_angle": 65.8,
                    "view:sun_azimuth": 111.2,
                    "view:sun_elevation": 68.8,
                    "proj:epsg": 32634,
                    "grid:code": "MXRA-Z34-120200213103",
                    "proj:bbox": "644843.75,3629843.75,650156.25,3635156.25",
                    "tile:data_area": 28.2,
                    "tile:clouds_area": 0,
                    "tile:clouds_percent": 0,
                    "visual": "https://maxar-opendata.s3.amazonaws.com/events/Libya-Floods-Sept-2023/ard/34/120200213103/2023-07-01/105005005ADE7C00-visual.tif",
                    "style": {
                      "color": "black",
                      "fillColor": "black"
                    }
                  },
                  "geometry": {
                    "type": "Polygon",
                    "coordinates": [
                      [
                        [
                          22.547746525561326,
                          32.8449205229447
                        ],
                        [
                          22.546915862878617,
                          32.7970159217987
                        ],
                        [
                          22.60363392631726,
                          32.79630234035288
                        ],
                        [
                          22.604495014179154,
                          32.84420563777591
                        ],
                        [
                          22.547746525561326,
                          32.8449205229447
                        ]
                      ]
                    ]
                  },
                  "bbox": [
                    22.546915862878617,
                    32.79630234035288,
                    22.604495014179154,
                    32.8449205229447
                  ]
                },
                {
                  "id": "30",
                  "type": "Feature",
                  "properties": {
                    "datetime": "2023-07-01 09:07:43+00:00",
                    "platform": "GE01",
                    "gsd": 0.46,
                    "ard_metadata_version": "0.0.1",
                    "catalog_id": "105005005ADE7C00",
                    "utm_zone": 34,
                    "quadkey": "120200213121",
                    "view:off_nadir": 21.7,
                    "view:azimuth": 89.8,
                    "view:incidence_angle": 65.8,
                    "view:sun_azimuth": 111.2,
                    "view:sun_elevation": 68.8,
                    "proj:epsg": 32634,
                    "grid:code": "MXRA-Z34-120200213121",
                    "proj:bbox": "644843.75,3624843.75,650156.25,3630156.25",
                    "tile:data_area": 28.2,
                    "tile:clouds_area": 0,
                    "tile:clouds_percent": 0,
                    "visual": "https://maxar-opendata.s3.amazonaws.com/events/Libya-Floods-Sept-2023/ard/34/120200213121/2023-07-01/105005005ADE7C00-visual.tif",
                    "style": {
                      "color": "black",
                      "fillColor": "black"
                    }
                  },
                  "geometry": {
                    "type": "Polygon",
                    "coordinates": [
                      [
                        [
                          22.546964670917102,
                          32.799833850191696
                        ],
                        [
                          22.54613585898003,
                          32.75192888607584
                        ],
                        [
                          22.602825352703267,
                          32.75121653041266
                        ],
                        [
                          22.603684522078375,
                          32.799120192094236
                        ],
                        [
                          22.546964670917102,
                          32.799833850191696
                        ]
                      ]
                    ]
                  },
                  "bbox": [
                    22.54613585898003,
                    32.75121653041266,
                    22.603684522078375,
                    32.799833850191696
                  ]
                },
                {
                  "id": "31",
                  "type": "Feature",
                  "properties": {
                    "datetime": "2023-07-01 09:07:43+00:00",
                    "platform": "GE01",
                    "gsd": 0.46,
                    "ard_metadata_version": "0.0.1",
                    "catalog_id": "105005005ADE7C00",
                    "utm_zone": 34,
                    "quadkey": "120200213123",
                    "view:off_nadir": 21.7,
                    "view:azimuth": 88.8,
                    "view:incidence_angle": 65.8,
                    "view:sun_azimuth": 111.2,
                    "view:sun_elevation": 68.8,
                    "proj:epsg": 32634,
                    "grid:code": "MXRA-Z34-120200213123",
                    "proj:bbox": "644843.75,3619843.75,650156.25,3625156.25",
                    "tile:data_area": 28.2,
                    "tile:clouds_area": 0,
                    "tile:clouds_percent": 0,
                    "visual": "https://maxar-opendata.s3.amazonaws.com/events/Libya-Floods-Sept-2023/ard/34/120200213123/2023-07-01/105005005ADE7C00-visual.tif",
                    "style": {
                      "color": "black",
                      "fillColor": "black"
                    }
                  },
                  "geometry": {
                    "type": "Polygon",
                    "coordinates": [
                      [
                        [
                          22.546184558263256,
                          32.75474683581144
                        ],
                        [
                          22.54535759326373,
                          32.70684150901719
                        ],
                        [
                          22.602018580892892,
                          32.70613037792722
                        ],
                        [
                          22.602875835728447,
                          32.75403440357231
                        ],
                        [
                          22.546184558263256,
                          32.75474683581144
                        ]
                      ]
                    ]
                  },
                  "bbox": [
                    22.54535759326373,
                    32.70613037792722,
                    22.602875835728447,
                    32.75474683581144
                  ]
                },
                {
                  "id": "32",
                  "type": "Feature",
                  "properties": {
                    "datetime": "2023-07-01 09:07:43+00:00",
                    "platform": "GE01",
                    "gsd": 0.46,
                    "ard_metadata_version": "0.0.1",
                    "catalog_id": "105005005ADE7C00",
                    "utm_zone": 34,
                    "quadkey": "120200213301",
                    "view:off_nadir": 21.8,
                    "view:azimuth": 88.4,
                    "view:incidence_angle": 65.8,
                    "view:sun_azimuth": 111.2,
                    "view:sun_elevation": 68.8,
                    "proj:epsg": 32634,
                    "grid:code": "MXRA-Z34-120200213301",
                    "proj:bbox": "644843.75,3618848.5717773438,650156.25,3620156.25",
                    "tile:data_area": 6.6,
                    "tile:clouds_area": 0,
                    "tile:clouds_percent": 0,
                    "visual": "https://maxar-opendata.s3.amazonaws.com/events/Libya-Floods-Sept-2023/ard/34/120200213301/2023-07-01/105005005ADE7C00-visual.tif",
                    "style": {
                      "color": "black",
                      "fillColor": "black"
                    }
                  },
                  "geometry": {
                    "type": "Polygon",
                    "coordinates": [
                      [
                        [
                          22.545406184015327,
                          32.70965948007822
                        ],
                        [
                          22.54520289774198,
                          32.697867473158105
                        ],
                        [
                          22.601873903100323,
                          32.69803442732751
                        ],
                        [
                          22.602068951413937,
                          32.70894827248781
                        ],
                        [
                          22.545406184015327,
                          32.70965948007822
                        ]
                      ]
                    ]
                  },
                  "bbox": [
                    22.54520289774198,
                    32.697867473158105,
                    22.602068951413937,
                    32.70965948007822
                  ]
                },
                {
                  "id": "33",
                  "type": "Feature",
                  "properties": {
                    "datetime": "2023-07-01 09:07:44+00:00",
                    "platform": "GE01",
                    "gsd": 0.47,
                    "ard_metadata_version": "0.0.1",
                    "catalog_id": "105005005ADE7C00",
                    "utm_zone": 34,
                    "quadkey": "120200213100",
                    "view:off_nadir": 22,
                    "view:azimuth": 92.2,
                    "view:incidence_angle": 65.6,
                    "view:sun_azimuth": 111.2,
                    "view:sun_elevation": 68.8,
                    "proj:epsg": 32634,
                    "grid:code": "MXRA-Z34-120200213100",
                    "proj:bbox": "641148.9868164062,3634843.75,645156.25,3635455.322265625",
                    "tile:data_area": 2.3,
                    "tile:clouds_area": 0,
                    "tile:clouds_percent": 0,
                    "visual": "https://maxar-opendata.s3.amazonaws.com/events/Libya-Floods-Sept-2023/ard/34/120200213100/2023-07-01/105005005ADE7C00-visual.tif",
                    "style": {
                      "color": "black",
                      "fillColor": "black"
                    }
                  },
                  "geometry": {
                    "type": "Polygon",
                    "coordinates": [
                      [
                        [
                          22.55105340820468,
                          32.84757697246395
                        ],
                        [
                          22.55113164959208,
                          32.84757600243718
                        ],
                        [
                          22.55103570478485,
                          32.8420612802478
                        ],
                        [
                          22.50835385315629,
                          32.8425830979969
                        ],
                        [
                          22.50835087253969,
                          32.84259964877608
                        ],
                        [
                          22.508316895742706,
                          32.847722411612075
                        ],
                        [
                          22.55105340820468,
                          32.84757697246395
                        ]
                      ]
                    ]
                  },
                  "bbox": [
                    22.508316895742706,
                    32.8420612802478,
                    22.55113164959208,
                    32.847722411612075
                  ]
                },
                {
                  "id": "34",
                  "type": "Feature",
                  "properties": {
                    "datetime": "2023-07-01 09:07:44+00:00",
                    "platform": "GE01",
                    "gsd": 0.47,
                    "ard_metadata_version": "0.0.1",
                    "catalog_id": "105005005ADE7C00",
                    "utm_zone": 34,
                    "quadkey": "120200213102",
                    "view:off_nadir": 22,
                    "view:azimuth": 92,
                    "view:incidence_angle": 65.6,
                    "view:sun_azimuth": 111.2,
                    "view:sun_elevation": 68.8,
                    "proj:epsg": 32634,
                    "grid:code": "MXRA-Z34-120200213102",
                    "proj:bbox": "641154.1748046875,3629843.75,645156.25,3635156.25",
                    "tile:data_area": 20.9,
                    "tile:clouds_area": 0,
                    "tile:clouds_percent": 0,
                    "visual": "https://maxar-opendata.s3.amazonaws.com/events/Libya-Floods-Sept-2023/ard/34/120200213102/2023-07-01/105005005ADE7C00-visual.tif",
                    "style": {
                      "color": "black",
                      "fillColor": "black"
                    }
                  },
                  "geometry": {
                    "type": "Polygon",
                    "coordinates": [
                      [
                        [
                          22.508333066915654,
                          32.84540188195674
                        ],
                        [
                          22.508580812205167,
                          32.80799543119946
                        ],
                        [
                          22.50885292132762,
                          32.797480390119105
                        ],
                        [
                          22.55025227468482,
                          32.796974657089805
                        ],
                        [
                          22.5510847272049,
                          32.84487918284406
                        ],
                        [
                          22.508333066915654,
                          32.84540188195674
                        ]
                      ]
                    ]
                  },
                  "bbox": [
                    22.508333066915654,
                    32.796974657089805,
                    22.5510847272049,
                    32.84540188195674
                  ]
                },
                {
                  "id": "35",
                  "type": "Feature",
                  "properties": {
                    "datetime": "2023-07-01 09:07:44+00:00",
                    "platform": "GE01",
                    "gsd": 0.46,
                    "ard_metadata_version": "0.0.1",
                    "catalog_id": "105005005ADE7C00",
                    "utm_zone": 34,
                    "quadkey": "120200213120",
                    "view:off_nadir": 21.9,
                    "view:azimuth": 90.9,
                    "view:incidence_angle": 65.6,
                    "view:sun_azimuth": 111.2,
                    "view:sun_elevation": 68.8,
                    "proj:epsg": 32634,
                    "grid:code": "MXRA-Z34-120200213120",
                    "proj:bbox": "641268.0053710938,3624843.75,645156.25,3630156.25",
                    "tile:data_area": 19.9,
                    "tile:clouds_area": 0,
                    "tile:clouds_percent": 0,
                    "visual": "https://maxar-opendata.s3.amazonaws.com/events/Libya-Floods-Sept-2023/ard/34/120200213120/2023-07-01/105005005ADE7C00-visual.tif",
                    "style": {
                      "color": "black",
                      "fillColor": "black"
                    }
                  },
                  "geometry": {
                    "type": "Polygon",
                    "coordinates": [
                      [
                        [
                          22.508786485686624,
                          32.800299742755804
                        ],
                        [
                          22.550301187890565,
                          32.799792581050184
                        ],
                        [
                          22.549470590101304,
                          32.75188769225155
                        ],
                        [
                          22.51047270248721,
                          32.752363880936805
                        ],
                        [
                          22.510535545195932,
                          32.75492846253777
                        ],
                        [
                          22.510326134734463,
                          32.75699536877126
                        ],
                        [
                          22.51030590525725,
                          32.76293552357493
                        ],
                        [
                          22.51005409376624,
                          32.764807510596704
                        ],
                        [
                          22.510268050504457,
                          32.77168894392886
                        ],
                        [
                          22.509511697709417,
                          32.77937754000449
                        ],
                        [
                          22.51003846244882,
                          32.78201358917733
                        ],
                        [
                          22.509994327978855,
                          32.78634380009212
                        ],
                        [
                          22.50982870267025,
                          32.788498249213234
                        ],
                        [
                          22.509214960834377,
                          32.79016815496024
                        ],
                        [
                          22.50910235446511,
                          32.79102553814957
                        ],
                        [
                          22.508786485686624,
                          32.800299742755804
                        ]
                      ]
                    ]
                  },
                  "bbox": [
                    22.508786485686624,
                    32.75188769225155,
                    22.550301187890565,
                    32.800299742755804
                  ]
                },
                {
                  "id": "36",
                  "type": "Feature",
                  "properties": {
                    "datetime": "2023-07-01 09:07:44+00:00",
                    "platform": "GE01",
                    "gsd": 0.46,
                    "ard_metadata_version": "0.0.1",
                    "catalog_id": "105005005ADE7C00",
                    "utm_zone": 34,
                    "quadkey": "120200213122",
                    "view:off_nadir": 21.9,
                    "view:azimuth": 89.9,
                    "view:incidence_angle": 65.6,
                    "view:sun_azimuth": 111.2,
                    "view:sun_elevation": 68.8,
                    "proj:epsg": 32634,
                    "grid:code": "MXRA-Z34-120200213122",
                    "proj:bbox": "641502.0751953125,3619843.75,645156.25,3625156.25",
                    "tile:data_area": 19.2,
                    "tile:clouds_area": 0,
                    "tile:clouds_percent": 0,
                    "visual": "https://maxar-opendata.s3.amazonaws.com/events/Libya-Floods-Sept-2023/ard/34/120200213122/2023-07-01/105005005ADE7C00-visual.tif",
                    "style": {
                      "color": "black",
                      "fillColor": "black"
                    }
                  },
                  "geometry": {
                    "type": "Polygon",
                    "coordinates": [
                      [
                        [
                          22.510523536275883,
                          32.75518183817048
                        ],
                        [
                          22.54951939431761,
                          32.75470563755891
                        ],
                        [
                          22.54869064744289,
                          32.70680038600756
                        ],
                        [
                          22.510561928548963,
                          32.70726552428144
                        ],
                        [
                          22.51002850718234,
                          32.716569986189704
                        ],
                        [
                          22.51068957837528,
                          32.72565085333961
                        ],
                        [
                          22.510523536275883,
                          32.75518183817048
                        ]
                      ]
                    ]
                  },
                  "bbox": [
                    22.51002850718234,
                    32.70680038600756,
                    22.54951939431761,
                    32.75518183817048
                  ]
                },
                {
                  "id": "37",
                  "type": "Feature",
                  "properties": {
                    "datetime": "2023-07-01 09:07:44+00:00",
                    "platform": "GE01",
                    "gsd": 0.46,
                    "ard_metadata_version": "0.0.1",
                    "catalog_id": "105005005ADE7C00",
                    "utm_zone": 34,
                    "quadkey": "120200213300",
                    "view:off_nadir": 21.9,
                    "view:azimuth": 89.6,
                    "view:incidence_angle": 65.6,
                    "view:sun_azimuth": 111.2,
                    "view:sun_elevation": 68.8,
                    "proj:epsg": 32634,
                    "grid:code": "MXRA-Z34-120200213300",
                    "proj:bbox": "641562.5,3618789.9780273438,645156.25,3620156.25",
                    "tile:data_area": 4.7,
                    "tile:clouds_area": 0,
                    "tile:clouds_percent": 0,
                    "visual": "https://maxar-opendata.s3.amazonaws.com/events/Libya-Floods-Sept-2023/ard/34/120200213300/2023-07-01/105005005ADE7C00-visual.tif",
                    "style": {
                      "color": "black",
                      "fillColor": "black"
                    }
                  },
                  "geometry": {
                    "type": "Polygon",
                    "coordinates": [
                      [
                        [
                          22.51042388498788,
                          32.71008577622148
                        ],
                        [
                          22.54873934289386,
                          32.70961835264473
                        ],
                        [
                          22.548536474131875,
                          32.697875898890686
                        ],
                        [
                          22.51091930307733,
                          32.69775673038125
                        ],
                        [
                          22.510862642246597,
                          32.70057600576223
                        ],
                        [
                          22.51029570923898,
                          32.703445467358065
                        ],
                        [
                          22.510575775170366,
                          32.707507580000154
                        ],
                        [
                          22.51042388498788,
                          32.71008577622148
                        ]
                      ]
                    ]
                  },
                  "bbox": [
                    22.51029570923898,
                    32.69775673038125,
                    22.54873934289386,
                    32.71008577622148
                  ]
                },
                {
                  "id": "38",
                  "type": "Feature",
                  "properties": {
                    "datetime": "2023-08-30 09:06:21+00:00",
                    "platform": "GE01",
                    "gsd": 0.51,
                    "ard_metadata_version": "0.0.1",
                    "catalog_id": "1050050064DEAB00",
                    "utm_zone": 34,
                    "quadkey": "120200203123",
                    "view:off_nadir": 27.3,
                    "view:azimuth": 93.8,
                    "view:incidence_angle": 59.5,
                    "view:sun_azimuth": 134.4,
                    "view:sun_elevation": 59,
                    "proj:epsg": 32634,
                    "grid:code": "MXRA-Z34-120200203123",
                    "proj:bbox": "565785.3021622654,3621929.859086028,570156.25,3625156.25",
                    "tile:data_area": 13.2,
                    "tile:clouds_area": 0,
                    "tile:clouds_percent": 0,
                    "visual": "https://maxar-opendata.s3.amazonaws.com/events/Libya-Floods-Sept-2023/ard/34/120200203123/2023-08-30/1050050064DEAB00-visual.tif",
                    "style": {
                      "color": "black",
                      "fillColor": "black"
                    }
                  },
                  "geometry": {
                    "type": "Polygon",
                    "coordinates": [
                      [
                        [
                          21.748997277937928,
                          32.76204824233316
                        ],
                        [
                          21.748762342400664,
                          32.73395601908573
                        ],
                        [
                          21.706952,
                          32.733189
                        ],
                        [
                          21.706701,
                          32.733237
                        ],
                        [
                          21.706512,
                          32.73337
                        ],
                        [
                          21.70641,
                          32.733586
                        ],
                        [
                          21.702334751161658,
                          32.76231660966836
                        ],
                        [
                          21.748997277937928,
                          32.76204824233316
                        ]
                      ]
                    ]
                  },
                  "bbox": [
                    21.702334751161658,
                    32.733189,
                    21.748997277937928,
                    32.76231660966836
                  ]
                },
                {
                  "id": "39",
                  "type": "Feature",
                  "properties": {
                    "datetime": "2023-08-30 09:06:21+00:00",
                    "platform": "GE01",
                    "gsd": 0.5,
                    "ard_metadata_version": "0.0.1",
                    "catalog_id": "1050050064DEAB00",
                    "utm_zone": 34,
                    "quadkey": "120200203132",
                    "view:off_nadir": 27,
                    "view:azimuth": 93.9,
                    "view:incidence_angle": 59.8,
                    "view:sun_azimuth": 134.4,
                    "view:sun_elevation": 59,
                    "proj:epsg": 32634,
                    "grid:code": "MXRA-Z34-120200203132",
                    "proj:bbox": "569843.75,3622033.9391993196,575156.25,3625156.25",
                    "tile:data_area": 16.1,
                    "tile:clouds_area": 0,
                    "tile:clouds_percent": 0,
                    "visual": "https://maxar-opendata.s3.amazonaws.com/events/Libya-Floods-Sept-2023/ard/34/120200203132/2023-08-30/1050050064DEAB00-visual.tif",
                    "style": {
                      "color": "black",
                      "fillColor": "black"
                    }
                  },
                  "geometry": {
                    "type": "Polygon",
                    "coordinates": [
                      [
                        [
                          21.74566123186451,
                          32.76206813932023
                        ],
                        [
                          21.80237355749652,
                          32.76171781347056
                        ],
                        [
                          21.8021336127181,
                          32.73493512570415
                        ],
                        [
                          21.745426667533515,
                          32.73389482546377
                        ],
                        [
                          21.74566123186451,
                          32.76206813932023
                        ]
                      ]
                    ]
                  },
                  "bbox": [
                    21.745426667533515,
                    32.73389482546377,
                    21.80237355749652,
                    32.76206813932023
                  ]
                },
                {
                  "id": "40",
                  "type": "Feature",
                  "properties": {
                    "datetime": "2023-08-30 09:06:21+00:00",
                    "platform": "GE01",
                    "gsd": 0.5,
                    "ard_metadata_version": "0.0.1",
                    "catalog_id": "1050050064DEAB00",
                    "utm_zone": 34,
                    "quadkey": "120200203133",
                    "view:off_nadir": 26.8,
                    "view:azimuth": 93.9,
                    "view:incidence_angle": 60.1,
                    "view:sun_azimuth": 134.4,
                    "view:sun_elevation": 59,
                    "proj:epsg": 32634,
                    "grid:code": "MXRA-Z34-120200203133",
                    "proj:bbox": "574843.75,3622178.3151697195,576172.687771636,3625156.25",
                    "tile:data_area": 3.7,
                    "tile:clouds_area": 0,
                    "tile:clouds_percent": 0,
                    "visual": "https://maxar-opendata.s3.amazonaws.com/events/Libya-Floods-Sept-2023/ard/34/120200203133/2023-08-30/1050050064DEAB00-visual.tif",
                    "style": {
                      "color": "black",
                      "fillColor": "black"
                    }
                  },
                  "geometry": {
                    "type": "Polygon",
                    "coordinates": [
                      [
                        [
                          21.799037565846465,
                          32.76173913127703
                        ],
                        [
                          21.813224887139604,
                          32.76164704580488
                        ],
                        [
                          21.811962,
                          32.735478
                        ],
                        [
                          21.811899,
                          32.735331
                        ],
                        [
                          21.81178,
                          32.735211
                        ],
                        [
                          21.811619,
                          32.735133
                        ],
                        [
                          21.811448,
                          32.735106
                        ],
                        [
                          21.798797882458885,
                          32.73487393106601
                        ],
                        [
                          21.799037565846465,
                          32.76173913127703
                        ]
                      ]
                    ]
                  },
                  "bbox": [
                    21.798797882458885,
                    32.73487393106601,
                    21.813224887139604,
                    32.76173913127703
                  ]
                },
                {
                  "id": "41",
                  "type": "Feature",
                  "properties": {
                    "datetime": "2023-08-30 09:06:22+00:00",
                    "platform": "GE01",
                    "gsd": 0.51,
                    "ard_metadata_version": "0.0.1",
                    "catalog_id": "1050050064DEAB00",
                    "utm_zone": 34,
                    "quadkey": "120200203121",
                    "view:off_nadir": 27.3,
                    "view:azimuth": 95.7,
                    "view:incidence_angle": 59.5,
                    "view:sun_azimuth": 134.5,
                    "view:sun_elevation": 59,
                    "proj:epsg": 32634,
                    "grid:code": "MXRA-Z34-120200203121",
                    "proj:bbox": "565423.4395338238,3624843.75,570156.25,3628878.651639819",
                    "tile:data_area": 16.5,
                    "tile:clouds_area": 0.1,
                    "tile:clouds_percent": 0,
                    "visual": "https://maxar-opendata.s3.amazonaws.com/events/Libya-Floods-Sept-2023/ard/34/120200203121/2023-08-30/1050050064DEAB00-visual.tif",
                    "style": {
                      "color": "black",
                      "fillColor": "black"
                    }
                  },
                  "geometry": {
                    "type": "Polygon",
                    "coordinates": [
                      [
                        [
                          21.74897367843493,
                          32.759229507734766
                        ],
                        [
                          21.70273491877166,
                          32.759495417672234
                        ],
                        [
                          21.698674,
                          32.788125
                        ],
                        [
                          21.698678,
                          32.788257
                        ],
                        [
                          21.698741,
                          32.788404
                        ],
                        [
                          21.69891,
                          32.788555
                        ],
                        [
                          21.699116,
                          32.788624
                        ],
                        [
                          21.749278612159117,
                          32.795610167768956
                        ],
                        [
                          21.74897367843493,
                          32.759229507734766
                        ]
                      ]
                    ]
                  },
                  "bbox": [
                    21.698674,
                    32.759229507734766,
                    21.749278612159117,
                    32.795610167768956
                  ]
                },
                {
                  "id": "42",
                  "type": "Feature",
                  "properties": {
                    "datetime": "2023-08-30 09:06:22+00:00",
                    "platform": "GE01",
                    "gsd": 0.5,
                    "ard_metadata_version": "0.0.1",
                    "catalog_id": "1050050064DEAB00",
                    "utm_zone": 34,
                    "quadkey": "120200203130",
                    "view:off_nadir": 27,
                    "view:azimuth": 95.8,
                    "view:incidence_angle": 59.9,
                    "view:sun_azimuth": 134.5,
                    "view:sun_elevation": 59,
                    "proj:epsg": 32634,
                    "grid:code": "MXRA-Z34-120200203130",
                    "proj:bbox": "569843.75,3624843.75,575156.25,3629739.9217348387",
                    "tile:data_area": 23.5,
                    "tile:clouds_area": 0,
                    "tile:clouds_percent": 0,
                    "visual": "https://maxar-opendata.s3.amazonaws.com/events/Libya-Floods-Sept-2023/ard/34/120200203130/2023-08-30/1050050064DEAB00-visual.tif",
                    "style": {
                      "color": "black",
                      "fillColor": "black"
                    }
                  },
                  "geometry": {
                    "type": "Polygon",
                    "coordinates": [
                      [
                        [
                          21.802348276631932,
                          32.75889911439427
                        ],
                        [
                          21.74563773745029,
                          32.759249402582846
                        ],
                        [
                          21.74593726397562,
                          32.79514481682371
                        ],
                        [
                          21.802744766411926,
                          32.803056421213384
                        ],
                        [
                          21.802348276631932,
                          32.75889911439427
                        ]
                      ]
                    ]
                  },
                  "bbox": [
                    21.74563773745029,
                    32.75889911439427,
                    21.802744766411926,
                    32.803056421213384
                  ]
                },
                {
                  "id": "43",
                  "type": "Feature",
                  "properties": {
                    "datetime": "2023-08-30 09:06:22+00:00",
                    "platform": "GE01",
                    "gsd": 0.5,
                    "ard_metadata_version": "0.0.1",
                    "catalog_id": "1050050064DEAB00",
                    "utm_zone": 34,
                    "quadkey": "120200203131",
                    "view:off_nadir": 26.7,
                    "view:azimuth": 96,
                    "view:incidence_angle": 60.1,
                    "view:sun_azimuth": 134.5,
                    "view:sun_elevation": 59,
                    "proj:epsg": 32634,
                    "grid:code": "MXRA-Z34-120200203131",
                    "proj:bbox": "574843.75,3624843.75,576328.9570455004,3629932.2974948213",
                    "tile:data_area": 6.9,
                    "tile:clouds_area": 0,
                    "tile:clouds_percent": 0,
                    "visual": "https://maxar-opendata.s3.amazonaws.com/events/Libya-Floods-Sept-2023/ard/34/120200203131/2023-08-30/1050050064DEAB00-visual.tif",
                    "style": {
                      "color": "black",
                      "fillColor": "black"
                    }
                  },
                  "geometry": {
                    "type": "Polygon",
                    "coordinates": [
                      [
                        [
                          21.799012390063652,
                          32.75892042990901
                        ],
                        [
                          21.79940287918673,
                          32.80259099519557
                        ],
                        [
                          21.814661,
                          32.804716
                        ],
                        [
                          21.814809,
                          32.804719
                        ],
                        [
                          21.814987,
                          32.804674
                        ],
                        [
                          21.81509,
                          32.804617
                        ],
                        [
                          21.81521,
                          32.804497
                        ],
                        [
                          21.815259,
                          32.804401
                        ],
                        [
                          21.815281,
                          32.804253
                        ],
                        [
                          21.813088894786397,
                          32.75882906626528
                        ],
                        [
                          21.799012390063652,
                          32.75892042990901
                        ]
                      ]
                    ]
                  },
                  "bbox": [
                    21.799012390063652,
                    32.75882906626528,
                    21.815281,
                    32.804719
                  ]
                },
                {
                  "id": "44",
                  "type": "Feature",
                  "properties": {
                    "datetime": "2023-09-13 09:18:06+00:00",
                    "platform": "GE01",
                    "gsd": 0.42,
                    "ard_metadata_version": "0.0.1",
                    "catalog_id": "10500100363D0900",
                    "utm_zone": 34,
                    "quadkey": "120200213310",
                    "view:off_nadir": 7.5,
                    "view:azimuth": 7.2,
                    "view:incidence_angle": 81.7,
                    "view:sun_azimuth": 147.7,
                    "view:sun_elevation": 57.2,
                    "proj:epsg": 32634,
                    "grid:code": "MXRA-Z34-120200213310",
                    "proj:bbox": "649843.75,3618976.7456054688,655156.25,3620156.25",
                    "tile:data_area": 6,
                    "tile:clouds_area": 0.8,
                    "tile:clouds_percent": 14,
                    "visual": "https://maxar-opendata.s3.amazonaws.com/events/Libya-Floods-Sept-2023/ard/34/120200213310/2023-09-13/10500100363D0900-visual.tif",
                    "style": {
                      "color": "black",
                      "fillColor": "black"
                    }
                  },
                  "geometry": {
                    "type": "Polygon",
                    "coordinates": [
                      [
                        [
                          22.598735902946853,
                          32.70899081651058
                        ],
                        [
                          22.59854631369666,
                          32.69836039510128
                        ],
                        [
                          22.60648985628544,
                          32.698396508418675
                        ],
                        [
                          22.610015200342907,
                          32.69820816779097
                        ],
                        [
                          22.612826871873754,
                          32.69833993879226
                        ],
                        [
                          22.615526785989697,
                          32.69823086856693
                        ],
                        [
                          22.61988279139564,
                          32.69843616024604
                        ],
                        [
                          22.62715080917735,
                          32.698380598858485
                        ],
                        [
                          22.62882832706381,
                          32.69843864243482
                        ],
                        [
                          22.630672927996343,
                          32.69837613488304
                        ],
                        [
                          22.63254601641098,
                          32.69844810014347
                        ],
                        [
                          22.65521605711427,
                          32.698470202117555
                        ],
                        [
                          22.655396761603598,
                          32.708255528275764
                        ],
                        [
                          22.598735902946853,
                          32.70899081651058
                        ]
                      ]
                    ]
                  },
                  "bbox": [
                    22.59854631369666,
                    32.69820816779097,
                    22.655396761603598,
                    32.70899081651058
                  ]
                },
                {
                  "id": "45",
                  "type": "Feature",
                  "properties": {
                    "datetime": "2023-09-13 09:18:07+00:00",
                    "platform": "GE01",
                    "gsd": 0.42,
                    "ard_metadata_version": "0.0.1",
                    "catalog_id": "10500100363D0900",
                    "utm_zone": 34,
                    "quadkey": "120200213122",
                    "view:off_nadir": 7.1,
                    "view:azimuth": 11.1,
                    "view:incidence_angle": 82.1,
                    "view:sun_azimuth": 147.7,
                    "view:sun_elevation": 57.2,
                    "proj:epsg": 32634,
                    "grid:code": "MXRA-Z34-120200213122",
                    "proj:bbox": "644912.109375,3619843.75,645156.25,3625156.25",
                    "tile:data_area": 1.1,
                    "tile:clouds_area": 0,
                    "tile:clouds_percent": 4,
                    "visual": "https://maxar-opendata.s3.amazonaws.com/events/Libya-Floods-Sept-2023/ard/34/120200213122/2023-09-13/10500100363D0900-visual.tif",
                    "style": {
                      "color": "black",
                      "fillColor": "black"
                    }
                  },
                  "geometry": {
                    "type": "Polygon",
                    "coordinates": [
                      [
                        [
                          22.546914054230907,
                          32.75473783127255
                        ],
                        [
                          22.54693057475873,
                          32.75136032132413
                        ],
                        [
                          22.546904000315518,
                          32.7475622103264
                        ],
                        [
                          22.546908655211723,
                          32.74500508651155
                        ],
                        [
                          22.54688527223714,
                          32.74308688662909
                        ],
                        [
                          22.546875597867746,
                          32.73159533088744
                        ],
                        [
                          22.54682622990879,
                          32.728171830018184
                        ],
                        [
                          22.54682425541155,
                          32.72522943037679
                        ],
                        [
                          22.5468034159205,
                          32.72345707599875
                        ],
                        [
                          22.54684027638792,
                          32.72050043258342
                        ],
                        [
                          22.546840755144604,
                          32.71901957939988
                        ],
                        [
                          22.546811388946292,
                          32.70939717898538
                        ],
                        [
                          22.546786510876224,
                          32.70682388997474
                        ],
                        [
                          22.54869064744289,
                          32.70680038600756
                        ],
                        [
                          22.54951939431761,
                          32.75470563755891
                        ],
                        [
                          22.546914054230907,
                          32.75473783127255
                        ]
                      ]
                    ]
                  },
                  "bbox": [
                    22.546786510876224,
                    32.70680038600756,
                    22.54951939431761,
                    32.75473783127255
                  ]
                },
                {
                  "id": "46",
                  "type": "Feature",
                  "properties": {
                    "datetime": "2023-09-13 09:18:07+00:00",
                    "platform": "GE01",
                    "gsd": 0.42,
                    "ard_metadata_version": "0.0.1",
                    "catalog_id": "10500100363D0900",
                    "utm_zone": 34,
                    "quadkey": "120200213123",
                    "view:off_nadir": 7.1,
                    "view:azimuth": 10.3,
                    "view:incidence_angle": 82.1,
                    "view:sun_azimuth": 147.7,
                    "view:sun_elevation": 57.2,
                    "proj:epsg": 32634,
                    "grid:code": "MXRA-Z34-120200213123",
                    "proj:bbox": "644912.109375,3619843.75,650156.25,3625156.25",
                    "tile:data_area": 27.6,
                    "tile:clouds_area": 1.6,
                    "tile:clouds_percent": 5,
                    "visual": "https://maxar-opendata.s3.amazonaws.com/events/Libya-Floods-Sept-2023/ard/34/120200213123/2023-09-13/10500100363D0900-visual.tif",
                    "style": {
                      "color": "black",
                      "fillColor": "black"
                    }
                  },
                  "geometry": {
                    "type": "Polygon",
                    "coordinates": [
                      [
                        [
                          22.546914054230907,
                          32.75473783127255
                        ],
                        [
                          22.546786510876224,
                          32.70682388997474
                        ],
                        [
                          22.602018580892892,
                          32.70613037792722
                        ],
                        [
                          22.602875835728447,
                          32.75403440357231
                        ],
                        [
                          22.546914054230907,
                          32.75473783127255
                        ]
                      ]
                    ]
                  },
                  "bbox": [
                    22.546786510876224,
                    32.70613037792722,
                    22.602875835728447,
                    32.75473783127255
                  ]
                },
                {
                  "id": "47",
                  "type": "Feature",
                  "properties": {
                    "datetime": "2023-09-13 09:18:07+00:00",
                    "platform": "GE01",
                    "gsd": 0.42,
                    "ard_metadata_version": "0.0.1",
                    "catalog_id": "10500100363D0900",
                    "utm_zone": 34,
                    "quadkey": "120200213132",
                    "view:off_nadir": 7,
                    "view:azimuth": 7.1,
                    "view:incidence_angle": 82.2,
                    "view:sun_azimuth": 147.7,
                    "view:sun_elevation": 57.2,
                    "proj:epsg": 32634,
                    "grid:code": "MXRA-Z34-120200213132",
                    "proj:bbox": "649843.75,3619843.75,655156.25,3625156.25",
                    "tile:data_area": 28.2,
                    "tile:clouds_area": 1.6,
                    "tile:clouds_percent": 5,
                    "visual": "https://maxar-opendata.s3.amazonaws.com/events/Libya-Floods-Sept-2023/ard/34/120200213132/2023-09-13/10500100363D0900-visual.tif",
                    "style": {
                      "color": "black",
                      "fillColor": "black"
                    }
                  },
                  "geometry": {
                    "type": "Polygon",
                    "coordinates": [
                      [
                        [
                          22.5995411103129,
                          32.75407702085231
                        ],
                        [
                          22.598685637111,
                          32.706172917373806
                        ],
                        [
                          22.6553447162435,
                          32.70543770822849
                        ],
                        [
                          22.656230475105954,
                          32.753340466522694
                        ],
                        [
                          22.5995411103129,
                          32.75407702085231
                        ]
                      ]
                    ]
                  },
                  "bbox": [
                    22.598685637111,
                    32.70543770822849,
                    22.656230475105954,
                    32.75407702085231
                  ]
                },
                {
                  "id": "48",
                  "type": "Feature",
                  "properties": {
                    "datetime": "2023-09-13 09:18:07+00:00",
                    "platform": "GE01",
                    "gsd": 0.42,
                    "ard_metadata_version": "0.0.1",
                    "catalog_id": "10500100363D0900",
                    "utm_zone": 34,
                    "quadkey": "120200213133",
                    "view:off_nadir": 7,
                    "view:azimuth": 3.8,
                    "view:incidence_angle": 82.2,
                    "view:sun_azimuth": 147.7,
                    "view:sun_elevation": 57.2,
                    "proj:epsg": 32634,
                    "grid:code": "MXRA-Z34-120200213133",
                    "proj:bbox": "654843.75,3619843.75,660156.25,3625156.25",
                    "tile:data_area": 28.2,
                    "tile:clouds_area": 0.1,
                    "tile:clouds_percent": 0,
                    "visual": "https://maxar-opendata.s3.amazonaws.com/events/Libya-Floods-Sept-2023/ard/34/120200213133/2023-09-13/10500100363D0900-visual.tif",
                    "style": {
                      "color": "black",
                      "fillColor": "black"
                    }
                  },
                  "geometry": {
                    "type": "Polygon",
                    "coordinates": [
                      [
                        [
                          22.65289586407173,
                          32.75338450266737
                        ],
                        [
                          22.65201188659324,
                          32.70548166394967
                        ],
                        [
                          22.708668993751548,
                          32.70472237955542
                        ],
                        [
                          22.70958325257649,
                          32.75262382906084
                        ],
                        [
                          22.65289586407173,
                          32.75338450266737
                        ]
                      ]
                    ]
                  },
                  "bbox": [
                    22.65201188659324,
                    32.70472237955542,
                    22.70958325257649,
                    32.75338450266737
                  ]
                },
                {
                  "id": "49",
                  "type": "Feature",
                  "properties": {
                    "datetime": "2023-09-13 09:18:07+00:00",
                    "platform": "GE01",
                    "gsd": 0.42,
                    "ard_metadata_version": "0.0.1",
                    "catalog_id": "10500100363D0900",
                    "utm_zone": 34,
                    "quadkey": "120200213300",
                    "view:off_nadir": 7.4,
                    "view:azimuth": 10.6,
                    "view:incidence_angle": 81.8,
                    "view:sun_azimuth": 147.7,
                    "view:sun_elevation": 57.2,
                    "proj:epsg": 32634,
                    "grid:code": "MXRA-Z34-120200213300",
                    "proj:bbox": "644975.5859375,3618894.6533203125,645156.25,3620156.25",
                    "tile:data_area": 0.2,
                    "tile:clouds_area": 0,
                    "tile:clouds_percent": 0,
                    "visual": "https://maxar-opendata.s3.amazonaws.com/events/Libya-Floods-Sept-2023/ard/34/120200213300/2023-09-13/10500100363D0900-visual.tif",
                    "style": {
                      "color": "black",
                      "fillColor": "black"
                    }
                  },
                  "geometry": {
                    "type": "Polygon",
                    "coordinates": [
                      [
                        [
                          22.54681236124446,
                          32.70964214023974
                        ],
                        [
                          22.5467845127947,
                          32.70708540302377
                        ],
                        [
                          22.5468011884577,
                          32.70484465427256
                        ],
                        [
                          22.546781898929094,
                          32.70240616761952
                        ],
                        [
                          22.54677878960138,
                          32.69826367514123
                        ],
                        [
                          22.548543270964995,
                          32.69826942419784
                        ],
                        [
                          22.54873934289386,
                          32.70961835264473
                        ],
                        [
                          22.54681236124446,
                          32.70964214023974
                        ]
                      ]
                    ]
                  },
                  "bbox": [
                    22.54677878960138,
                    32.69826367514123,
                    22.54873934289386,
                    32.70964214023974
                  ]
                },
                {
                  "id": "50",
                  "type": "Feature",
                  "properties": {
                    "datetime": "2023-09-13 09:18:07+00:00",
                    "platform": "GE01",
                    "gsd": 0.42,
                    "ard_metadata_version": "0.0.1",
                    "catalog_id": "10500100363D0900",
                    "utm_zone": 34,
                    "quadkey": "120200213301",
                    "view:off_nadir": 7.5,
                    "view:azimuth": 10.2,
                    "view:incidence_angle": 81.7,
                    "view:sun_azimuth": 147.7,
                    "view:sun_elevation": 57.2,
                    "proj:epsg": 32634,
                    "grid:code": "MXRA-Z34-120200213301",
                    "proj:bbox": "644975.5859375,3618894.6533203125,650156.25,3620156.25",
                    "tile:data_area": 6.2,
                    "tile:clouds_area": 0.4,
                    "tile:clouds_percent": 7,
                    "visual": "https://maxar-opendata.s3.amazonaws.com/events/Libya-Floods-Sept-2023/ard/34/120200213301/2023-09-13/10500100363D0900-visual.tif",
                    "style": {
                      "color": "black",
                      "fillColor": "black"
                    }
                  },
                  "geometry": {
                    "type": "Polygon",
                    "coordinates": [
                      [
                        [
                          22.54681236124446,
                          32.70964214023974
                        ],
                        [
                          22.54677878960138,
                          32.69826367514123
                        ],
                        [
                          22.601879901503295,
                          32.698370153574416
                        ],
                        [
                          22.602068951413937,
                          32.70894827248781
                        ],
                        [
                          22.54681236124446,
                          32.70964214023974
                        ]
                      ]
                    ]
                  },
                  "bbox": [
                    22.54677878960138,
                    32.69826367514123,
                    22.602068951413937,
                    32.70964214023974
                  ]
                },
                {
                  "id": "51",
                  "type": "Feature",
                  "properties": {
                    "datetime": "2023-09-13 09:18:07+00:00",
                    "platform": "GE01",
                    "gsd": 0.42,
                    "ard_metadata_version": "0.0.1",
                    "catalog_id": "10500100363D0900",
                    "utm_zone": 34,
                    "quadkey": "120200213311",
                    "view:off_nadir": 7.4,
                    "view:azimuth": 4.1,
                    "view:incidence_angle": 81.8,
                    "view:sun_azimuth": 147.7,
                    "view:sun_elevation": 57.2,
                    "proj:epsg": 32634,
                    "grid:code": "MXRA-Z34-120200213311",
                    "proj:bbox": "654843.75,3619066.7724609375,660156.25,3620156.25",
                    "tile:data_area": 5.5,
                    "tile:clouds_area": 0,
                    "tile:clouds_percent": 1,
                    "visual": "https://maxar-opendata.s3.amazonaws.com/events/Libya-Floods-Sept-2023/ard/34/120200213311/2023-09-13/10500100363D0900-visual.tif",
                    "style": {
                      "color": "black",
                      "fillColor": "black"
                    }
                  },
                  "geometry": {
                    "type": "Polygon",
                    "coordinates": [
                      [
                        [
                          22.65206382728281,
                          32.70829948872541
                        ],
                        [
                          22.651882776384006,
                          32.69847562114538
                        ],
                        [
                          22.708551926981283,
                          32.698580575481934
                        ],
                        [
                          22.708722713712014,
                          32.70754012265308
                        ],
                        [
                          22.65206382728281,
                          32.70829948872541
                        ]
                      ]
                    ]
                  },
                  "bbox": [
                    22.651882776384006,
                    32.69847562114538,
                    22.708722713712014,
                    32.70829948872541
                  ]
                },
                {
                  "id": "52",
                  "type": "Feature",
                  "properties": {
                    "datetime": "2023-09-13 09:18:07+00:00",
                    "platform": "GE01",
                    "gsd": 0.42,
                    "ard_metadata_version": "0.0.1",
                    "catalog_id": "10500100363D0900",
                    "utm_zone": 34,
                    "quadkey": "120200302022",
                    "view:off_nadir": 7,
                    "view:azimuth": 2.8,
                    "view:incidence_angle": 82.2,
                    "view:sun_azimuth": 147.7,
                    "view:sun_elevation": 57.2,
                    "proj:epsg": 32634,
                    "grid:code": "MXRA-Z34-120200302022",
                    "proj:bbox": "659843.75,3619843.75,660600.5859375,3625156.25",
                    "tile:data_area": 3.7,
                    "tile:clouds_area": 0,
                    "tile:clouds_percent": 0,
                    "visual": "https://maxar-opendata.s3.amazonaws.com/events/Libya-Floods-Sept-2023/ard/34/120200302022/2023-09-13/10500100363D0900-visual.tif",
                    "style": {
                      "color": "black",
                      "fillColor": "black"
                    }
                  },
                  "geometry": {
                    "type": "Polygon",
                    "coordinates": [
                      [
                        [
                          22.70624875966532,
                          32.75266928390199
                        ],
                        [
                          22.705336281966492,
                          32.70476775138341
                        ],
                        [
                          22.713407680420197,
                          32.704657714106546
                        ],
                        [
                          22.71316821188961,
                          32.75256109893769
                        ],
                        [
                          22.70624875966532,
                          32.75266928390199
                        ]
                      ]
                    ]
                  },
                  "bbox": [
                    22.705336281966492,
                    32.704657714106546,
                    22.713407680420197,
                    32.75266928390199
                  ]
                },
                {
                  "id": "53",
                  "type": "Feature",
                  "properties": {
                    "datetime": "2023-09-13 09:18:07+00:00",
                    "platform": "GE01",
                    "gsd": 0.42,
                    "ard_metadata_version": "0.0.1",
                    "catalog_id": "10500100363D0900",
                    "utm_zone": 34,
                    "quadkey": "120200302200",
                    "view:off_nadir": 7.3,
                    "view:azimuth": 3.3,
                    "view:incidence_angle": 81.9,
                    "view:sun_azimuth": 147.7,
                    "view:sun_elevation": 57.2,
                    "proj:epsg": 32634,
                    "grid:code": "MXRA-Z34-120200302200",
                    "proj:bbox": "659843.75,3619156.494140625,660614.3188476562,3620156.25",
                    "tile:data_area": 0.7,
                    "tile:clouds_area": 0,
                    "tile:clouds_percent": 0,
                    "visual": "https://maxar-opendata.s3.amazonaws.com/events/Libya-Floods-Sept-2023/ard/34/120200302200/2023-09-13/10500100363D0900-visual.tif",
                    "style": {
                      "color": "black",
                      "fillColor": "black"
                    }
                  },
                  "geometry": {
                    "type": "Polygon",
                    "coordinates": [
                      [
                        [
                          22.705389897271576,
                          32.70758549936178
                        ],
                        [
                          22.70521839648047,
                          32.6985709024616
                        ],
                        [
                          22.713438155732124,
                          32.69858822009007
                        ],
                        [
                          22.713389946015525,
                          32.707476428772445
                        ],
                        [
                          22.705389897271576,
                          32.70758549936178
                        ]
                      ]
                    ]
                  },
                  "bbox": [
                    22.70521839648047,
                    32.6985709024616,
                    22.713438155732124,
                    32.70758549936178
                  ]
                },
                {
                  "id": "54",
                  "type": "Feature",
                  "properties": {
                    "datetime": "2023-09-13 09:18:08+00:00",
                    "platform": "GE01",
                    "gsd": 0.42,
                    "ard_metadata_version": "0.0.1",
                    "catalog_id": "10500100363D0900",
                    "utm_zone": 34,
                    "quadkey": "120200213131",
                    "view:off_nadir": 6,
                    "view:azimuth": 6.6,
                    "view:incidence_angle": 83.4,
                    "view:sun_azimuth": 147.7,
                    "view:sun_elevation": 57.2,
                    "proj:epsg": 32634,
                    "grid:code": "MXRA-Z34-120200213131",
                    "proj:bbox": "654843.75,3624843.75,660156.25,3630156.25",
                    "tile:data_area": 28.2,
                    "tile:clouds_area": 0.3,
                    "tile:clouds_percent": 1,
                    "visual": "https://maxar-opendata.s3.amazonaws.com/events/Libya-Floods-Sept-2023/ard/34/120200213131/2023-09-13/10500100363D0900-visual.tif",
                    "style": {
                      "color": "black",
                      "fillColor": "black"
                    }
                  },
                  "geometry": {
                    "type": "Polygon",
                    "coordinates": [
                      [
                        [
                          22.653729759028042,
                          32.798469172943385
                        ],
                        [
                          22.652843807373607,
                          32.75056669936143
                        ],
                        [
                          22.709529412636645,
                          32.749806107513585
                        ],
                        [
                          22.710445713210866,
                          32.79770719051135
                        ],
                        [
                          22.653729759028042,
                          32.798469172943385
                        ]
                      ]
                    ]
                  },
                  "bbox": [
                    22.652843807373607,
                    32.749806107513585,
                    22.710445713210866,
                    32.798469172943385
                  ]
                },
                {
                  "id": "55",
                  "type": "Feature",
                  "properties": {
                    "datetime": "2023-09-13 09:18:08+00:00",
                    "platform": "GE01",
                    "gsd": 0.42,
                    "ard_metadata_version": "0.0.1",
                    "catalog_id": "10500100363D0900",
                    "utm_zone": 34,
                    "quadkey": "120200302020",
                    "view:off_nadir": 6,
                    "view:azimuth": 5.4,
                    "view:incidence_angle": 83.4,
                    "view:sun_azimuth": 147.7,
                    "view:sun_elevation": 57.2,
                    "proj:epsg": 32634,
                    "grid:code": "MXRA-Z34-120200302020",
                    "proj:bbox": "659843.75,3624843.75,660498.3520507812,3630156.25",
                    "tile:data_area": 3.2,
                    "tile:clouds_area": 0,
                    "tile:clouds_percent": 0,
                    "visual": "https://maxar-opendata.s3.amazonaws.com/events/Libya-Floods-Sept-2023/ard/34/120200302020/2023-09-13/10500100363D0900-visual.tif",
                    "style": {
                      "color": "black",
                      "fillColor": "black"
                    }
                  },
                  "geometry": {
                    "type": "Polygon",
                    "coordinates": [
                      [
                        [
                          22.70710954008806,
                          32.79775272356212
                        ],
                        [
                          22.706195024614413,
                          32.7498515574692
                        ],
                        [
                          22.713179647167593,
                          32.74975625059215
                        ],
                        [
                          22.713006428840956,
                          32.79766942843152
                        ],
                        [
                          22.70710954008806,
                          32.79775272356212
                        ]
                      ]
                    ]
                  },
                  "bbox": [
                    22.706195024614413,
                    32.74975625059215,
                    22.713179647167593,
                    32.79775272356212
                  ]
                },
                {
                  "id": "56",
                  "type": "Feature",
                  "properties": {
                    "datetime": "2023-09-13 09:18:09+00:00",
                    "platform": "GE01",
                    "gsd": 0.42,
                    "ard_metadata_version": "0.0.1",
                    "catalog_id": "10500100363D0900",
                    "utm_zone": 34,
                    "quadkey": "120200213102",
                    "view:off_nadir": 5.3,
                    "view:azimuth": 11.7,
                    "view:incidence_angle": 84.1,
                    "view:sun_azimuth": 147.7,
                    "view:sun_elevation": 57.2,
                    "proj:epsg": 32634,
                    "grid:code": "MXRA-Z34-120200213102",
                    "proj:bbox": "644813.232421875,3629843.75,645156.25,3632756.34765625",
                    "tile:data_area": 0.9,
                    "tile:clouds_area": 0,
                    "tile:clouds_percent": 0,
                    "visual": "https://maxar-opendata.s3.amazonaws.com/events/Libya-Floods-Sept-2023/ard/34/120200213102/2023-09-13/10500100363D0900-visual.tif",
                    "style": {
                      "color": "black",
                      "fillColor": "black"
                    }
                  },
                  "geometry": {
                    "type": "Polygon",
                    "coordinates": [
                      [
                        [
                          22.550512875384516,
                          32.82324095996969
                        ],
                        [
                          22.55070842554205,
                          32.82323853724172
                        ],
                        [
                          22.55025227468482,
                          32.796974657089805
                        ],
                        [
                          22.546984285454748,
                          32.79701507644204
                        ],
                        [
                          22.547044256540165,
                          32.82323433860234
                        ],
                        [
                          22.550512875384516,
                          32.82324095996969
                        ]
                      ]
                    ]
                  },
                  "bbox": [
                    22.546984285454748,
                    32.796974657089805,
                    22.55070842554205,
                    32.82324095996969
                  ]
                },
                {
                  "id": "57",
                  "type": "Feature",
                  "properties": {
                    "datetime": "2023-09-13 09:18:09+00:00",
                    "platform": "GE01",
                    "gsd": 0.42,
                    "ard_metadata_version": "0.0.1",
                    "catalog_id": "10500100363D0900",
                    "utm_zone": 34,
                    "quadkey": "120200213103",
                    "view:off_nadir": 5.2,
                    "view:azimuth": 11.1,
                    "view:incidence_angle": 84.2,
                    "view:sun_azimuth": 147.7,
                    "view:sun_elevation": 57.2,
                    "proj:epsg": 32634,
                    "grid:code": "MXRA-Z34-120200213103",
                    "proj:bbox": "644843.75,3629843.75,650156.25,3632839.0502929688",
                    "tile:data_area": 15.6,
                    "tile:clouds_area": 0.1,
                    "tile:clouds_percent": 0,
                    "visual": "https://maxar-opendata.s3.amazonaws.com/events/Libya-Floods-Sept-2023/ard/34/120200213103/2023-09-13/10500100363D0900-visual.tif",
                    "style": {
                      "color": "black",
                      "fillColor": "black"
                    }
                  },
                  "geometry": {
                    "type": "Polygon",
                    "coordinates": [
                      [
                        [
                          22.603936666090508,
                          32.82331362320894
                        ],
                        [
                          22.60411917501831,
                          32.823311284114475
                        ],
                        [
                          22.60363392631726,
                          32.79630234035288
                        ],
                        [
                          22.546984285454748,
                          32.79701507644204
                        ],
                        [
                          22.547370269412806,
                          32.823235813327244
                        ],
                        [
                          22.603936666090508,
                          32.82331362320894
                        ]
                      ]
                    ]
                  },
                  "bbox": [
                    22.546984285454748,
                    32.79630234035288,
                    22.60411917501831,
                    32.82331362320894
                  ]
                },
                {
                  "id": "58",
                  "type": "Feature",
                  "properties": {
                    "datetime": "2023-09-13 09:18:09+00:00",
                    "platform": "GE01",
                    "gsd": 0.42,
                    "ard_metadata_version": "0.0.1",
                    "catalog_id": "10500100363D0900",
                    "utm_zone": 34,
                    "quadkey": "120200213112",
                    "view:off_nadir": 5.2,
                    "view:azimuth": 6.7,
                    "view:incidence_angle": 84.3,
                    "view:sun_azimuth": 147.7,
                    "view:sun_elevation": 57.2,
                    "proj:epsg": 32634,
                    "grid:code": "MXRA-Z34-120200213112",
                    "proj:bbox": "649843.75,3629843.75,655156.25,3632921.4477539062",
                    "tile:data_area": 16.1,
                    "tile:clouds_area": 0,
                    "tile:clouds_percent": 0,
                    "visual": "https://maxar-opendata.s3.amazonaws.com/events/Libya-Floods-Sept-2023/ard/34/120200213112/2023-09-13/10500100363D0900-visual.tif",
                    "style": {
                      "color": "black",
                      "fillColor": "black"
                    }
                  },
                  "geometry": {
                    "type": "Polygon",
                    "coordinates": [
                      [
                        [
                          22.657454000694706,
                          32.82335946991391
                        ],
                        [
                          22.657013772433526,
                          32.79560728394812
                        ],
                        [
                          22.6002976253637,
                          32.79634502637726
                        ],
                        [
                          22.600781075660038,
                          32.823309985284524
                        ],
                        [
                          22.657454000694706,
                          32.82335946991391
                        ]
                      ]
                    ]
                  },
                  "bbox": [
                    22.6002976253637,
                    32.79560728394812,
                    22.657454000694706,
                    32.82335946991391
                  ]
                },
                {
                  "id": "59",
                  "type": "Feature",
                  "properties": {
                    "datetime": "2023-09-13 09:18:09+00:00",
                    "platform": "GE01",
                    "gsd": 0.42,
                    "ard_metadata_version": "0.0.1",
                    "catalog_id": "10500100363D0900",
                    "utm_zone": 34,
                    "quadkey": "120200213113",
                    "view:off_nadir": 5.1,
                    "view:azimuth": 48.9,
                    "view:incidence_angle": 84.3,
                    "view:sun_azimuth": 147.7,
                    "view:sun_elevation": 57.2,
                    "proj:epsg": 32634,
                    "grid:code": "MXRA-Z34-120200213113",
                    "proj:bbox": "654843.75,3629843.75,660156.25,3633003.2348632812",
                    "tile:data_area": 16.5,
                    "tile:clouds_area": 0,
                    "tile:clouds_percent": 0,
                    "visual": "https://maxar-opendata.s3.amazonaws.com/events/Libya-Floods-Sept-2023/ard/34/120200213113/2023-09-13/10500100363D0900-visual.tif",
                    "style": {
                      "color": "black",
                      "fillColor": "black"
                    }
                  },
                  "geometry": {
                    "type": "Polygon",
                    "coordinates": [
                      [
                        [
                          22.71074863884388,
                          32.823379949720916
                        ],
                        [
                          22.71093765585694,
                          32.82337736580103
                        ],
                        [
                          22.710391753044473,
                          32.794889490532256
                        ],
                        [
                          22.653677586082356,
                          32.795651391124785
                        ],
                        [
                          22.65419086802158,
                          32.82335585167872
                        ],
                        [
                          22.71074863884388,
                          32.823379949720916
                        ]
                      ]
                    ]
                  },
                  "bbox": [
                    22.653677586082356,
                    32.794889490532256,
                    22.71093765585694,
                    32.823379949720916
                  ]
                },
                {
                  "id": "60",
                  "type": "Feature",
                  "properties": {
                    "datetime": "2023-09-13 09:18:09+00:00",
                    "platform": "GE01",
                    "gsd": 0.42,
                    "ard_metadata_version": "0.0.1",
                    "catalog_id": "10500100363D0900",
                    "utm_zone": 34,
                    "quadkey": "120200213120",
                    "view:off_nadir": 6,
                    "view:azimuth": 11.7,
                    "view:incidence_angle": 83.3,
                    "view:sun_azimuth": 147.7,
                    "view:sun_elevation": 57.2,
                    "proj:epsg": 32634,
                    "grid:code": "MXRA-Z34-120200213120",
                    "proj:bbox": "644846.19140625,3624843.75,645156.25,3630156.25",
                    "tile:data_area": 1.4,
                    "tile:clouds_area": 0,
                    "tile:clouds_percent": 0,
                    "visual": "https://maxar-opendata.s3.amazonaws.com/events/Libya-Floods-Sept-2023/ard/34/120200213120/2023-09-13/10500100363D0900-visual.tif",
                    "style": {
                      "color": "black",
                      "fillColor": "black"
                    }
                  },
                  "geometry": {
                    "type": "Polygon",
                    "coordinates": [
                      [
                        [
                          22.54699073748235,
                          32.79983352812088
                        ],
                        [
                          22.550301187890565,
                          32.799792581050184
                        ],
                        [
                          22.549470590101304,
                          32.75188769225155
                        ],
                        [
                          22.546927206921648,
                          32.75191911861382
                        ],
                        [
                          22.546902294129755,
                          32.762345854362415
                        ],
                        [
                          22.546926982795153,
                          32.76659814030596
                        ],
                        [
                          22.546918252611086,
                          32.77080129153673
                        ],
                        [
                          22.546932277416165,
                          32.772741618830864
                        ],
                        [
                          22.546984488563716,
                          32.775570525474954
                        ],
                        [
                          22.546986576481803,
                          32.778138564337894
                        ],
                        [
                          22.54695908989304,
                          32.78332732732059
                        ],
                        [
                          22.54699073748235,
                          32.79983352812088
                        ]
                      ]
                    ]
                  },
                  "bbox": [
                    22.546902294129755,
                    32.75188769225155,
                    22.550301187890565,
                    32.79983352812088
                  ]
                },
                {
                  "id": "61",
                  "type": "Feature",
                  "properties": {
                    "datetime": "2023-09-13 09:18:09+00:00",
                    "platform": "GE01",
                    "gsd": 0.42,
                    "ard_metadata_version": "0.0.1",
                    "catalog_id": "10500100363D0900",
                    "utm_zone": 34,
                    "quadkey": "120200213121",
                    "view:off_nadir": 6,
                    "view:azimuth": 10.7,
                    "view:incidence_angle": 83.3,
                    "view:sun_azimuth": 147.7,
                    "view:sun_elevation": 57.2,
                    "proj:epsg": 32634,
                    "grid:code": "MXRA-Z34-120200213121",
                    "proj:bbox": "644846.19140625,3624843.75,650156.25,3630156.25",
                    "tile:data_area": 28,
                    "tile:clouds_area": 0.8,
                    "tile:clouds_percent": 3,
                    "visual": "https://maxar-opendata.s3.amazonaws.com/events/Libya-Floods-Sept-2023/ard/34/120200213121/2023-09-13/10500100363D0900-visual.tif",
                    "style": {
                      "color": "black",
                      "fillColor": "black"
                    }
                  },
                  "geometry": {
                    "type": "Polygon",
                    "coordinates": [
                      [
                        [
                          22.54699073748235,
                          32.79983352812088
                        ],
                        [
                          22.603684522078375,
                          32.799120192094236
                        ],
                        [
                          22.602825352703267,
                          32.75121653041266
                        ],
                        [
                          22.546927206921648,
                          32.75191911861382
                        ],
                        [
                          22.54699073748235,
                          32.79983352812088
                        ]
                      ]
                    ]
                  },
                  "bbox": [
                    22.546927206921648,
                    32.75121653041266,
                    22.603684522078375,
                    32.79983352812088
                  ]
                },
                {
                  "id": "62",
                  "type": "Feature",
                  "properties": {
                    "datetime": "2023-09-13 09:18:09+00:00",
                    "platform": "GE01",
                    "gsd": 0.42,
                    "ard_metadata_version": "0.0.1",
                    "catalog_id": "10500100363D0900",
                    "utm_zone": 34,
                    "quadkey": "120200213130",
                    "view:off_nadir": 6,
                    "view:azimuth": 6.9,
                    "view:incidence_angle": 83.4,
                    "view:sun_azimuth": 147.7,
                    "view:sun_elevation": 57.2,
                    "proj:epsg": 32634,
                    "grid:code": "MXRA-Z34-120200213130",
                    "proj:bbox": "649843.75,3624843.75,655156.25,3630156.25",
                    "tile:data_area": 28.2,
                    "tile:clouds_area": 0.6,
                    "tile:clouds_percent": 2,
                    "visual": "https://maxar-opendata.s3.amazonaws.com/events/Libya-Floods-Sept-2023/ard/34/120200213130/2023-09-13/10500100363D0900-visual.tif",
                    "style": {
                      "color": "black",
                      "fillColor": "black"
                    }
                  },
                  "geometry": {
                    "type": "Polygon",
                    "coordinates": [
                      [
                        [
                          22.60034811597184,
                          32.79916288270382
                        ],
                        [
                          22.599490732206565,
                          32.75125914311197
                        ],
                        [
                          22.6561783135037,
                          32.75052266794987
                        ],
                        [
                          22.65706605051743,
                          32.79842506102891
                        ],
                        [
                          22.60034811597184,
                          32.79916288270382
                        ]
                      ]
                    ]
                  },
                  "bbox": [
                    22.599490732206565,
                    32.75052266794987,
                    22.65706605051743,
                    32.79916288270382
                  ]
                },
                {
                  "id": "63",
                  "type": "Feature",
                  "properties": {
                    "datetime": "2023-09-13 09:18:09+00:00",
                    "platform": "GE01",
                    "gsd": 0.42,
                    "ard_metadata_version": "0.0.1",
                    "catalog_id": "10500100363D0900",
                    "utm_zone": 34,
                    "quadkey": "120200302002",
                    "view:off_nadir": 5.2,
                    "view:azimuth": 51.8,
                    "view:incidence_angle": 84.2,
                    "view:sun_azimuth": 147.7,
                    "view:sun_elevation": 57.2,
                    "proj:epsg": 32634,
                    "grid:code": "MXRA-Z34-120200302002",
                    "proj:bbox": "659843.75,3629843.75,660401.9165039062,3633006.2866210938",
                    "tile:data_area": 1.6,
                    "tile:clouds_area": 0,
                    "tile:clouds_percent": 0,
                    "visual": "https://maxar-opendata.s3.amazonaws.com/events/Libya-Floods-Sept-2023/ard/34/120200302002/2023-09-13/10500100363D0900-visual.tif",
                    "style": {
                      "color": "black",
                      "fillColor": "black"
                    }
                  },
                  "geometry": {
                    "type": "Polygon",
                    "coordinates": [
                      [
                        [
                          22.712740362311912,
                          32.82338023158681
                        ],
                        [
                          22.71293431212096,
                          32.82329500611164
                        ],
                        [
                          22.713014340284058,
                          32.79485363700369
                        ],
                        [
                          22.707055685044633,
                          32.79493501869265
                        ],
                        [
                          22.707599681740174,
                          32.823378916982406
                        ],
                        [
                          22.712740362311912,
                          32.82338023158681
                        ]
                      ]
                    ]
                  },
                  "bbox": [
                    22.707055685044633,
                    32.79485363700369,
                    22.713014340284058,
                    32.82338023158681
                  ]
                },
                {
                  "id": "64",
                  "type": "Feature",
                  "properties": {
                    "datetime": "2023-09-13 09:18:29+00:00",
                    "platform": "GE01",
                    "gsd": 0.42,
                    "ard_metadata_version": "0.0.1",
                    "catalog_id": "10500100363D0A00",
                    "utm_zone": 34,
                    "quadkey": "120200203301",
                    "view:off_nadir": 7.4,
                    "view:azimuth": 135.9,
                    "view:incidence_angle": 81.8,
                    "view:sun_azimuth": 146.4,
                    "view:sun_elevation": 56.8,
                    "proj:epsg": 32634,
                    "grid:code": "MXRA-Z34-120200203301",
                    "proj:bbox": "564843.75,3618051.1474609375,570156.25,3620156.25",
                    "tile:data_area": 11.1,
                    "tile:clouds_area": 0,
                    "tile:clouds_percent": 0,
                    "visual": "https://maxar-opendata.s3.amazonaws.com/events/Libya-Floods-Sept-2023/ard/34/120200203301/2023-09-13/10500100363D0A00-visual.tif",
                    "style": {
                      "color": "black",
                      "fillColor": "black"
                    }
                  },
                  "geometry": {
                    "type": "Polygon",
                    "coordinates": [
                      [
                        [
                          21.69193541681758,
                          32.717273945095265
                        ],
                        [
                          21.691790074350802,
                          32.698442530520786
                        ],
                        [
                          21.70509264850979,
                          32.69840424311937
                        ],
                        [
                          21.74846152441611,
                          32.6979602502059
                        ],
                        [
                          21.748620080588214,
                          32.716948334603885
                        ],
                        [
                          21.69193541681758,
                          32.717273945095265
                        ]
                      ]
                    ]
                  },
                  "bbox": [
                    21.691790074350802,
                    32.6979602502059,
                    21.748620080588214,
                    32.717273945095265
                  ]
                },
                {
                  "id": "65",
                  "type": "Feature",
                  "properties": {
                    "datetime": "2023-09-13 09:18:30+00:00",
                    "platform": "GE01",
                    "gsd": 0.42,
                    "ard_metadata_version": "0.0.1",
                    "catalog_id": "10500100363D0A00",
                    "utm_zone": 34,
                    "quadkey": "120200203300",
                    "view:off_nadir": 7.6,
                    "view:azimuth": 135.4,
                    "view:incidence_angle": 81.5,
                    "view:sun_azimuth": 146.4,
                    "view:sun_elevation": 56.8,
                    "proj:epsg": 32634,
                    "grid:code": "MXRA-Z34-120200203300",
                    "proj:bbox": "562453.9184570312,3618071.5942382812,565156.25,3620156.25",
                    "tile:data_area": 5.6,
                    "tile:clouds_area": 0,
                    "tile:clouds_percent": 0,
                    "visual": "https://maxar-opendata.s3.amazonaws.com/events/Libya-Floods-Sept-2023/ard/34/120200203300/2023-09-13/10500100363D0A00-visual.tif",
                    "style": {
                      "color": "black",
                      "fillColor": "black"
                    }
                  },
                  "geometry": {
                    "type": "Polygon",
                    "coordinates": [
                      [
                        [
                          21.666435493910743,
                          32.7174120658893
                        ],
                        [
                          21.695269833795315,
                          32.71725550076907
                        ],
                        [
                          21.69512400444673,
                          32.698451626754455
                        ],
                        [
                          21.66651109289335,
                          32.6986757566005
                        ],
                        [
                          21.666435493910743,
                          32.7174120658893
                        ]
                      ]
                    ]
                  },
                  "bbox": [
                    21.666435493910743,
                    32.698451626754455,
                    21.695269833795315,
                    32.7174120658893
                  ]
                },
                {
                  "id": "66",
                  "type": "Feature",
                  "properties": {
                    "datetime": "2023-09-13 09:18:30+00:00",
                    "platform": "GE01",
                    "gsd": 0.42,
                    "ard_metadata_version": "0.0.1",
                    "catalog_id": "10500100363D0A00",
                    "utm_zone": 34,
                    "quadkey": "120200203310",
                    "view:off_nadir": 7.1,
                    "view:azimuth": 138.4,
                    "view:incidence_angle": 82.1,
                    "view:sun_azimuth": 146.4,
                    "view:sun_elevation": 56.8,
                    "proj:epsg": 32634,
                    "grid:code": "MXRA-Z34-120200203310",
                    "proj:bbox": "569843.75,3618039.2456054688,575156.25,3620156.25",
                    "tile:data_area": 11.2,
                    "tile:clouds_area": 0,
                    "tile:clouds_percent": 0,
                    "visual": "https://maxar-opendata.s3.amazonaws.com/events/Libya-Floods-Sept-2023/ard/34/120200203310/2023-09-13/10500100363D0A00-visual.tif",
                    "style": {
                      "color": "black",
                      "fillColor": "black"
                    }
                  },
                  "geometry": {
                    "type": "Polygon",
                    "coordinates": [
                      [
                        [
                          21.745285714177957,
                          32.716968197382876
                        ],
                        [
                          21.745127909803507,
                          32.697985603993665
                        ],
                        [
                          21.801798674003525,
                          32.69752327455673
                        ],
                        [
                          21.801969486477127,
                          32.71661847383184
                        ],
                        [
                          21.745285714177957,
                          32.716968197382876
                        ]
                      ]
                    ]
                  },
                  "bbox": [
                    21.745127909803507,
                    32.69752327455673,
                    21.801969486477127,
                    32.716968197382876
                  ]
                },
                {
                  "id": "67",
                  "type": "Feature",
                  "properties": {
                    "datetime": "2023-09-13 09:18:30+00:00",
                    "platform": "GE01",
                    "gsd": 0.42,
                    "ard_metadata_version": "0.0.1",
                    "catalog_id": "10500100363D0A00",
                    "utm_zone": 34,
                    "quadkey": "120200203311",
                    "view:off_nadir": 7,
                    "view:azimuth": 140.9,
                    "view:incidence_angle": 82.3,
                    "view:sun_azimuth": 146.4,
                    "view:sun_elevation": 56.8,
                    "proj:epsg": 32634,
                    "grid:code": "MXRA-Z34-120200203311",
                    "proj:bbox": "574843.75,3618031.6162109375,578133.8500976562,3620156.25",
                    "tile:data_area": 6.9,
                    "tile:clouds_area": 0,
                    "tile:clouds_percent": 0,
                    "visual": "https://maxar-opendata.s3.amazonaws.com/events/Libya-Floods-Sept-2023/ard/34/120200203311/2023-09-13/10500100363D0A00-visual.tif",
                    "style": {
                      "color": "black",
                      "fillColor": "black"
                    }
                  },
                  "geometry": {
                    "type": "Polygon",
                    "coordinates": [
                      [
                        [
                          21.79863517437833,
                          32.716639754987746
                        ],
                        [
                          21.798465047390224,
                          32.697541787539606
                        ],
                        [
                          21.833561484555904,
                          32.69724738952089
                        ],
                        [
                          21.83360945642971,
                          32.71641211980463
                        ],
                        [
                          21.79863517437833,
                          32.716639754987746
                        ]
                      ]
                    ]
                  },
                  "bbox": [
                    21.798465047390224,
                    32.69724738952089,
                    21.83360945642971,
                    32.716639754987746
                  ]
                },
                {
                  "id": "68",
                  "type": "Feature",
                  "properties": {
                    "datetime": "2023-09-13 09:18:31+00:00",
                    "platform": "GE01",
                    "gsd": 0.42,
                    "ard_metadata_version": "0.0.1",
                    "catalog_id": "10500100363D0A00",
                    "utm_zone": 34,
                    "quadkey": "120200203122",
                    "view:off_nadir": 8,
                    "view:azimuth": 138,
                    "view:incidence_angle": 81.2,
                    "view:sun_azimuth": 146.4,
                    "view:sun_elevation": 56.8,
                    "proj:epsg": 32634,
                    "grid:code": "MXRA-Z34-120200203122",
                    "proj:bbox": "562407.8369140625,3619843.75,565156.25,3625156.25",
                    "tile:data_area": 14.4,
                    "tile:clouds_area": 0,
                    "tile:clouds_percent": 0,
                    "visual": "https://maxar-opendata.s3.amazonaws.com/events/Libya-Floods-Sept-2023/ard/34/120200203122/2023-09-13/10500100363D0A00-visual.tif",
                    "style": {
                      "color": "black",
                      "fillColor": "black"
                    }
                  },
                  "geometry": {
                    "type": "Polygon",
                    "coordinates": [
                      [
                        [
                          21.66627934235291,
                          32.76251538910747
                        ],
                        [
                          21.695620155742663,
                          32.762355937507664
                        ],
                        [
                          21.695247964621867,
                          32.7144367125736
                        ],
                        [
                          21.666414531531956,
                          32.714593260850044
                        ],
                        [
                          21.66627934235291,
                          32.76251538910747
                        ]
                      ]
                    ]
                  },
                  "bbox": [
                    21.66627934235291,
                    32.7144367125736,
                    21.695620155742663,
                    32.76251538910747
                  ]
                },
                {
                  "id": "69",
                  "type": "Feature",
                  "properties": {
                    "datetime": "2023-09-13 09:18:31+00:00",
                    "platform": "GE01",
                    "gsd": 0.42,
                    "ard_metadata_version": "0.0.1",
                    "catalog_id": "10500100363D0A00",
                    "utm_zone": 34,
                    "quadkey": "120200203123",
                    "view:off_nadir": 7.8,
                    "view:azimuth": 139.7,
                    "view:incidence_angle": 81.4,
                    "view:sun_azimuth": 146.4,
                    "view:sun_elevation": 56.8,
                    "proj:epsg": 32634,
                    "grid:code": "MXRA-Z34-120200203123",
                    "proj:bbox": "564843.75,3619843.75,570156.25,3625156.25",
                    "tile:data_area": 28.2,
                    "tile:clouds_area": 0,
                    "tile:clouds_percent": 0,
                    "visual": "https://maxar-opendata.s3.amazonaws.com/events/Libya-Floods-Sept-2023/ard/34/120200203123/2023-09-13/10500100363D0A00-visual.tif",
                    "style": {
                      "color": "black",
                      "fillColor": "black"
                    }
                  },
                  "geometry": {
                    "type": "Polygon",
                    "coordinates": [
                      [
                        [
                          21.692284058997565,
                          32.762374413599254
                        ],
                        [
                          21.69191365250519,
                          32.7144551549155
                        ],
                        [
                          21.748596533692474,
                          32.71412957945416
                        ],
                        [
                          21.748997277937928,
                          32.76204824233316
                        ],
                        [
                          21.692284058997565,
                          32.762374413599254
                        ]
                      ]
                    ]
                  },
                  "bbox": [
                    21.69191365250519,
                    32.71412957945416,
                    21.748997277937928,
                    32.762374413599254
                  ]
                },
                {
                  "id": "70",
                  "type": "Feature",
                  "properties": {
                    "datetime": "2023-09-13 09:18:31+00:00",
                    "platform": "GE01",
                    "gsd": 0.42,
                    "ard_metadata_version": "0.0.1",
                    "catalog_id": "10500100363D0A00",
                    "utm_zone": 34,
                    "quadkey": "120200203132",
                    "view:off_nadir": 7.5,
                    "view:azimuth": 142.1,
                    "view:incidence_angle": 81.7,
                    "view:sun_azimuth": 146.4,
                    "view:sun_elevation": 56.8,
                    "proj:epsg": 32634,
                    "grid:code": "MXRA-Z34-120200203132",
                    "proj:bbox": "569843.75,3619843.75,575156.25,3625156.25",
                    "tile:data_area": 28.2,
                    "tile:clouds_area": 0,
                    "tile:clouds_percent": 0,
                    "visual": "https://maxar-opendata.s3.amazonaws.com/events/Libya-Floods-Sept-2023/ard/34/120200203132/2023-09-13/10500100363D0A00-visual.tif",
                    "style": {
                      "color": "black",
                      "fillColor": "black"
                    }
                  },
                  "geometry": {
                    "type": "Polygon",
                    "coordinates": [
                      [
                        [
                          21.74566123186451,
                          32.76206813932023
                        ],
                        [
                          21.745262272136774,
                          32.71414944009627
                        ],
                        [
                          21.801944261967197,
                          32.71379975416915
                        ],
                        [
                          21.80237355749652,
                          32.76171781347056
                        ],
                        [
                          21.74566123186451,
                          32.76206813932023
                        ]
                      ]
                    ]
                  },
                  "bbox": [
                    21.745262272136774,
                    32.71379975416915,
                    21.80237355749652,
                    32.76206813932023
                  ]
                },
                {
                  "id": "71",
                  "type": "Feature",
                  "properties": {
                    "datetime": "2023-09-13 09:18:31+00:00",
                    "platform": "GE01",
                    "gsd": 0.42,
                    "ard_metadata_version": "0.0.1",
                    "catalog_id": "10500100363D0A00",
                    "utm_zone": 34,
                    "quadkey": "120200203133",
                    "view:off_nadir": 7.3,
                    "view:azimuth": 144.1,
                    "view:incidence_angle": 81.9,
                    "view:sun_azimuth": 146.4,
                    "view:sun_elevation": 56.8,
                    "proj:epsg": 32634,
                    "grid:code": "MXRA-Z34-120200203133",
                    "proj:bbox": "574843.75,3619843.75,578122.55859375,3625156.25",
                    "tile:data_area": 17.3,
                    "tile:clouds_area": 0,
                    "tile:clouds_percent": 0,
                    "visual": "https://maxar-opendata.s3.amazonaws.com/events/Libya-Floods-Sept-2023/ard/34/120200203133/2023-09-13/10500100363D0A00-visual.tif",
                    "style": {
                      "color": "black",
                      "fillColor": "black"
                    }
                  },
                  "geometry": {
                    "type": "Polygon",
                    "coordinates": [
                      [
                        [
                          21.799037565846465,
                          32.76173913127703
                        ],
                        [
                          21.79861005471598,
                          32.71382103303561
                        ],
                        [
                          21.833593005097296,
                          32.71359335740702
                        ],
                        [
                          21.833788389840635,
                          32.76151270847344
                        ],
                        [
                          21.799037565846465,
                          32.76173913127703
                        ]
                      ]
                    ]
                  },
                  "bbox": [
                    21.79861005471598,
                    32.71359335740702,
                    21.833788389840635,
                    32.76173913127703
                  ]
                },
                {
                  "id": "72",
                  "type": "Feature",
                  "properties": {
                    "datetime": "2023-09-13 09:18:32+00:00",
                    "platform": "GE01",
                    "gsd": 0.42,
                    "ard_metadata_version": "0.0.1",
                    "catalog_id": "10500100363D0A00",
                    "utm_zone": 34,
                    "quadkey": "120200203102",
                    "view:off_nadir": 9,
                    "view:azimuth": 146,
                    "view:incidence_angle": 80,
                    "view:sun_azimuth": 146.4,
                    "view:sun_elevation": 56.8,
                    "proj:epsg": 32634,
                    "grid:code": "MXRA-Z34-120200203102",
                    "proj:bbox": "562312.6220703125,3629843.75,565156.25,3632038.57421875",
                    "tile:data_area": 6.1,
                    "tile:clouds_area": 0,
                    "tile:clouds_percent": 0,
                    "visual": "https://maxar-opendata.s3.amazonaws.com/events/Libya-Floods-Sept-2023/ard/34/120200203102/2023-09-13/10500100363D0A00-visual.tif",
                    "style": {
                      "color": "black",
                      "fillColor": "black"
                    }
                  },
                  "geometry": {
                    "type": "Polygon",
                    "coordinates": [
                      [
                        [
                          21.665725258115284,
                          32.82459980895013
                        ],
                        [
                          21.665861218293866,
                          32.80480090949425
                        ],
                        [
                          21.695949293304658,
                          32.8046372986771
                        ],
                        [
                          21.696101945668275,
                          32.82421710461126
                        ],
                        [
                          21.665725258115284,
                          32.82459980895013
                        ]
                      ]
                    ]
                  },
                  "bbox": [
                    21.665725258115284,
                    32.8046372986771,
                    21.696101945668275,
                    32.82459980895013
                  ]
                },
                {
                  "id": "73",
                  "type": "Feature",
                  "properties": {
                    "datetime": "2023-09-13 09:18:32+00:00",
                    "platform": "GE01",
                    "gsd": 0.42,
                    "ard_metadata_version": "0.0.1",
                    "catalog_id": "10500100363D0A00",
                    "utm_zone": 34,
                    "quadkey": "120200203103",
                    "view:off_nadir": 9,
                    "view:azimuth": 147.9,
                    "view:incidence_angle": 80,
                    "view:sun_azimuth": 146.4,
                    "view:sun_elevation": 56.8,
                    "proj:epsg": 32634,
                    "grid:code": "MXRA-Z34-120200203103",
                    "proj:bbox": "564843.75,3629843.75,570156.25,3632016.6015625",
                    "tile:data_area": 11.4,
                    "tile:clouds_area": 0.3,
                    "tile:clouds_percent": 2,
                    "visual": "https://maxar-opendata.s3.amazonaws.com/events/Libya-Floods-Sept-2023/ard/34/120200203103/2023-09-13/10500100363D0A00-visual.tif",
                    "style": {
                      "color": "black",
                      "fillColor": "black"
                    }
                  },
                  "geometry": {
                    "type": "Polygon",
                    "coordinates": [
                      [
                        [
                          21.69276368835699,
                          32.824254893061024
                        ],
                        [
                          21.692611618370183,
                          32.80465580457728
                        ],
                        [
                          21.749351665706573,
                          32.8043291070814
                        ],
                        [
                          21.749513092945723,
                          32.82355909738852
                        ],
                        [
                          21.69276368835699,
                          32.824254893061024
                        ]
                      ]
                    ]
                  },
                  "bbox": [
                    21.692611618370183,
                    32.8043291070814,
                    21.749513092945723,
                    32.824254893061024
                  ]
                },
                {
                  "id": "74",
                  "type": "Feature",
                  "properties": {
                    "datetime": "2023-09-13 09:18:32+00:00",
                    "platform": "GE01",
                    "gsd": 0.42,
                    "ard_metadata_version": "0.0.1",
                    "catalog_id": "10500100363D0A00",
                    "utm_zone": 34,
                    "quadkey": "120200203112",
                    "view:off_nadir": 8.8,
                    "view:azimuth": 150.3,
                    "view:incidence_angle": 80.3,
                    "view:sun_azimuth": 146.4,
                    "view:sun_elevation": 56.8,
                    "proj:epsg": 32634,
                    "grid:code": "MXRA-Z34-120200203112",
                    "proj:bbox": "569843.75,3629843.75,575156.25,3631976.9287109375",
                    "tile:data_area": 11.2,
                    "tile:clouds_area": 0,
                    "tile:clouds_percent": 0,
                    "visual": "https://maxar-opendata.s3.amazonaws.com/events/Libya-Floods-Sept-2023/ard/34/120200203112/2023-09-13/10500100363D0A00-visual.tif",
                    "style": {
                      "color": "black",
                      "fillColor": "black"
                    }
                  },
                  "geometry": {
                    "type": "Polygon",
                    "coordinates": [
                      [
                        [
                          21.74650085224956,
                          32.82358810795882
                        ],
                        [
                          21.802923001659476,
                          32.8228810642208
                        ],
                        [
                          21.802753193842097,
                          32.803998145123884
                        ],
                        [
                          21.746014041541777,
                          32.80434903616925
                        ],
                        [
                          21.746174818990298,
                          32.82358729901994
                        ],
                        [
                          21.74650085224956,
                          32.82358810795882
                        ]
                      ]
                    ]
                  },
                  "bbox": [
                    21.746014041541777,
                    32.803998145123884,
                    21.802923001659476,
                    32.82358810795882
                  ]
                },
                {
                  "id": "75",
                  "type": "Feature",
                  "properties": {
                    "datetime": "2023-09-13 09:18:32+00:00",
                    "platform": "GE01",
                    "gsd": 0.42,
                    "ard_metadata_version": "0.0.1",
                    "catalog_id": "10500100363D0A00",
                    "utm_zone": 34,
                    "quadkey": "120200203113",
                    "view:off_nadir": 8.5,
                    "view:azimuth": 151.4,
                    "view:incidence_angle": 80.5,
                    "view:sun_azimuth": 146.4,
                    "view:sun_elevation": 56.8,
                    "proj:epsg": 32634,
                    "grid:code": "MXRA-Z34-120200203113",
                    "proj:bbox": "574843.75,3629843.75,578078.3081054688,3631938.7817382812",
                    "tile:data_area": 6.7,
                    "tile:clouds_area": 0,
                    "tile:clouds_percent": 0,
                    "visual": "https://maxar-opendata.s3.amazonaws.com/events/Libya-Floods-Sept-2023/ard/34/120200203113/2023-09-13/10500100363D0A00-visual.tif",
                    "style": {
                      "color": "black",
                      "fillColor": "black"
                    }
                  },
                  "geometry": {
                    "type": "Polygon",
                    "coordinates": [
                      [
                        [
                          21.799584849514737,
                          32.822916194841405
                        ],
                        [
                          21.799415624205924,
                          32.80401949732315
                        ],
                        [
                          21.833961252608646,
                          32.80379418551921
                        ],
                        [
                          21.83393973946408,
                          32.81021652893114
                        ],
                        [
                          21.83402752973739,
                          32.81821822214874
                        ],
                        [
                          21.833952707978803,
                          32.82242218358569
                        ],
                        [
                          21.799584849514737,
                          32.822916194841405
                        ]
                      ]
                    ]
                  },
                  "bbox": [
                    21.799415624205924,
                    32.80379418551921,
                    21.83402752973739,
                    32.822916194841405
                  ]
                },
                {
                  "id": "76",
                  "type": "Feature",
                  "properties": {
                    "datetime": "2023-09-13 09:18:32+00:00",
                    "platform": "GE01",
                    "gsd": 0.42,
                    "ard_metadata_version": "0.0.1",
                    "catalog_id": "10500100363D0A00",
                    "utm_zone": 34,
                    "quadkey": "120200203120",
                    "view:off_nadir": 8.7,
                    "view:azimuth": 143.5,
                    "view:incidence_angle": 80.4,
                    "view:sun_azimuth": 146.4,
                    "view:sun_elevation": 56.8,
                    "proj:epsg": 32634,
                    "grid:code": "MXRA-Z34-120200203120",
                    "proj:bbox": "562335.5102539062,3624843.75,565156.25,3630156.25",
                    "tile:data_area": 14.7,
                    "tile:clouds_area": 0.1,
                    "tile:clouds_percent": 0,
                    "visual": "https://maxar-opendata.s3.amazonaws.com/events/Libya-Floods-Sept-2023/ard/34/120200203120/2023-09-13/10500100363D0A00-visual.tif",
                    "style": {
                      "color": "black",
                      "fillColor": "black"
                    }
                  },
                  "geometry": {
                    "type": "Polygon",
                    "coordinates": [
                      [
                        [
                          21.66584312084842,
                          32.807619882221786
                        ],
                        [
                          21.695971260297846,
                          32.80745604582028
                        ],
                        [
                          21.695598237709714,
                          32.75953716983088
                        ],
                        [
                          21.666290926923633,
                          32.75969643106678
                        ],
                        [
                          21.66584312084842,
                          32.807619882221786
                        ]
                      ]
                    ]
                  },
                  "bbox": [
                    21.66584312084842,
                    32.75953716983088,
                    21.695971260297846,
                    32.807619882221786
                  ]
                },
                {
                  "id": "77",
                  "type": "Feature",
                  "properties": {
                    "datetime": "2023-09-13 09:18:32+00:00",
                    "platform": "GE01",
                    "gsd": 0.42,
                    "ard_metadata_version": "0.0.1",
                    "catalog_id": "10500100363D0A00",
                    "utm_zone": 34,
                    "quadkey": "120200203121",
                    "view:off_nadir": 8.5,
                    "view:azimuth": 145.1,
                    "view:incidence_angle": 80.5,
                    "view:sun_azimuth": 146.4,
                    "view:sun_elevation": 56.8,
                    "proj:epsg": 32634,
                    "grid:code": "MXRA-Z34-120200203121",
                    "proj:bbox": "564843.75,3624843.75,570156.25,3630156.25",
                    "tile:data_area": 28.2,
                    "tile:clouds_area": 0.2,
                    "tile:clouds_percent": 0,
                    "visual": "https://maxar-opendata.s3.amazonaws.com/events/Libya-Floods-Sept-2023/ard/34/120200203121/2023-09-13/10500100363D0A00-visual.tif",
                    "style": {
                      "color": "black",
                      "fillColor": "black"
                    }
                  },
                  "geometry": {
                    "type": "Polygon",
                    "coordinates": [
                      [
                        [
                          21.692633480033336,
                          32.80747455370867
                        ],
                        [
                          21.692262246059922,
                          32.759555643936224
                        ],
                        [
                          21.74897367843493,
                          32.759229507734766
                        ],
                        [
                          21.749375317925296,
                          32.807147821113446
                        ],
                        [
                          21.692633480033336,
                          32.80747455370867
                        ]
                      ]
                    ]
                  },
                  "bbox": [
                    21.692262246059922,
                    32.759229507734766,
                    21.749375317925296,
                    32.80747455370867
                  ]
                },
                {
                  "id": "78",
                  "type": "Feature",
                  "properties": {
                    "datetime": "2023-09-13 09:18:32+00:00",
                    "platform": "GE01",
                    "gsd": 0.42,
                    "ard_metadata_version": "0.0.1",
                    "catalog_id": "10500100363D0A00",
                    "utm_zone": 34,
                    "quadkey": "120200203130",
                    "view:off_nadir": 8.3,
                    "view:azimuth": 147.5,
                    "view:incidence_angle": 80.8,
                    "view:sun_azimuth": 146.4,
                    "view:sun_elevation": 56.8,
                    "proj:epsg": 32634,
                    "grid:code": "MXRA-Z34-120200203130",
                    "proj:bbox": "569843.75,3624843.75,575156.25,3630156.25",
                    "tile:data_area": 28.2,
                    "tile:clouds_area": 0.1,
                    "tile:clouds_percent": 0,
                    "visual": "https://maxar-opendata.s3.amazonaws.com/events/Libya-Floods-Sept-2023/ard/34/120200203130/2023-09-13/10500100363D0A00-visual.tif",
                    "style": {
                      "color": "black",
                      "fillColor": "black"
                    }
                  },
                  "geometry": {
                    "type": "Polygon",
                    "coordinates": [
                      [
                        [
                          21.746037588437012,
                          32.8071677523424
                        ],
                        [
                          21.74563773745029,
                          32.759249402582846
                        ],
                        [
                          21.802348276631932,
                          32.75889911439427
                        ],
                        [
                          21.80277853117753,
                          32.80681682359869
                        ],
                        [
                          21.746037588437012,
                          32.8071677523424
                        ]
                      ]
                    ]
                  },
                  "bbox": [
                    21.74563773745029,
                    32.75889911439427,
                    21.80277853117753,
                    32.8071677523424
                  ]
                },
                {
                  "id": "79",
                  "type": "Feature",
                  "properties": {
                    "datetime": "2023-09-13 09:18:32+00:00",
                    "platform": "GE01",
                    "gsd": 0.42,
                    "ard_metadata_version": "0.0.1",
                    "catalog_id": "10500100363D0A00",
                    "utm_zone": 34,
                    "quadkey": "120200203131",
                    "view:off_nadir": 8.1,
                    "view:azimuth": 149.4,
                    "view:incidence_angle": 81,
                    "view:sun_azimuth": 146.4,
                    "view:sun_elevation": 56.8,
                    "proj:epsg": 32634,
                    "grid:code": "MXRA-Z34-120200203131",
                    "proj:bbox": "574843.75,3624843.75,578100.2807617188,3630156.25",
                    "tile:data_area": 17.2,
                    "tile:clouds_area": 0,
                    "tile:clouds_percent": 0,
                    "visual": "https://maxar-opendata.s3.amazonaws.com/events/Libya-Floods-Sept-2023/ard/34/120200203131/2023-09-13/10500100363D0A00-visual.tif",
                    "style": {
                      "color": "black",
                      "fillColor": "black"
                    }
                  },
                  "geometry": {
                    "type": "Polygon",
                    "coordinates": [
                      [
                        [
                          21.799440856224898,
                          32.80683817809194
                        ],
                        [
                          21.799012390063652,
                          32.75892042990901
                        ],
                        [
                          21.833775150112086,
                          32.75869394474255
                        ],
                        [
                          21.833935424074625,
                          32.806613189425384
                        ],
                        [
                          21.799440856224898,
                          32.80683817809194
                        ]
                      ]
                    ]
                  },
                  "bbox": [
                    21.799012390063652,
                    32.75869394474255,
                    21.833935424074625,
                    32.80683817809194
                  ]
                },
                {
                  "id": "80",
                  "type": "Feature",
                  "properties": {
                    "datetime": "2023-09-14 09:18:08+00:00",
                    "platform": "WV02",
                    "gsd": 0.49,
                    "ard_metadata_version": "0.0.1",
                    "catalog_id": "10300100ED0AD100",
                    "utm_zone": 34,
                    "quadkey": "120200210222",
                    "view:off_nadir": 15,
                    "view:azimuth": 145.7,
                    "view:incidence_angle": 73.1,
                    "view:sun_azimuth": 147.2,
                    "view:sun_elevation": 56.5,
                    "proj:epsg": 32634,
                    "grid:code": "MXRA-Z34-120200210222",
                    "proj:bbox": "580363.0975596167,3639843.75,585156.25,3641455.3540173345",
                    "tile:data_area": 7.6,
                    "tile:clouds_area": 0,
                    "tile:clouds_percent": 0,
                    "visual": "https://maxar-opendata.s3.amazonaws.com/events/Libya-Floods-Sept-2023/ard/34/120200210222/2023-09-14/10300100ED0AD100-visual.tif",
                    "style": {
                      "color": "black",
                      "fillColor": "black"
                    }
                  },
                  "geometry": {
                    "type": "Polygon",
                    "coordinates": [
                      [
                        [
                          21.91047409563659,
                          32.893462474403655
                        ],
                        [
                          21.85923189152689,
                          32.89382482855539
                        ],
                        [
                          21.859434,
                          32.908042
                        ],
                        [
                          21.910622836871894,
                          32.90798506123782
                        ],
                        [
                          21.91047409563659,
                          32.893462474403655
                        ]
                      ]
                    ]
                  },
                  "bbox": [
                    21.85923189152689,
                    32.893462474403655,
                    21.910622836871894,
                    32.908042
                  ]
                },
                {
                  "id": "81",
                  "type": "Feature",
                  "properties": {
                    "datetime": "2023-09-14 09:18:08+00:00",
                    "platform": "WV02",
                    "gsd": 0.49,
                    "ard_metadata_version": "0.0.1",
                    "catalog_id": "10300100ED0AD100",
                    "utm_zone": 34,
                    "quadkey": "120200210223",
                    "view:off_nadir": 14.8,
                    "view:azimuth": 146.8,
                    "view:incidence_angle": 73.3,
                    "view:sun_azimuth": 147.2,
                    "view:sun_elevation": 56.5,
                    "proj:epsg": 32634,
                    "grid:code": "MXRA-Z34-120200210223",
                    "proj:bbox": "584843.75,3639843.75,590156.25,3641492.238707915",
                    "tile:data_area": 8.6,
                    "tile:clouds_area": 0,
                    "tile:clouds_percent": 0,
                    "visual": "https://maxar-opendata.s3.amazonaws.com/events/Libya-Floods-Sept-2023/ard/34/120200210223/2023-09-14/10300100ED0AD100-visual.tif",
                    "style": {
                      "color": "black",
                      "fillColor": "black"
                    }
                  },
                  "geometry": {
                    "type": "Polygon",
                    "coordinates": [
                      [
                        [
                          21.963926758605634,
                          32.893061835365245
                        ],
                        [
                          21.907133269411673,
                          32.893486755845764
                        ],
                        [
                          21.907281255062593,
                          32.90798877817189
                        ],
                        [
                          21.96408793081873,
                          32.90792559053179
                        ],
                        [
                          21.963926758605634,
                          32.893061835365245
                        ]
                      ]
                    ]
                  },
                  "bbox": [
                    21.907133269411673,
                    32.893061835365245,
                    21.96408793081873,
                    32.90798877817189
                  ]
                },
                {
                  "id": "82",
                  "type": "Feature",
                  "properties": {
                    "datetime": "2023-09-14 09:18:08+00:00",
                    "platform": "WV02",
                    "gsd": 0.49,
                    "ard_metadata_version": "0.0.1",
                    "catalog_id": "10300100ED0AD100",
                    "utm_zone": 34,
                    "quadkey": "120200210232",
                    "view:off_nadir": 14.6,
                    "view:azimuth": 148.1,
                    "view:incidence_angle": 73.6,
                    "view:sun_azimuth": 147.2,
                    "view:sun_elevation": 56.5,
                    "proj:epsg": 32634,
                    "grid:code": "MXRA-Z34-120200210232",
                    "proj:bbox": "589843.75,3639843.75,595156.25,3641771.3499524347",
                    "tile:data_area": 9.3,
                    "tile:clouds_area": 0,
                    "tile:clouds_percent": 0,
                    "visual": "https://maxar-opendata.s3.amazonaws.com/events/Libya-Floods-Sept-2023/ard/34/120200210232/2023-09-14/10300100ED0AD100-visual.tif",
                    "style": {
                      "color": "black",
                      "fillColor": "black"
                    }
                  },
                  "geometry": {
                    "type": "Polygon",
                    "coordinates": [
                      [
                        [
                          22.017378332299142,
                          32.89263835322725
                        ],
                        [
                          21.960585998456096,
                          32.89308754455295
                        ],
                        [
                          21.960746374491467,
                          32.90792930743752
                        ],
                        [
                          21.974508,
                          32.907914
                        ],
                        [
                          22.01757725321952,
                          32.91001967225506
                        ],
                        [
                          22.017378332299142,
                          32.89263835322725
                        ]
                      ]
                    ]
                  },
                  "bbox": [
                    21.960585998456096,
                    32.89263835322725,
                    22.01757725321952,
                    32.91001967225506
                  ]
                },
                {
                  "id": "83",
                  "type": "Feature",
                  "properties": {
                    "datetime": "2023-09-14 09:18:08+00:00",
                    "platform": "WV02",
                    "gsd": 0.49,
                    "ard_metadata_version": "0.0.1",
                    "catalog_id": "10300100ED0AD100",
                    "utm_zone": 34,
                    "quadkey": "120200210233",
                    "view:off_nadir": 14.5,
                    "view:azimuth": 148.9,
                    "view:incidence_angle": 73.7,
                    "view:sun_azimuth": 147.2,
                    "view:sun_elevation": 56.5,
                    "proj:epsg": 32634,
                    "grid:code": "MXRA-Z34-120200210233",
                    "proj:bbox": "594843.75,3639843.75,597275.7110545642,3641912.795417908",
                    "tile:data_area": 4.8,
                    "tile:clouds_area": 0.1,
                    "tile:clouds_percent": 2,
                    "visual": "https://maxar-opendata.s3.amazonaws.com/events/Libya-Floods-Sept-2023/ard/34/120200210233/2023-09-14/10300100ED0AD100-visual.tif",
                    "style": {
                      "color": "black",
                      "fillColor": "black"
                    }
                  },
                  "geometry": {
                    "type": "Polygon",
                    "coordinates": [
                      [
                        [
                          22.01403764199779,
                          32.89266549006204
                        ],
                        [
                          22.014233735609775,
                          32.90985620640091
                        ],
                        [
                          22.039981,
                          32.911115
                        ],
                        [
                          22.040035772864016,
                          32.89245177307301
                        ],
                        [
                          22.01403764199779,
                          32.89266549006204
                        ]
                      ]
                    ]
                  },
                  "bbox": [
                    22.01403764199779,
                    32.89245177307301,
                    22.040035772864016,
                    32.911115
                  ]
                },
                {
                  "id": "84",
                  "type": "Feature",
                  "properties": {
                    "datetime": "2023-09-14 09:18:08+00:00",
                    "platform": "WV02",
                    "gsd": 0.49,
                    "ard_metadata_version": "0.0.1",
                    "catalog_id": "10300100ED0AD100",
                    "utm_zone": 34,
                    "quadkey": "120200212000",
                    "view:off_nadir": 14.6,
                    "view:azimuth": 144.4,
                    "view:incidence_angle": 73.6,
                    "view:sun_azimuth": 147.2,
                    "view:sun_elevation": 56.5,
                    "proj:epsg": 32634,
                    "grid:code": "MXRA-Z34-120200212000",
                    "proj:bbox": "580350.8441978507,3636512.5702797407,585156.25,3640156.25",
                    "tile:data_area": 17.1,
                    "tile:clouds_area": 0,
                    "tile:clouds_percent": 0,
                    "visual": "https://maxar-opendata.s3.amazonaws.com/events/Libya-Floods-Sept-2023/ard/34/120200212000/2023-09-14/10300100ED0AD100-visual.tif",
                    "style": {
                      "color": "black",
                      "fillColor": "black"
                    }
                  },
                  "geometry": {
                    "type": "Polygon",
                    "coordinates": [
                      [
                        [
                          21.910502931204384,
                          32.89628103302248
                        ],
                        [
                          21.91016671512039,
                          32.86339046507093
                        ],
                        [
                          21.858824,
                          32.865132
                        ],
                        [
                          21.85927195804664,
                          32.89664327833018
                        ],
                        [
                          21.910502931204384,
                          32.89628103302248
                        ]
                      ]
                    ]
                  },
                  "bbox": [
                    21.858824,
                    32.86339046507093,
                    21.910502931204384,
                    32.89664327833018
                  ]
                },
                {
                  "id": "85",
                  "type": "Feature",
                  "properties": {
                    "datetime": "2023-09-14 09:18:08+00:00",
                    "platform": "WV02",
                    "gsd": 0.49,
                    "ard_metadata_version": "0.0.1",
                    "catalog_id": "10300100ED0AD100",
                    "utm_zone": 34,
                    "quadkey": "120200212001",
                    "view:off_nadir": 14.4,
                    "view:azimuth": 145.6,
                    "view:incidence_angle": 73.8,
                    "view:sun_azimuth": 147.2,
                    "view:sun_elevation": 56.5,
                    "proj:epsg": 32634,
                    "grid:code": "MXRA-Z34-120200212001",
                    "proj:bbox": "584843.75,3636356.6378719467,590156.25,3640156.25",
                    "tile:data_area": 19.7,
                    "tile:clouds_area": 0.5,
                    "tile:clouds_percent": 2,
                    "visual": "https://maxar-opendata.s3.amazonaws.com/events/Libya-Floods-Sept-2023/ard/34/120200212001/2023-09-14/10300100ED0AD100-visual.tif",
                    "style": {
                      "color": "black",
                      "fillColor": "black"
                    }
                  },
                  "geometry": {
                    "type": "Polygon",
                    "coordinates": [
                      [
                        [
                          21.907161999207805,
                          32.89630531706946
                        ],
                        [
                          21.963957286448142,
                          32.8958803510045
                        ],
                        [
                          21.9635860720756,
                          32.86157849085398
                        ],
                        [
                          21.90682792213164,
                          32.8635037162809
                        ],
                        [
                          21.907161999207805,
                          32.89630531706946
                        ]
                      ]
                    ]
                  },
                  "bbox": [
                    21.90682792213164,
                    32.86157849085398,
                    21.963957286448142,
                    32.89630531706946
                  ]
                },
                {
                  "id": "86",
                  "type": "Feature",
                  "properties": {
                    "datetime": "2023-09-14 09:18:08+00:00",
                    "platform": "WV02",
                    "gsd": 0.49,
                    "ard_metadata_version": "0.0.1",
                    "catalog_id": "10300100ED0AD100",
                    "utm_zone": 34,
                    "quadkey": "120200212010",
                    "view:off_nadir": 14.3,
                    "view:azimuth": 146.8,
                    "view:incidence_angle": 74,
                    "view:sun_azimuth": 147.2,
                    "view:sun_elevation": 56.5,
                    "proj:epsg": 32634,
                    "grid:code": "MXRA-Z34-120200212010",
                    "proj:bbox": "589843.75,3636200.705464153,595156.25,3640156.25",
                    "tile:data_area": 20.5,
                    "tile:clouds_area": 0.5,
                    "tile:clouds_percent": 2,
                    "visual": "https://maxar-opendata.s3.amazonaws.com/events/Libya-Floods-Sept-2023/ard/34/120200212010/2023-09-14/10300100ED0AD100-visual.tif",
                    "style": {
                      "color": "black",
                      "fillColor": "black"
                    }
                  },
                  "geometry": {
                    "type": "Polygon",
                    "coordinates": [
                      [
                        [
                          21.960616420535477,
                          32.8959060629502
                        ],
                        [
                          22.017410552275592,
                          32.8954568234368
                        ],
                        [
                          22.017002910898864,
                          32.85976660205158
                        ],
                        [
                          21.96024743634673,
                          32.86169173672973
                        ],
                        [
                          21.960616420535477,
                          32.8959060629502
                        ]
                      ]
                    ]
                  },
                  "bbox": [
                    21.96024743634673,
                    32.85976660205158,
                    22.017410552275592,
                    32.8959060629502
                  ]
                },
                {
                  "id": "87",
                  "type": "Feature",
                  "properties": {
                    "datetime": "2023-09-14 09:18:08+00:00",
                    "platform": "WV02",
                    "gsd": 0.49,
                    "ard_metadata_version": "0.0.1",
                    "catalog_id": "10300100ED0AD100",
                    "utm_zone": 34,
                    "quadkey": "120200212011",
                    "view:off_nadir": 14.1,
                    "view:azimuth": 147.6,
                    "view:incidence_angle": 74.1,
                    "view:sun_azimuth": 147.2,
                    "view:sun_elevation": 56.5,
                    "proj:epsg": 32634,
                    "grid:code": "MXRA-Z34-120200212011",
                    "proj:bbox": "594843.75,3636133.179691622,597321.4757374281,3640156.25",
                    "tile:data_area": 9.7,
                    "tile:clouds_area": 0.1,
                    "tile:clouds_percent": 1,
                    "visual": "https://maxar-opendata.s3.amazonaws.com/events/Libya-Floods-Sept-2023/ard/34/120200212011/2023-09-14/10300100ED0AD100-visual.tif",
                    "style": {
                      "color": "black",
                      "fillColor": "black"
                    }
                  },
                  "geometry": {
                    "type": "Polygon",
                    "coordinates": [
                      [
                        [
                          22.01406975622014,
                          32.89548396318275
                        ],
                        [
                          22.040027500248417,
                          32.89527057221755
                        ],
                        [
                          22.040134,
                          32.858982
                        ],
                        [
                          22.013664433208234,
                          32.859879842566706
                        ],
                        [
                          22.01406975622014,
                          32.89548396318275
                        ]
                      ]
                    ]
                  },
                  "bbox": [
                    22.013664433208234,
                    32.858982,
                    22.040134,
                    32.89548396318275
                  ]
                }
              ],
              "bbox": [
                19.524212,
                30.401686,
                22.726488018445597,
                32.911115
              ]
            },
            "hover_style": {
              "weight": 4,
              "fillOpacity": 0
            },
            "layers": [],
            "name": "Footprints",
            "options": [],
            "pane": "",
            "point_style": {},
            "popup": null,
            "popup_max_height": null,
            "popup_max_width": 300,
            "popup_min_width": 50,
            "style": {
              "color": "#3388ff",
              "weight": 2,
              "opacity": 1,
              "fill": true,
              "fillColor": "#3388ff",
              "fillOpacity": 0.2
            },
            "subitems": [],
            "visible": true
          }
        },
        "611e889e90b44fd096fa0956947878a7": {
          "model_module": "@jupyter-widgets/base",
          "model_name": "LayoutModel",
          "model_module_version": "1.2.0",
          "state": {
            "_model_module": "@jupyter-widgets/base",
            "_model_module_version": "1.2.0",
            "_model_name": "LayoutModel",
            "_view_count": null,
            "_view_module": "@jupyter-widgets/base",
            "_view_module_version": "1.2.0",
            "_view_name": "LayoutView",
            "align_content": null,
            "align_items": null,
            "align_self": null,
            "border": null,
            "bottom": null,
            "display": null,
            "flex": null,
            "flex_flow": null,
            "grid_area": null,
            "grid_auto_columns": null,
            "grid_auto_flow": null,
            "grid_auto_rows": null,
            "grid_column": null,
            "grid_gap": null,
            "grid_row": null,
            "grid_template_areas": null,
            "grid_template_columns": null,
            "grid_template_rows": null,
            "height": "500px",
            "justify_content": null,
            "justify_items": null,
            "left": null,
            "margin": null,
            "max_height": null,
            "max_width": null,
            "min_height": null,
            "min_width": null,
            "object_fit": null,
            "object_position": null,
            "order": null,
            "overflow": null,
            "overflow_x": null,
            "overflow_y": null,
            "padding": null,
            "right": null,
            "top": null,
            "visibility": null,
            "width": null
          }
        },
        "b2146dc0f6bd45ceb38ce41420efb710": {
          "model_module": "jupyter-leaflet",
          "model_name": "LeafletMapStyleModel",
          "model_module_version": "^0.17",
          "state": {
            "_model_module": "jupyter-leaflet",
            "_model_module_version": "^0.17",
            "_model_name": "LeafletMapStyleModel",
            "_view_count": null,
            "_view_module": "@jupyter-widgets/base",
            "_view_module_version": "1.2.0",
            "_view_name": "StyleView",
            "cursor": "grab"
          }
        },
        "adaf5cf58561429c9157043ac9444596": {
          "model_module": "@jupyter-widgets/controls",
          "model_name": "VBoxModel",
          "model_module_version": "1.5.0",
          "state": {
            "_dom_classes": [],
            "_model_module": "@jupyter-widgets/controls",
            "_model_module_version": "1.5.0",
            "_model_name": "VBoxModel",
            "_view_count": null,
            "_view_module": "@jupyter-widgets/controls",
            "_view_module_version": "1.5.0",
            "_view_name": "VBoxView",
            "box_style": "",
            "children": [
              "IPY_MODEL_d538edb15ce84e03a6e428a0793fc69c"
            ],
            "layout": "IPY_MODEL_e9d9d9f169e841e19a500db6af6865e3"
          }
        },
        "3288d00fdb2647df82f199e451169de4": {
          "model_module": "@jupyter-widgets/controls",
          "model_name": "VBoxModel",
          "model_module_version": "1.5.0",
          "state": {
            "_dom_classes": [],
            "_model_module": "@jupyter-widgets/controls",
            "_model_module_version": "1.5.0",
            "_model_name": "VBoxModel",
            "_view_count": null,
            "_view_module": "@jupyter-widgets/controls",
            "_view_module_version": "1.5.0",
            "_view_name": "VBoxView",
            "box_style": "",
            "children": [
              "IPY_MODEL_b26616d9729542078b7e05f4c5081600",
              "IPY_MODEL_c5d68a47b72941459bfd3036022dc26a"
            ],
            "layout": "IPY_MODEL_dec64c6c6efa4b8086414b154c6f0f7f"
          }
        },
        "d538edb15ce84e03a6e428a0793fc69c": {
          "model_module": "@jupyter-widgets/controls",
          "model_name": "ToggleButtonModel",
          "model_module_version": "1.5.0",
          "state": {
            "_dom_classes": [],
            "_model_module": "@jupyter-widgets/controls",
            "_model_module_version": "1.5.0",
            "_model_name": "ToggleButtonModel",
            "_view_count": null,
            "_view_module": "@jupyter-widgets/controls",
            "_view_module_version": "1.5.0",
            "_view_name": "ToggleButtonView",
            "button_style": "",
            "description": "",
            "description_tooltip": null,
            "disabled": false,
            "icon": "wrench",
            "layout": "IPY_MODEL_06556a236a5243878e2eac00d48c5ea7",
            "style": "IPY_MODEL_86e87e71ec4c4dd09a07c35088bbd680",
            "tooltip": "Toolbar",
            "value": false
          }
        },
        "e9d9d9f169e841e19a500db6af6865e3": {
          "model_module": "@jupyter-widgets/base",
          "model_name": "LayoutModel",
          "model_module_version": "1.2.0",
          "state": {
            "_model_module": "@jupyter-widgets/base",
            "_model_module_version": "1.2.0",
            "_model_name": "LayoutModel",
            "_view_count": null,
            "_view_module": "@jupyter-widgets/base",
            "_view_module_version": "1.2.0",
            "_view_name": "LayoutView",
            "align_content": null,
            "align_items": null,
            "align_self": null,
            "border": null,
            "bottom": null,
            "display": null,
            "flex": null,
            "flex_flow": null,
            "grid_area": null,
            "grid_auto_columns": null,
            "grid_auto_flow": null,
            "grid_auto_rows": null,
            "grid_column": null,
            "grid_gap": null,
            "grid_row": null,
            "grid_template_areas": null,
            "grid_template_columns": null,
            "grid_template_rows": null,
            "height": null,
            "justify_content": null,
            "justify_items": null,
            "left": null,
            "margin": null,
            "max_height": null,
            "max_width": null,
            "min_height": null,
            "min_width": null,
            "object_fit": null,
            "object_position": null,
            "order": null,
            "overflow": null,
            "overflow_x": null,
            "overflow_y": null,
            "padding": null,
            "right": null,
            "top": null,
            "visibility": null,
            "width": null
          }
        },
        "b26616d9729542078b7e05f4c5081600": {
          "model_module": "@jupyter-widgets/controls",
          "model_name": "HBoxModel",
          "model_module_version": "1.5.0",
          "state": {
            "_dom_classes": [],
            "_model_module": "@jupyter-widgets/controls",
            "_model_module_version": "1.5.0",
            "_model_name": "HBoxModel",
            "_view_count": null,
            "_view_module": "@jupyter-widgets/controls",
            "_view_module_version": "1.5.0",
            "_view_name": "HBoxView",
            "box_style": "",
            "children": [
              "IPY_MODEL_d043cc936d844a7c8e6297347dcc1105",
              "IPY_MODEL_33df7ee33a234a898578936870eb613a"
            ],
            "layout": "IPY_MODEL_bb24179997be4d59b75a46fba08f47ac"
          }
        },
        "c5d68a47b72941459bfd3036022dc26a": {
          "model_module": "@jupyter-widgets/controls",
          "model_name": "HTMLModel",
          "model_module_version": "1.5.0",
          "state": {
            "_dom_classes": [],
            "_model_module": "@jupyter-widgets/controls",
            "_model_module_version": "1.5.0",
            "_model_name": "HTMLModel",
            "_view_count": null,
            "_view_module": "@jupyter-widgets/controls",
            "_view_module_version": "1.5.0",
            "_view_name": "HTMLView",
            "description": "",
            "description_tooltip": null,
            "layout": "IPY_MODEL_0cb876883b9d434987b45d6b1e7c463a",
            "placeholder": "​",
            "style": "IPY_MODEL_95228a8ab5fc4c9b999a798d2515fe3f",
            "value": "<b>datetime: </b>2023-07-01 09:07:44+00:00<br><b>platform: </b>GE01<br><b>gsd: </b>0.46<br><b>ard_metadata_version: </b>0.0.1<br><b>catalog_id: </b>105005005ADE7C00<br><b>utm_zone: </b>34<br><b>quadkey: </b>120200213122<br><b>view:off_nadir: </b>21.9<br><b>view:azimuth: </b>89.9<br><b>view:incidence_angle: </b>65.6<br><b>view:sun_azimuth: </b>111.2<br><b>view:sun_elevation: </b>68.8<br><b>proj:epsg: </b>32634<br><b>grid:code: </b>MXRA-Z34-120200213122<br><b>proj:bbox: </b>641502.0751953125,3619843.75,645156.25,3625156.25<br><b>tile:data_area: </b>19.2<br><b>tile:clouds_area: </b>0<br><b>tile:clouds_percent: </b>0<br><b>visual: </b>https://maxar-opendata.s3.amazonaws.com/events/Libya-Floods-Sept-2023/ard/34/120200213122/2023-07-01/105005005ADE7C00-visual.tif<br>"
          }
        },
        "dec64c6c6efa4b8086414b154c6f0f7f": {
          "model_module": "@jupyter-widgets/base",
          "model_name": "LayoutModel",
          "model_module_version": "1.2.0",
          "state": {
            "_model_module": "@jupyter-widgets/base",
            "_model_module_version": "1.2.0",
            "_model_name": "LayoutModel",
            "_view_count": null,
            "_view_module": "@jupyter-widgets/base",
            "_view_module_version": "1.2.0",
            "_view_name": "LayoutView",
            "align_content": null,
            "align_items": null,
            "align_self": null,
            "border": null,
            "bottom": null,
            "display": null,
            "flex": null,
            "flex_flow": null,
            "grid_area": null,
            "grid_auto_columns": null,
            "grid_auto_flow": null,
            "grid_auto_rows": null,
            "grid_column": null,
            "grid_gap": null,
            "grid_row": null,
            "grid_template_areas": null,
            "grid_template_columns": null,
            "grid_template_rows": null,
            "height": null,
            "justify_content": null,
            "justify_items": null,
            "left": null,
            "margin": null,
            "max_height": null,
            "max_width": null,
            "min_height": null,
            "min_width": null,
            "object_fit": null,
            "object_position": null,
            "order": null,
            "overflow": null,
            "overflow_x": null,
            "overflow_y": null,
            "padding": null,
            "right": null,
            "top": null,
            "visibility": null,
            "width": null
          }
        },
        "06556a236a5243878e2eac00d48c5ea7": {
          "model_module": "@jupyter-widgets/base",
          "model_name": "LayoutModel",
          "model_module_version": "1.2.0",
          "state": {
            "_model_module": "@jupyter-widgets/base",
            "_model_module_version": "1.2.0",
            "_model_name": "LayoutModel",
            "_view_count": null,
            "_view_module": "@jupyter-widgets/base",
            "_view_module_version": "1.2.0",
            "_view_name": "LayoutView",
            "align_content": null,
            "align_items": null,
            "align_self": null,
            "border": null,
            "bottom": null,
            "display": null,
            "flex": null,
            "flex_flow": null,
            "grid_area": null,
            "grid_auto_columns": null,
            "grid_auto_flow": null,
            "grid_auto_rows": null,
            "grid_column": null,
            "grid_gap": null,
            "grid_row": null,
            "grid_template_areas": null,
            "grid_template_columns": null,
            "grid_template_rows": null,
            "height": "28px",
            "justify_content": null,
            "justify_items": null,
            "left": null,
            "margin": null,
            "max_height": null,
            "max_width": null,
            "min_height": null,
            "min_width": null,
            "object_fit": null,
            "object_position": null,
            "order": null,
            "overflow": null,
            "overflow_x": null,
            "overflow_y": null,
            "padding": "0px 0px 0px 4px",
            "right": null,
            "top": null,
            "visibility": null,
            "width": "28px"
          }
        },
        "86e87e71ec4c4dd09a07c35088bbd680": {
          "model_module": "@jupyter-widgets/controls",
          "model_name": "DescriptionStyleModel",
          "model_module_version": "1.5.0",
          "state": {
            "_model_module": "@jupyter-widgets/controls",
            "_model_module_version": "1.5.0",
            "_model_name": "DescriptionStyleModel",
            "_view_count": null,
            "_view_module": "@jupyter-widgets/base",
            "_view_module_version": "1.2.0",
            "_view_name": "StyleView",
            "description_width": ""
          }
        },
        "d043cc936d844a7c8e6297347dcc1105": {
          "model_module": "@jupyter-widgets/controls",
          "model_name": "ToggleButtonModel",
          "model_module_version": "1.5.0",
          "state": {
            "_dom_classes": [],
            "_model_module": "@jupyter-widgets/controls",
            "_model_module_version": "1.5.0",
            "_model_name": "ToggleButtonModel",
            "_view_count": null,
            "_view_module": "@jupyter-widgets/controls",
            "_view_module_version": "1.5.0",
            "_view_name": "ToggleButtonView",
            "button_style": "",
            "description": "",
            "description_tooltip": null,
            "disabled": false,
            "icon": "info",
            "layout": "IPY_MODEL_d78708579d4a4880807e8971cede8056",
            "style": "IPY_MODEL_a6380ead6e564086b5395039aa03d1c3",
            "tooltip": "Toolbar",
            "value": true
          }
        },
        "33df7ee33a234a898578936870eb613a": {
          "model_module": "@jupyter-widgets/controls",
          "model_name": "ToggleButtonModel",
          "model_module_version": "1.5.0",
          "state": {
            "_dom_classes": [],
            "_model_module": "@jupyter-widgets/controls",
            "_model_module_version": "1.5.0",
            "_model_name": "ToggleButtonModel",
            "_view_count": null,
            "_view_module": "@jupyter-widgets/controls",
            "_view_module_version": "1.5.0",
            "_view_name": "ToggleButtonView",
            "button_style": "",
            "description": "",
            "description_tooltip": null,
            "disabled": false,
            "icon": "times",
            "layout": "IPY_MODEL_119f380b183f4e5cbb6e6c18117572f2",
            "style": "IPY_MODEL_c930f94430194579b8827746d4d7a2c5",
            "tooltip": "Close the tool",
            "value": false
          }
        },
        "bb24179997be4d59b75a46fba08f47ac": {
          "model_module": "@jupyter-widgets/base",
          "model_name": "LayoutModel",
          "model_module_version": "1.2.0",
          "state": {
            "_model_module": "@jupyter-widgets/base",
            "_model_module_version": "1.2.0",
            "_model_name": "LayoutModel",
            "_view_count": null,
            "_view_module": "@jupyter-widgets/base",
            "_view_module_version": "1.2.0",
            "_view_name": "LayoutView",
            "align_content": null,
            "align_items": null,
            "align_self": null,
            "border": null,
            "bottom": null,
            "display": null,
            "flex": null,
            "flex_flow": null,
            "grid_area": null,
            "grid_auto_columns": null,
            "grid_auto_flow": null,
            "grid_auto_rows": null,
            "grid_column": null,
            "grid_gap": null,
            "grid_row": null,
            "grid_template_areas": null,
            "grid_template_columns": null,
            "grid_template_rows": null,
            "height": null,
            "justify_content": null,
            "justify_items": null,
            "left": null,
            "margin": null,
            "max_height": null,
            "max_width": null,
            "min_height": null,
            "min_width": null,
            "object_fit": null,
            "object_position": null,
            "order": null,
            "overflow": null,
            "overflow_x": null,
            "overflow_y": null,
            "padding": null,
            "right": null,
            "top": null,
            "visibility": null,
            "width": null
          }
        },
        "0cb876883b9d434987b45d6b1e7c463a": {
          "model_module": "@jupyter-widgets/base",
          "model_name": "LayoutModel",
          "model_module_version": "1.2.0",
          "state": {
            "_model_module": "@jupyter-widgets/base",
            "_model_module_version": "1.2.0",
            "_model_name": "LayoutModel",
            "_view_count": null,
            "_view_module": "@jupyter-widgets/base",
            "_view_module_version": "1.2.0",
            "_view_name": "LayoutView",
            "align_content": null,
            "align_items": null,
            "align_self": null,
            "border": null,
            "bottom": null,
            "display": null,
            "flex": null,
            "flex_flow": null,
            "grid_area": null,
            "grid_auto_columns": null,
            "grid_auto_flow": null,
            "grid_auto_rows": null,
            "grid_column": null,
            "grid_gap": null,
            "grid_row": null,
            "grid_template_areas": null,
            "grid_template_columns": null,
            "grid_template_rows": null,
            "height": null,
            "justify_content": null,
            "justify_items": null,
            "left": null,
            "margin": "0px 10px 0px 10px",
            "max_height": "250px",
            "max_width": "250px",
            "min_height": null,
            "min_width": null,
            "object_fit": null,
            "object_position": null,
            "order": null,
            "overflow": null,
            "overflow_x": null,
            "overflow_y": null,
            "padding": null,
            "right": null,
            "top": null,
            "visibility": null,
            "width": null
          }
        },
        "95228a8ab5fc4c9b999a798d2515fe3f": {
          "model_module": "@jupyter-widgets/controls",
          "model_name": "DescriptionStyleModel",
          "model_module_version": "1.5.0",
          "state": {
            "_model_module": "@jupyter-widgets/controls",
            "_model_module_version": "1.5.0",
            "_model_name": "DescriptionStyleModel",
            "_view_count": null,
            "_view_module": "@jupyter-widgets/base",
            "_view_module_version": "1.2.0",
            "_view_name": "StyleView",
            "description_width": ""
          }
        },
        "d78708579d4a4880807e8971cede8056": {
          "model_module": "@jupyter-widgets/base",
          "model_name": "LayoutModel",
          "model_module_version": "1.2.0",
          "state": {
            "_model_module": "@jupyter-widgets/base",
            "_model_module_version": "1.2.0",
            "_model_name": "LayoutModel",
            "_view_count": null,
            "_view_module": "@jupyter-widgets/base",
            "_view_module_version": "1.2.0",
            "_view_name": "LayoutView",
            "align_content": null,
            "align_items": null,
            "align_self": null,
            "border": null,
            "bottom": null,
            "display": null,
            "flex": null,
            "flex_flow": null,
            "grid_area": null,
            "grid_auto_columns": null,
            "grid_auto_flow": null,
            "grid_auto_rows": null,
            "grid_column": null,
            "grid_gap": null,
            "grid_row": null,
            "grid_template_areas": null,
            "grid_template_columns": null,
            "grid_template_rows": null,
            "height": "28px",
            "justify_content": null,
            "justify_items": null,
            "left": null,
            "margin": null,
            "max_height": null,
            "max_width": null,
            "min_height": null,
            "min_width": null,
            "object_fit": null,
            "object_position": null,
            "order": null,
            "overflow": null,
            "overflow_x": null,
            "overflow_y": null,
            "padding": "0px 0px 0px 4px",
            "right": null,
            "top": null,
            "visibility": null,
            "width": "28px"
          }
        },
        "a6380ead6e564086b5395039aa03d1c3": {
          "model_module": "@jupyter-widgets/controls",
          "model_name": "DescriptionStyleModel",
          "model_module_version": "1.5.0",
          "state": {
            "_model_module": "@jupyter-widgets/controls",
            "_model_module_version": "1.5.0",
            "_model_name": "DescriptionStyleModel",
            "_view_count": null,
            "_view_module": "@jupyter-widgets/base",
            "_view_module_version": "1.2.0",
            "_view_name": "StyleView",
            "description_width": ""
          }
        },
        "119f380b183f4e5cbb6e6c18117572f2": {
          "model_module": "@jupyter-widgets/base",
          "model_name": "LayoutModel",
          "model_module_version": "1.2.0",
          "state": {
            "_model_module": "@jupyter-widgets/base",
            "_model_module_version": "1.2.0",
            "_model_name": "LayoutModel",
            "_view_count": null,
            "_view_module": "@jupyter-widgets/base",
            "_view_module_version": "1.2.0",
            "_view_name": "LayoutView",
            "align_content": null,
            "align_items": null,
            "align_self": null,
            "border": null,
            "bottom": null,
            "display": null,
            "flex": null,
            "flex_flow": null,
            "grid_area": null,
            "grid_auto_columns": null,
            "grid_auto_flow": null,
            "grid_auto_rows": null,
            "grid_column": null,
            "grid_gap": null,
            "grid_row": null,
            "grid_template_areas": null,
            "grid_template_columns": null,
            "grid_template_rows": null,
            "height": "28px",
            "justify_content": null,
            "justify_items": null,
            "left": null,
            "margin": null,
            "max_height": null,
            "max_width": null,
            "min_height": null,
            "min_width": null,
            "object_fit": null,
            "object_position": null,
            "order": null,
            "overflow": null,
            "overflow_x": null,
            "overflow_y": null,
            "padding": "0px 0px 0px 4px",
            "right": null,
            "top": null,
            "visibility": null,
            "width": "28px"
          }
        },
        "c930f94430194579b8827746d4d7a2c5": {
          "model_module": "@jupyter-widgets/controls",
          "model_name": "DescriptionStyleModel",
          "model_module_version": "1.5.0",
          "state": {
            "_model_module": "@jupyter-widgets/controls",
            "_model_module_version": "1.5.0",
            "_model_name": "DescriptionStyleModel",
            "_view_count": null,
            "_view_module": "@jupyter-widgets/base",
            "_view_module_version": "1.2.0",
            "_view_name": "StyleView",
            "description_width": ""
          }
        },
        "885d7773de2f43f3952433d7b4a4c1be": {
          "model_module": "jupyter-leaflet",
          "model_name": "LeafletMapModel",
          "model_module_version": "^0.17",
          "state": {
            "_dom_classes": [],
            "_model_module": "jupyter-leaflet",
            "_model_module_version": "^0.17",
            "_model_name": "LeafletMapModel",
            "_view_count": null,
            "_view_module": "jupyter-leaflet",
            "_view_module_version": "^0.17",
            "_view_name": "LeafletMapView",
            "bottom": 106044,
            "bounce_at_zoom_limits": true,
            "box_zoom": true,
            "center": [
              32.76649095995108,
              22.96142578125
            ],
            "close_popup_on_click": true,
            "controls": [
              "IPY_MODEL_e771cbefd88c402590571cad829aa087",
              "IPY_MODEL_df3937e8acda49918db4cb3c1a01c22b",
              "IPY_MODEL_10c96530f0bb4ac3b04f50644adf2bfa",
              "IPY_MODEL_72ef51010b9a404a9852506faa5d254b",
              "IPY_MODEL_dad9c009f91d4571b1d988809fc37dfb",
              "IPY_MODEL_52122ee948354eb39903ccddeb4ec664",
              "IPY_MODEL_805d3432503144af9dbb4cb5efe3a5b6",
              "IPY_MODEL_676d08091cf64b63b0859c036601f2d8",
              "IPY_MODEL_9af2cb0c03844197af8bd39754e6ce8f",
              "IPY_MODEL_2f271625966042e2af7a4e4d8ea124cd"
            ],
            "crs": {
              "name": "EPSG3857",
              "custom": false
            },
            "default_style": "IPY_MODEL_548e8843f59444038f573b77a3235e7b",
            "double_click_zoom": true,
            "dragging": true,
            "dragging_style": "IPY_MODEL_8f54fbc625ff442caf44720c2e3c145d",
            "east": 24.94033813476563,
            "fullscreen": false,
            "inertia": true,
            "inertia_deceleration": 3000,
            "inertia_max_speed": 1500,
            "interpolation": "bilinear",
            "keyboard": true,
            "keyboard_pan_offset": 80,
            "keyboard_zoom_offset": 1,
            "layers": [
              "IPY_MODEL_751bdd34d4f9493597737843f5e3cd43",
              "IPY_MODEL_598e3d10d1744f98ac34dbabc5d0ac79",
              "IPY_MODEL_8bc0b69f2ea14c65a41478e5efe1204b"
            ],
            "layout": "IPY_MODEL_5507ff22c742469991227117d5870ddf",
            "left": 146351,
            "max_zoom": 24,
            "min_zoom": null,
            "modisdate": "2023-09-17",
            "north": 33.05471648804276,
            "options": [
              "bounce_at_zoom_limits",
              "box_zoom",
              "center",
              "close_popup_on_click",
              "double_click_zoom",
              "dragging",
              "fullscreen",
              "inertia",
              "inertia_deceleration",
              "inertia_max_speed",
              "interpolation",
              "keyboard",
              "keyboard_pan_offset",
              "keyboard_zoom_offset",
              "max_zoom",
              "min_zoom",
              "prefer_canvas",
              "scroll_wheel_zoom",
              "tap",
              "tap_tolerance",
              "touch_zoom",
              "world_copy_jump",
              "zoom",
              "zoom_animation_threshold",
              "zoom_delta",
              "zoom_snap"
            ],
            "panes": {},
            "prefer_canvas": false,
            "right": 149233,
            "scroll_wheel_zoom": true,
            "south": 32.477329196399445,
            "style": "IPY_MODEL_548e8843f59444038f573b77a3235e7b",
            "tap": true,
            "tap_tolerance": 15,
            "top": 105544,
            "touch_zoom": true,
            "west": 20.98251342773438,
            "window_url": "https://of4vxotj7pc-496ff2e9c6d22116-0-colab.googleusercontent.com/outputframe.html?vrz=colab_20230914-060107_RC00_565327706",
            "world_copy_jump": false,
            "zoom": 10,
            "zoom_animation_threshold": 4,
            "zoom_delta": 1,
            "zoom_snap": 1
          }
        },
        "e771cbefd88c402590571cad829aa087": {
          "model_module": "jupyter-leaflet",
          "model_name": "LeafletZoomControlModel",
          "model_module_version": "^0.17",
          "state": {
            "_model_module": "jupyter-leaflet",
            "_model_module_version": "^0.17",
            "_model_name": "LeafletZoomControlModel",
            "_view_count": null,
            "_view_module": "jupyter-leaflet",
            "_view_module_version": "^0.17",
            "_view_name": "LeafletZoomControlView",
            "options": [
              "position",
              "zoom_in_text",
              "zoom_in_title",
              "zoom_out_text",
              "zoom_out_title"
            ],
            "position": "topleft",
            "zoom_in_text": "+",
            "zoom_in_title": "Zoom in",
            "zoom_out_text": "-",
            "zoom_out_title": "Zoom out"
          }
        },
        "df3937e8acda49918db4cb3c1a01c22b": {
          "model_module": "jupyter-leaflet",
          "model_name": "LeafletAttributionControlModel",
          "model_module_version": "^0.17",
          "state": {
            "_model_module": "jupyter-leaflet",
            "_model_module_version": "^0.17",
            "_model_name": "LeafletAttributionControlModel",
            "_view_count": null,
            "_view_module": "jupyter-leaflet",
            "_view_module_version": "^0.17",
            "_view_name": "LeafletAttributionControlView",
            "options": [
              "position",
              "prefix"
            ],
            "position": "bottomright",
            "prefix": "ipyleaflet"
          }
        },
        "10c96530f0bb4ac3b04f50644adf2bfa": {
          "model_module": "jupyter-leaflet",
          "model_name": "LeafletFullScreenControlModel",
          "model_module_version": "^0.17",
          "state": {
            "_model_module": "jupyter-leaflet",
            "_model_module_version": "^0.17",
            "_model_name": "LeafletFullScreenControlModel",
            "_view_count": null,
            "_view_module": "jupyter-leaflet",
            "_view_module_version": "^0.17",
            "_view_name": "LeafletFullScreenControlView",
            "options": [
              "position"
            ],
            "position": "topleft"
          }
        },
        "72ef51010b9a404a9852506faa5d254b": {
          "model_module": "jupyter-leaflet",
          "model_name": "LeafletSearchControlModel",
          "model_module_version": "^0.17",
          "state": {
            "_model_module": "jupyter-leaflet",
            "_model_module_version": "^0.17",
            "_model_name": "LeafletSearchControlModel",
            "_view_count": null,
            "_view_module": "jupyter-leaflet",
            "_view_module_version": "^0.17",
            "_view_name": "LeafletSearchControlView",
            "animate_location": false,
            "auto_collapse": false,
            "auto_type": false,
            "found_style": {
              "fillColor": "#3f0",
              "color": "#0f0"
            },
            "jsonp_param": "json_callback",
            "layer": null,
            "marker": null,
            "options": [
              "animate_location",
              "auto_collapse",
              "auto_type",
              "found_style",
              "jsonp_param",
              "position",
              "property_loc",
              "property_name",
              "url",
              "zoom"
            ],
            "position": "topleft",
            "property_loc": [
              "lat",
              "lon"
            ],
            "property_name": "display_name",
            "url": "https://nominatim.openstreetmap.org/search?format=json&q={s}",
            "zoom": 12
          }
        },
        "dad9c009f91d4571b1d988809fc37dfb": {
          "model_module": "jupyter-leaflet",
          "model_name": "LeafletDrawControlModel",
          "model_module_version": "^0.17",
          "state": {
            "_model_module": "jupyter-leaflet",
            "_model_module_version": "^0.17",
            "_model_name": "LeafletDrawControlModel",
            "_view_count": null,
            "_view_module": "jupyter-leaflet",
            "_view_module_version": "^0.17",
            "_view_name": "LeafletDrawControlView",
            "circle": {
              "shapeOptions": {
                "color": "#3388ff"
              },
              "repeatMode": false
            },
            "circlemarker": {},
            "data": [
              {
                "type": "Feature",
                "properties": {
                  "style": {
                    "stroke": true,
                    "color": "#3388ff",
                    "weight": 4,
                    "opacity": 0.5,
                    "fill": true,
                    "fillColor": null,
                    "fillOpacity": 0.2,
                    "clickable": true
                  }
                },
                "geometry": {
                  "type": "Polygon",
                  "coordinates": [
                    [
                      [
                        22.5,
                        32.690243
                      ],
                      [
                        22.5,
                        32.853634
                      ],
                      [
                        22.743073,
                        32.853634
                      ],
                      [
                        22.743073,
                        32.690243
                      ],
                      [
                        22.5,
                        32.690243
                      ]
                    ]
                  ]
                }
              }
            ],
            "edit": true,
            "marker": {
              "shapeOptions": {
                "color": "#3388ff"
              },
              "repeatMode": false
            },
            "options": [
              "position"
            ],
            "polygon": {
              "repeatMode": false
            },
            "polyline": {
              "repeatMode": false
            },
            "position": "topleft",
            "rectangle": {
              "shapeOptions": {
                "color": "#3388ff"
              },
              "repeatMode": false
            },
            "remove": true
          }
        },
        "52122ee948354eb39903ccddeb4ec664": {
          "model_module": "jupyter-leaflet",
          "model_name": "LeafletMeasureControlModel",
          "model_module_version": "^0.17",
          "state": {
            "_custom_units": {},
            "_model_module": "jupyter-leaflet",
            "_model_module_version": "^0.17",
            "_model_name": "LeafletMeasureControlModel",
            "_view_count": null,
            "_view_module": "jupyter-leaflet",
            "_view_module_version": "^0.17",
            "_view_name": "LeafletMeasureControlView",
            "active_color": "#ABE67E",
            "capture_z_index": 10000,
            "completed_color": "#C8F2BE",
            "options": [
              "active_color",
              "capture_z_index",
              "completed_color",
              "popup_options",
              "position",
              "primary_area_unit",
              "primary_length_unit",
              "secondary_area_unit",
              "secondary_length_unit"
            ],
            "popup_options": {
              "className": "leaflet-measure-resultpopup",
              "autoPanPadding": [
                10,
                10
              ]
            },
            "position": "topleft",
            "primary_area_unit": "acres",
            "primary_length_unit": "feet",
            "secondary_area_unit": null,
            "secondary_length_unit": null
          }
        },
        "805d3432503144af9dbb4cb5efe3a5b6": {
          "model_module": "jupyter-leaflet",
          "model_name": "LeafletScaleControlModel",
          "model_module_version": "^0.17",
          "state": {
            "_model_module": "jupyter-leaflet",
            "_model_module_version": "^0.17",
            "_model_name": "LeafletScaleControlModel",
            "_view_count": null,
            "_view_module": "jupyter-leaflet",
            "_view_module_version": "^0.17",
            "_view_name": "LeafletScaleControlView",
            "imperial": true,
            "max_width": 100,
            "metric": true,
            "options": [
              "imperial",
              "max_width",
              "metric",
              "position",
              "update_when_idle"
            ],
            "position": "bottomleft",
            "update_when_idle": false
          }
        },
        "676d08091cf64b63b0859c036601f2d8": {
          "model_module": "jupyter-leaflet",
          "model_name": "LeafletWidgetControlModel",
          "model_module_version": "^0.17",
          "state": {
            "_model_module": "jupyter-leaflet",
            "_model_module_version": "^0.17",
            "_model_name": "LeafletWidgetControlModel",
            "_view_count": null,
            "_view_module": "jupyter-leaflet",
            "_view_module_version": "^0.17",
            "_view_name": "LeafletWidgetControlView",
            "max_height": null,
            "max_width": null,
            "min_height": null,
            "min_width": null,
            "options": [
              "position",
              "transparent_bg"
            ],
            "position": "topright",
            "transparent_bg": false,
            "widget": "IPY_MODEL_d47979ca71cb44f8a23163649c844b0d"
          }
        },
        "9af2cb0c03844197af8bd39754e6ce8f": {
          "model_module": "jupyter-leaflet",
          "model_name": "LeafletWidgetControlModel",
          "model_module_version": "^0.17",
          "state": {
            "_model_module": "jupyter-leaflet",
            "_model_module_version": "^0.17",
            "_model_name": "LeafletWidgetControlModel",
            "_view_count": null,
            "_view_module": "jupyter-leaflet",
            "_view_module_version": "^0.17",
            "_view_name": "LeafletWidgetControlView",
            "max_height": null,
            "max_width": null,
            "min_height": null,
            "min_width": null,
            "options": [
              "position",
              "transparent_bg"
            ],
            "position": "bottomright",
            "transparent_bg": false,
            "widget": "IPY_MODEL_1497c73500ba4704bc85b704140f5267"
          }
        },
        "2f271625966042e2af7a4e4d8ea124cd": {
          "model_module": "jupyter-leaflet",
          "model_name": "LeafletWidgetControlModel",
          "model_module_version": "^0.17",
          "state": {
            "_model_module": "jupyter-leaflet",
            "_model_module_version": "^0.17",
            "_model_name": "LeafletWidgetControlModel",
            "_view_count": null,
            "_view_module": "jupyter-leaflet",
            "_view_module_version": "^0.17",
            "_view_name": "LeafletWidgetControlView",
            "max_height": null,
            "max_width": null,
            "min_height": null,
            "min_width": null,
            "options": [
              "position",
              "transparent_bg"
            ],
            "position": "bottomright",
            "transparent_bg": false,
            "widget": "IPY_MODEL_8a26b7ef03cf4faa85eff4346027bd68"
          }
        },
        "548e8843f59444038f573b77a3235e7b": {
          "model_module": "jupyter-leaflet",
          "model_name": "LeafletMapStyleModel",
          "model_module_version": "^0.17",
          "state": {
            "_model_module": "jupyter-leaflet",
            "_model_module_version": "^0.17",
            "_model_name": "LeafletMapStyleModel",
            "_view_count": null,
            "_view_module": "@jupyter-widgets/base",
            "_view_module_version": "1.2.0",
            "_view_name": "StyleView",
            "cursor": "grab"
          }
        },
        "8f54fbc625ff442caf44720c2e3c145d": {
          "model_module": "jupyter-leaflet",
          "model_name": "LeafletMapStyleModel",
          "model_module_version": "^0.17",
          "state": {
            "_model_module": "jupyter-leaflet",
            "_model_module_version": "^0.17",
            "_model_name": "LeafletMapStyleModel",
            "_view_count": null,
            "_view_module": "@jupyter-widgets/base",
            "_view_module_version": "1.2.0",
            "_view_name": "StyleView",
            "cursor": "move"
          }
        },
        "751bdd34d4f9493597737843f5e3cd43": {
          "model_module": "jupyter-leaflet",
          "model_name": "LeafletTileLayerModel",
          "model_module_version": "^0.17",
          "state": {
            "_model_module": "jupyter-leaflet",
            "_model_module_version": "^0.17",
            "_model_name": "LeafletTileLayerModel",
            "_view_count": null,
            "_view_module": "jupyter-leaflet",
            "_view_module_version": "^0.17",
            "_view_name": "LeafletTileLayerView",
            "attribution": "&copy; <a href=\"https://www.openstreetmap.org/copyright\">OpenStreetMap</a> contributors",
            "base": true,
            "bottom": true,
            "bounds": null,
            "detect_retina": false,
            "loading": false,
            "max_native_zoom": null,
            "max_zoom": 19,
            "min_native_zoom": null,
            "min_zoom": 1,
            "name": "OpenStreetMap",
            "no_wrap": false,
            "opacity": 1,
            "options": [
              "attribution",
              "bounds",
              "detect_retina",
              "max_native_zoom",
              "max_zoom",
              "min_native_zoom",
              "min_zoom",
              "no_wrap",
              "tile_size",
              "tms",
              "zoom_offset"
            ],
            "pane": "",
            "popup": null,
            "popup_max_height": null,
            "popup_max_width": 300,
            "popup_min_width": 50,
            "show_loading": false,
            "subitems": [],
            "tile_size": 256,
            "tms": false,
            "url": "https://tile.openstreetmap.org/{z}/{x}/{y}.png",
            "visible": true,
            "zoom_offset": 0
          }
        },
        "598e3d10d1744f98ac34dbabc5d0ac79": {
          "model_module": "jupyter-leaflet",
          "model_name": "LeafletGeoJSONModel",
          "model_module_version": "^0.17",
          "state": {
            "_model_module": "jupyter-leaflet",
            "_model_module_version": "^0.17",
            "_model_name": "LeafletGeoJSONModel",
            "_view_count": null,
            "_view_module": "jupyter-leaflet",
            "_view_module_version": "^0.17",
            "_view_name": "LeafletGeoJSONView",
            "base": false,
            "bottom": false,
            "data": {
              "type": "FeatureCollection",
              "features": [
                {
                  "id": "0",
                  "type": "Feature",
                  "properties": {
                    "datetime": "2023-01-22 09:24:17+00:00",
                    "platform": "WV02",
                    "gsd": 0.47,
                    "ard_metadata_version": "0.0.1",
                    "catalog_id": "10300500D8F96700",
                    "utm_zone": 34,
                    "quadkey": "120200210222",
                    "view:off_nadir": 6.8,
                    "view:azimuth": 45.9,
                    "view:incidence_angle": 82.3,
                    "view:sun_azimuth": 157.3,
                    "view:sun_elevation": 34.3,
                    "proj:epsg": 32634,
                    "grid:code": "MXRA-Z34-120200210222",
                    "proj:bbox": "584451.4193005192,3639843.75,585156.25,3640544.6057481826",
                    "tile:data_area": 0.4,
                    "tile:clouds_area": 0,
                    "tile:clouds_percent": 0,
                    "visual": "https://maxar-opendata.s3.amazonaws.com/events/Libya-Floods-Sept-2023/ard/34/120200210222/2023-01-22/10300500D8F96700-visual.tif",
                    "style": {
                      "color": "black",
                      "fillColor": "black"
                    }
                  },
                  "geometry": {
                    "type": "Polygon",
                    "coordinates": [
                      [
                        [
                          21.91047409563659,
                          32.893462474403655
                        ],
                        [
                          21.90293907844315,
                          32.893516757226884
                        ],
                        [
                          21.90388,
                          32.899438
                        ],
                        [
                          21.903981,
                          32.899647
                        ],
                        [
                          21.90417,
                          32.899781
                        ],
                        [
                          21.904287,
                          32.899816
                        ],
                        [
                          21.904444,
                          32.899828
                        ],
                        [
                          21.910535891975712,
                          32.8994985944027
                        ],
                        [
                          21.91047409563659,
                          32.893462474403655
                        ]
                      ]
                    ]
                  },
                  "bbox": [
                    21.90293907844315,
                    32.893462474403655,
                    21.910535891975712,
                    32.899828
                  ]
                },
                {
                  "id": "1",
                  "type": "Feature",
                  "properties": {
                    "datetime": "2023-01-22 09:24:17+00:00",
                    "platform": "WV02",
                    "gsd": 0.47,
                    "ard_metadata_version": "0.0.1",
                    "catalog_id": "10300500D8F96700",
                    "utm_zone": 34,
                    "quadkey": "120200210223",
                    "view:off_nadir": 6.7,
                    "view:azimuth": 45,
                    "view:incidence_angle": 82.4,
                    "view:sun_azimuth": 157.3,
                    "view:sun_elevation": 34.3,
                    "proj:epsg": 32634,
                    "grid:code": "MXRA-Z34-120200210223",
                    "proj:bbox": "584843.75,3639843.75,590156.25,3641261.4759275885",
                    "tile:data_area": 3.9,
                    "tile:clouds_area": 0,
                    "tile:clouds_percent": 0,
                    "visual": "https://maxar-opendata.s3.amazonaws.com/events/Libya-Floods-Sept-2023/ard/34/120200210223/2023-01-22/10300500D8F96700-visual.tif",
                    "style": {
                      "color": "black",
                      "fillColor": "black"
                    }
                  },
                  "geometry": {
                    "type": "Polygon",
                    "coordinates": [
                      [
                        [
                          21.963926758605634,
                          32.893061835365245
                        ],
                        [
                          21.907133269411673,
                          32.893486755845764
                        ],
                        [
                          21.907196433154546,
                          32.89967916825923
                        ],
                        [
                          21.915984,
                          32.899204
                        ],
                        [
                          21.916148,
                          32.899145
                        ],
                        [
                          21.922421,
                          32.895773
                        ],
                        [
                          21.927976,
                          32.897324
                        ],
                        [
                          21.930323,
                          32.899513
                        ],
                        [
                          21.930472,
                          32.899606
                        ],
                        [
                          21.93065,
                          32.899651
                        ],
                        [
                          21.935798,
                          32.899783
                        ],
                        [
                          21.94323,
                          32.898654
                        ],
                        [
                          21.947293,
                          32.901096
                        ],
                        [
                          21.94742,
                          32.901152
                        ],
                        [
                          21.952465,
                          32.901679
                        ],
                        [
                          21.959076,
                          32.904716
                        ],
                        [
                          21.96406546750748,
                          32.905859084455315
                        ],
                        [
                          21.963926758605634,
                          32.893061835365245
                        ]
                      ]
                    ]
                  },
                  "bbox": [
                    21.907133269411673,
                    32.893061835365245,
                    21.96406546750748,
                    32.905859084455315
                  ]
                },
                {
                  "id": "2",
                  "type": "Feature",
                  "properties": {
                    "datetime": "2023-01-22 09:24:17+00:00",
                    "platform": "WV02",
                    "gsd": 0.47,
                    "ard_metadata_version": "0.0.1",
                    "catalog_id": "10300500D8F96700",
                    "utm_zone": 34,
                    "quadkey": "120200210232",
                    "view:off_nadir": 6.5,
                    "view:azimuth": 42.8,
                    "view:incidence_angle": 82.7,
                    "view:sun_azimuth": 157.3,
                    "view:sun_elevation": 34.3,
                    "proj:epsg": 32634,
                    "grid:code": "MXRA-Z34-120200210232",
                    "proj:bbox": "589843.75,3639843.75,593407.3490171629,3641467.38057285",
                    "tile:data_area": 5.1,
                    "tile:clouds_area": 0,
                    "tile:clouds_percent": 0,
                    "visual": "https://maxar-opendata.s3.amazonaws.com/events/Libya-Floods-Sept-2023/ard/34/120200210232/2023-01-22/10300500D8F96700-visual.tif",
                    "style": {
                      "color": "black",
                      "fillColor": "black"
                    }
                  },
                  "geometry": {
                    "type": "Polygon",
                    "coordinates": [
                      [
                        [
                          21.960585998456096,
                          32.89308754455295
                        ],
                        [
                          21.960715659394257,
                          32.90509164512902
                        ],
                        [
                          21.971791,
                          32.907629
                        ],
                        [
                          21.971931,
                          32.907645
                        ],
                        [
                          21.972078,
                          32.907627
                        ],
                        [
                          21.980864,
                          32.905501
                        ],
                        [
                          21.988018,
                          32.905696
                        ],
                        [
                          21.996834,
                          32.90585
                        ],
                        [
                          21.997028,
                          32.905823
                        ],
                        [
                          21.997234,
                          32.905708
                        ],
                        [
                          21.997336,
                          32.905578
                        ],
                        [
                          21.997378,
                          32.905438
                        ],
                        [
                          21.99868229092065,
                          32.89278622705183
                        ],
                        [
                          21.960585998456096,
                          32.89308754455295
                        ]
                      ]
                    ]
                  },
                  "bbox": [
                    21.960585998456096,
                    32.89278622705183,
                    21.99868229092065,
                    32.907645
                  ]
                },
                {
                  "id": "3",
                  "type": "Feature",
                  "properties": {
                    "datetime": "2023-01-22 09:24:17+00:00",
                    "platform": "WV02",
                    "gsd": 0.47,
                    "ard_metadata_version": "0.0.1",
                    "catalog_id": "10300500D8F96700",
                    "utm_zone": 34,
                    "quadkey": "120200212000",
                    "view:off_nadir": 6.9,
                    "view:azimuth": 45.4,
                    "view:incidence_angle": 82.3,
                    "view:sun_azimuth": 157.3,
                    "view:sun_elevation": 34.3,
                    "proj:epsg": 32634,
                    "grid:code": "MXRA-Z34-120200212000",
                    "proj:bbox": "584283.9775149978,3638225.8946303963,585156.25,3640156.25",
                    "tile:data_area": 1.4,
                    "tile:clouds_area": 0,
                    "tile:clouds_percent": 0,
                    "visual": "https://maxar-opendata.s3.amazonaws.com/events/Libya-Floods-Sept-2023/ard/34/120200212000/2023-01-22/10300500D8F96700-visual.tif",
                    "style": {
                      "color": "black",
                      "fillColor": "black"
                    }
                  },
                  "geometry": {
                    "type": "Polygon",
                    "coordinates": [
                      [
                        [
                          21.910502931204384,
                          32.89628103302248
                        ],
                        [
                          21.91032500298263,
                          32.87886981236916
                        ],
                        [
                          21.901413,
                          32.881025
                        ],
                        [
                          21.901267,
                          32.881081
                        ],
                        [
                          21.901132,
                          32.881189
                        ],
                        [
                          21.901049,
                          32.881329
                        ],
                        [
                          21.901027,
                          32.881484
                        ],
                        [
                          21.903386485778377,
                          32.896332302721696
                        ],
                        [
                          21.910502931204384,
                          32.89628103302248
                        ]
                      ]
                    ]
                  },
                  "bbox": [
                    21.901027,
                    32.87886981236916,
                    21.910502931204384,
                    32.896332302721696
                  ]
                },
                {
                  "id": "4",
                  "type": "Feature",
                  "properties": {
                    "datetime": "2023-01-22 09:24:17+00:00",
                    "platform": "WV02",
                    "gsd": 0.47,
                    "ard_metadata_version": "0.0.1",
                    "catalog_id": "10300500D8F96700",
                    "utm_zone": 34,
                    "quadkey": "120200212001",
                    "view:off_nadir": 6.8,
                    "view:azimuth": 44.3,
                    "view:incidence_angle": 82.4,
                    "view:sun_azimuth": 157.3,
                    "view:sun_elevation": 34.3,
                    "proj:epsg": 32634,
                    "grid:code": "MXRA-Z34-120200212001",
                    "proj:bbox": "584843.75,3637880.504079527,590156.25,3640156.25",
                    "tile:data_area": 11.2,
                    "tile:clouds_area": 0,
                    "tile:clouds_percent": 0,
                    "visual": "https://maxar-opendata.s3.amazonaws.com/events/Libya-Floods-Sept-2023/ard/34/120200212001/2023-01-22/10300500D8F96700-visual.tif",
                    "style": {
                      "color": "black",
                      "fillColor": "black"
                    }
                  },
                  "geometry": {
                    "type": "Polygon",
                    "coordinates": [
                      [
                        [
                          21.907161999207805,
                          32.89630531706946
                        ],
                        [
                          21.921632139678117,
                          32.89619704543367
                        ],
                        [
                          21.922421,
                          32.895773
                        ],
                        [
                          21.923879517414065,
                          32.896180229614615
                        ],
                        [
                          21.963957286448142,
                          32.8958803510045
                        ],
                        [
                          21.963762284327544,
                          32.87785642132683
                        ],
                        [
                          21.923683,
                          32.875657
                        ],
                        [
                          21.923536,
                          32.875675
                        ],
                        [
                          21.906992681505134,
                          32.87967566690537
                        ],
                        [
                          21.907161999207805,
                          32.89630531706946
                        ]
                      ]
                    ]
                  },
                  "bbox": [
                    21.906992681505134,
                    32.875657,
                    21.963957286448142,
                    32.89630531706946
                  ]
                },
                {
                  "id": "5",
                  "type": "Feature",
                  "properties": {
                    "datetime": "2023-01-22 09:24:17+00:00",
                    "platform": "WV02",
                    "gsd": 0.47,
                    "ard_metadata_version": "0.0.1",
                    "catalog_id": "10300500D8F96700",
                    "utm_zone": 34,
                    "quadkey": "120200212010",
                    "view:off_nadir": 6.5,
                    "view:azimuth": 42,
                    "view:incidence_angle": 82.7,
                    "view:sun_azimuth": 157.3,
                    "view:sun_elevation": 34.3,
                    "proj:epsg": 32634,
                    "grid:code": "MXRA-Z34-120200212010",
                    "proj:bbox": "589843.75,3638135.3242146843,593540.8303846716,3640156.25",
                    "tile:data_area": 6.8,
                    "tile:clouds_area": 0,
                    "tile:clouds_percent": 0,
                    "visual": "https://maxar-opendata.s3.amazonaws.com/events/Libya-Floods-Sept-2023/ard/34/120200212010/2023-01-22/10300500D8F96700-visual.tif",
                    "style": {
                      "color": "black",
                      "fillColor": "black"
                    }
                  },
                  "geometry": {
                    "type": "Polygon",
                    "coordinates": [
                      [
                        [
                          21.960616420535477,
                          32.8959060629502
                        ],
                        [
                          21.99839146586989,
                          32.89560726371752
                        ],
                        [
                          21.999969,
                          32.880305
                        ],
                        [
                          21.999963,
                          32.880187
                        ],
                        [
                          21.999899,
                          32.88004
                        ],
                        [
                          21.99978,
                          32.87992
                        ],
                        [
                          21.999619,
                          32.879842
                        ],
                        [
                          21.999471,
                          32.879816
                        ],
                        [
                          21.96041983938696,
                          32.87767299877303
                        ],
                        [
                          21.960616420535477,
                          32.8959060629502
                        ]
                      ]
                    ]
                  },
                  "bbox": [
                    21.96041983938696,
                    32.87767299877303,
                    21.999969,
                    32.8959060629502
                  ]
                },
                {
                  "id": "6",
                  "type": "Feature",
                  "properties": {
                    "datetime": "2023-06-29 09:34:21+00:00",
                    "platform": "GE01",
                    "gsd": 0.42,
                    "ard_metadata_version": "0.0.1",
                    "catalog_id": "1050050059DEBF00",
                    "utm_zone": 34,
                    "quadkey": "031313122322",
                    "view:off_nadir": 11.6,
                    "view:azimuth": 316.4,
                    "view:incidence_angle": 77.2,
                    "view:sun_azimuth": 109.7,
                    "view:sun_elevation": 72.7,
                    "proj:epsg": 32634,
                    "grid:code": "MXRA-Z34-031313122322",
                    "proj:bbox": "360198.5815526425,3364139.2295093657,365156.25,3365156.25",
                    "tile:data_area": 4.5,
                    "tile:clouds_area": 0,
                    "tile:clouds_percent": 0,
                    "visual": "https://maxar-opendata.s3.amazonaws.com/events/Libya-Floods-Sept-2023/ard/34/031313122322/2023-06-29/1050050059DEBF00-visual.tif",
                    "style": {
                      "color": "black",
                      "fillColor": "black"
                    }
                  },
                  "geometry": {
                    "type": "Polygon",
                    "coordinates": [
                      [
                        [
                          19.596146475572297,
                          30.410918925801234
                        ],
                        [
                          19.59627764373475,
                          30.40174335701776
                        ],
                        [
                          19.549014,
                          30.402455
                        ],
                        [
                          19.548845,
                          30.402483
                        ],
                        [
                          19.548688,
                          30.402561
                        ],
                        [
                          19.548549,
                          30.40272
                        ],
                        [
                          19.544544662153232,
                          30.410353165994255
                        ],
                        [
                          19.596146475572297,
                          30.410918925801234
                        ]
                      ]
                    ]
                  },
                  "bbox": [
                    19.544544662153232,
                    30.40174335701776,
                    19.59627764373475,
                    30.410918925801234
                  ]
                },
                {
                  "id": "7",
                  "type": "Feature",
                  "properties": {
                    "datetime": "2023-06-29 09:34:21+00:00",
                    "platform": "GE01",
                    "gsd": 0.42,
                    "ard_metadata_version": "0.0.1",
                    "catalog_id": "1050050059DEBF00",
                    "utm_zone": 34,
                    "quadkey": "031313122323",
                    "view:off_nadir": 11.8,
                    "view:azimuth": 314.8,
                    "view:incidence_angle": 76.9,
                    "view:sun_azimuth": 109.7,
                    "view:sun_elevation": 72.7,
                    "proj:epsg": 32634,
                    "grid:code": "MXRA-Z34-031313122323",
                    "proj:bbox": "364843.75,3364128.2642564904,367093.78013299487,3365156.25",
                    "tile:data_area": 1.5,
                    "tile:clouds_area": 0,
                    "tile:clouds_percent": 0,
                    "visual": "https://maxar-opendata.s3.amazonaws.com/events/Libya-Floods-Sept-2023/ard/34/031313122323/2023-06-29/1050050059DEBF00-visual.tif",
                    "style": {
                      "color": "black",
                      "fillColor": "black"
                    }
                  },
                  "geometry": {
                    "type": "Polygon",
                    "coordinates": [
                      [
                        [
                          19.59289387226136,
                          30.410883912707224
                        ],
                        [
                          19.616309525737215,
                          30.411131306527096
                        ],
                        [
                          19.600257,
                          30.401751
                        ],
                        [
                          19.600087,
                          30.401686
                        ],
                        [
                          19.59302414066499,
                          30.401792344621008
                        ],
                        [
                          19.59289387226136,
                          30.410883912707224
                        ]
                      ]
                    ]
                  },
                  "bbox": [
                    19.59289387226136,
                    30.401686,
                    19.616309525737215,
                    30.411131306527096
                  ]
                },
                {
                  "id": "8",
                  "type": "Feature",
                  "properties": {
                    "datetime": "2023-06-29 09:34:22+00:00",
                    "platform": "GE01",
                    "gsd": 0.42,
                    "ard_metadata_version": "0.0.1",
                    "catalog_id": "1050050059DEBF00",
                    "utm_zone": 34,
                    "quadkey": "031313122231",
                    "view:off_nadir": 10.7,
                    "view:azimuth": 313.2,
                    "view:incidence_angle": 78.1,
                    "view:sun_azimuth": 109.8,
                    "view:sun_elevation": 72.7,
                    "proj:epsg": 32634,
                    "grid:code": "MXRA-Z34-031313122231",
                    "proj:bbox": "358301.37027922046,3365252.655941413,360156.25,3369811.5455537764",
                    "tile:data_area": 4.2,
                    "tile:clouds_area": 0,
                    "tile:clouds_percent": 0,
                    "visual": "https://maxar-opendata.s3.amazonaws.com/events/Libya-Floods-Sept-2023/ard/34/031313122231/2023-06-29/1050050059DEBF00-visual.tif",
                    "style": {
                      "color": "black",
                      "fillColor": "black"
                    }
                  },
                  "geometry": {
                    "type": "Polygon",
                    "coordinates": [
                      [
                        [
                          19.544092602066325,
                          30.41121489390403
                        ],
                        [
                          19.524257,
                          30.449026
                        ],
                        [
                          19.524212,
                          30.449187
                        ],
                        [
                          19.524253,
                          30.449392
                        ],
                        [
                          19.524397,
                          30.449559
                        ],
                        [
                          19.524498,
                          30.449616
                        ],
                        [
                          19.524647,
                          30.449658
                        ],
                        [
                          19.543481551883936,
                          30.452338541178637
                        ],
                        [
                          19.544092602066325,
                          30.41121489390403
                        ]
                      ]
                    ]
                  },
                  "bbox": [
                    19.524212,
                    30.41121489390403,
                    19.544092602066325,
                    30.452338541178637
                  ]
                },
                {
                  "id": "9",
                  "type": "Feature",
                  "properties": {
                    "datetime": "2023-06-29 09:34:22+00:00",
                    "platform": "GE01",
                    "gsd": 0.42,
                    "ard_metadata_version": "0.0.1",
                    "catalog_id": "1050050059DEBF00",
                    "utm_zone": 34,
                    "quadkey": "031313122302",
                    "view:off_nadir": 10.6,
                    "view:azimuth": 308.5,
                    "view:incidence_angle": 78.3,
                    "view:sun_azimuth": 109.8,
                    "view:sun_elevation": 72.7,
                    "proj:epsg": 32634,
                    "grid:code": "MXRA-Z34-031313122302",
                    "proj:bbox": "360369.01160396234,3369843.75,365156.25,3370568.365525607",
                    "tile:data_area": 1.7,
                    "tile:clouds_area": 0,
                    "tile:clouds_percent": 0,
                    "visual": "https://maxar-opendata.s3.amazonaws.com/events/Libya-Floods-Sept-2023/ard/34/031313122302/2023-06-29/1050050059DEBF00-visual.tif",
                    "style": {
                      "color": "black",
                      "fillColor": "black"
                    }
                  },
                  "geometry": {
                    "type": "Polygon",
                    "coordinates": [
                      [
                        [
                          19.595540589997196,
                          30.453206249214244
                        ],
                        [
                          19.545736881937735,
                          30.452659520680452
                        ],
                        [
                          19.59544690312664,
                          30.459734271362542
                        ],
                        [
                          19.595540589997196,
                          30.453206249214244
                        ]
                      ]
                    ]
                  },
                  "bbox": [
                    19.545736881937735,
                    30.452659520680452,
                    19.595540589997196,
                    30.459734271362542
                  ]
                },
                {
                  "id": "10",
                  "type": "Feature",
                  "properties": {
                    "datetime": "2023-06-29 09:34:22+00:00",
                    "platform": "GE01",
                    "gsd": 0.42,
                    "ard_metadata_version": "0.0.1",
                    "catalog_id": "1050050059DEBF00",
                    "utm_zone": 34,
                    "quadkey": "031313122303",
                    "view:off_nadir": 10.9,
                    "view:azimuth": 307.2,
                    "view:incidence_angle": 77.9,
                    "view:sun_azimuth": 109.8,
                    "view:sun_elevation": 72.7,
                    "proj:epsg": 32634,
                    "grid:code": "MXRA-Z34-031313122303",
                    "proj:bbox": "364843.75,3369843.75,368235.0417189856,3371025.7021966814",
                    "tile:data_area": 3.1,
                    "tile:clouds_area": 0,
                    "tile:clouds_percent": 0,
                    "visual": "https://maxar-opendata.s3.amazonaws.com/events/Libya-Floods-Sept-2023/ard/34/031313122303/2023-06-29/1050050059DEBF00-visual.tif",
                    "style": {
                      "color": "black",
                      "fillColor": "black"
                    }
                  },
                  "geometry": {
                    "type": "Polygon",
                    "coordinates": [
                      [
                        [
                          19.59228658403193,
                          30.453171177203494
                        ],
                        [
                          19.592198825040434,
                          30.459272003552023
                        ],
                        [
                          19.626853,
                          30.464204
                        ],
                        [
                          19.627115,
                          30.464183
                        ],
                        [
                          19.627223,
                          30.464136
                        ],
                        [
                          19.627355,
                          30.464029
                        ],
                        [
                          19.627436,
                          30.463889
                        ],
                        [
                          19.627457,
                          30.463733
                        ],
                        [
                          19.6266686152152,
                          30.453534888692804
                        ],
                        [
                          19.59228658403193,
                          30.453171177203494
                        ]
                      ]
                    ]
                  },
                  "bbox": [
                    19.592198825040434,
                    30.453171177203494,
                    19.627457,
                    30.464204
                  ]
                },
                {
                  "id": "11",
                  "type": "Feature",
                  "properties": {
                    "datetime": "2023-06-29 09:34:22+00:00",
                    "platform": "GE01",
                    "gsd": 0.42,
                    "ard_metadata_version": "0.0.1",
                    "catalog_id": "1050050059DEBF00",
                    "utm_zone": 34,
                    "quadkey": "031313122320",
                    "view:off_nadir": 11,
                    "view:azimuth": 311.9,
                    "view:incidence_angle": 77.9,
                    "view:sun_azimuth": 109.8,
                    "view:sun_elevation": 72.7,
                    "proj:epsg": 32634,
                    "grid:code": "MXRA-Z34-031313122320",
                    "proj:bbox": "359843.75,3364843.75,365156.25,3370156.25",
                    "tile:data_area": 27.4,
                    "tile:clouds_area": 0,
                    "tile:clouds_percent": 0,
                    "visual": "https://maxar-opendata.s3.amazonaws.com/events/Libya-Floods-Sept-2023/ard/34/031313122320/2023-06-29/1050050059DEBF00-visual.tif",
                    "style": {
                      "color": "black",
                      "fillColor": "black"
                    }
                  },
                  "geometry": {
                    "type": "Polygon",
                    "coordinates": [
                      [
                        [
                          19.54023399024501,
                          30.451876346869106
                        ],
                        [
                          19.56720409594019,
                          30.455714743415708
                        ],
                        [
                          19.595500151957275,
                          30.4560253939686
                        ],
                        [
                          19.596186822306773,
                          30.40809976077055
                        ],
                        [
                          19.546015337525947,
                          30.407549728903486
                        ],
                        [
                          19.54074447709566,
                          30.417597170986674
                        ],
                        [
                          19.54023399024501,
                          30.451876346869106
                        ]
                      ]
                    ]
                  },
                  "bbox": [
                    19.54023399024501,
                    30.407549728903486,
                    19.596186822306773,
                    30.4560253939686
                  ]
                },
                {
                  "id": "12",
                  "type": "Feature",
                  "properties": {
                    "datetime": "2023-06-29 09:34:22+00:00",
                    "platform": "GE01",
                    "gsd": 0.42,
                    "ard_metadata_version": "0.0.1",
                    "catalog_id": "1050050059DEBF00",
                    "utm_zone": 34,
                    "quadkey": "031313122321",
                    "view:off_nadir": 11.2,
                    "view:azimuth": 310.4,
                    "view:incidence_angle": 77.5,
                    "view:sun_azimuth": 109.8,
                    "view:sun_elevation": 72.7,
                    "proj:epsg": 32634,
                    "grid:code": "MXRA-Z34-031313122321",
                    "proj:bbox": "364843.75,3364843.75,368170.3672736583,3370156.25",
                    "tile:data_area": 16.1,
                    "tile:clouds_area": 0,
                    "tile:clouds_percent": 0,
                    "visual": "https://maxar-opendata.s3.amazonaws.com/events/Libya-Floods-Sept-2023/ard/34/031313122321/2023-06-29/1050050059DEBF00-visual.tif",
                    "style": {
                      "color": "black",
                      "fillColor": "black"
                    }
                  },
                  "geometry": {
                    "type": "Polygon",
                    "coordinates": [
                      [
                        [
                          19.592934312400523,
                          30.408064751602552
                        ],
                        [
                          19.592246052376044,
                          30.4559903180283
                        ],
                        [
                          19.626886768277203,
                          30.456356796536785
                        ],
                        [
                          19.623739,
                          30.415639
                        ],
                        [
                          19.623677,
                          30.415492
                        ],
                        [
                          19.623517,
                          30.415343
                        ],
                        [
                          19.611395486184065,
                          30.408259783500164
                        ],
                        [
                          19.592934312400523,
                          30.408064751602552
                        ]
                      ]
                    ]
                  },
                  "bbox": [
                    19.592246052376044,
                    30.408064751602552,
                    19.626886768277203,
                    30.456356796536785
                  ]
                },
                {
                  "id": "13",
                  "type": "Feature",
                  "properties": {
                    "datetime": "2023-07-01 09:07:41+00:00",
                    "platform": "GE01",
                    "gsd": 0.46,
                    "ard_metadata_version": "0.0.1",
                    "catalog_id": "105005005ADE7C00",
                    "utm_zone": 34,
                    "quadkey": "120200213111",
                    "view:off_nadir": 21.2,
                    "view:azimuth": 88.2,
                    "view:incidence_angle": 66.4,
                    "view:sun_azimuth": 111.3,
                    "view:sun_elevation": 68.9,
                    "proj:epsg": 32634,
                    "grid:code": "MXRA-Z34-120200213111",
                    "proj:bbox": "654843.75,3634843.75,660156.25,3635646.3623046875",
                    "tile:data_area": 4,
                    "tile:clouds_area": 0,
                    "tile:clouds_percent": 0,
                    "visual": "https://maxar-opendata.s3.amazonaws.com/events/Libya-Floods-Sept-2023/ard/34/120200213111/2023-07-01/105005005ADE7C00-visual.tif",
                    "style": {
                      "color": "black",
                      "fillColor": "black"
                    }
                  },
                  "geometry": {
                    "type": "Polygon",
                    "coordinates": [
                      [
                        [
                          22.711176527110418,
                          32.84721232388417
                        ],
                        [
                          22.711394932639358,
                          32.84720933632563
                        ],
                        [
                          22.711256018936023,
                          32.839972528327145
                        ],
                        [
                          22.65451322654963,
                          32.84073573895902
                        ],
                        [
                          22.654635178461923,
                          32.847306841977165
                        ],
                        [
                          22.711176527110418,
                          32.84721232388417
                        ]
                      ]
                    ]
                  },
                  "bbox": [
                    22.65451322654963,
                    32.839972528327145,
                    22.711394932639358,
                    32.847306841977165
                  ]
                },
                {
                  "id": "14",
                  "type": "Feature",
                  "properties": {
                    "datetime": "2023-07-01 09:07:41+00:00",
                    "platform": "GE01",
                    "gsd": 0.46,
                    "ard_metadata_version": "0.0.1",
                    "catalog_id": "105005005ADE7C00",
                    "utm_zone": 34,
                    "quadkey": "120200213113",
                    "view:off_nadir": 21.2,
                    "view:azimuth": 87.8,
                    "view:incidence_angle": 66.4,
                    "view:sun_azimuth": 111.3,
                    "view:sun_elevation": 68.9,
                    "proj:epsg": 32634,
                    "grid:code": "MXRA-Z34-120200213113",
                    "proj:bbox": "654843.75,3629843.75,660156.25,3635156.25",
                    "tile:data_area": 28.2,
                    "tile:clouds_area": 0,
                    "tile:clouds_percent": 0,
                    "visual": "https://maxar-opendata.s3.amazonaws.com/events/Libya-Floods-Sept-2023/ard/34/120200213113/2023-07-01/105005005ADE7C00-visual.tif",
                    "style": {
                      "color": "black",
                      "fillColor": "black"
                    }
                  },
                  "geometry": {
                    "type": "Polygon",
                    "coordinates": [
                      [
                        [
                          22.65456551598269,
                          32.84355349927274
                        ],
                        [
                          22.653677586082356,
                          32.795651391124785
                        ],
                        [
                          22.710391753044473,
                          32.794889490532256
                        ],
                        [
                          22.711310099576973,
                          32.84279020672034
                        ],
                        [
                          22.65456551598269,
                          32.84355349927274
                        ]
                      ]
                    ]
                  },
                  "bbox": [
                    22.653677586082356,
                    32.794889490532256,
                    22.711310099576973,
                    32.84355349927274
                  ]
                },
                {
                  "id": "15",
                  "type": "Feature",
                  "properties": {
                    "datetime": "2023-07-01 09:07:41+00:00",
                    "platform": "GE01",
                    "gsd": 0.46,
                    "ard_metadata_version": "0.0.1",
                    "catalog_id": "105005005ADE7C00",
                    "utm_zone": 34,
                    "quadkey": "120200213131",
                    "view:off_nadir": 21.2,
                    "view:azimuth": 86.8,
                    "view:incidence_angle": 66.4,
                    "view:sun_azimuth": 111.3,
                    "view:sun_elevation": 68.9,
                    "proj:epsg": 32634,
                    "grid:code": "MXRA-Z34-120200213131",
                    "proj:bbox": "654843.75,3624843.75,660156.25,3630156.25",
                    "tile:data_area": 28.2,
                    "tile:clouds_area": 0,
                    "tile:clouds_percent": 0,
                    "visual": "https://maxar-opendata.s3.amazonaws.com/events/Libya-Floods-Sept-2023/ard/34/120200213131/2023-07-01/105005005ADE7C00-visual.tif",
                    "style": {
                      "color": "black",
                      "fillColor": "black"
                    }
                  },
                  "geometry": {
                    "type": "Polygon",
                    "coordinates": [
                      [
                        [
                          22.653729759028042,
                          32.798469172943385
                        ],
                        [
                          22.652843807373607,
                          32.75056669936143
                        ],
                        [
                          22.709529412636645,
                          32.749806107513585
                        ],
                        [
                          22.710445713210866,
                          32.79770719051135
                        ],
                        [
                          22.653729759028042,
                          32.798469172943385
                        ]
                      ]
                    ]
                  },
                  "bbox": [
                    22.652843807373607,
                    32.749806107513585,
                    22.710445713210866,
                    32.798469172943385
                  ]
                },
                {
                  "id": "16",
                  "type": "Feature",
                  "properties": {
                    "datetime": "2023-07-01 09:07:41+00:00",
                    "platform": "GE01",
                    "gsd": 0.46,
                    "ard_metadata_version": "0.0.1",
                    "catalog_id": "105005005ADE7C00",
                    "utm_zone": 34,
                    "quadkey": "120200213133",
                    "view:off_nadir": 21.3,
                    "view:azimuth": 85.7,
                    "view:incidence_angle": 66.3,
                    "view:sun_azimuth": 111.3,
                    "view:sun_elevation": 68.9,
                    "proj:epsg": 32634,
                    "grid:code": "MXRA-Z34-120200213133",
                    "proj:bbox": "654843.75,3619843.75,660156.25,3625156.25",
                    "tile:data_area": 28.2,
                    "tile:clouds_area": 0,
                    "tile:clouds_percent": 0,
                    "visual": "https://maxar-opendata.s3.amazonaws.com/events/Libya-Floods-Sept-2023/ard/34/120200213133/2023-07-01/105005005ADE7C00-visual.tif",
                    "style": {
                      "color": "black",
                      "fillColor": "black"
                    }
                  },
                  "geometry": {
                    "type": "Polygon",
                    "coordinates": [
                      [
                        [
                          22.65289586407173,
                          32.75338450266737
                        ],
                        [
                          22.65201188659324,
                          32.70548166394967
                        ],
                        [
                          22.708668993751548,
                          32.70472237955542
                        ],
                        [
                          22.70958325257649,
                          32.75262382906084
                        ],
                        [
                          22.65289586407173,
                          32.75338450266737
                        ]
                      ]
                    ]
                  },
                  "bbox": [
                    22.65201188659324,
                    32.70472237955542,
                    22.70958325257649,
                    32.75338450266737
                  ]
                },
                {
                  "id": "17",
                  "type": "Feature",
                  "properties": {
                    "datetime": "2023-07-01 09:07:41+00:00",
                    "platform": "GE01",
                    "gsd": 0.46,
                    "ard_metadata_version": "0.0.1",
                    "catalog_id": "105005005ADE7C00",
                    "utm_zone": 34,
                    "quadkey": "120200213311",
                    "view:off_nadir": 21.3,
                    "view:azimuth": 85.3,
                    "view:incidence_angle": 66.3,
                    "view:sun_azimuth": 111.3,
                    "view:sun_elevation": 68.9,
                    "proj:epsg": 32634,
                    "grid:code": "MXRA-Z34-120200213311",
                    "proj:bbox": "654843.75,3619034.1186523438,660156.25,3620156.25",
                    "tile:data_area": 5.6,
                    "tile:clouds_area": 0,
                    "tile:clouds_percent": 0,
                    "visual": "https://maxar-opendata.s3.amazonaws.com/events/Libya-Floods-Sept-2023/ard/34/120200213311/2023-07-01/105005005ADE7C00-visual.tif",
                    "style": {
                      "color": "black",
                      "fillColor": "black"
                    }
                  },
                  "geometry": {
                    "type": "Polygon",
                    "coordinates": [
                      [
                        [
                          22.65206382728281,
                          32.70829948872541
                        ],
                        [
                          22.65187735128702,
                          32.69818118004473
                        ],
                        [
                          22.708547312174613,
                          32.6983384253695
                        ],
                        [
                          22.708722713712014,
                          32.70754012265308
                        ],
                        [
                          22.65206382728281,
                          32.70829948872541
                        ]
                      ]
                    ]
                  },
                  "bbox": [
                    22.65187735128702,
                    32.69818118004473,
                    22.708722713712014,
                    32.70829948872541
                  ]
                },
                {
                  "id": "18",
                  "type": "Feature",
                  "properties": {
                    "datetime": "2023-07-01 09:07:41+00:00",
                    "platform": "GE01",
                    "gsd": 0.46,
                    "ard_metadata_version": "0.0.1",
                    "catalog_id": "105005005ADE7C00",
                    "utm_zone": 34,
                    "quadkey": "120200302000",
                    "view:off_nadir": 21.1,
                    "view:azimuth": 87.5,
                    "view:incidence_angle": 66.5,
                    "view:sun_azimuth": 111.3,
                    "view:sun_elevation": 68.9,
                    "proj:epsg": 32634,
                    "grid:code": "MXRA-Z34-120200302000",
                    "proj:bbox": "659843.75,3634843.75,661571.044921875,3635667.1142578125",
                    "tile:data_area": 1.3,
                    "tile:clouds_area": 0,
                    "tile:clouds_percent": 0,
                    "visual": "https://maxar-opendata.s3.amazonaws.com/events/Libya-Floods-Sept-2023/ard/34/120200302000/2023-07-01/105005005ADE7C00-visual.tif",
                    "style": {
                      "color": "black",
                      "fillColor": "black"
                    }
                  },
                  "geometry": {
                    "type": "Polygon",
                    "coordinates": [
                      [
                        [
                          22.72635436839522,
                          32.84719095907321
                        ],
                        [
                          22.726488018445597,
                          32.84718911470202
                        ],
                        [
                          22.726367073831117,
                          32.83976493923921
                        ],
                        [
                          22.70791826721045,
                          32.84001813476968
                        ],
                        [
                          22.708056172132963,
                          32.847216432365734
                        ],
                        [
                          22.72635436839522,
                          32.84719095907321
                        ]
                      ]
                    ]
                  },
                  "bbox": [
                    22.70791826721045,
                    32.83976493923921,
                    22.726488018445597,
                    32.847216432365734
                  ]
                },
                {
                  "id": "19",
                  "type": "Feature",
                  "properties": {
                    "datetime": "2023-07-01 09:07:41+00:00",
                    "platform": "GE01",
                    "gsd": 0.46,
                    "ard_metadata_version": "0.0.1",
                    "catalog_id": "105005005ADE7C00",
                    "utm_zone": 34,
                    "quadkey": "120200302002",
                    "view:off_nadir": 21.1,
                    "view:azimuth": 87.1,
                    "view:incidence_angle": 66.5,
                    "view:sun_azimuth": 111.3,
                    "view:sun_elevation": 68.9,
                    "proj:epsg": 32634,
                    "grid:code": "MXRA-Z34-120200302002",
                    "proj:bbox": "659843.75,3629843.75,661582.6416015625,3635156.25",
                    "tile:data_area": 9.2,
                    "tile:clouds_area": 0,
                    "tile:clouds_percent": 0,
                    "visual": "https://maxar-opendata.s3.amazonaws.com/events/Libya-Floods-Sept-2023/ard/34/120200302002/2023-07-01/105005005ADE7C00-visual.tif",
                    "style": {
                      "color": "black",
                      "fillColor": "black"
                    }
                  },
                  "geometry": {
                    "type": "Polygon",
                    "coordinates": [
                      [
                        [
                          22.707972242493913,
                          32.84283581805806
                        ],
                        [
                          22.707055685044633,
                          32.79493501869265
                        ],
                        [
                          22.725618983313595,
                          32.79468055161378
                        ],
                        [
                          22.72641185268267,
                          32.842582730287646
                        ],
                        [
                          22.707972242493913,
                          32.84283581805806
                        ]
                      ]
                    ]
                  },
                  "bbox": [
                    22.707055685044633,
                    32.79468055161378,
                    22.72641185268267,
                    32.84283581805806
                  ]
                },
                {
                  "id": "20",
                  "type": "Feature",
                  "properties": {
                    "datetime": "2023-07-01 09:07:41+00:00",
                    "platform": "GE01",
                    "gsd": 0.46,
                    "ard_metadata_version": "0.0.1",
                    "catalog_id": "105005005ADE7C00",
                    "utm_zone": 34,
                    "quadkey": "120200302020",
                    "view:off_nadir": 21.1,
                    "view:azimuth": 86,
                    "view:incidence_angle": 66.5,
                    "view:sun_azimuth": 111.3,
                    "view:sun_elevation": 68.9,
                    "proj:epsg": 32634,
                    "grid:code": "MXRA-Z34-120200302020",
                    "proj:bbox": "659843.75,3624843.75,661592.4072265625,3630156.25",
                    "tile:data_area": 9.2,
                    "tile:clouds_area": 0,
                    "tile:clouds_percent": 0,
                    "visual": "https://maxar-opendata.s3.amazonaws.com/events/Libya-Floods-Sept-2023/ard/34/120200302020/2023-07-01/105005005ADE7C00-visual.tif",
                    "style": {
                      "color": "black",
                      "fillColor": "black"
                    }
                  },
                  "geometry": {
                    "type": "Polygon",
                    "coordinates": [
                      [
                        [
                          22.70710954008806,
                          32.79775272356212
                        ],
                        [
                          22.706195024614413,
                          32.7498515574692
                        ],
                        [
                          22.72485317335306,
                          32.74959609310851
                        ],
                        [
                          22.725666907408083,
                          32.79749831896004
                        ],
                        [
                          22.70710954008806,
                          32.79775272356212
                        ]
                      ]
                    ]
                  },
                  "bbox": [
                    22.706195024614413,
                    32.74959609310851,
                    22.725666907408083,
                    32.79775272356212
                  ]
                },
                {
                  "id": "21",
                  "type": "Feature",
                  "properties": {
                    "datetime": "2023-07-01 09:07:41+00:00",
                    "platform": "GE01",
                    "gsd": 0.46,
                    "ard_metadata_version": "0.0.1",
                    "catalog_id": "105005005ADE7C00",
                    "utm_zone": 34,
                    "quadkey": "120200302022",
                    "view:off_nadir": 21.2,
                    "view:azimuth": 84.9,
                    "view:incidence_angle": 66.5,
                    "view:sun_azimuth": 111.3,
                    "view:sun_elevation": 68.9,
                    "proj:epsg": 32634,
                    "grid:code": "MXRA-Z34-120200302022",
                    "proj:bbox": "659843.75,3619843.75,661705.0170898438,3625156.25",
                    "tile:data_area": 9.6,
                    "tile:clouds_area": 0,
                    "tile:clouds_percent": 0,
                    "visual": "https://maxar-opendata.s3.amazonaws.com/events/Libya-Floods-Sept-2023/ard/34/120200302022/2023-07-01/105005005ADE7C00-visual.tif",
                    "style": {
                      "color": "black",
                      "fillColor": "black"
                    }
                  },
                  "geometry": {
                    "type": "Polygon",
                    "coordinates": [
                      [
                        [
                          22.70624875966532,
                          32.75266928390199
                        ],
                        [
                          22.705336281966492,
                          32.70476775138341
                        ],
                        [
                          22.725185984777543,
                          32.70449620809834
                        ],
                        [
                          22.725506342610913,
                          32.722316368940504
                        ],
                        [
                          22.725052600538916,
                          32.726652139292895
                        ],
                        [
                          22.724865778099193,
                          32.73673123651948
                        ],
                        [
                          22.724655804680403,
                          32.7380029804575
                        ],
                        [
                          22.724900982712413,
                          32.75241388174205
                        ],
                        [
                          22.70624875966532,
                          32.75266928390199
                        ]
                      ]
                    ]
                  },
                  "bbox": [
                    22.705336281966492,
                    32.70449620809834,
                    22.725506342610913,
                    32.75266928390199
                  ]
                },
                {
                  "id": "22",
                  "type": "Feature",
                  "properties": {
                    "datetime": "2023-07-01 09:07:41+00:00",
                    "platform": "GE01",
                    "gsd": 0.46,
                    "ard_metadata_version": "0.0.1",
                    "catalog_id": "105005005ADE7C00",
                    "utm_zone": 34,
                    "quadkey": "120200302200",
                    "view:off_nadir": 21.2,
                    "view:azimuth": 84.8,
                    "view:incidence_angle": 66.4,
                    "view:sun_azimuth": 111.3,
                    "view:sun_elevation": 68.9,
                    "proj:epsg": 32634,
                    "grid:code": "MXRA-Z34-120200302200",
                    "proj:bbox": "659843.75,3619129.638671875,661706.54296875,3620156.25",
                    "tile:data_area": 1.8,
                    "tile:clouds_area": 0,
                    "tile:clouds_percent": 0,
                    "visual": "https://maxar-opendata.s3.amazonaws.com/events/Libya-Floods-Sept-2023/ard/34/120200302200/2023-07-01/105005005ADE7C00-visual.tif",
                    "style": {
                      "color": "black",
                      "fillColor": "black"
                    }
                  },
                  "geometry": {
                    "type": "Polygon",
                    "coordinates": [
                      [
                        [
                          22.705389897271576,
                          32.70758549936178
                        ],
                        [
                          22.70521379067675,
                          32.698328751927534
                        ],
                        [
                          22.7250845889074,
                          32.69838175002193
                        ],
                        [
                          22.72520767676656,
                          32.707314374710066
                        ],
                        [
                          22.705389897271576,
                          32.70758549936178
                        ]
                      ]
                    ]
                  },
                  "bbox": [
                    22.70521379067675,
                    32.698328751927534,
                    22.72520767676656,
                    32.70758549936178
                  ]
                },
                {
                  "id": "23",
                  "type": "Feature",
                  "properties": {
                    "datetime": "2023-07-01 09:07:42+00:00",
                    "platform": "GE01",
                    "gsd": 0.46,
                    "ard_metadata_version": "0.0.1",
                    "catalog_id": "105005005ADE7C00",
                    "utm_zone": 34,
                    "quadkey": "120200213110",
                    "view:off_nadir": 21.5,
                    "view:azimuth": 89.7,
                    "view:incidence_angle": 66.1,
                    "view:sun_azimuth": 111.3,
                    "view:sun_elevation": 68.9,
                    "proj:epsg": 32634,
                    "grid:code": "MXRA-Z34-120200213110",
                    "proj:bbox": "649843.75,3634843.75,655156.25,3635576.7822265625",
                    "tile:data_area": 3.7,
                    "tile:clouds_area": 0,
                    "tile:clouds_percent": 0,
                    "visual": "https://maxar-opendata.s3.amazonaws.com/events/Libya-Floods-Sept-2023/ard/34/120200213110/2023-07-01/105005005ADE7C00-visual.tif",
                    "style": {
                      "color": "black",
                      "fillColor": "black"
                    }
                  },
                  "geometry": {
                    "type": "Polygon",
                    "coordinates": [
                      [
                        [
                          22.65786969499545,
                          32.84730255428242
                        ],
                        [
                          22.657851096870832,
                          32.84069155594228
                        ],
                        [
                          22.601106320289365,
                          32.84143056689216
                        ],
                        [
                          22.60121405853662,
                          32.847429471602354
                        ],
                        [
                          22.65786969499545,
                          32.84730255428242
                        ]
                      ]
                    ]
                  },
                  "bbox": [
                    22.601106320289365,
                    32.84069155594228,
                    22.65786969499545,
                    32.847429471602354
                  ]
                },
                {
                  "id": "24",
                  "type": "Feature",
                  "properties": {
                    "datetime": "2023-07-01 09:07:42+00:00",
                    "platform": "GE01",
                    "gsd": 0.46,
                    "ard_metadata_version": "0.0.1",
                    "catalog_id": "105005005ADE7C00",
                    "utm_zone": 34,
                    "quadkey": "120200213112",
                    "view:off_nadir": 21.5,
                    "view:azimuth": 89.3,
                    "view:incidence_angle": 66.1,
                    "view:sun_azimuth": 111.3,
                    "view:sun_elevation": 68.9,
                    "proj:epsg": 32634,
                    "grid:code": "MXRA-Z34-120200213112",
                    "proj:bbox": "649843.75,3629843.75,655156.25,3635156.25",
                    "tile:data_area": 28.2,
                    "tile:clouds_area": 0,
                    "tile:clouds_percent": 0,
                    "visual": "https://maxar-opendata.s3.amazonaws.com/events/Libya-Floods-Sept-2023/ard/34/120200213112/2023-07-01/105005005ADE7C00-visual.tif",
                    "style": {
                      "color": "black",
                      "fillColor": "black"
                    }
                  },
                  "geometry": {
                    "type": "Polygon",
                    "coordinates": [
                      [
                        [
                          22.601156923631404,
                          32.844248401787645
                        ],
                        [
                          22.6002976253637,
                          32.79634502637726
                        ],
                        [
                          22.657013772433526,
                          32.79560728394812
                        ],
                        [
                          22.657903491676674,
                          32.8435093115135
                        ],
                        [
                          22.601156923631404,
                          32.844248401787645
                        ]
                      ]
                    ]
                  },
                  "bbox": [
                    22.6002976253637,
                    32.79560728394812,
                    22.657903491676674,
                    32.844248401787645
                  ]
                },
                {
                  "id": "25",
                  "type": "Feature",
                  "properties": {
                    "datetime": "2023-07-01 09:07:42+00:00",
                    "platform": "GE01",
                    "gsd": 0.46,
                    "ard_metadata_version": "0.0.1",
                    "catalog_id": "105005005ADE7C00",
                    "utm_zone": 34,
                    "quadkey": "120200213130",
                    "view:off_nadir": 21.5,
                    "view:azimuth": 88.3,
                    "view:incidence_angle": 66.1,
                    "view:sun_azimuth": 111.3,
                    "view:sun_elevation": 68.9,
                    "proj:epsg": 32634,
                    "grid:code": "MXRA-Z34-120200213130",
                    "proj:bbox": "649843.75,3624843.75,655156.25,3630156.25",
                    "tile:data_area": 28.2,
                    "tile:clouds_area": 0,
                    "tile:clouds_percent": 0,
                    "visual": "https://maxar-opendata.s3.amazonaws.com/events/Libya-Floods-Sept-2023/ard/34/120200213130/2023-07-01/105005005ADE7C00-visual.tif",
                    "style": {
                      "color": "black",
                      "fillColor": "black"
                    }
                  },
                  "geometry": {
                    "type": "Polygon",
                    "coordinates": [
                      [
                        [
                          22.60034811597184,
                          32.79916288270382
                        ],
                        [
                          22.599490732206565,
                          32.75125914311197
                        ],
                        [
                          22.6561783135037,
                          32.75052266794987
                        ],
                        [
                          22.65706605051743,
                          32.79842506102891
                        ],
                        [
                          22.60034811597184,
                          32.79916288270382
                        ]
                      ]
                    ]
                  },
                  "bbox": [
                    22.599490732206565,
                    32.75052266794987,
                    22.65706605051743,
                    32.79916288270382
                  ]
                },
                {
                  "id": "26",
                  "type": "Feature",
                  "properties": {
                    "datetime": "2023-07-01 09:07:42+00:00",
                    "platform": "GE01",
                    "gsd": 0.46,
                    "ard_metadata_version": "0.0.1",
                    "catalog_id": "105005005ADE7C00",
                    "utm_zone": 34,
                    "quadkey": "120200213132",
                    "view:off_nadir": 21.5,
                    "view:azimuth": 87.3,
                    "view:incidence_angle": 66.1,
                    "view:sun_azimuth": 111.3,
                    "view:sun_elevation": 68.9,
                    "proj:epsg": 32634,
                    "grid:code": "MXRA-Z34-120200213132",
                    "proj:bbox": "649843.75,3619843.75,655156.25,3625156.25",
                    "tile:data_area": 28.2,
                    "tile:clouds_area": 0,
                    "tile:clouds_percent": 0,
                    "visual": "https://maxar-opendata.s3.amazonaws.com/events/Libya-Floods-Sept-2023/ard/34/120200213132/2023-07-01/105005005ADE7C00-visual.tif",
                    "style": {
                      "color": "black",
                      "fillColor": "black"
                    }
                  },
                  "geometry": {
                    "type": "Polygon",
                    "coordinates": [
                      [
                        [
                          22.5995411103129,
                          32.75407702085231
                        ],
                        [
                          22.598685637111,
                          32.706172917373806
                        ],
                        [
                          22.6553447162435,
                          32.70543770822849
                        ],
                        [
                          22.656230475105954,
                          32.753340466522694
                        ],
                        [
                          22.5995411103129,
                          32.75407702085231
                        ]
                      ]
                    ]
                  },
                  "bbox": [
                    22.598685637111,
                    32.70543770822849,
                    22.656230475105954,
                    32.75407702085231
                  ]
                },
                {
                  "id": "27",
                  "type": "Feature",
                  "properties": {
                    "datetime": "2023-07-01 09:07:42+00:00",
                    "platform": "GE01",
                    "gsd": 0.46,
                    "ard_metadata_version": "0.0.1",
                    "catalog_id": "105005005ADE7C00",
                    "utm_zone": 34,
                    "quadkey": "120200213310",
                    "view:off_nadir": 21.5,
                    "view:azimuth": 86.9,
                    "view:incidence_angle": 66.1,
                    "view:sun_azimuth": 111.3,
                    "view:sun_elevation": 68.9,
                    "proj:epsg": 32634,
                    "grid:code": "MXRA-Z34-120200213310",
                    "proj:bbox": "649843.75,3618940.1245117188,655156.25,3620156.25",
                    "tile:data_area": 6.1,
                    "tile:clouds_area": 0,
                    "tile:clouds_percent": 0,
                    "visual": "https://maxar-opendata.s3.amazonaws.com/events/Libya-Floods-Sept-2023/ard/34/120200213310/2023-07-01/105005005ADE7C00-visual.tif",
                    "style": {
                      "color": "black",
                      "fillColor": "black"
                    }
                  },
                  "geometry": {
                    "type": "Polygon",
                    "coordinates": [
                      [
                        [
                          22.598735902946853,
                          32.70899081651058
                        ],
                        [
                          22.59854032777568,
                          32.69802466830633
                        ],
                        [
                          22.65521087509309,
                          32.6981895204199
                        ],
                        [
                          22.655396761603598,
                          32.708255528275764
                        ],
                        [
                          22.598735902946853,
                          32.70899081651058
                        ]
                      ]
                    ]
                  },
                  "bbox": [
                    22.59854032777568,
                    32.69802466830633,
                    22.655396761603598,
                    32.70899081651058
                  ]
                },
                {
                  "id": "28",
                  "type": "Feature",
                  "properties": {
                    "datetime": "2023-07-01 09:07:43+00:00",
                    "platform": "GE01",
                    "gsd": 0.46,
                    "ard_metadata_version": "0.0.1",
                    "catalog_id": "105005005ADE7C00",
                    "utm_zone": 34,
                    "quadkey": "120200213101",
                    "view:off_nadir": 21.7,
                    "view:azimuth": 91.1,
                    "view:incidence_angle": 65.8,
                    "view:sun_azimuth": 111.2,
                    "view:sun_elevation": 68.8,
                    "proj:epsg": 32634,
                    "grid:code": "MXRA-Z34-120200213101",
                    "proj:bbox": "644843.75,3634843.75,650156.25,3635512.6953125",
                    "tile:data_area": 3.3,
                    "tile:clouds_area": 0,
                    "tile:clouds_percent": 0,
                    "visual": "https://maxar-opendata.s3.amazonaws.com/events/Libya-Floods-Sept-2023/ard/34/120200213101/2023-07-01/105005005ADE7C00-visual.tif",
                    "style": {
                      "color": "black",
                      "fillColor": "black"
                    }
                  },
                  "geometry": {
                    "type": "Polygon",
                    "coordinates": [
                      [
                        [
                          22.604422463727317,
                          32.847421396176195
                        ],
                        [
                          22.604444305449526,
                          32.8413878074702
                        ],
                        [
                          22.5476976085432,
                          32.84210261591142
                        ],
                        [
                          22.547792821479714,
                          32.84758707631954
                        ],
                        [
                          22.604422463727317,
                          32.847421396176195
                        ]
                      ]
                    ]
                  },
                  "bbox": [
                    22.5476976085432,
                    32.8413878074702,
                    22.604444305449526,
                    32.84758707631954
                  ]
                },
                {
                  "id": "29",
                  "type": "Feature",
                  "properties": {
                    "datetime": "2023-07-01 09:07:43+00:00",
                    "platform": "GE01",
                    "gsd": 0.46,
                    "ard_metadata_version": "0.0.1",
                    "catalog_id": "105005005ADE7C00",
                    "utm_zone": 34,
                    "quadkey": "120200213103",
                    "view:off_nadir": 21.7,
                    "view:azimuth": 90.8,
                    "view:incidence_angle": 65.8,
                    "view:sun_azimuth": 111.2,
                    "view:sun_elevation": 68.8,
                    "proj:epsg": 32634,
                    "grid:code": "MXRA-Z34-120200213103",
                    "proj:bbox": "644843.75,3629843.75,650156.25,3635156.25",
                    "tile:data_area": 28.2,
                    "tile:clouds_area": 0,
                    "tile:clouds_percent": 0,
                    "visual": "https://maxar-opendata.s3.amazonaws.com/events/Libya-Floods-Sept-2023/ard/34/120200213103/2023-07-01/105005005ADE7C00-visual.tif",
                    "style": {
                      "color": "black",
                      "fillColor": "black"
                    }
                  },
                  "geometry": {
                    "type": "Polygon",
                    "coordinates": [
                      [
                        [
                          22.547746525561326,
                          32.8449205229447
                        ],
                        [
                          22.546915862878617,
                          32.7970159217987
                        ],
                        [
                          22.60363392631726,
                          32.79630234035288
                        ],
                        [
                          22.604495014179154,
                          32.84420563777591
                        ],
                        [
                          22.547746525561326,
                          32.8449205229447
                        ]
                      ]
                    ]
                  },
                  "bbox": [
                    22.546915862878617,
                    32.79630234035288,
                    22.604495014179154,
                    32.8449205229447
                  ]
                },
                {
                  "id": "30",
                  "type": "Feature",
                  "properties": {
                    "datetime": "2023-07-01 09:07:43+00:00",
                    "platform": "GE01",
                    "gsd": 0.46,
                    "ard_metadata_version": "0.0.1",
                    "catalog_id": "105005005ADE7C00",
                    "utm_zone": 34,
                    "quadkey": "120200213121",
                    "view:off_nadir": 21.7,
                    "view:azimuth": 89.8,
                    "view:incidence_angle": 65.8,
                    "view:sun_azimuth": 111.2,
                    "view:sun_elevation": 68.8,
                    "proj:epsg": 32634,
                    "grid:code": "MXRA-Z34-120200213121",
                    "proj:bbox": "644843.75,3624843.75,650156.25,3630156.25",
                    "tile:data_area": 28.2,
                    "tile:clouds_area": 0,
                    "tile:clouds_percent": 0,
                    "visual": "https://maxar-opendata.s3.amazonaws.com/events/Libya-Floods-Sept-2023/ard/34/120200213121/2023-07-01/105005005ADE7C00-visual.tif",
                    "style": {
                      "color": "black",
                      "fillColor": "black"
                    }
                  },
                  "geometry": {
                    "type": "Polygon",
                    "coordinates": [
                      [
                        [
                          22.546964670917102,
                          32.799833850191696
                        ],
                        [
                          22.54613585898003,
                          32.75192888607584
                        ],
                        [
                          22.602825352703267,
                          32.75121653041266
                        ],
                        [
                          22.603684522078375,
                          32.799120192094236
                        ],
                        [
                          22.546964670917102,
                          32.799833850191696
                        ]
                      ]
                    ]
                  },
                  "bbox": [
                    22.54613585898003,
                    32.75121653041266,
                    22.603684522078375,
                    32.799833850191696
                  ]
                },
                {
                  "id": "31",
                  "type": "Feature",
                  "properties": {
                    "datetime": "2023-07-01 09:07:43+00:00",
                    "platform": "GE01",
                    "gsd": 0.46,
                    "ard_metadata_version": "0.0.1",
                    "catalog_id": "105005005ADE7C00",
                    "utm_zone": 34,
                    "quadkey": "120200213123",
                    "view:off_nadir": 21.7,
                    "view:azimuth": 88.8,
                    "view:incidence_angle": 65.8,
                    "view:sun_azimuth": 111.2,
                    "view:sun_elevation": 68.8,
                    "proj:epsg": 32634,
                    "grid:code": "MXRA-Z34-120200213123",
                    "proj:bbox": "644843.75,3619843.75,650156.25,3625156.25",
                    "tile:data_area": 28.2,
                    "tile:clouds_area": 0,
                    "tile:clouds_percent": 0,
                    "visual": "https://maxar-opendata.s3.amazonaws.com/events/Libya-Floods-Sept-2023/ard/34/120200213123/2023-07-01/105005005ADE7C00-visual.tif",
                    "style": {
                      "color": "black",
                      "fillColor": "black"
                    }
                  },
                  "geometry": {
                    "type": "Polygon",
                    "coordinates": [
                      [
                        [
                          22.546184558263256,
                          32.75474683581144
                        ],
                        [
                          22.54535759326373,
                          32.70684150901719
                        ],
                        [
                          22.602018580892892,
                          32.70613037792722
                        ],
                        [
                          22.602875835728447,
                          32.75403440357231
                        ],
                        [
                          22.546184558263256,
                          32.75474683581144
                        ]
                      ]
                    ]
                  },
                  "bbox": [
                    22.54535759326373,
                    32.70613037792722,
                    22.602875835728447,
                    32.75474683581144
                  ]
                },
                {
                  "id": "32",
                  "type": "Feature",
                  "properties": {
                    "datetime": "2023-07-01 09:07:43+00:00",
                    "platform": "GE01",
                    "gsd": 0.46,
                    "ard_metadata_version": "0.0.1",
                    "catalog_id": "105005005ADE7C00",
                    "utm_zone": 34,
                    "quadkey": "120200213301",
                    "view:off_nadir": 21.8,
                    "view:azimuth": 88.4,
                    "view:incidence_angle": 65.8,
                    "view:sun_azimuth": 111.2,
                    "view:sun_elevation": 68.8,
                    "proj:epsg": 32634,
                    "grid:code": "MXRA-Z34-120200213301",
                    "proj:bbox": "644843.75,3618848.5717773438,650156.25,3620156.25",
                    "tile:data_area": 6.6,
                    "tile:clouds_area": 0,
                    "tile:clouds_percent": 0,
                    "visual": "https://maxar-opendata.s3.amazonaws.com/events/Libya-Floods-Sept-2023/ard/34/120200213301/2023-07-01/105005005ADE7C00-visual.tif",
                    "style": {
                      "color": "black",
                      "fillColor": "black"
                    }
                  },
                  "geometry": {
                    "type": "Polygon",
                    "coordinates": [
                      [
                        [
                          22.545406184015327,
                          32.70965948007822
                        ],
                        [
                          22.54520289774198,
                          32.697867473158105
                        ],
                        [
                          22.601873903100323,
                          32.69803442732751
                        ],
                        [
                          22.602068951413937,
                          32.70894827248781
                        ],
                        [
                          22.545406184015327,
                          32.70965948007822
                        ]
                      ]
                    ]
                  },
                  "bbox": [
                    22.54520289774198,
                    32.697867473158105,
                    22.602068951413937,
                    32.70965948007822
                  ]
                },
                {
                  "id": "33",
                  "type": "Feature",
                  "properties": {
                    "datetime": "2023-07-01 09:07:44+00:00",
                    "platform": "GE01",
                    "gsd": 0.47,
                    "ard_metadata_version": "0.0.1",
                    "catalog_id": "105005005ADE7C00",
                    "utm_zone": 34,
                    "quadkey": "120200213100",
                    "view:off_nadir": 22,
                    "view:azimuth": 92.2,
                    "view:incidence_angle": 65.6,
                    "view:sun_azimuth": 111.2,
                    "view:sun_elevation": 68.8,
                    "proj:epsg": 32634,
                    "grid:code": "MXRA-Z34-120200213100",
                    "proj:bbox": "641148.9868164062,3634843.75,645156.25,3635455.322265625",
                    "tile:data_area": 2.3,
                    "tile:clouds_area": 0,
                    "tile:clouds_percent": 0,
                    "visual": "https://maxar-opendata.s3.amazonaws.com/events/Libya-Floods-Sept-2023/ard/34/120200213100/2023-07-01/105005005ADE7C00-visual.tif",
                    "style": {
                      "color": "black",
                      "fillColor": "black"
                    }
                  },
                  "geometry": {
                    "type": "Polygon",
                    "coordinates": [
                      [
                        [
                          22.55105340820468,
                          32.84757697246395
                        ],
                        [
                          22.55113164959208,
                          32.84757600243718
                        ],
                        [
                          22.55103570478485,
                          32.8420612802478
                        ],
                        [
                          22.50835385315629,
                          32.8425830979969
                        ],
                        [
                          22.50835087253969,
                          32.84259964877608
                        ],
                        [
                          22.508316895742706,
                          32.847722411612075
                        ],
                        [
                          22.55105340820468,
                          32.84757697246395
                        ]
                      ]
                    ]
                  },
                  "bbox": [
                    22.508316895742706,
                    32.8420612802478,
                    22.55113164959208,
                    32.847722411612075
                  ]
                },
                {
                  "id": "34",
                  "type": "Feature",
                  "properties": {
                    "datetime": "2023-07-01 09:07:44+00:00",
                    "platform": "GE01",
                    "gsd": 0.47,
                    "ard_metadata_version": "0.0.1",
                    "catalog_id": "105005005ADE7C00",
                    "utm_zone": 34,
                    "quadkey": "120200213102",
                    "view:off_nadir": 22,
                    "view:azimuth": 92,
                    "view:incidence_angle": 65.6,
                    "view:sun_azimuth": 111.2,
                    "view:sun_elevation": 68.8,
                    "proj:epsg": 32634,
                    "grid:code": "MXRA-Z34-120200213102",
                    "proj:bbox": "641154.1748046875,3629843.75,645156.25,3635156.25",
                    "tile:data_area": 20.9,
                    "tile:clouds_area": 0,
                    "tile:clouds_percent": 0,
                    "visual": "https://maxar-opendata.s3.amazonaws.com/events/Libya-Floods-Sept-2023/ard/34/120200213102/2023-07-01/105005005ADE7C00-visual.tif",
                    "style": {
                      "color": "black",
                      "fillColor": "black"
                    }
                  },
                  "geometry": {
                    "type": "Polygon",
                    "coordinates": [
                      [
                        [
                          22.508333066915654,
                          32.84540188195674
                        ],
                        [
                          22.508580812205167,
                          32.80799543119946
                        ],
                        [
                          22.50885292132762,
                          32.797480390119105
                        ],
                        [
                          22.55025227468482,
                          32.796974657089805
                        ],
                        [
                          22.5510847272049,
                          32.84487918284406
                        ],
                        [
                          22.508333066915654,
                          32.84540188195674
                        ]
                      ]
                    ]
                  },
                  "bbox": [
                    22.508333066915654,
                    32.796974657089805,
                    22.5510847272049,
                    32.84540188195674
                  ]
                },
                {
                  "id": "35",
                  "type": "Feature",
                  "properties": {
                    "datetime": "2023-07-01 09:07:44+00:00",
                    "platform": "GE01",
                    "gsd": 0.46,
                    "ard_metadata_version": "0.0.1",
                    "catalog_id": "105005005ADE7C00",
                    "utm_zone": 34,
                    "quadkey": "120200213120",
                    "view:off_nadir": 21.9,
                    "view:azimuth": 90.9,
                    "view:incidence_angle": 65.6,
                    "view:sun_azimuth": 111.2,
                    "view:sun_elevation": 68.8,
                    "proj:epsg": 32634,
                    "grid:code": "MXRA-Z34-120200213120",
                    "proj:bbox": "641268.0053710938,3624843.75,645156.25,3630156.25",
                    "tile:data_area": 19.9,
                    "tile:clouds_area": 0,
                    "tile:clouds_percent": 0,
                    "visual": "https://maxar-opendata.s3.amazonaws.com/events/Libya-Floods-Sept-2023/ard/34/120200213120/2023-07-01/105005005ADE7C00-visual.tif",
                    "style": {
                      "color": "black",
                      "fillColor": "black"
                    }
                  },
                  "geometry": {
                    "type": "Polygon",
                    "coordinates": [
                      [
                        [
                          22.508786485686624,
                          32.800299742755804
                        ],
                        [
                          22.550301187890565,
                          32.799792581050184
                        ],
                        [
                          22.549470590101304,
                          32.75188769225155
                        ],
                        [
                          22.51047270248721,
                          32.752363880936805
                        ],
                        [
                          22.510535545195932,
                          32.75492846253777
                        ],
                        [
                          22.510326134734463,
                          32.75699536877126
                        ],
                        [
                          22.51030590525725,
                          32.76293552357493
                        ],
                        [
                          22.51005409376624,
                          32.764807510596704
                        ],
                        [
                          22.510268050504457,
                          32.77168894392886
                        ],
                        [
                          22.509511697709417,
                          32.77937754000449
                        ],
                        [
                          22.51003846244882,
                          32.78201358917733
                        ],
                        [
                          22.509994327978855,
                          32.78634380009212
                        ],
                        [
                          22.50982870267025,
                          32.788498249213234
                        ],
                        [
                          22.509214960834377,
                          32.79016815496024
                        ],
                        [
                          22.50910235446511,
                          32.79102553814957
                        ],
                        [
                          22.508786485686624,
                          32.800299742755804
                        ]
                      ]
                    ]
                  },
                  "bbox": [
                    22.508786485686624,
                    32.75188769225155,
                    22.550301187890565,
                    32.800299742755804
                  ]
                },
                {
                  "id": "36",
                  "type": "Feature",
                  "properties": {
                    "datetime": "2023-07-01 09:07:44+00:00",
                    "platform": "GE01",
                    "gsd": 0.46,
                    "ard_metadata_version": "0.0.1",
                    "catalog_id": "105005005ADE7C00",
                    "utm_zone": 34,
                    "quadkey": "120200213122",
                    "view:off_nadir": 21.9,
                    "view:azimuth": 89.9,
                    "view:incidence_angle": 65.6,
                    "view:sun_azimuth": 111.2,
                    "view:sun_elevation": 68.8,
                    "proj:epsg": 32634,
                    "grid:code": "MXRA-Z34-120200213122",
                    "proj:bbox": "641502.0751953125,3619843.75,645156.25,3625156.25",
                    "tile:data_area": 19.2,
                    "tile:clouds_area": 0,
                    "tile:clouds_percent": 0,
                    "visual": "https://maxar-opendata.s3.amazonaws.com/events/Libya-Floods-Sept-2023/ard/34/120200213122/2023-07-01/105005005ADE7C00-visual.tif",
                    "style": {
                      "color": "black",
                      "fillColor": "black"
                    }
                  },
                  "geometry": {
                    "type": "Polygon",
                    "coordinates": [
                      [
                        [
                          22.510523536275883,
                          32.75518183817048
                        ],
                        [
                          22.54951939431761,
                          32.75470563755891
                        ],
                        [
                          22.54869064744289,
                          32.70680038600756
                        ],
                        [
                          22.510561928548963,
                          32.70726552428144
                        ],
                        [
                          22.51002850718234,
                          32.716569986189704
                        ],
                        [
                          22.51068957837528,
                          32.72565085333961
                        ],
                        [
                          22.510523536275883,
                          32.75518183817048
                        ]
                      ]
                    ]
                  },
                  "bbox": [
                    22.51002850718234,
                    32.70680038600756,
                    22.54951939431761,
                    32.75518183817048
                  ]
                },
                {
                  "id": "37",
                  "type": "Feature",
                  "properties": {
                    "datetime": "2023-07-01 09:07:44+00:00",
                    "platform": "GE01",
                    "gsd": 0.46,
                    "ard_metadata_version": "0.0.1",
                    "catalog_id": "105005005ADE7C00",
                    "utm_zone": 34,
                    "quadkey": "120200213300",
                    "view:off_nadir": 21.9,
                    "view:azimuth": 89.6,
                    "view:incidence_angle": 65.6,
                    "view:sun_azimuth": 111.2,
                    "view:sun_elevation": 68.8,
                    "proj:epsg": 32634,
                    "grid:code": "MXRA-Z34-120200213300",
                    "proj:bbox": "641562.5,3618789.9780273438,645156.25,3620156.25",
                    "tile:data_area": 4.7,
                    "tile:clouds_area": 0,
                    "tile:clouds_percent": 0,
                    "visual": "https://maxar-opendata.s3.amazonaws.com/events/Libya-Floods-Sept-2023/ard/34/120200213300/2023-07-01/105005005ADE7C00-visual.tif",
                    "style": {
                      "color": "black",
                      "fillColor": "black"
                    }
                  },
                  "geometry": {
                    "type": "Polygon",
                    "coordinates": [
                      [
                        [
                          22.51042388498788,
                          32.71008577622148
                        ],
                        [
                          22.54873934289386,
                          32.70961835264473
                        ],
                        [
                          22.548536474131875,
                          32.697875898890686
                        ],
                        [
                          22.51091930307733,
                          32.69775673038125
                        ],
                        [
                          22.510862642246597,
                          32.70057600576223
                        ],
                        [
                          22.51029570923898,
                          32.703445467358065
                        ],
                        [
                          22.510575775170366,
                          32.707507580000154
                        ],
                        [
                          22.51042388498788,
                          32.71008577622148
                        ]
                      ]
                    ]
                  },
                  "bbox": [
                    22.51029570923898,
                    32.69775673038125,
                    22.54873934289386,
                    32.71008577622148
                  ]
                },
                {
                  "id": "38",
                  "type": "Feature",
                  "properties": {
                    "datetime": "2023-08-30 09:06:21+00:00",
                    "platform": "GE01",
                    "gsd": 0.51,
                    "ard_metadata_version": "0.0.1",
                    "catalog_id": "1050050064DEAB00",
                    "utm_zone": 34,
                    "quadkey": "120200203123",
                    "view:off_nadir": 27.3,
                    "view:azimuth": 93.8,
                    "view:incidence_angle": 59.5,
                    "view:sun_azimuth": 134.4,
                    "view:sun_elevation": 59,
                    "proj:epsg": 32634,
                    "grid:code": "MXRA-Z34-120200203123",
                    "proj:bbox": "565785.3021622654,3621929.859086028,570156.25,3625156.25",
                    "tile:data_area": 13.2,
                    "tile:clouds_area": 0,
                    "tile:clouds_percent": 0,
                    "visual": "https://maxar-opendata.s3.amazonaws.com/events/Libya-Floods-Sept-2023/ard/34/120200203123/2023-08-30/1050050064DEAB00-visual.tif",
                    "style": {
                      "color": "black",
                      "fillColor": "black"
                    }
                  },
                  "geometry": {
                    "type": "Polygon",
                    "coordinates": [
                      [
                        [
                          21.748997277937928,
                          32.76204824233316
                        ],
                        [
                          21.748762342400664,
                          32.73395601908573
                        ],
                        [
                          21.706952,
                          32.733189
                        ],
                        [
                          21.706701,
                          32.733237
                        ],
                        [
                          21.706512,
                          32.73337
                        ],
                        [
                          21.70641,
                          32.733586
                        ],
                        [
                          21.702334751161658,
                          32.76231660966836
                        ],
                        [
                          21.748997277937928,
                          32.76204824233316
                        ]
                      ]
                    ]
                  },
                  "bbox": [
                    21.702334751161658,
                    32.733189,
                    21.748997277937928,
                    32.76231660966836
                  ]
                },
                {
                  "id": "39",
                  "type": "Feature",
                  "properties": {
                    "datetime": "2023-08-30 09:06:21+00:00",
                    "platform": "GE01",
                    "gsd": 0.5,
                    "ard_metadata_version": "0.0.1",
                    "catalog_id": "1050050064DEAB00",
                    "utm_zone": 34,
                    "quadkey": "120200203132",
                    "view:off_nadir": 27,
                    "view:azimuth": 93.9,
                    "view:incidence_angle": 59.8,
                    "view:sun_azimuth": 134.4,
                    "view:sun_elevation": 59,
                    "proj:epsg": 32634,
                    "grid:code": "MXRA-Z34-120200203132",
                    "proj:bbox": "569843.75,3622033.9391993196,575156.25,3625156.25",
                    "tile:data_area": 16.1,
                    "tile:clouds_area": 0,
                    "tile:clouds_percent": 0,
                    "visual": "https://maxar-opendata.s3.amazonaws.com/events/Libya-Floods-Sept-2023/ard/34/120200203132/2023-08-30/1050050064DEAB00-visual.tif",
                    "style": {
                      "color": "black",
                      "fillColor": "black"
                    }
                  },
                  "geometry": {
                    "type": "Polygon",
                    "coordinates": [
                      [
                        [
                          21.74566123186451,
                          32.76206813932023
                        ],
                        [
                          21.80237355749652,
                          32.76171781347056
                        ],
                        [
                          21.8021336127181,
                          32.73493512570415
                        ],
                        [
                          21.745426667533515,
                          32.73389482546377
                        ],
                        [
                          21.74566123186451,
                          32.76206813932023
                        ]
                      ]
                    ]
                  },
                  "bbox": [
                    21.745426667533515,
                    32.73389482546377,
                    21.80237355749652,
                    32.76206813932023
                  ]
                },
                {
                  "id": "40",
                  "type": "Feature",
                  "properties": {
                    "datetime": "2023-08-30 09:06:21+00:00",
                    "platform": "GE01",
                    "gsd": 0.5,
                    "ard_metadata_version": "0.0.1",
                    "catalog_id": "1050050064DEAB00",
                    "utm_zone": 34,
                    "quadkey": "120200203133",
                    "view:off_nadir": 26.8,
                    "view:azimuth": 93.9,
                    "view:incidence_angle": 60.1,
                    "view:sun_azimuth": 134.4,
                    "view:sun_elevation": 59,
                    "proj:epsg": 32634,
                    "grid:code": "MXRA-Z34-120200203133",
                    "proj:bbox": "574843.75,3622178.3151697195,576172.687771636,3625156.25",
                    "tile:data_area": 3.7,
                    "tile:clouds_area": 0,
                    "tile:clouds_percent": 0,
                    "visual": "https://maxar-opendata.s3.amazonaws.com/events/Libya-Floods-Sept-2023/ard/34/120200203133/2023-08-30/1050050064DEAB00-visual.tif",
                    "style": {
                      "color": "black",
                      "fillColor": "black"
                    }
                  },
                  "geometry": {
                    "type": "Polygon",
                    "coordinates": [
                      [
                        [
                          21.799037565846465,
                          32.76173913127703
                        ],
                        [
                          21.813224887139604,
                          32.76164704580488
                        ],
                        [
                          21.811962,
                          32.735478
                        ],
                        [
                          21.811899,
                          32.735331
                        ],
                        [
                          21.81178,
                          32.735211
                        ],
                        [
                          21.811619,
                          32.735133
                        ],
                        [
                          21.811448,
                          32.735106
                        ],
                        [
                          21.798797882458885,
                          32.73487393106601
                        ],
                        [
                          21.799037565846465,
                          32.76173913127703
                        ]
                      ]
                    ]
                  },
                  "bbox": [
                    21.798797882458885,
                    32.73487393106601,
                    21.813224887139604,
                    32.76173913127703
                  ]
                },
                {
                  "id": "41",
                  "type": "Feature",
                  "properties": {
                    "datetime": "2023-08-30 09:06:22+00:00",
                    "platform": "GE01",
                    "gsd": 0.51,
                    "ard_metadata_version": "0.0.1",
                    "catalog_id": "1050050064DEAB00",
                    "utm_zone": 34,
                    "quadkey": "120200203121",
                    "view:off_nadir": 27.3,
                    "view:azimuth": 95.7,
                    "view:incidence_angle": 59.5,
                    "view:sun_azimuth": 134.5,
                    "view:sun_elevation": 59,
                    "proj:epsg": 32634,
                    "grid:code": "MXRA-Z34-120200203121",
                    "proj:bbox": "565423.4395338238,3624843.75,570156.25,3628878.651639819",
                    "tile:data_area": 16.5,
                    "tile:clouds_area": 0.1,
                    "tile:clouds_percent": 0,
                    "visual": "https://maxar-opendata.s3.amazonaws.com/events/Libya-Floods-Sept-2023/ard/34/120200203121/2023-08-30/1050050064DEAB00-visual.tif",
                    "style": {
                      "color": "black",
                      "fillColor": "black"
                    }
                  },
                  "geometry": {
                    "type": "Polygon",
                    "coordinates": [
                      [
                        [
                          21.74897367843493,
                          32.759229507734766
                        ],
                        [
                          21.70273491877166,
                          32.759495417672234
                        ],
                        [
                          21.698674,
                          32.788125
                        ],
                        [
                          21.698678,
                          32.788257
                        ],
                        [
                          21.698741,
                          32.788404
                        ],
                        [
                          21.69891,
                          32.788555
                        ],
                        [
                          21.699116,
                          32.788624
                        ],
                        [
                          21.749278612159117,
                          32.795610167768956
                        ],
                        [
                          21.74897367843493,
                          32.759229507734766
                        ]
                      ]
                    ]
                  },
                  "bbox": [
                    21.698674,
                    32.759229507734766,
                    21.749278612159117,
                    32.795610167768956
                  ]
                },
                {
                  "id": "42",
                  "type": "Feature",
                  "properties": {
                    "datetime": "2023-08-30 09:06:22+00:00",
                    "platform": "GE01",
                    "gsd": 0.5,
                    "ard_metadata_version": "0.0.1",
                    "catalog_id": "1050050064DEAB00",
                    "utm_zone": 34,
                    "quadkey": "120200203130",
                    "view:off_nadir": 27,
                    "view:azimuth": 95.8,
                    "view:incidence_angle": 59.9,
                    "view:sun_azimuth": 134.5,
                    "view:sun_elevation": 59,
                    "proj:epsg": 32634,
                    "grid:code": "MXRA-Z34-120200203130",
                    "proj:bbox": "569843.75,3624843.75,575156.25,3629739.9217348387",
                    "tile:data_area": 23.5,
                    "tile:clouds_area": 0,
                    "tile:clouds_percent": 0,
                    "visual": "https://maxar-opendata.s3.amazonaws.com/events/Libya-Floods-Sept-2023/ard/34/120200203130/2023-08-30/1050050064DEAB00-visual.tif",
                    "style": {
                      "color": "black",
                      "fillColor": "black"
                    }
                  },
                  "geometry": {
                    "type": "Polygon",
                    "coordinates": [
                      [
                        [
                          21.802348276631932,
                          32.75889911439427
                        ],
                        [
                          21.74563773745029,
                          32.759249402582846
                        ],
                        [
                          21.74593726397562,
                          32.79514481682371
                        ],
                        [
                          21.802744766411926,
                          32.803056421213384
                        ],
                        [
                          21.802348276631932,
                          32.75889911439427
                        ]
                      ]
                    ]
                  },
                  "bbox": [
                    21.74563773745029,
                    32.75889911439427,
                    21.802744766411926,
                    32.803056421213384
                  ]
                },
                {
                  "id": "43",
                  "type": "Feature",
                  "properties": {
                    "datetime": "2023-08-30 09:06:22+00:00",
                    "platform": "GE01",
                    "gsd": 0.5,
                    "ard_metadata_version": "0.0.1",
                    "catalog_id": "1050050064DEAB00",
                    "utm_zone": 34,
                    "quadkey": "120200203131",
                    "view:off_nadir": 26.7,
                    "view:azimuth": 96,
                    "view:incidence_angle": 60.1,
                    "view:sun_azimuth": 134.5,
                    "view:sun_elevation": 59,
                    "proj:epsg": 32634,
                    "grid:code": "MXRA-Z34-120200203131",
                    "proj:bbox": "574843.75,3624843.75,576328.9570455004,3629932.2974948213",
                    "tile:data_area": 6.9,
                    "tile:clouds_area": 0,
                    "tile:clouds_percent": 0,
                    "visual": "https://maxar-opendata.s3.amazonaws.com/events/Libya-Floods-Sept-2023/ard/34/120200203131/2023-08-30/1050050064DEAB00-visual.tif",
                    "style": {
                      "color": "black",
                      "fillColor": "black"
                    }
                  },
                  "geometry": {
                    "type": "Polygon",
                    "coordinates": [
                      [
                        [
                          21.799012390063652,
                          32.75892042990901
                        ],
                        [
                          21.79940287918673,
                          32.80259099519557
                        ],
                        [
                          21.814661,
                          32.804716
                        ],
                        [
                          21.814809,
                          32.804719
                        ],
                        [
                          21.814987,
                          32.804674
                        ],
                        [
                          21.81509,
                          32.804617
                        ],
                        [
                          21.81521,
                          32.804497
                        ],
                        [
                          21.815259,
                          32.804401
                        ],
                        [
                          21.815281,
                          32.804253
                        ],
                        [
                          21.813088894786397,
                          32.75882906626528
                        ],
                        [
                          21.799012390063652,
                          32.75892042990901
                        ]
                      ]
                    ]
                  },
                  "bbox": [
                    21.799012390063652,
                    32.75882906626528,
                    21.815281,
                    32.804719
                  ]
                },
                {
                  "id": "44",
                  "type": "Feature",
                  "properties": {
                    "datetime": "2023-09-13 09:18:06+00:00",
                    "platform": "GE01",
                    "gsd": 0.42,
                    "ard_metadata_version": "0.0.1",
                    "catalog_id": "10500100363D0900",
                    "utm_zone": 34,
                    "quadkey": "120200213310",
                    "view:off_nadir": 7.5,
                    "view:azimuth": 7.2,
                    "view:incidence_angle": 81.7,
                    "view:sun_azimuth": 147.7,
                    "view:sun_elevation": 57.2,
                    "proj:epsg": 32634,
                    "grid:code": "MXRA-Z34-120200213310",
                    "proj:bbox": "649843.75,3618976.7456054688,655156.25,3620156.25",
                    "tile:data_area": 6,
                    "tile:clouds_area": 0.8,
                    "tile:clouds_percent": 14,
                    "visual": "https://maxar-opendata.s3.amazonaws.com/events/Libya-Floods-Sept-2023/ard/34/120200213310/2023-09-13/10500100363D0900-visual.tif",
                    "style": {
                      "color": "black",
                      "fillColor": "black"
                    }
                  },
                  "geometry": {
                    "type": "Polygon",
                    "coordinates": [
                      [
                        [
                          22.598735902946853,
                          32.70899081651058
                        ],
                        [
                          22.59854631369666,
                          32.69836039510128
                        ],
                        [
                          22.60648985628544,
                          32.698396508418675
                        ],
                        [
                          22.610015200342907,
                          32.69820816779097
                        ],
                        [
                          22.612826871873754,
                          32.69833993879226
                        ],
                        [
                          22.615526785989697,
                          32.69823086856693
                        ],
                        [
                          22.61988279139564,
                          32.69843616024604
                        ],
                        [
                          22.62715080917735,
                          32.698380598858485
                        ],
                        [
                          22.62882832706381,
                          32.69843864243482
                        ],
                        [
                          22.630672927996343,
                          32.69837613488304
                        ],
                        [
                          22.63254601641098,
                          32.69844810014347
                        ],
                        [
                          22.65521605711427,
                          32.698470202117555
                        ],
                        [
                          22.655396761603598,
                          32.708255528275764
                        ],
                        [
                          22.598735902946853,
                          32.70899081651058
                        ]
                      ]
                    ]
                  },
                  "bbox": [
                    22.59854631369666,
                    32.69820816779097,
                    22.655396761603598,
                    32.70899081651058
                  ]
                },
                {
                  "id": "45",
                  "type": "Feature",
                  "properties": {
                    "datetime": "2023-09-13 09:18:07+00:00",
                    "platform": "GE01",
                    "gsd": 0.42,
                    "ard_metadata_version": "0.0.1",
                    "catalog_id": "10500100363D0900",
                    "utm_zone": 34,
                    "quadkey": "120200213122",
                    "view:off_nadir": 7.1,
                    "view:azimuth": 11.1,
                    "view:incidence_angle": 82.1,
                    "view:sun_azimuth": 147.7,
                    "view:sun_elevation": 57.2,
                    "proj:epsg": 32634,
                    "grid:code": "MXRA-Z34-120200213122",
                    "proj:bbox": "644912.109375,3619843.75,645156.25,3625156.25",
                    "tile:data_area": 1.1,
                    "tile:clouds_area": 0,
                    "tile:clouds_percent": 4,
                    "visual": "https://maxar-opendata.s3.amazonaws.com/events/Libya-Floods-Sept-2023/ard/34/120200213122/2023-09-13/10500100363D0900-visual.tif",
                    "style": {
                      "color": "black",
                      "fillColor": "black"
                    }
                  },
                  "geometry": {
                    "type": "Polygon",
                    "coordinates": [
                      [
                        [
                          22.546914054230907,
                          32.75473783127255
                        ],
                        [
                          22.54693057475873,
                          32.75136032132413
                        ],
                        [
                          22.546904000315518,
                          32.7475622103264
                        ],
                        [
                          22.546908655211723,
                          32.74500508651155
                        ],
                        [
                          22.54688527223714,
                          32.74308688662909
                        ],
                        [
                          22.546875597867746,
                          32.73159533088744
                        ],
                        [
                          22.54682622990879,
                          32.728171830018184
                        ],
                        [
                          22.54682425541155,
                          32.72522943037679
                        ],
                        [
                          22.5468034159205,
                          32.72345707599875
                        ],
                        [
                          22.54684027638792,
                          32.72050043258342
                        ],
                        [
                          22.546840755144604,
                          32.71901957939988
                        ],
                        [
                          22.546811388946292,
                          32.70939717898538
                        ],
                        [
                          22.546786510876224,
                          32.70682388997474
                        ],
                        [
                          22.54869064744289,
                          32.70680038600756
                        ],
                        [
                          22.54951939431761,
                          32.75470563755891
                        ],
                        [
                          22.546914054230907,
                          32.75473783127255
                        ]
                      ]
                    ]
                  },
                  "bbox": [
                    22.546786510876224,
                    32.70680038600756,
                    22.54951939431761,
                    32.75473783127255
                  ]
                },
                {
                  "id": "46",
                  "type": "Feature",
                  "properties": {
                    "datetime": "2023-09-13 09:18:07+00:00",
                    "platform": "GE01",
                    "gsd": 0.42,
                    "ard_metadata_version": "0.0.1",
                    "catalog_id": "10500100363D0900",
                    "utm_zone": 34,
                    "quadkey": "120200213123",
                    "view:off_nadir": 7.1,
                    "view:azimuth": 10.3,
                    "view:incidence_angle": 82.1,
                    "view:sun_azimuth": 147.7,
                    "view:sun_elevation": 57.2,
                    "proj:epsg": 32634,
                    "grid:code": "MXRA-Z34-120200213123",
                    "proj:bbox": "644912.109375,3619843.75,650156.25,3625156.25",
                    "tile:data_area": 27.6,
                    "tile:clouds_area": 1.6,
                    "tile:clouds_percent": 5,
                    "visual": "https://maxar-opendata.s3.amazonaws.com/events/Libya-Floods-Sept-2023/ard/34/120200213123/2023-09-13/10500100363D0900-visual.tif",
                    "style": {
                      "color": "black",
                      "fillColor": "black"
                    }
                  },
                  "geometry": {
                    "type": "Polygon",
                    "coordinates": [
                      [
                        [
                          22.546914054230907,
                          32.75473783127255
                        ],
                        [
                          22.546786510876224,
                          32.70682388997474
                        ],
                        [
                          22.602018580892892,
                          32.70613037792722
                        ],
                        [
                          22.602875835728447,
                          32.75403440357231
                        ],
                        [
                          22.546914054230907,
                          32.75473783127255
                        ]
                      ]
                    ]
                  },
                  "bbox": [
                    22.546786510876224,
                    32.70613037792722,
                    22.602875835728447,
                    32.75473783127255
                  ]
                },
                {
                  "id": "47",
                  "type": "Feature",
                  "properties": {
                    "datetime": "2023-09-13 09:18:07+00:00",
                    "platform": "GE01",
                    "gsd": 0.42,
                    "ard_metadata_version": "0.0.1",
                    "catalog_id": "10500100363D0900",
                    "utm_zone": 34,
                    "quadkey": "120200213132",
                    "view:off_nadir": 7,
                    "view:azimuth": 7.1,
                    "view:incidence_angle": 82.2,
                    "view:sun_azimuth": 147.7,
                    "view:sun_elevation": 57.2,
                    "proj:epsg": 32634,
                    "grid:code": "MXRA-Z34-120200213132",
                    "proj:bbox": "649843.75,3619843.75,655156.25,3625156.25",
                    "tile:data_area": 28.2,
                    "tile:clouds_area": 1.6,
                    "tile:clouds_percent": 5,
                    "visual": "https://maxar-opendata.s3.amazonaws.com/events/Libya-Floods-Sept-2023/ard/34/120200213132/2023-09-13/10500100363D0900-visual.tif",
                    "style": {
                      "color": "black",
                      "fillColor": "black"
                    }
                  },
                  "geometry": {
                    "type": "Polygon",
                    "coordinates": [
                      [
                        [
                          22.5995411103129,
                          32.75407702085231
                        ],
                        [
                          22.598685637111,
                          32.706172917373806
                        ],
                        [
                          22.6553447162435,
                          32.70543770822849
                        ],
                        [
                          22.656230475105954,
                          32.753340466522694
                        ],
                        [
                          22.5995411103129,
                          32.75407702085231
                        ]
                      ]
                    ]
                  },
                  "bbox": [
                    22.598685637111,
                    32.70543770822849,
                    22.656230475105954,
                    32.75407702085231
                  ]
                },
                {
                  "id": "48",
                  "type": "Feature",
                  "properties": {
                    "datetime": "2023-09-13 09:18:07+00:00",
                    "platform": "GE01",
                    "gsd": 0.42,
                    "ard_metadata_version": "0.0.1",
                    "catalog_id": "10500100363D0900",
                    "utm_zone": 34,
                    "quadkey": "120200213133",
                    "view:off_nadir": 7,
                    "view:azimuth": 3.8,
                    "view:incidence_angle": 82.2,
                    "view:sun_azimuth": 147.7,
                    "view:sun_elevation": 57.2,
                    "proj:epsg": 32634,
                    "grid:code": "MXRA-Z34-120200213133",
                    "proj:bbox": "654843.75,3619843.75,660156.25,3625156.25",
                    "tile:data_area": 28.2,
                    "tile:clouds_area": 0.1,
                    "tile:clouds_percent": 0,
                    "visual": "https://maxar-opendata.s3.amazonaws.com/events/Libya-Floods-Sept-2023/ard/34/120200213133/2023-09-13/10500100363D0900-visual.tif",
                    "style": {
                      "color": "black",
                      "fillColor": "black"
                    }
                  },
                  "geometry": {
                    "type": "Polygon",
                    "coordinates": [
                      [
                        [
                          22.65289586407173,
                          32.75338450266737
                        ],
                        [
                          22.65201188659324,
                          32.70548166394967
                        ],
                        [
                          22.708668993751548,
                          32.70472237955542
                        ],
                        [
                          22.70958325257649,
                          32.75262382906084
                        ],
                        [
                          22.65289586407173,
                          32.75338450266737
                        ]
                      ]
                    ]
                  },
                  "bbox": [
                    22.65201188659324,
                    32.70472237955542,
                    22.70958325257649,
                    32.75338450266737
                  ]
                },
                {
                  "id": "49",
                  "type": "Feature",
                  "properties": {
                    "datetime": "2023-09-13 09:18:07+00:00",
                    "platform": "GE01",
                    "gsd": 0.42,
                    "ard_metadata_version": "0.0.1",
                    "catalog_id": "10500100363D0900",
                    "utm_zone": 34,
                    "quadkey": "120200213300",
                    "view:off_nadir": 7.4,
                    "view:azimuth": 10.6,
                    "view:incidence_angle": 81.8,
                    "view:sun_azimuth": 147.7,
                    "view:sun_elevation": 57.2,
                    "proj:epsg": 32634,
                    "grid:code": "MXRA-Z34-120200213300",
                    "proj:bbox": "644975.5859375,3618894.6533203125,645156.25,3620156.25",
                    "tile:data_area": 0.2,
                    "tile:clouds_area": 0,
                    "tile:clouds_percent": 0,
                    "visual": "https://maxar-opendata.s3.amazonaws.com/events/Libya-Floods-Sept-2023/ard/34/120200213300/2023-09-13/10500100363D0900-visual.tif",
                    "style": {
                      "color": "black",
                      "fillColor": "black"
                    }
                  },
                  "geometry": {
                    "type": "Polygon",
                    "coordinates": [
                      [
                        [
                          22.54681236124446,
                          32.70964214023974
                        ],
                        [
                          22.5467845127947,
                          32.70708540302377
                        ],
                        [
                          22.5468011884577,
                          32.70484465427256
                        ],
                        [
                          22.546781898929094,
                          32.70240616761952
                        ],
                        [
                          22.54677878960138,
                          32.69826367514123
                        ],
                        [
                          22.548543270964995,
                          32.69826942419784
                        ],
                        [
                          22.54873934289386,
                          32.70961835264473
                        ],
                        [
                          22.54681236124446,
                          32.70964214023974
                        ]
                      ]
                    ]
                  },
                  "bbox": [
                    22.54677878960138,
                    32.69826367514123,
                    22.54873934289386,
                    32.70964214023974
                  ]
                },
                {
                  "id": "50",
                  "type": "Feature",
                  "properties": {
                    "datetime": "2023-09-13 09:18:07+00:00",
                    "platform": "GE01",
                    "gsd": 0.42,
                    "ard_metadata_version": "0.0.1",
                    "catalog_id": "10500100363D0900",
                    "utm_zone": 34,
                    "quadkey": "120200213301",
                    "view:off_nadir": 7.5,
                    "view:azimuth": 10.2,
                    "view:incidence_angle": 81.7,
                    "view:sun_azimuth": 147.7,
                    "view:sun_elevation": 57.2,
                    "proj:epsg": 32634,
                    "grid:code": "MXRA-Z34-120200213301",
                    "proj:bbox": "644975.5859375,3618894.6533203125,650156.25,3620156.25",
                    "tile:data_area": 6.2,
                    "tile:clouds_area": 0.4,
                    "tile:clouds_percent": 7,
                    "visual": "https://maxar-opendata.s3.amazonaws.com/events/Libya-Floods-Sept-2023/ard/34/120200213301/2023-09-13/10500100363D0900-visual.tif",
                    "style": {
                      "color": "black",
                      "fillColor": "black"
                    }
                  },
                  "geometry": {
                    "type": "Polygon",
                    "coordinates": [
                      [
                        [
                          22.54681236124446,
                          32.70964214023974
                        ],
                        [
                          22.54677878960138,
                          32.69826367514123
                        ],
                        [
                          22.601879901503295,
                          32.698370153574416
                        ],
                        [
                          22.602068951413937,
                          32.70894827248781
                        ],
                        [
                          22.54681236124446,
                          32.70964214023974
                        ]
                      ]
                    ]
                  },
                  "bbox": [
                    22.54677878960138,
                    32.69826367514123,
                    22.602068951413937,
                    32.70964214023974
                  ]
                },
                {
                  "id": "51",
                  "type": "Feature",
                  "properties": {
                    "datetime": "2023-09-13 09:18:07+00:00",
                    "platform": "GE01",
                    "gsd": 0.42,
                    "ard_metadata_version": "0.0.1",
                    "catalog_id": "10500100363D0900",
                    "utm_zone": 34,
                    "quadkey": "120200213311",
                    "view:off_nadir": 7.4,
                    "view:azimuth": 4.1,
                    "view:incidence_angle": 81.8,
                    "view:sun_azimuth": 147.7,
                    "view:sun_elevation": 57.2,
                    "proj:epsg": 32634,
                    "grid:code": "MXRA-Z34-120200213311",
                    "proj:bbox": "654843.75,3619066.7724609375,660156.25,3620156.25",
                    "tile:data_area": 5.5,
                    "tile:clouds_area": 0,
                    "tile:clouds_percent": 1,
                    "visual": "https://maxar-opendata.s3.amazonaws.com/events/Libya-Floods-Sept-2023/ard/34/120200213311/2023-09-13/10500100363D0900-visual.tif",
                    "style": {
                      "color": "black",
                      "fillColor": "black"
                    }
                  },
                  "geometry": {
                    "type": "Polygon",
                    "coordinates": [
                      [
                        [
                          22.65206382728281,
                          32.70829948872541
                        ],
                        [
                          22.651882776384006,
                          32.69847562114538
                        ],
                        [
                          22.708551926981283,
                          32.698580575481934
                        ],
                        [
                          22.708722713712014,
                          32.70754012265308
                        ],
                        [
                          22.65206382728281,
                          32.70829948872541
                        ]
                      ]
                    ]
                  },
                  "bbox": [
                    22.651882776384006,
                    32.69847562114538,
                    22.708722713712014,
                    32.70829948872541
                  ]
                },
                {
                  "id": "52",
                  "type": "Feature",
                  "properties": {
                    "datetime": "2023-09-13 09:18:07+00:00",
                    "platform": "GE01",
                    "gsd": 0.42,
                    "ard_metadata_version": "0.0.1",
                    "catalog_id": "10500100363D0900",
                    "utm_zone": 34,
                    "quadkey": "120200302022",
                    "view:off_nadir": 7,
                    "view:azimuth": 2.8,
                    "view:incidence_angle": 82.2,
                    "view:sun_azimuth": 147.7,
                    "view:sun_elevation": 57.2,
                    "proj:epsg": 32634,
                    "grid:code": "MXRA-Z34-120200302022",
                    "proj:bbox": "659843.75,3619843.75,660600.5859375,3625156.25",
                    "tile:data_area": 3.7,
                    "tile:clouds_area": 0,
                    "tile:clouds_percent": 0,
                    "visual": "https://maxar-opendata.s3.amazonaws.com/events/Libya-Floods-Sept-2023/ard/34/120200302022/2023-09-13/10500100363D0900-visual.tif",
                    "style": {
                      "color": "black",
                      "fillColor": "black"
                    }
                  },
                  "geometry": {
                    "type": "Polygon",
                    "coordinates": [
                      [
                        [
                          22.70624875966532,
                          32.75266928390199
                        ],
                        [
                          22.705336281966492,
                          32.70476775138341
                        ],
                        [
                          22.713407680420197,
                          32.704657714106546
                        ],
                        [
                          22.71316821188961,
                          32.75256109893769
                        ],
                        [
                          22.70624875966532,
                          32.75266928390199
                        ]
                      ]
                    ]
                  },
                  "bbox": [
                    22.705336281966492,
                    32.704657714106546,
                    22.713407680420197,
                    32.75266928390199
                  ]
                },
                {
                  "id": "53",
                  "type": "Feature",
                  "properties": {
                    "datetime": "2023-09-13 09:18:07+00:00",
                    "platform": "GE01",
                    "gsd": 0.42,
                    "ard_metadata_version": "0.0.1",
                    "catalog_id": "10500100363D0900",
                    "utm_zone": 34,
                    "quadkey": "120200302200",
                    "view:off_nadir": 7.3,
                    "view:azimuth": 3.3,
                    "view:incidence_angle": 81.9,
                    "view:sun_azimuth": 147.7,
                    "view:sun_elevation": 57.2,
                    "proj:epsg": 32634,
                    "grid:code": "MXRA-Z34-120200302200",
                    "proj:bbox": "659843.75,3619156.494140625,660614.3188476562,3620156.25",
                    "tile:data_area": 0.7,
                    "tile:clouds_area": 0,
                    "tile:clouds_percent": 0,
                    "visual": "https://maxar-opendata.s3.amazonaws.com/events/Libya-Floods-Sept-2023/ard/34/120200302200/2023-09-13/10500100363D0900-visual.tif",
                    "style": {
                      "color": "black",
                      "fillColor": "black"
                    }
                  },
                  "geometry": {
                    "type": "Polygon",
                    "coordinates": [
                      [
                        [
                          22.705389897271576,
                          32.70758549936178
                        ],
                        [
                          22.70521839648047,
                          32.6985709024616
                        ],
                        [
                          22.713438155732124,
                          32.69858822009007
                        ],
                        [
                          22.713389946015525,
                          32.707476428772445
                        ],
                        [
                          22.705389897271576,
                          32.70758549936178
                        ]
                      ]
                    ]
                  },
                  "bbox": [
                    22.70521839648047,
                    32.6985709024616,
                    22.713438155732124,
                    32.70758549936178
                  ]
                },
                {
                  "id": "54",
                  "type": "Feature",
                  "properties": {
                    "datetime": "2023-09-13 09:18:08+00:00",
                    "platform": "GE01",
                    "gsd": 0.42,
                    "ard_metadata_version": "0.0.1",
                    "catalog_id": "10500100363D0900",
                    "utm_zone": 34,
                    "quadkey": "120200213131",
                    "view:off_nadir": 6,
                    "view:azimuth": 6.6,
                    "view:incidence_angle": 83.4,
                    "view:sun_azimuth": 147.7,
                    "view:sun_elevation": 57.2,
                    "proj:epsg": 32634,
                    "grid:code": "MXRA-Z34-120200213131",
                    "proj:bbox": "654843.75,3624843.75,660156.25,3630156.25",
                    "tile:data_area": 28.2,
                    "tile:clouds_area": 0.3,
                    "tile:clouds_percent": 1,
                    "visual": "https://maxar-opendata.s3.amazonaws.com/events/Libya-Floods-Sept-2023/ard/34/120200213131/2023-09-13/10500100363D0900-visual.tif",
                    "style": {
                      "color": "black",
                      "fillColor": "black"
                    }
                  },
                  "geometry": {
                    "type": "Polygon",
                    "coordinates": [
                      [
                        [
                          22.653729759028042,
                          32.798469172943385
                        ],
                        [
                          22.652843807373607,
                          32.75056669936143
                        ],
                        [
                          22.709529412636645,
                          32.749806107513585
                        ],
                        [
                          22.710445713210866,
                          32.79770719051135
                        ],
                        [
                          22.653729759028042,
                          32.798469172943385
                        ]
                      ]
                    ]
                  },
                  "bbox": [
                    22.652843807373607,
                    32.749806107513585,
                    22.710445713210866,
                    32.798469172943385
                  ]
                },
                {
                  "id": "55",
                  "type": "Feature",
                  "properties": {
                    "datetime": "2023-09-13 09:18:08+00:00",
                    "platform": "GE01",
                    "gsd": 0.42,
                    "ard_metadata_version": "0.0.1",
                    "catalog_id": "10500100363D0900",
                    "utm_zone": 34,
                    "quadkey": "120200302020",
                    "view:off_nadir": 6,
                    "view:azimuth": 5.4,
                    "view:incidence_angle": 83.4,
                    "view:sun_azimuth": 147.7,
                    "view:sun_elevation": 57.2,
                    "proj:epsg": 32634,
                    "grid:code": "MXRA-Z34-120200302020",
                    "proj:bbox": "659843.75,3624843.75,660498.3520507812,3630156.25",
                    "tile:data_area": 3.2,
                    "tile:clouds_area": 0,
                    "tile:clouds_percent": 0,
                    "visual": "https://maxar-opendata.s3.amazonaws.com/events/Libya-Floods-Sept-2023/ard/34/120200302020/2023-09-13/10500100363D0900-visual.tif",
                    "style": {
                      "color": "black",
                      "fillColor": "black"
                    }
                  },
                  "geometry": {
                    "type": "Polygon",
                    "coordinates": [
                      [
                        [
                          22.70710954008806,
                          32.79775272356212
                        ],
                        [
                          22.706195024614413,
                          32.7498515574692
                        ],
                        [
                          22.713179647167593,
                          32.74975625059215
                        ],
                        [
                          22.713006428840956,
                          32.79766942843152
                        ],
                        [
                          22.70710954008806,
                          32.79775272356212
                        ]
                      ]
                    ]
                  },
                  "bbox": [
                    22.706195024614413,
                    32.74975625059215,
                    22.713179647167593,
                    32.79775272356212
                  ]
                },
                {
                  "id": "56",
                  "type": "Feature",
                  "properties": {
                    "datetime": "2023-09-13 09:18:09+00:00",
                    "platform": "GE01",
                    "gsd": 0.42,
                    "ard_metadata_version": "0.0.1",
                    "catalog_id": "10500100363D0900",
                    "utm_zone": 34,
                    "quadkey": "120200213102",
                    "view:off_nadir": 5.3,
                    "view:azimuth": 11.7,
                    "view:incidence_angle": 84.1,
                    "view:sun_azimuth": 147.7,
                    "view:sun_elevation": 57.2,
                    "proj:epsg": 32634,
                    "grid:code": "MXRA-Z34-120200213102",
                    "proj:bbox": "644813.232421875,3629843.75,645156.25,3632756.34765625",
                    "tile:data_area": 0.9,
                    "tile:clouds_area": 0,
                    "tile:clouds_percent": 0,
                    "visual": "https://maxar-opendata.s3.amazonaws.com/events/Libya-Floods-Sept-2023/ard/34/120200213102/2023-09-13/10500100363D0900-visual.tif",
                    "style": {
                      "color": "black",
                      "fillColor": "black"
                    }
                  },
                  "geometry": {
                    "type": "Polygon",
                    "coordinates": [
                      [
                        [
                          22.550512875384516,
                          32.82324095996969
                        ],
                        [
                          22.55070842554205,
                          32.82323853724172
                        ],
                        [
                          22.55025227468482,
                          32.796974657089805
                        ],
                        [
                          22.546984285454748,
                          32.79701507644204
                        ],
                        [
                          22.547044256540165,
                          32.82323433860234
                        ],
                        [
                          22.550512875384516,
                          32.82324095996969
                        ]
                      ]
                    ]
                  },
                  "bbox": [
                    22.546984285454748,
                    32.796974657089805,
                    22.55070842554205,
                    32.82324095996969
                  ]
                },
                {
                  "id": "57",
                  "type": "Feature",
                  "properties": {
                    "datetime": "2023-09-13 09:18:09+00:00",
                    "platform": "GE01",
                    "gsd": 0.42,
                    "ard_metadata_version": "0.0.1",
                    "catalog_id": "10500100363D0900",
                    "utm_zone": 34,
                    "quadkey": "120200213103",
                    "view:off_nadir": 5.2,
                    "view:azimuth": 11.1,
                    "view:incidence_angle": 84.2,
                    "view:sun_azimuth": 147.7,
                    "view:sun_elevation": 57.2,
                    "proj:epsg": 32634,
                    "grid:code": "MXRA-Z34-120200213103",
                    "proj:bbox": "644843.75,3629843.75,650156.25,3632839.0502929688",
                    "tile:data_area": 15.6,
                    "tile:clouds_area": 0.1,
                    "tile:clouds_percent": 0,
                    "visual": "https://maxar-opendata.s3.amazonaws.com/events/Libya-Floods-Sept-2023/ard/34/120200213103/2023-09-13/10500100363D0900-visual.tif",
                    "style": {
                      "color": "black",
                      "fillColor": "black"
                    }
                  },
                  "geometry": {
                    "type": "Polygon",
                    "coordinates": [
                      [
                        [
                          22.603936666090508,
                          32.82331362320894
                        ],
                        [
                          22.60411917501831,
                          32.823311284114475
                        ],
                        [
                          22.60363392631726,
                          32.79630234035288
                        ],
                        [
                          22.546984285454748,
                          32.79701507644204
                        ],
                        [
                          22.547370269412806,
                          32.823235813327244
                        ],
                        [
                          22.603936666090508,
                          32.82331362320894
                        ]
                      ]
                    ]
                  },
                  "bbox": [
                    22.546984285454748,
                    32.79630234035288,
                    22.60411917501831,
                    32.82331362320894
                  ]
                },
                {
                  "id": "58",
                  "type": "Feature",
                  "properties": {
                    "datetime": "2023-09-13 09:18:09+00:00",
                    "platform": "GE01",
                    "gsd": 0.42,
                    "ard_metadata_version": "0.0.1",
                    "catalog_id": "10500100363D0900",
                    "utm_zone": 34,
                    "quadkey": "120200213112",
                    "view:off_nadir": 5.2,
                    "view:azimuth": 6.7,
                    "view:incidence_angle": 84.3,
                    "view:sun_azimuth": 147.7,
                    "view:sun_elevation": 57.2,
                    "proj:epsg": 32634,
                    "grid:code": "MXRA-Z34-120200213112",
                    "proj:bbox": "649843.75,3629843.75,655156.25,3632921.4477539062",
                    "tile:data_area": 16.1,
                    "tile:clouds_area": 0,
                    "tile:clouds_percent": 0,
                    "visual": "https://maxar-opendata.s3.amazonaws.com/events/Libya-Floods-Sept-2023/ard/34/120200213112/2023-09-13/10500100363D0900-visual.tif",
                    "style": {
                      "color": "black",
                      "fillColor": "black"
                    }
                  },
                  "geometry": {
                    "type": "Polygon",
                    "coordinates": [
                      [
                        [
                          22.657454000694706,
                          32.82335946991391
                        ],
                        [
                          22.657013772433526,
                          32.79560728394812
                        ],
                        [
                          22.6002976253637,
                          32.79634502637726
                        ],
                        [
                          22.600781075660038,
                          32.823309985284524
                        ],
                        [
                          22.657454000694706,
                          32.82335946991391
                        ]
                      ]
                    ]
                  },
                  "bbox": [
                    22.6002976253637,
                    32.79560728394812,
                    22.657454000694706,
                    32.82335946991391
                  ]
                },
                {
                  "id": "59",
                  "type": "Feature",
                  "properties": {
                    "datetime": "2023-09-13 09:18:09+00:00",
                    "platform": "GE01",
                    "gsd": 0.42,
                    "ard_metadata_version": "0.0.1",
                    "catalog_id": "10500100363D0900",
                    "utm_zone": 34,
                    "quadkey": "120200213113",
                    "view:off_nadir": 5.1,
                    "view:azimuth": 48.9,
                    "view:incidence_angle": 84.3,
                    "view:sun_azimuth": 147.7,
                    "view:sun_elevation": 57.2,
                    "proj:epsg": 32634,
                    "grid:code": "MXRA-Z34-120200213113",
                    "proj:bbox": "654843.75,3629843.75,660156.25,3633003.2348632812",
                    "tile:data_area": 16.5,
                    "tile:clouds_area": 0,
                    "tile:clouds_percent": 0,
                    "visual": "https://maxar-opendata.s3.amazonaws.com/events/Libya-Floods-Sept-2023/ard/34/120200213113/2023-09-13/10500100363D0900-visual.tif",
                    "style": {
                      "color": "black",
                      "fillColor": "black"
                    }
                  },
                  "geometry": {
                    "type": "Polygon",
                    "coordinates": [
                      [
                        [
                          22.71074863884388,
                          32.823379949720916
                        ],
                        [
                          22.71093765585694,
                          32.82337736580103
                        ],
                        [
                          22.710391753044473,
                          32.794889490532256
                        ],
                        [
                          22.653677586082356,
                          32.795651391124785
                        ],
                        [
                          22.65419086802158,
                          32.82335585167872
                        ],
                        [
                          22.71074863884388,
                          32.823379949720916
                        ]
                      ]
                    ]
                  },
                  "bbox": [
                    22.653677586082356,
                    32.794889490532256,
                    22.71093765585694,
                    32.823379949720916
                  ]
                },
                {
                  "id": "60",
                  "type": "Feature",
                  "properties": {
                    "datetime": "2023-09-13 09:18:09+00:00",
                    "platform": "GE01",
                    "gsd": 0.42,
                    "ard_metadata_version": "0.0.1",
                    "catalog_id": "10500100363D0900",
                    "utm_zone": 34,
                    "quadkey": "120200213120",
                    "view:off_nadir": 6,
                    "view:azimuth": 11.7,
                    "view:incidence_angle": 83.3,
                    "view:sun_azimuth": 147.7,
                    "view:sun_elevation": 57.2,
                    "proj:epsg": 32634,
                    "grid:code": "MXRA-Z34-120200213120",
                    "proj:bbox": "644846.19140625,3624843.75,645156.25,3630156.25",
                    "tile:data_area": 1.4,
                    "tile:clouds_area": 0,
                    "tile:clouds_percent": 0,
                    "visual": "https://maxar-opendata.s3.amazonaws.com/events/Libya-Floods-Sept-2023/ard/34/120200213120/2023-09-13/10500100363D0900-visual.tif",
                    "style": {
                      "color": "black",
                      "fillColor": "black"
                    }
                  },
                  "geometry": {
                    "type": "Polygon",
                    "coordinates": [
                      [
                        [
                          22.54699073748235,
                          32.79983352812088
                        ],
                        [
                          22.550301187890565,
                          32.799792581050184
                        ],
                        [
                          22.549470590101304,
                          32.75188769225155
                        ],
                        [
                          22.546927206921648,
                          32.75191911861382
                        ],
                        [
                          22.546902294129755,
                          32.762345854362415
                        ],
                        [
                          22.546926982795153,
                          32.76659814030596
                        ],
                        [
                          22.546918252611086,
                          32.77080129153673
                        ],
                        [
                          22.546932277416165,
                          32.772741618830864
                        ],
                        [
                          22.546984488563716,
                          32.775570525474954
                        ],
                        [
                          22.546986576481803,
                          32.778138564337894
                        ],
                        [
                          22.54695908989304,
                          32.78332732732059
                        ],
                        [
                          22.54699073748235,
                          32.79983352812088
                        ]
                      ]
                    ]
                  },
                  "bbox": [
                    22.546902294129755,
                    32.75188769225155,
                    22.550301187890565,
                    32.79983352812088
                  ]
                },
                {
                  "id": "61",
                  "type": "Feature",
                  "properties": {
                    "datetime": "2023-09-13 09:18:09+00:00",
                    "platform": "GE01",
                    "gsd": 0.42,
                    "ard_metadata_version": "0.0.1",
                    "catalog_id": "10500100363D0900",
                    "utm_zone": 34,
                    "quadkey": "120200213121",
                    "view:off_nadir": 6,
                    "view:azimuth": 10.7,
                    "view:incidence_angle": 83.3,
                    "view:sun_azimuth": 147.7,
                    "view:sun_elevation": 57.2,
                    "proj:epsg": 32634,
                    "grid:code": "MXRA-Z34-120200213121",
                    "proj:bbox": "644846.19140625,3624843.75,650156.25,3630156.25",
                    "tile:data_area": 28,
                    "tile:clouds_area": 0.8,
                    "tile:clouds_percent": 3,
                    "visual": "https://maxar-opendata.s3.amazonaws.com/events/Libya-Floods-Sept-2023/ard/34/120200213121/2023-09-13/10500100363D0900-visual.tif",
                    "style": {
                      "color": "black",
                      "fillColor": "black"
                    }
                  },
                  "geometry": {
                    "type": "Polygon",
                    "coordinates": [
                      [
                        [
                          22.54699073748235,
                          32.79983352812088
                        ],
                        [
                          22.603684522078375,
                          32.799120192094236
                        ],
                        [
                          22.602825352703267,
                          32.75121653041266
                        ],
                        [
                          22.546927206921648,
                          32.75191911861382
                        ],
                        [
                          22.54699073748235,
                          32.79983352812088
                        ]
                      ]
                    ]
                  },
                  "bbox": [
                    22.546927206921648,
                    32.75121653041266,
                    22.603684522078375,
                    32.79983352812088
                  ]
                },
                {
                  "id": "62",
                  "type": "Feature",
                  "properties": {
                    "datetime": "2023-09-13 09:18:09+00:00",
                    "platform": "GE01",
                    "gsd": 0.42,
                    "ard_metadata_version": "0.0.1",
                    "catalog_id": "10500100363D0900",
                    "utm_zone": 34,
                    "quadkey": "120200213130",
                    "view:off_nadir": 6,
                    "view:azimuth": 6.9,
                    "view:incidence_angle": 83.4,
                    "view:sun_azimuth": 147.7,
                    "view:sun_elevation": 57.2,
                    "proj:epsg": 32634,
                    "grid:code": "MXRA-Z34-120200213130",
                    "proj:bbox": "649843.75,3624843.75,655156.25,3630156.25",
                    "tile:data_area": 28.2,
                    "tile:clouds_area": 0.6,
                    "tile:clouds_percent": 2,
                    "visual": "https://maxar-opendata.s3.amazonaws.com/events/Libya-Floods-Sept-2023/ard/34/120200213130/2023-09-13/10500100363D0900-visual.tif",
                    "style": {
                      "color": "black",
                      "fillColor": "black"
                    }
                  },
                  "geometry": {
                    "type": "Polygon",
                    "coordinates": [
                      [
                        [
                          22.60034811597184,
                          32.79916288270382
                        ],
                        [
                          22.599490732206565,
                          32.75125914311197
                        ],
                        [
                          22.6561783135037,
                          32.75052266794987
                        ],
                        [
                          22.65706605051743,
                          32.79842506102891
                        ],
                        [
                          22.60034811597184,
                          32.79916288270382
                        ]
                      ]
                    ]
                  },
                  "bbox": [
                    22.599490732206565,
                    32.75052266794987,
                    22.65706605051743,
                    32.79916288270382
                  ]
                },
                {
                  "id": "63",
                  "type": "Feature",
                  "properties": {
                    "datetime": "2023-09-13 09:18:09+00:00",
                    "platform": "GE01",
                    "gsd": 0.42,
                    "ard_metadata_version": "0.0.1",
                    "catalog_id": "10500100363D0900",
                    "utm_zone": 34,
                    "quadkey": "120200302002",
                    "view:off_nadir": 5.2,
                    "view:azimuth": 51.8,
                    "view:incidence_angle": 84.2,
                    "view:sun_azimuth": 147.7,
                    "view:sun_elevation": 57.2,
                    "proj:epsg": 32634,
                    "grid:code": "MXRA-Z34-120200302002",
                    "proj:bbox": "659843.75,3629843.75,660401.9165039062,3633006.2866210938",
                    "tile:data_area": 1.6,
                    "tile:clouds_area": 0,
                    "tile:clouds_percent": 0,
                    "visual": "https://maxar-opendata.s3.amazonaws.com/events/Libya-Floods-Sept-2023/ard/34/120200302002/2023-09-13/10500100363D0900-visual.tif",
                    "style": {
                      "color": "black",
                      "fillColor": "black"
                    }
                  },
                  "geometry": {
                    "type": "Polygon",
                    "coordinates": [
                      [
                        [
                          22.712740362311912,
                          32.82338023158681
                        ],
                        [
                          22.71293431212096,
                          32.82329500611164
                        ],
                        [
                          22.713014340284058,
                          32.79485363700369
                        ],
                        [
                          22.707055685044633,
                          32.79493501869265
                        ],
                        [
                          22.707599681740174,
                          32.823378916982406
                        ],
                        [
                          22.712740362311912,
                          32.82338023158681
                        ]
                      ]
                    ]
                  },
                  "bbox": [
                    22.707055685044633,
                    32.79485363700369,
                    22.713014340284058,
                    32.82338023158681
                  ]
                },
                {
                  "id": "64",
                  "type": "Feature",
                  "properties": {
                    "datetime": "2023-09-13 09:18:29+00:00",
                    "platform": "GE01",
                    "gsd": 0.42,
                    "ard_metadata_version": "0.0.1",
                    "catalog_id": "10500100363D0A00",
                    "utm_zone": 34,
                    "quadkey": "120200203301",
                    "view:off_nadir": 7.4,
                    "view:azimuth": 135.9,
                    "view:incidence_angle": 81.8,
                    "view:sun_azimuth": 146.4,
                    "view:sun_elevation": 56.8,
                    "proj:epsg": 32634,
                    "grid:code": "MXRA-Z34-120200203301",
                    "proj:bbox": "564843.75,3618051.1474609375,570156.25,3620156.25",
                    "tile:data_area": 11.1,
                    "tile:clouds_area": 0,
                    "tile:clouds_percent": 0,
                    "visual": "https://maxar-opendata.s3.amazonaws.com/events/Libya-Floods-Sept-2023/ard/34/120200203301/2023-09-13/10500100363D0A00-visual.tif",
                    "style": {
                      "color": "black",
                      "fillColor": "black"
                    }
                  },
                  "geometry": {
                    "type": "Polygon",
                    "coordinates": [
                      [
                        [
                          21.69193541681758,
                          32.717273945095265
                        ],
                        [
                          21.691790074350802,
                          32.698442530520786
                        ],
                        [
                          21.70509264850979,
                          32.69840424311937
                        ],
                        [
                          21.74846152441611,
                          32.6979602502059
                        ],
                        [
                          21.748620080588214,
                          32.716948334603885
                        ],
                        [
                          21.69193541681758,
                          32.717273945095265
                        ]
                      ]
                    ]
                  },
                  "bbox": [
                    21.691790074350802,
                    32.6979602502059,
                    21.748620080588214,
                    32.717273945095265
                  ]
                },
                {
                  "id": "65",
                  "type": "Feature",
                  "properties": {
                    "datetime": "2023-09-13 09:18:30+00:00",
                    "platform": "GE01",
                    "gsd": 0.42,
                    "ard_metadata_version": "0.0.1",
                    "catalog_id": "10500100363D0A00",
                    "utm_zone": 34,
                    "quadkey": "120200203300",
                    "view:off_nadir": 7.6,
                    "view:azimuth": 135.4,
                    "view:incidence_angle": 81.5,
                    "view:sun_azimuth": 146.4,
                    "view:sun_elevation": 56.8,
                    "proj:epsg": 32634,
                    "grid:code": "MXRA-Z34-120200203300",
                    "proj:bbox": "562453.9184570312,3618071.5942382812,565156.25,3620156.25",
                    "tile:data_area": 5.6,
                    "tile:clouds_area": 0,
                    "tile:clouds_percent": 0,
                    "visual": "https://maxar-opendata.s3.amazonaws.com/events/Libya-Floods-Sept-2023/ard/34/120200203300/2023-09-13/10500100363D0A00-visual.tif",
                    "style": {
                      "color": "black",
                      "fillColor": "black"
                    }
                  },
                  "geometry": {
                    "type": "Polygon",
                    "coordinates": [
                      [
                        [
                          21.666435493910743,
                          32.7174120658893
                        ],
                        [
                          21.695269833795315,
                          32.71725550076907
                        ],
                        [
                          21.69512400444673,
                          32.698451626754455
                        ],
                        [
                          21.66651109289335,
                          32.6986757566005
                        ],
                        [
                          21.666435493910743,
                          32.7174120658893
                        ]
                      ]
                    ]
                  },
                  "bbox": [
                    21.666435493910743,
                    32.698451626754455,
                    21.695269833795315,
                    32.7174120658893
                  ]
                },
                {
                  "id": "66",
                  "type": "Feature",
                  "properties": {
                    "datetime": "2023-09-13 09:18:30+00:00",
                    "platform": "GE01",
                    "gsd": 0.42,
                    "ard_metadata_version": "0.0.1",
                    "catalog_id": "10500100363D0A00",
                    "utm_zone": 34,
                    "quadkey": "120200203310",
                    "view:off_nadir": 7.1,
                    "view:azimuth": 138.4,
                    "view:incidence_angle": 82.1,
                    "view:sun_azimuth": 146.4,
                    "view:sun_elevation": 56.8,
                    "proj:epsg": 32634,
                    "grid:code": "MXRA-Z34-120200203310",
                    "proj:bbox": "569843.75,3618039.2456054688,575156.25,3620156.25",
                    "tile:data_area": 11.2,
                    "tile:clouds_area": 0,
                    "tile:clouds_percent": 0,
                    "visual": "https://maxar-opendata.s3.amazonaws.com/events/Libya-Floods-Sept-2023/ard/34/120200203310/2023-09-13/10500100363D0A00-visual.tif",
                    "style": {
                      "color": "black",
                      "fillColor": "black"
                    }
                  },
                  "geometry": {
                    "type": "Polygon",
                    "coordinates": [
                      [
                        [
                          21.745285714177957,
                          32.716968197382876
                        ],
                        [
                          21.745127909803507,
                          32.697985603993665
                        ],
                        [
                          21.801798674003525,
                          32.69752327455673
                        ],
                        [
                          21.801969486477127,
                          32.71661847383184
                        ],
                        [
                          21.745285714177957,
                          32.716968197382876
                        ]
                      ]
                    ]
                  },
                  "bbox": [
                    21.745127909803507,
                    32.69752327455673,
                    21.801969486477127,
                    32.716968197382876
                  ]
                },
                {
                  "id": "67",
                  "type": "Feature",
                  "properties": {
                    "datetime": "2023-09-13 09:18:30+00:00",
                    "platform": "GE01",
                    "gsd": 0.42,
                    "ard_metadata_version": "0.0.1",
                    "catalog_id": "10500100363D0A00",
                    "utm_zone": 34,
                    "quadkey": "120200203311",
                    "view:off_nadir": 7,
                    "view:azimuth": 140.9,
                    "view:incidence_angle": 82.3,
                    "view:sun_azimuth": 146.4,
                    "view:sun_elevation": 56.8,
                    "proj:epsg": 32634,
                    "grid:code": "MXRA-Z34-120200203311",
                    "proj:bbox": "574843.75,3618031.6162109375,578133.8500976562,3620156.25",
                    "tile:data_area": 6.9,
                    "tile:clouds_area": 0,
                    "tile:clouds_percent": 0,
                    "visual": "https://maxar-opendata.s3.amazonaws.com/events/Libya-Floods-Sept-2023/ard/34/120200203311/2023-09-13/10500100363D0A00-visual.tif",
                    "style": {
                      "color": "black",
                      "fillColor": "black"
                    }
                  },
                  "geometry": {
                    "type": "Polygon",
                    "coordinates": [
                      [
                        [
                          21.79863517437833,
                          32.716639754987746
                        ],
                        [
                          21.798465047390224,
                          32.697541787539606
                        ],
                        [
                          21.833561484555904,
                          32.69724738952089
                        ],
                        [
                          21.83360945642971,
                          32.71641211980463
                        ],
                        [
                          21.79863517437833,
                          32.716639754987746
                        ]
                      ]
                    ]
                  },
                  "bbox": [
                    21.798465047390224,
                    32.69724738952089,
                    21.83360945642971,
                    32.716639754987746
                  ]
                },
                {
                  "id": "68",
                  "type": "Feature",
                  "properties": {
                    "datetime": "2023-09-13 09:18:31+00:00",
                    "platform": "GE01",
                    "gsd": 0.42,
                    "ard_metadata_version": "0.0.1",
                    "catalog_id": "10500100363D0A00",
                    "utm_zone": 34,
                    "quadkey": "120200203122",
                    "view:off_nadir": 8,
                    "view:azimuth": 138,
                    "view:incidence_angle": 81.2,
                    "view:sun_azimuth": 146.4,
                    "view:sun_elevation": 56.8,
                    "proj:epsg": 32634,
                    "grid:code": "MXRA-Z34-120200203122",
                    "proj:bbox": "562407.8369140625,3619843.75,565156.25,3625156.25",
                    "tile:data_area": 14.4,
                    "tile:clouds_area": 0,
                    "tile:clouds_percent": 0,
                    "visual": "https://maxar-opendata.s3.amazonaws.com/events/Libya-Floods-Sept-2023/ard/34/120200203122/2023-09-13/10500100363D0A00-visual.tif",
                    "style": {
                      "color": "black",
                      "fillColor": "black"
                    }
                  },
                  "geometry": {
                    "type": "Polygon",
                    "coordinates": [
                      [
                        [
                          21.66627934235291,
                          32.76251538910747
                        ],
                        [
                          21.695620155742663,
                          32.762355937507664
                        ],
                        [
                          21.695247964621867,
                          32.7144367125736
                        ],
                        [
                          21.666414531531956,
                          32.714593260850044
                        ],
                        [
                          21.66627934235291,
                          32.76251538910747
                        ]
                      ]
                    ]
                  },
                  "bbox": [
                    21.66627934235291,
                    32.7144367125736,
                    21.695620155742663,
                    32.76251538910747
                  ]
                },
                {
                  "id": "69",
                  "type": "Feature",
                  "properties": {
                    "datetime": "2023-09-13 09:18:31+00:00",
                    "platform": "GE01",
                    "gsd": 0.42,
                    "ard_metadata_version": "0.0.1",
                    "catalog_id": "10500100363D0A00",
                    "utm_zone": 34,
                    "quadkey": "120200203123",
                    "view:off_nadir": 7.8,
                    "view:azimuth": 139.7,
                    "view:incidence_angle": 81.4,
                    "view:sun_azimuth": 146.4,
                    "view:sun_elevation": 56.8,
                    "proj:epsg": 32634,
                    "grid:code": "MXRA-Z34-120200203123",
                    "proj:bbox": "564843.75,3619843.75,570156.25,3625156.25",
                    "tile:data_area": 28.2,
                    "tile:clouds_area": 0,
                    "tile:clouds_percent": 0,
                    "visual": "https://maxar-opendata.s3.amazonaws.com/events/Libya-Floods-Sept-2023/ard/34/120200203123/2023-09-13/10500100363D0A00-visual.tif",
                    "style": {
                      "color": "black",
                      "fillColor": "black"
                    }
                  },
                  "geometry": {
                    "type": "Polygon",
                    "coordinates": [
                      [
                        [
                          21.692284058997565,
                          32.762374413599254
                        ],
                        [
                          21.69191365250519,
                          32.7144551549155
                        ],
                        [
                          21.748596533692474,
                          32.71412957945416
                        ],
                        [
                          21.748997277937928,
                          32.76204824233316
                        ],
                        [
                          21.692284058997565,
                          32.762374413599254
                        ]
                      ]
                    ]
                  },
                  "bbox": [
                    21.69191365250519,
                    32.71412957945416,
                    21.748997277937928,
                    32.762374413599254
                  ]
                },
                {
                  "id": "70",
                  "type": "Feature",
                  "properties": {
                    "datetime": "2023-09-13 09:18:31+00:00",
                    "platform": "GE01",
                    "gsd": 0.42,
                    "ard_metadata_version": "0.0.1",
                    "catalog_id": "10500100363D0A00",
                    "utm_zone": 34,
                    "quadkey": "120200203132",
                    "view:off_nadir": 7.5,
                    "view:azimuth": 142.1,
                    "view:incidence_angle": 81.7,
                    "view:sun_azimuth": 146.4,
                    "view:sun_elevation": 56.8,
                    "proj:epsg": 32634,
                    "grid:code": "MXRA-Z34-120200203132",
                    "proj:bbox": "569843.75,3619843.75,575156.25,3625156.25",
                    "tile:data_area": 28.2,
                    "tile:clouds_area": 0,
                    "tile:clouds_percent": 0,
                    "visual": "https://maxar-opendata.s3.amazonaws.com/events/Libya-Floods-Sept-2023/ard/34/120200203132/2023-09-13/10500100363D0A00-visual.tif",
                    "style": {
                      "color": "black",
                      "fillColor": "black"
                    }
                  },
                  "geometry": {
                    "type": "Polygon",
                    "coordinates": [
                      [
                        [
                          21.74566123186451,
                          32.76206813932023
                        ],
                        [
                          21.745262272136774,
                          32.71414944009627
                        ],
                        [
                          21.801944261967197,
                          32.71379975416915
                        ],
                        [
                          21.80237355749652,
                          32.76171781347056
                        ],
                        [
                          21.74566123186451,
                          32.76206813932023
                        ]
                      ]
                    ]
                  },
                  "bbox": [
                    21.745262272136774,
                    32.71379975416915,
                    21.80237355749652,
                    32.76206813932023
                  ]
                },
                {
                  "id": "71",
                  "type": "Feature",
                  "properties": {
                    "datetime": "2023-09-13 09:18:31+00:00",
                    "platform": "GE01",
                    "gsd": 0.42,
                    "ard_metadata_version": "0.0.1",
                    "catalog_id": "10500100363D0A00",
                    "utm_zone": 34,
                    "quadkey": "120200203133",
                    "view:off_nadir": 7.3,
                    "view:azimuth": 144.1,
                    "view:incidence_angle": 81.9,
                    "view:sun_azimuth": 146.4,
                    "view:sun_elevation": 56.8,
                    "proj:epsg": 32634,
                    "grid:code": "MXRA-Z34-120200203133",
                    "proj:bbox": "574843.75,3619843.75,578122.55859375,3625156.25",
                    "tile:data_area": 17.3,
                    "tile:clouds_area": 0,
                    "tile:clouds_percent": 0,
                    "visual": "https://maxar-opendata.s3.amazonaws.com/events/Libya-Floods-Sept-2023/ard/34/120200203133/2023-09-13/10500100363D0A00-visual.tif",
                    "style": {
                      "color": "black",
                      "fillColor": "black"
                    }
                  },
                  "geometry": {
                    "type": "Polygon",
                    "coordinates": [
                      [
                        [
                          21.799037565846465,
                          32.76173913127703
                        ],
                        [
                          21.79861005471598,
                          32.71382103303561
                        ],
                        [
                          21.833593005097296,
                          32.71359335740702
                        ],
                        [
                          21.833788389840635,
                          32.76151270847344
                        ],
                        [
                          21.799037565846465,
                          32.76173913127703
                        ]
                      ]
                    ]
                  },
                  "bbox": [
                    21.79861005471598,
                    32.71359335740702,
                    21.833788389840635,
                    32.76173913127703
                  ]
                },
                {
                  "id": "72",
                  "type": "Feature",
                  "properties": {
                    "datetime": "2023-09-13 09:18:32+00:00",
                    "platform": "GE01",
                    "gsd": 0.42,
                    "ard_metadata_version": "0.0.1",
                    "catalog_id": "10500100363D0A00",
                    "utm_zone": 34,
                    "quadkey": "120200203102",
                    "view:off_nadir": 9,
                    "view:azimuth": 146,
                    "view:incidence_angle": 80,
                    "view:sun_azimuth": 146.4,
                    "view:sun_elevation": 56.8,
                    "proj:epsg": 32634,
                    "grid:code": "MXRA-Z34-120200203102",
                    "proj:bbox": "562312.6220703125,3629843.75,565156.25,3632038.57421875",
                    "tile:data_area": 6.1,
                    "tile:clouds_area": 0,
                    "tile:clouds_percent": 0,
                    "visual": "https://maxar-opendata.s3.amazonaws.com/events/Libya-Floods-Sept-2023/ard/34/120200203102/2023-09-13/10500100363D0A00-visual.tif",
                    "style": {
                      "color": "black",
                      "fillColor": "black"
                    }
                  },
                  "geometry": {
                    "type": "Polygon",
                    "coordinates": [
                      [
                        [
                          21.665725258115284,
                          32.82459980895013
                        ],
                        [
                          21.665861218293866,
                          32.80480090949425
                        ],
                        [
                          21.695949293304658,
                          32.8046372986771
                        ],
                        [
                          21.696101945668275,
                          32.82421710461126
                        ],
                        [
                          21.665725258115284,
                          32.82459980895013
                        ]
                      ]
                    ]
                  },
                  "bbox": [
                    21.665725258115284,
                    32.8046372986771,
                    21.696101945668275,
                    32.82459980895013
                  ]
                },
                {
                  "id": "73",
                  "type": "Feature",
                  "properties": {
                    "datetime": "2023-09-13 09:18:32+00:00",
                    "platform": "GE01",
                    "gsd": 0.42,
                    "ard_metadata_version": "0.0.1",
                    "catalog_id": "10500100363D0A00",
                    "utm_zone": 34,
                    "quadkey": "120200203103",
                    "view:off_nadir": 9,
                    "view:azimuth": 147.9,
                    "view:incidence_angle": 80,
                    "view:sun_azimuth": 146.4,
                    "view:sun_elevation": 56.8,
                    "proj:epsg": 32634,
                    "grid:code": "MXRA-Z34-120200203103",
                    "proj:bbox": "564843.75,3629843.75,570156.25,3632016.6015625",
                    "tile:data_area": 11.4,
                    "tile:clouds_area": 0.3,
                    "tile:clouds_percent": 2,
                    "visual": "https://maxar-opendata.s3.amazonaws.com/events/Libya-Floods-Sept-2023/ard/34/120200203103/2023-09-13/10500100363D0A00-visual.tif",
                    "style": {
                      "color": "black",
                      "fillColor": "black"
                    }
                  },
                  "geometry": {
                    "type": "Polygon",
                    "coordinates": [
                      [
                        [
                          21.69276368835699,
                          32.824254893061024
                        ],
                        [
                          21.692611618370183,
                          32.80465580457728
                        ],
                        [
                          21.749351665706573,
                          32.8043291070814
                        ],
                        [
                          21.749513092945723,
                          32.82355909738852
                        ],
                        [
                          21.69276368835699,
                          32.824254893061024
                        ]
                      ]
                    ]
                  },
                  "bbox": [
                    21.692611618370183,
                    32.8043291070814,
                    21.749513092945723,
                    32.824254893061024
                  ]
                },
                {
                  "id": "74",
                  "type": "Feature",
                  "properties": {
                    "datetime": "2023-09-13 09:18:32+00:00",
                    "platform": "GE01",
                    "gsd": 0.42,
                    "ard_metadata_version": "0.0.1",
                    "catalog_id": "10500100363D0A00",
                    "utm_zone": 34,
                    "quadkey": "120200203112",
                    "view:off_nadir": 8.8,
                    "view:azimuth": 150.3,
                    "view:incidence_angle": 80.3,
                    "view:sun_azimuth": 146.4,
                    "view:sun_elevation": 56.8,
                    "proj:epsg": 32634,
                    "grid:code": "MXRA-Z34-120200203112",
                    "proj:bbox": "569843.75,3629843.75,575156.25,3631976.9287109375",
                    "tile:data_area": 11.2,
                    "tile:clouds_area": 0,
                    "tile:clouds_percent": 0,
                    "visual": "https://maxar-opendata.s3.amazonaws.com/events/Libya-Floods-Sept-2023/ard/34/120200203112/2023-09-13/10500100363D0A00-visual.tif",
                    "style": {
                      "color": "black",
                      "fillColor": "black"
                    }
                  },
                  "geometry": {
                    "type": "Polygon",
                    "coordinates": [
                      [
                        [
                          21.74650085224956,
                          32.82358810795882
                        ],
                        [
                          21.802923001659476,
                          32.8228810642208
                        ],
                        [
                          21.802753193842097,
                          32.803998145123884
                        ],
                        [
                          21.746014041541777,
                          32.80434903616925
                        ],
                        [
                          21.746174818990298,
                          32.82358729901994
                        ],
                        [
                          21.74650085224956,
                          32.82358810795882
                        ]
                      ]
                    ]
                  },
                  "bbox": [
                    21.746014041541777,
                    32.803998145123884,
                    21.802923001659476,
                    32.82358810795882
                  ]
                },
                {
                  "id": "75",
                  "type": "Feature",
                  "properties": {
                    "datetime": "2023-09-13 09:18:32+00:00",
                    "platform": "GE01",
                    "gsd": 0.42,
                    "ard_metadata_version": "0.0.1",
                    "catalog_id": "10500100363D0A00",
                    "utm_zone": 34,
                    "quadkey": "120200203113",
                    "view:off_nadir": 8.5,
                    "view:azimuth": 151.4,
                    "view:incidence_angle": 80.5,
                    "view:sun_azimuth": 146.4,
                    "view:sun_elevation": 56.8,
                    "proj:epsg": 32634,
                    "grid:code": "MXRA-Z34-120200203113",
                    "proj:bbox": "574843.75,3629843.75,578078.3081054688,3631938.7817382812",
                    "tile:data_area": 6.7,
                    "tile:clouds_area": 0,
                    "tile:clouds_percent": 0,
                    "visual": "https://maxar-opendata.s3.amazonaws.com/events/Libya-Floods-Sept-2023/ard/34/120200203113/2023-09-13/10500100363D0A00-visual.tif",
                    "style": {
                      "color": "black",
                      "fillColor": "black"
                    }
                  },
                  "geometry": {
                    "type": "Polygon",
                    "coordinates": [
                      [
                        [
                          21.799584849514737,
                          32.822916194841405
                        ],
                        [
                          21.799415624205924,
                          32.80401949732315
                        ],
                        [
                          21.833961252608646,
                          32.80379418551921
                        ],
                        [
                          21.83393973946408,
                          32.81021652893114
                        ],
                        [
                          21.83402752973739,
                          32.81821822214874
                        ],
                        [
                          21.833952707978803,
                          32.82242218358569
                        ],
                        [
                          21.799584849514737,
                          32.822916194841405
                        ]
                      ]
                    ]
                  },
                  "bbox": [
                    21.799415624205924,
                    32.80379418551921,
                    21.83402752973739,
                    32.822916194841405
                  ]
                },
                {
                  "id": "76",
                  "type": "Feature",
                  "properties": {
                    "datetime": "2023-09-13 09:18:32+00:00",
                    "platform": "GE01",
                    "gsd": 0.42,
                    "ard_metadata_version": "0.0.1",
                    "catalog_id": "10500100363D0A00",
                    "utm_zone": 34,
                    "quadkey": "120200203120",
                    "view:off_nadir": 8.7,
                    "view:azimuth": 143.5,
                    "view:incidence_angle": 80.4,
                    "view:sun_azimuth": 146.4,
                    "view:sun_elevation": 56.8,
                    "proj:epsg": 32634,
                    "grid:code": "MXRA-Z34-120200203120",
                    "proj:bbox": "562335.5102539062,3624843.75,565156.25,3630156.25",
                    "tile:data_area": 14.7,
                    "tile:clouds_area": 0.1,
                    "tile:clouds_percent": 0,
                    "visual": "https://maxar-opendata.s3.amazonaws.com/events/Libya-Floods-Sept-2023/ard/34/120200203120/2023-09-13/10500100363D0A00-visual.tif",
                    "style": {
                      "color": "black",
                      "fillColor": "black"
                    }
                  },
                  "geometry": {
                    "type": "Polygon",
                    "coordinates": [
                      [
                        [
                          21.66584312084842,
                          32.807619882221786
                        ],
                        [
                          21.695971260297846,
                          32.80745604582028
                        ],
                        [
                          21.695598237709714,
                          32.75953716983088
                        ],
                        [
                          21.666290926923633,
                          32.75969643106678
                        ],
                        [
                          21.66584312084842,
                          32.807619882221786
                        ]
                      ]
                    ]
                  },
                  "bbox": [
                    21.66584312084842,
                    32.75953716983088,
                    21.695971260297846,
                    32.807619882221786
                  ]
                },
                {
                  "id": "77",
                  "type": "Feature",
                  "properties": {
                    "datetime": "2023-09-13 09:18:32+00:00",
                    "platform": "GE01",
                    "gsd": 0.42,
                    "ard_metadata_version": "0.0.1",
                    "catalog_id": "10500100363D0A00",
                    "utm_zone": 34,
                    "quadkey": "120200203121",
                    "view:off_nadir": 8.5,
                    "view:azimuth": 145.1,
                    "view:incidence_angle": 80.5,
                    "view:sun_azimuth": 146.4,
                    "view:sun_elevation": 56.8,
                    "proj:epsg": 32634,
                    "grid:code": "MXRA-Z34-120200203121",
                    "proj:bbox": "564843.75,3624843.75,570156.25,3630156.25",
                    "tile:data_area": 28.2,
                    "tile:clouds_area": 0.2,
                    "tile:clouds_percent": 0,
                    "visual": "https://maxar-opendata.s3.amazonaws.com/events/Libya-Floods-Sept-2023/ard/34/120200203121/2023-09-13/10500100363D0A00-visual.tif",
                    "style": {
                      "color": "black",
                      "fillColor": "black"
                    }
                  },
                  "geometry": {
                    "type": "Polygon",
                    "coordinates": [
                      [
                        [
                          21.692633480033336,
                          32.80747455370867
                        ],
                        [
                          21.692262246059922,
                          32.759555643936224
                        ],
                        [
                          21.74897367843493,
                          32.759229507734766
                        ],
                        [
                          21.749375317925296,
                          32.807147821113446
                        ],
                        [
                          21.692633480033336,
                          32.80747455370867
                        ]
                      ]
                    ]
                  },
                  "bbox": [
                    21.692262246059922,
                    32.759229507734766,
                    21.749375317925296,
                    32.80747455370867
                  ]
                },
                {
                  "id": "78",
                  "type": "Feature",
                  "properties": {
                    "datetime": "2023-09-13 09:18:32+00:00",
                    "platform": "GE01",
                    "gsd": 0.42,
                    "ard_metadata_version": "0.0.1",
                    "catalog_id": "10500100363D0A00",
                    "utm_zone": 34,
                    "quadkey": "120200203130",
                    "view:off_nadir": 8.3,
                    "view:azimuth": 147.5,
                    "view:incidence_angle": 80.8,
                    "view:sun_azimuth": 146.4,
                    "view:sun_elevation": 56.8,
                    "proj:epsg": 32634,
                    "grid:code": "MXRA-Z34-120200203130",
                    "proj:bbox": "569843.75,3624843.75,575156.25,3630156.25",
                    "tile:data_area": 28.2,
                    "tile:clouds_area": 0.1,
                    "tile:clouds_percent": 0,
                    "visual": "https://maxar-opendata.s3.amazonaws.com/events/Libya-Floods-Sept-2023/ard/34/120200203130/2023-09-13/10500100363D0A00-visual.tif",
                    "style": {
                      "color": "black",
                      "fillColor": "black"
                    }
                  },
                  "geometry": {
                    "type": "Polygon",
                    "coordinates": [
                      [
                        [
                          21.746037588437012,
                          32.8071677523424
                        ],
                        [
                          21.74563773745029,
                          32.759249402582846
                        ],
                        [
                          21.802348276631932,
                          32.75889911439427
                        ],
                        [
                          21.80277853117753,
                          32.80681682359869
                        ],
                        [
                          21.746037588437012,
                          32.8071677523424
                        ]
                      ]
                    ]
                  },
                  "bbox": [
                    21.74563773745029,
                    32.75889911439427,
                    21.80277853117753,
                    32.8071677523424
                  ]
                },
                {
                  "id": "79",
                  "type": "Feature",
                  "properties": {
                    "datetime": "2023-09-13 09:18:32+00:00",
                    "platform": "GE01",
                    "gsd": 0.42,
                    "ard_metadata_version": "0.0.1",
                    "catalog_id": "10500100363D0A00",
                    "utm_zone": 34,
                    "quadkey": "120200203131",
                    "view:off_nadir": 8.1,
                    "view:azimuth": 149.4,
                    "view:incidence_angle": 81,
                    "view:sun_azimuth": 146.4,
                    "view:sun_elevation": 56.8,
                    "proj:epsg": 32634,
                    "grid:code": "MXRA-Z34-120200203131",
                    "proj:bbox": "574843.75,3624843.75,578100.2807617188,3630156.25",
                    "tile:data_area": 17.2,
                    "tile:clouds_area": 0,
                    "tile:clouds_percent": 0,
                    "visual": "https://maxar-opendata.s3.amazonaws.com/events/Libya-Floods-Sept-2023/ard/34/120200203131/2023-09-13/10500100363D0A00-visual.tif",
                    "style": {
                      "color": "black",
                      "fillColor": "black"
                    }
                  },
                  "geometry": {
                    "type": "Polygon",
                    "coordinates": [
                      [
                        [
                          21.799440856224898,
                          32.80683817809194
                        ],
                        [
                          21.799012390063652,
                          32.75892042990901
                        ],
                        [
                          21.833775150112086,
                          32.75869394474255
                        ],
                        [
                          21.833935424074625,
                          32.806613189425384
                        ],
                        [
                          21.799440856224898,
                          32.80683817809194
                        ]
                      ]
                    ]
                  },
                  "bbox": [
                    21.799012390063652,
                    32.75869394474255,
                    21.833935424074625,
                    32.80683817809194
                  ]
                }
              ],
              "bbox": [
                19.524212,
                30.401686,
                22.726488018445597,
                32.907645
              ]
            },
            "hover_style": {
              "weight": 3,
              "fillOpacity": 0
            },
            "layers": [],
            "name": "Pre-event",
            "options": [],
            "pane": "",
            "point_style": {},
            "popup": null,
            "popup_max_height": null,
            "popup_max_width": 300,
            "popup_min_width": 50,
            "style": {
              "color": "red",
              "fillColor": "red",
              "opacity": 1,
              "fillOpacity": 0.5,
              "weight": 1
            },
            "subitems": [],
            "visible": true
          }
        },
        "8bc0b69f2ea14c65a41478e5efe1204b": {
          "model_module": "jupyter-leaflet",
          "model_name": "LeafletGeoJSONModel",
          "model_module_version": "^0.17",
          "state": {
            "_model_module": "jupyter-leaflet",
            "_model_module_version": "^0.17",
            "_model_name": "LeafletGeoJSONModel",
            "_view_count": null,
            "_view_module": "jupyter-leaflet",
            "_view_module_version": "^0.17",
            "_view_name": "LeafletGeoJSONView",
            "base": false,
            "bottom": false,
            "data": {
              "type": "FeatureCollection",
              "features": [
                {
                  "id": "6",
                  "type": "Feature",
                  "properties": {
                    "datetime": "2023-06-29 09:34:21+00:00",
                    "platform": "GE01",
                    "gsd": 0.42,
                    "ard_metadata_version": "0.0.1",
                    "catalog_id": "1050050059DEBF00",
                    "utm_zone": 34,
                    "quadkey": "031313122322",
                    "view:off_nadir": 11.6,
                    "view:azimuth": 316.4,
                    "view:incidence_angle": 77.2,
                    "view:sun_azimuth": 109.7,
                    "view:sun_elevation": 72.7,
                    "proj:epsg": 32634,
                    "grid:code": "MXRA-Z34-031313122322",
                    "proj:bbox": "360198.5815526425,3364139.2295093657,365156.25,3365156.25",
                    "tile:data_area": 4.5,
                    "tile:clouds_area": 0,
                    "tile:clouds_percent": 0,
                    "visual": "https://maxar-opendata.s3.amazonaws.com/events/Libya-Floods-Sept-2023/ard/34/031313122322/2023-06-29/1050050059DEBF00-visual.tif",
                    "style": {
                      "color": "black",
                      "fillColor": "black"
                    }
                  },
                  "geometry": {
                    "type": "Polygon",
                    "coordinates": [
                      [
                        [
                          19.596146475572297,
                          30.410918925801234
                        ],
                        [
                          19.59627764373475,
                          30.40174335701776
                        ],
                        [
                          19.549014,
                          30.402455
                        ],
                        [
                          19.548845,
                          30.402483
                        ],
                        [
                          19.548688,
                          30.402561
                        ],
                        [
                          19.548549,
                          30.40272
                        ],
                        [
                          19.544544662153232,
                          30.410353165994255
                        ],
                        [
                          19.596146475572297,
                          30.410918925801234
                        ]
                      ]
                    ]
                  },
                  "bbox": [
                    19.544544662153232,
                    30.40174335701776,
                    19.59627764373475,
                    30.410918925801234
                  ]
                },
                {
                  "id": "7",
                  "type": "Feature",
                  "properties": {
                    "datetime": "2023-06-29 09:34:21+00:00",
                    "platform": "GE01",
                    "gsd": 0.42,
                    "ard_metadata_version": "0.0.1",
                    "catalog_id": "1050050059DEBF00",
                    "utm_zone": 34,
                    "quadkey": "031313122323",
                    "view:off_nadir": 11.8,
                    "view:azimuth": 314.8,
                    "view:incidence_angle": 76.9,
                    "view:sun_azimuth": 109.7,
                    "view:sun_elevation": 72.7,
                    "proj:epsg": 32634,
                    "grid:code": "MXRA-Z34-031313122323",
                    "proj:bbox": "364843.75,3364128.2642564904,367093.78013299487,3365156.25",
                    "tile:data_area": 1.5,
                    "tile:clouds_area": 0,
                    "tile:clouds_percent": 0,
                    "visual": "https://maxar-opendata.s3.amazonaws.com/events/Libya-Floods-Sept-2023/ard/34/031313122323/2023-06-29/1050050059DEBF00-visual.tif",
                    "style": {
                      "color": "black",
                      "fillColor": "black"
                    }
                  },
                  "geometry": {
                    "type": "Polygon",
                    "coordinates": [
                      [
                        [
                          19.59289387226136,
                          30.410883912707224
                        ],
                        [
                          19.616309525737215,
                          30.411131306527096
                        ],
                        [
                          19.600257,
                          30.401751
                        ],
                        [
                          19.600087,
                          30.401686
                        ],
                        [
                          19.59302414066499,
                          30.401792344621008
                        ],
                        [
                          19.59289387226136,
                          30.410883912707224
                        ]
                      ]
                    ]
                  },
                  "bbox": [
                    19.59289387226136,
                    30.401686,
                    19.616309525737215,
                    30.411131306527096
                  ]
                },
                {
                  "id": "8",
                  "type": "Feature",
                  "properties": {
                    "datetime": "2023-06-29 09:34:22+00:00",
                    "platform": "GE01",
                    "gsd": 0.42,
                    "ard_metadata_version": "0.0.1",
                    "catalog_id": "1050050059DEBF00",
                    "utm_zone": 34,
                    "quadkey": "031313122231",
                    "view:off_nadir": 10.7,
                    "view:azimuth": 313.2,
                    "view:incidence_angle": 78.1,
                    "view:sun_azimuth": 109.8,
                    "view:sun_elevation": 72.7,
                    "proj:epsg": 32634,
                    "grid:code": "MXRA-Z34-031313122231",
                    "proj:bbox": "358301.37027922046,3365252.655941413,360156.25,3369811.5455537764",
                    "tile:data_area": 4.2,
                    "tile:clouds_area": 0,
                    "tile:clouds_percent": 0,
                    "visual": "https://maxar-opendata.s3.amazonaws.com/events/Libya-Floods-Sept-2023/ard/34/031313122231/2023-06-29/1050050059DEBF00-visual.tif",
                    "style": {
                      "color": "black",
                      "fillColor": "black"
                    }
                  },
                  "geometry": {
                    "type": "Polygon",
                    "coordinates": [
                      [
                        [
                          19.544092602066325,
                          30.41121489390403
                        ],
                        [
                          19.524257,
                          30.449026
                        ],
                        [
                          19.524212,
                          30.449187
                        ],
                        [
                          19.524253,
                          30.449392
                        ],
                        [
                          19.524397,
                          30.449559
                        ],
                        [
                          19.524498,
                          30.449616
                        ],
                        [
                          19.524647,
                          30.449658
                        ],
                        [
                          19.543481551883936,
                          30.452338541178637
                        ],
                        [
                          19.544092602066325,
                          30.41121489390403
                        ]
                      ]
                    ]
                  },
                  "bbox": [
                    19.524212,
                    30.41121489390403,
                    19.544092602066325,
                    30.452338541178637
                  ]
                },
                {
                  "id": "9",
                  "type": "Feature",
                  "properties": {
                    "datetime": "2023-06-29 09:34:22+00:00",
                    "platform": "GE01",
                    "gsd": 0.42,
                    "ard_metadata_version": "0.0.1",
                    "catalog_id": "1050050059DEBF00",
                    "utm_zone": 34,
                    "quadkey": "031313122302",
                    "view:off_nadir": 10.6,
                    "view:azimuth": 308.5,
                    "view:incidence_angle": 78.3,
                    "view:sun_azimuth": 109.8,
                    "view:sun_elevation": 72.7,
                    "proj:epsg": 32634,
                    "grid:code": "MXRA-Z34-031313122302",
                    "proj:bbox": "360369.01160396234,3369843.75,365156.25,3370568.365525607",
                    "tile:data_area": 1.7,
                    "tile:clouds_area": 0,
                    "tile:clouds_percent": 0,
                    "visual": "https://maxar-opendata.s3.amazonaws.com/events/Libya-Floods-Sept-2023/ard/34/031313122302/2023-06-29/1050050059DEBF00-visual.tif",
                    "style": {
                      "color": "black",
                      "fillColor": "black"
                    }
                  },
                  "geometry": {
                    "type": "Polygon",
                    "coordinates": [
                      [
                        [
                          19.595540589997196,
                          30.453206249214244
                        ],
                        [
                          19.545736881937735,
                          30.452659520680452
                        ],
                        [
                          19.59544690312664,
                          30.459734271362542
                        ],
                        [
                          19.595540589997196,
                          30.453206249214244
                        ]
                      ]
                    ]
                  },
                  "bbox": [
                    19.545736881937735,
                    30.452659520680452,
                    19.595540589997196,
                    30.459734271362542
                  ]
                },
                {
                  "id": "10",
                  "type": "Feature",
                  "properties": {
                    "datetime": "2023-06-29 09:34:22+00:00",
                    "platform": "GE01",
                    "gsd": 0.42,
                    "ard_metadata_version": "0.0.1",
                    "catalog_id": "1050050059DEBF00",
                    "utm_zone": 34,
                    "quadkey": "031313122303",
                    "view:off_nadir": 10.9,
                    "view:azimuth": 307.2,
                    "view:incidence_angle": 77.9,
                    "view:sun_azimuth": 109.8,
                    "view:sun_elevation": 72.7,
                    "proj:epsg": 32634,
                    "grid:code": "MXRA-Z34-031313122303",
                    "proj:bbox": "364843.75,3369843.75,368235.0417189856,3371025.7021966814",
                    "tile:data_area": 3.1,
                    "tile:clouds_area": 0,
                    "tile:clouds_percent": 0,
                    "visual": "https://maxar-opendata.s3.amazonaws.com/events/Libya-Floods-Sept-2023/ard/34/031313122303/2023-06-29/1050050059DEBF00-visual.tif",
                    "style": {
                      "color": "black",
                      "fillColor": "black"
                    }
                  },
                  "geometry": {
                    "type": "Polygon",
                    "coordinates": [
                      [
                        [
                          19.59228658403193,
                          30.453171177203494
                        ],
                        [
                          19.592198825040434,
                          30.459272003552023
                        ],
                        [
                          19.626853,
                          30.464204
                        ],
                        [
                          19.627115,
                          30.464183
                        ],
                        [
                          19.627223,
                          30.464136
                        ],
                        [
                          19.627355,
                          30.464029
                        ],
                        [
                          19.627436,
                          30.463889
                        ],
                        [
                          19.627457,
                          30.463733
                        ],
                        [
                          19.6266686152152,
                          30.453534888692804
                        ],
                        [
                          19.59228658403193,
                          30.453171177203494
                        ]
                      ]
                    ]
                  },
                  "bbox": [
                    19.592198825040434,
                    30.453171177203494,
                    19.627457,
                    30.464204
                  ]
                },
                {
                  "id": "11",
                  "type": "Feature",
                  "properties": {
                    "datetime": "2023-06-29 09:34:22+00:00",
                    "platform": "GE01",
                    "gsd": 0.42,
                    "ard_metadata_version": "0.0.1",
                    "catalog_id": "1050050059DEBF00",
                    "utm_zone": 34,
                    "quadkey": "031313122320",
                    "view:off_nadir": 11,
                    "view:azimuth": 311.9,
                    "view:incidence_angle": 77.9,
                    "view:sun_azimuth": 109.8,
                    "view:sun_elevation": 72.7,
                    "proj:epsg": 32634,
                    "grid:code": "MXRA-Z34-031313122320",
                    "proj:bbox": "359843.75,3364843.75,365156.25,3370156.25",
                    "tile:data_area": 27.4,
                    "tile:clouds_area": 0,
                    "tile:clouds_percent": 0,
                    "visual": "https://maxar-opendata.s3.amazonaws.com/events/Libya-Floods-Sept-2023/ard/34/031313122320/2023-06-29/1050050059DEBF00-visual.tif",
                    "style": {
                      "color": "black",
                      "fillColor": "black"
                    }
                  },
                  "geometry": {
                    "type": "Polygon",
                    "coordinates": [
                      [
                        [
                          19.54023399024501,
                          30.451876346869106
                        ],
                        [
                          19.56720409594019,
                          30.455714743415708
                        ],
                        [
                          19.595500151957275,
                          30.4560253939686
                        ],
                        [
                          19.596186822306773,
                          30.40809976077055
                        ],
                        [
                          19.546015337525947,
                          30.407549728903486
                        ],
                        [
                          19.54074447709566,
                          30.417597170986674
                        ],
                        [
                          19.54023399024501,
                          30.451876346869106
                        ]
                      ]
                    ]
                  },
                  "bbox": [
                    19.54023399024501,
                    30.407549728903486,
                    19.596186822306773,
                    30.4560253939686
                  ]
                },
                {
                  "id": "12",
                  "type": "Feature",
                  "properties": {
                    "datetime": "2023-06-29 09:34:22+00:00",
                    "platform": "GE01",
                    "gsd": 0.42,
                    "ard_metadata_version": "0.0.1",
                    "catalog_id": "1050050059DEBF00",
                    "utm_zone": 34,
                    "quadkey": "031313122321",
                    "view:off_nadir": 11.2,
                    "view:azimuth": 310.4,
                    "view:incidence_angle": 77.5,
                    "view:sun_azimuth": 109.8,
                    "view:sun_elevation": 72.7,
                    "proj:epsg": 32634,
                    "grid:code": "MXRA-Z34-031313122321",
                    "proj:bbox": "364843.75,3364843.75,368170.3672736583,3370156.25",
                    "tile:data_area": 16.1,
                    "tile:clouds_area": 0,
                    "tile:clouds_percent": 0,
                    "visual": "https://maxar-opendata.s3.amazonaws.com/events/Libya-Floods-Sept-2023/ard/34/031313122321/2023-06-29/1050050059DEBF00-visual.tif",
                    "style": {
                      "color": "black",
                      "fillColor": "black"
                    }
                  },
                  "geometry": {
                    "type": "Polygon",
                    "coordinates": [
                      [
                        [
                          19.592934312400523,
                          30.408064751602552
                        ],
                        [
                          19.592246052376044,
                          30.4559903180283
                        ],
                        [
                          19.626886768277203,
                          30.456356796536785
                        ],
                        [
                          19.623739,
                          30.415639
                        ],
                        [
                          19.623677,
                          30.415492
                        ],
                        [
                          19.623517,
                          30.415343
                        ],
                        [
                          19.611395486184065,
                          30.408259783500164
                        ],
                        [
                          19.592934312400523,
                          30.408064751602552
                        ]
                      ]
                    ]
                  },
                  "bbox": [
                    19.592246052376044,
                    30.408064751602552,
                    19.626886768277203,
                    30.456356796536785
                  ]
                },
                {
                  "id": "13",
                  "type": "Feature",
                  "properties": {
                    "datetime": "2023-07-01 09:07:41+00:00",
                    "platform": "GE01",
                    "gsd": 0.46,
                    "ard_metadata_version": "0.0.1",
                    "catalog_id": "105005005ADE7C00",
                    "utm_zone": 34,
                    "quadkey": "120200213111",
                    "view:off_nadir": 21.2,
                    "view:azimuth": 88.2,
                    "view:incidence_angle": 66.4,
                    "view:sun_azimuth": 111.3,
                    "view:sun_elevation": 68.9,
                    "proj:epsg": 32634,
                    "grid:code": "MXRA-Z34-120200213111",
                    "proj:bbox": "654843.75,3634843.75,660156.25,3635646.3623046875",
                    "tile:data_area": 4,
                    "tile:clouds_area": 0,
                    "tile:clouds_percent": 0,
                    "visual": "https://maxar-opendata.s3.amazonaws.com/events/Libya-Floods-Sept-2023/ard/34/120200213111/2023-07-01/105005005ADE7C00-visual.tif",
                    "style": {
                      "color": "black",
                      "fillColor": "black"
                    }
                  },
                  "geometry": {
                    "type": "Polygon",
                    "coordinates": [
                      [
                        [
                          22.711176527110418,
                          32.84721232388417
                        ],
                        [
                          22.711394932639358,
                          32.84720933632563
                        ],
                        [
                          22.711256018936023,
                          32.839972528327145
                        ],
                        [
                          22.65451322654963,
                          32.84073573895902
                        ],
                        [
                          22.654635178461923,
                          32.847306841977165
                        ],
                        [
                          22.711176527110418,
                          32.84721232388417
                        ]
                      ]
                    ]
                  },
                  "bbox": [
                    22.65451322654963,
                    32.839972528327145,
                    22.711394932639358,
                    32.847306841977165
                  ]
                },
                {
                  "id": "14",
                  "type": "Feature",
                  "properties": {
                    "datetime": "2023-07-01 09:07:41+00:00",
                    "platform": "GE01",
                    "gsd": 0.46,
                    "ard_metadata_version": "0.0.1",
                    "catalog_id": "105005005ADE7C00",
                    "utm_zone": 34,
                    "quadkey": "120200213113",
                    "view:off_nadir": 21.2,
                    "view:azimuth": 87.8,
                    "view:incidence_angle": 66.4,
                    "view:sun_azimuth": 111.3,
                    "view:sun_elevation": 68.9,
                    "proj:epsg": 32634,
                    "grid:code": "MXRA-Z34-120200213113",
                    "proj:bbox": "654843.75,3629843.75,660156.25,3635156.25",
                    "tile:data_area": 28.2,
                    "tile:clouds_area": 0,
                    "tile:clouds_percent": 0,
                    "visual": "https://maxar-opendata.s3.amazonaws.com/events/Libya-Floods-Sept-2023/ard/34/120200213113/2023-07-01/105005005ADE7C00-visual.tif",
                    "style": {
                      "color": "black",
                      "fillColor": "black"
                    }
                  },
                  "geometry": {
                    "type": "Polygon",
                    "coordinates": [
                      [
                        [
                          22.65456551598269,
                          32.84355349927274
                        ],
                        [
                          22.653677586082356,
                          32.795651391124785
                        ],
                        [
                          22.710391753044473,
                          32.794889490532256
                        ],
                        [
                          22.711310099576973,
                          32.84279020672034
                        ],
                        [
                          22.65456551598269,
                          32.84355349927274
                        ]
                      ]
                    ]
                  },
                  "bbox": [
                    22.653677586082356,
                    32.794889490532256,
                    22.711310099576973,
                    32.84355349927274
                  ]
                },
                {
                  "id": "15",
                  "type": "Feature",
                  "properties": {
                    "datetime": "2023-07-01 09:07:41+00:00",
                    "platform": "GE01",
                    "gsd": 0.46,
                    "ard_metadata_version": "0.0.1",
                    "catalog_id": "105005005ADE7C00",
                    "utm_zone": 34,
                    "quadkey": "120200213131",
                    "view:off_nadir": 21.2,
                    "view:azimuth": 86.8,
                    "view:incidence_angle": 66.4,
                    "view:sun_azimuth": 111.3,
                    "view:sun_elevation": 68.9,
                    "proj:epsg": 32634,
                    "grid:code": "MXRA-Z34-120200213131",
                    "proj:bbox": "654843.75,3624843.75,660156.25,3630156.25",
                    "tile:data_area": 28.2,
                    "tile:clouds_area": 0,
                    "tile:clouds_percent": 0,
                    "visual": "https://maxar-opendata.s3.amazonaws.com/events/Libya-Floods-Sept-2023/ard/34/120200213131/2023-07-01/105005005ADE7C00-visual.tif",
                    "style": {
                      "color": "black",
                      "fillColor": "black"
                    }
                  },
                  "geometry": {
                    "type": "Polygon",
                    "coordinates": [
                      [
                        [
                          22.653729759028042,
                          32.798469172943385
                        ],
                        [
                          22.652843807373607,
                          32.75056669936143
                        ],
                        [
                          22.709529412636645,
                          32.749806107513585
                        ],
                        [
                          22.710445713210866,
                          32.79770719051135
                        ],
                        [
                          22.653729759028042,
                          32.798469172943385
                        ]
                      ]
                    ]
                  },
                  "bbox": [
                    22.652843807373607,
                    32.749806107513585,
                    22.710445713210866,
                    32.798469172943385
                  ]
                },
                {
                  "id": "16",
                  "type": "Feature",
                  "properties": {
                    "datetime": "2023-07-01 09:07:41+00:00",
                    "platform": "GE01",
                    "gsd": 0.46,
                    "ard_metadata_version": "0.0.1",
                    "catalog_id": "105005005ADE7C00",
                    "utm_zone": 34,
                    "quadkey": "120200213133",
                    "view:off_nadir": 21.3,
                    "view:azimuth": 85.7,
                    "view:incidence_angle": 66.3,
                    "view:sun_azimuth": 111.3,
                    "view:sun_elevation": 68.9,
                    "proj:epsg": 32634,
                    "grid:code": "MXRA-Z34-120200213133",
                    "proj:bbox": "654843.75,3619843.75,660156.25,3625156.25",
                    "tile:data_area": 28.2,
                    "tile:clouds_area": 0,
                    "tile:clouds_percent": 0,
                    "visual": "https://maxar-opendata.s3.amazonaws.com/events/Libya-Floods-Sept-2023/ard/34/120200213133/2023-07-01/105005005ADE7C00-visual.tif",
                    "style": {
                      "color": "black",
                      "fillColor": "black"
                    }
                  },
                  "geometry": {
                    "type": "Polygon",
                    "coordinates": [
                      [
                        [
                          22.65289586407173,
                          32.75338450266737
                        ],
                        [
                          22.65201188659324,
                          32.70548166394967
                        ],
                        [
                          22.708668993751548,
                          32.70472237955542
                        ],
                        [
                          22.70958325257649,
                          32.75262382906084
                        ],
                        [
                          22.65289586407173,
                          32.75338450266737
                        ]
                      ]
                    ]
                  },
                  "bbox": [
                    22.65201188659324,
                    32.70472237955542,
                    22.70958325257649,
                    32.75338450266737
                  ]
                },
                {
                  "id": "17",
                  "type": "Feature",
                  "properties": {
                    "datetime": "2023-07-01 09:07:41+00:00",
                    "platform": "GE01",
                    "gsd": 0.46,
                    "ard_metadata_version": "0.0.1",
                    "catalog_id": "105005005ADE7C00",
                    "utm_zone": 34,
                    "quadkey": "120200213311",
                    "view:off_nadir": 21.3,
                    "view:azimuth": 85.3,
                    "view:incidence_angle": 66.3,
                    "view:sun_azimuth": 111.3,
                    "view:sun_elevation": 68.9,
                    "proj:epsg": 32634,
                    "grid:code": "MXRA-Z34-120200213311",
                    "proj:bbox": "654843.75,3619034.1186523438,660156.25,3620156.25",
                    "tile:data_area": 5.6,
                    "tile:clouds_area": 0,
                    "tile:clouds_percent": 0,
                    "visual": "https://maxar-opendata.s3.amazonaws.com/events/Libya-Floods-Sept-2023/ard/34/120200213311/2023-07-01/105005005ADE7C00-visual.tif",
                    "style": {
                      "color": "black",
                      "fillColor": "black"
                    }
                  },
                  "geometry": {
                    "type": "Polygon",
                    "coordinates": [
                      [
                        [
                          22.65206382728281,
                          32.70829948872541
                        ],
                        [
                          22.65187735128702,
                          32.69818118004473
                        ],
                        [
                          22.708547312174613,
                          32.6983384253695
                        ],
                        [
                          22.708722713712014,
                          32.70754012265308
                        ],
                        [
                          22.65206382728281,
                          32.70829948872541
                        ]
                      ]
                    ]
                  },
                  "bbox": [
                    22.65187735128702,
                    32.69818118004473,
                    22.708722713712014,
                    32.70829948872541
                  ]
                },
                {
                  "id": "18",
                  "type": "Feature",
                  "properties": {
                    "datetime": "2023-07-01 09:07:41+00:00",
                    "platform": "GE01",
                    "gsd": 0.46,
                    "ard_metadata_version": "0.0.1",
                    "catalog_id": "105005005ADE7C00",
                    "utm_zone": 34,
                    "quadkey": "120200302000",
                    "view:off_nadir": 21.1,
                    "view:azimuth": 87.5,
                    "view:incidence_angle": 66.5,
                    "view:sun_azimuth": 111.3,
                    "view:sun_elevation": 68.9,
                    "proj:epsg": 32634,
                    "grid:code": "MXRA-Z34-120200302000",
                    "proj:bbox": "659843.75,3634843.75,661571.044921875,3635667.1142578125",
                    "tile:data_area": 1.3,
                    "tile:clouds_area": 0,
                    "tile:clouds_percent": 0,
                    "visual": "https://maxar-opendata.s3.amazonaws.com/events/Libya-Floods-Sept-2023/ard/34/120200302000/2023-07-01/105005005ADE7C00-visual.tif",
                    "style": {
                      "color": "black",
                      "fillColor": "black"
                    }
                  },
                  "geometry": {
                    "type": "Polygon",
                    "coordinates": [
                      [
                        [
                          22.72635436839522,
                          32.84719095907321
                        ],
                        [
                          22.726488018445597,
                          32.84718911470202
                        ],
                        [
                          22.726367073831117,
                          32.83976493923921
                        ],
                        [
                          22.70791826721045,
                          32.84001813476968
                        ],
                        [
                          22.708056172132963,
                          32.847216432365734
                        ],
                        [
                          22.72635436839522,
                          32.84719095907321
                        ]
                      ]
                    ]
                  },
                  "bbox": [
                    22.70791826721045,
                    32.83976493923921,
                    22.726488018445597,
                    32.847216432365734
                  ]
                },
                {
                  "id": "19",
                  "type": "Feature",
                  "properties": {
                    "datetime": "2023-07-01 09:07:41+00:00",
                    "platform": "GE01",
                    "gsd": 0.46,
                    "ard_metadata_version": "0.0.1",
                    "catalog_id": "105005005ADE7C00",
                    "utm_zone": 34,
                    "quadkey": "120200302002",
                    "view:off_nadir": 21.1,
                    "view:azimuth": 87.1,
                    "view:incidence_angle": 66.5,
                    "view:sun_azimuth": 111.3,
                    "view:sun_elevation": 68.9,
                    "proj:epsg": 32634,
                    "grid:code": "MXRA-Z34-120200302002",
                    "proj:bbox": "659843.75,3629843.75,661582.6416015625,3635156.25",
                    "tile:data_area": 9.2,
                    "tile:clouds_area": 0,
                    "tile:clouds_percent": 0,
                    "visual": "https://maxar-opendata.s3.amazonaws.com/events/Libya-Floods-Sept-2023/ard/34/120200302002/2023-07-01/105005005ADE7C00-visual.tif",
                    "style": {
                      "color": "black",
                      "fillColor": "black"
                    }
                  },
                  "geometry": {
                    "type": "Polygon",
                    "coordinates": [
                      [
                        [
                          22.707972242493913,
                          32.84283581805806
                        ],
                        [
                          22.707055685044633,
                          32.79493501869265
                        ],
                        [
                          22.725618983313595,
                          32.79468055161378
                        ],
                        [
                          22.72641185268267,
                          32.842582730287646
                        ],
                        [
                          22.707972242493913,
                          32.84283581805806
                        ]
                      ]
                    ]
                  },
                  "bbox": [
                    22.707055685044633,
                    32.79468055161378,
                    22.72641185268267,
                    32.84283581805806
                  ]
                },
                {
                  "id": "20",
                  "type": "Feature",
                  "properties": {
                    "datetime": "2023-07-01 09:07:41+00:00",
                    "platform": "GE01",
                    "gsd": 0.46,
                    "ard_metadata_version": "0.0.1",
                    "catalog_id": "105005005ADE7C00",
                    "utm_zone": 34,
                    "quadkey": "120200302020",
                    "view:off_nadir": 21.1,
                    "view:azimuth": 86,
                    "view:incidence_angle": 66.5,
                    "view:sun_azimuth": 111.3,
                    "view:sun_elevation": 68.9,
                    "proj:epsg": 32634,
                    "grid:code": "MXRA-Z34-120200302020",
                    "proj:bbox": "659843.75,3624843.75,661592.4072265625,3630156.25",
                    "tile:data_area": 9.2,
                    "tile:clouds_area": 0,
                    "tile:clouds_percent": 0,
                    "visual": "https://maxar-opendata.s3.amazonaws.com/events/Libya-Floods-Sept-2023/ard/34/120200302020/2023-07-01/105005005ADE7C00-visual.tif",
                    "style": {
                      "color": "black",
                      "fillColor": "black"
                    }
                  },
                  "geometry": {
                    "type": "Polygon",
                    "coordinates": [
                      [
                        [
                          22.70710954008806,
                          32.79775272356212
                        ],
                        [
                          22.706195024614413,
                          32.7498515574692
                        ],
                        [
                          22.72485317335306,
                          32.74959609310851
                        ],
                        [
                          22.725666907408083,
                          32.79749831896004
                        ],
                        [
                          22.70710954008806,
                          32.79775272356212
                        ]
                      ]
                    ]
                  },
                  "bbox": [
                    22.706195024614413,
                    32.74959609310851,
                    22.725666907408083,
                    32.79775272356212
                  ]
                },
                {
                  "id": "21",
                  "type": "Feature",
                  "properties": {
                    "datetime": "2023-07-01 09:07:41+00:00",
                    "platform": "GE01",
                    "gsd": 0.46,
                    "ard_metadata_version": "0.0.1",
                    "catalog_id": "105005005ADE7C00",
                    "utm_zone": 34,
                    "quadkey": "120200302022",
                    "view:off_nadir": 21.2,
                    "view:azimuth": 84.9,
                    "view:incidence_angle": 66.5,
                    "view:sun_azimuth": 111.3,
                    "view:sun_elevation": 68.9,
                    "proj:epsg": 32634,
                    "grid:code": "MXRA-Z34-120200302022",
                    "proj:bbox": "659843.75,3619843.75,661705.0170898438,3625156.25",
                    "tile:data_area": 9.6,
                    "tile:clouds_area": 0,
                    "tile:clouds_percent": 0,
                    "visual": "https://maxar-opendata.s3.amazonaws.com/events/Libya-Floods-Sept-2023/ard/34/120200302022/2023-07-01/105005005ADE7C00-visual.tif",
                    "style": {
                      "color": "black",
                      "fillColor": "black"
                    }
                  },
                  "geometry": {
                    "type": "Polygon",
                    "coordinates": [
                      [
                        [
                          22.70624875966532,
                          32.75266928390199
                        ],
                        [
                          22.705336281966492,
                          32.70476775138341
                        ],
                        [
                          22.725185984777543,
                          32.70449620809834
                        ],
                        [
                          22.725506342610913,
                          32.722316368940504
                        ],
                        [
                          22.725052600538916,
                          32.726652139292895
                        ],
                        [
                          22.724865778099193,
                          32.73673123651948
                        ],
                        [
                          22.724655804680403,
                          32.7380029804575
                        ],
                        [
                          22.724900982712413,
                          32.75241388174205
                        ],
                        [
                          22.70624875966532,
                          32.75266928390199
                        ]
                      ]
                    ]
                  },
                  "bbox": [
                    22.705336281966492,
                    32.70449620809834,
                    22.725506342610913,
                    32.75266928390199
                  ]
                },
                {
                  "id": "22",
                  "type": "Feature",
                  "properties": {
                    "datetime": "2023-07-01 09:07:41+00:00",
                    "platform": "GE01",
                    "gsd": 0.46,
                    "ard_metadata_version": "0.0.1",
                    "catalog_id": "105005005ADE7C00",
                    "utm_zone": 34,
                    "quadkey": "120200302200",
                    "view:off_nadir": 21.2,
                    "view:azimuth": 84.8,
                    "view:incidence_angle": 66.4,
                    "view:sun_azimuth": 111.3,
                    "view:sun_elevation": 68.9,
                    "proj:epsg": 32634,
                    "grid:code": "MXRA-Z34-120200302200",
                    "proj:bbox": "659843.75,3619129.638671875,661706.54296875,3620156.25",
                    "tile:data_area": 1.8,
                    "tile:clouds_area": 0,
                    "tile:clouds_percent": 0,
                    "visual": "https://maxar-opendata.s3.amazonaws.com/events/Libya-Floods-Sept-2023/ard/34/120200302200/2023-07-01/105005005ADE7C00-visual.tif",
                    "style": {
                      "color": "black",
                      "fillColor": "black"
                    }
                  },
                  "geometry": {
                    "type": "Polygon",
                    "coordinates": [
                      [
                        [
                          22.705389897271576,
                          32.70758549936178
                        ],
                        [
                          22.70521379067675,
                          32.698328751927534
                        ],
                        [
                          22.7250845889074,
                          32.69838175002193
                        ],
                        [
                          22.72520767676656,
                          32.707314374710066
                        ],
                        [
                          22.705389897271576,
                          32.70758549936178
                        ]
                      ]
                    ]
                  },
                  "bbox": [
                    22.70521379067675,
                    32.698328751927534,
                    22.72520767676656,
                    32.70758549936178
                  ]
                },
                {
                  "id": "23",
                  "type": "Feature",
                  "properties": {
                    "datetime": "2023-07-01 09:07:42+00:00",
                    "platform": "GE01",
                    "gsd": 0.46,
                    "ard_metadata_version": "0.0.1",
                    "catalog_id": "105005005ADE7C00",
                    "utm_zone": 34,
                    "quadkey": "120200213110",
                    "view:off_nadir": 21.5,
                    "view:azimuth": 89.7,
                    "view:incidence_angle": 66.1,
                    "view:sun_azimuth": 111.3,
                    "view:sun_elevation": 68.9,
                    "proj:epsg": 32634,
                    "grid:code": "MXRA-Z34-120200213110",
                    "proj:bbox": "649843.75,3634843.75,655156.25,3635576.7822265625",
                    "tile:data_area": 3.7,
                    "tile:clouds_area": 0,
                    "tile:clouds_percent": 0,
                    "visual": "https://maxar-opendata.s3.amazonaws.com/events/Libya-Floods-Sept-2023/ard/34/120200213110/2023-07-01/105005005ADE7C00-visual.tif",
                    "style": {
                      "color": "black",
                      "fillColor": "black"
                    }
                  },
                  "geometry": {
                    "type": "Polygon",
                    "coordinates": [
                      [
                        [
                          22.65786969499545,
                          32.84730255428242
                        ],
                        [
                          22.657851096870832,
                          32.84069155594228
                        ],
                        [
                          22.601106320289365,
                          32.84143056689216
                        ],
                        [
                          22.60121405853662,
                          32.847429471602354
                        ],
                        [
                          22.65786969499545,
                          32.84730255428242
                        ]
                      ]
                    ]
                  },
                  "bbox": [
                    22.601106320289365,
                    32.84069155594228,
                    22.65786969499545,
                    32.847429471602354
                  ]
                },
                {
                  "id": "24",
                  "type": "Feature",
                  "properties": {
                    "datetime": "2023-07-01 09:07:42+00:00",
                    "platform": "GE01",
                    "gsd": 0.46,
                    "ard_metadata_version": "0.0.1",
                    "catalog_id": "105005005ADE7C00",
                    "utm_zone": 34,
                    "quadkey": "120200213112",
                    "view:off_nadir": 21.5,
                    "view:azimuth": 89.3,
                    "view:incidence_angle": 66.1,
                    "view:sun_azimuth": 111.3,
                    "view:sun_elevation": 68.9,
                    "proj:epsg": 32634,
                    "grid:code": "MXRA-Z34-120200213112",
                    "proj:bbox": "649843.75,3629843.75,655156.25,3635156.25",
                    "tile:data_area": 28.2,
                    "tile:clouds_area": 0,
                    "tile:clouds_percent": 0,
                    "visual": "https://maxar-opendata.s3.amazonaws.com/events/Libya-Floods-Sept-2023/ard/34/120200213112/2023-07-01/105005005ADE7C00-visual.tif",
                    "style": {
                      "color": "black",
                      "fillColor": "black"
                    }
                  },
                  "geometry": {
                    "type": "Polygon",
                    "coordinates": [
                      [
                        [
                          22.601156923631404,
                          32.844248401787645
                        ],
                        [
                          22.6002976253637,
                          32.79634502637726
                        ],
                        [
                          22.657013772433526,
                          32.79560728394812
                        ],
                        [
                          22.657903491676674,
                          32.8435093115135
                        ],
                        [
                          22.601156923631404,
                          32.844248401787645
                        ]
                      ]
                    ]
                  },
                  "bbox": [
                    22.6002976253637,
                    32.79560728394812,
                    22.657903491676674,
                    32.844248401787645
                  ]
                },
                {
                  "id": "25",
                  "type": "Feature",
                  "properties": {
                    "datetime": "2023-07-01 09:07:42+00:00",
                    "platform": "GE01",
                    "gsd": 0.46,
                    "ard_metadata_version": "0.0.1",
                    "catalog_id": "105005005ADE7C00",
                    "utm_zone": 34,
                    "quadkey": "120200213130",
                    "view:off_nadir": 21.5,
                    "view:azimuth": 88.3,
                    "view:incidence_angle": 66.1,
                    "view:sun_azimuth": 111.3,
                    "view:sun_elevation": 68.9,
                    "proj:epsg": 32634,
                    "grid:code": "MXRA-Z34-120200213130",
                    "proj:bbox": "649843.75,3624843.75,655156.25,3630156.25",
                    "tile:data_area": 28.2,
                    "tile:clouds_area": 0,
                    "tile:clouds_percent": 0,
                    "visual": "https://maxar-opendata.s3.amazonaws.com/events/Libya-Floods-Sept-2023/ard/34/120200213130/2023-07-01/105005005ADE7C00-visual.tif",
                    "style": {
                      "color": "black",
                      "fillColor": "black"
                    }
                  },
                  "geometry": {
                    "type": "Polygon",
                    "coordinates": [
                      [
                        [
                          22.60034811597184,
                          32.79916288270382
                        ],
                        [
                          22.599490732206565,
                          32.75125914311197
                        ],
                        [
                          22.6561783135037,
                          32.75052266794987
                        ],
                        [
                          22.65706605051743,
                          32.79842506102891
                        ],
                        [
                          22.60034811597184,
                          32.79916288270382
                        ]
                      ]
                    ]
                  },
                  "bbox": [
                    22.599490732206565,
                    32.75052266794987,
                    22.65706605051743,
                    32.79916288270382
                  ]
                },
                {
                  "id": "26",
                  "type": "Feature",
                  "properties": {
                    "datetime": "2023-07-01 09:07:42+00:00",
                    "platform": "GE01",
                    "gsd": 0.46,
                    "ard_metadata_version": "0.0.1",
                    "catalog_id": "105005005ADE7C00",
                    "utm_zone": 34,
                    "quadkey": "120200213132",
                    "view:off_nadir": 21.5,
                    "view:azimuth": 87.3,
                    "view:incidence_angle": 66.1,
                    "view:sun_azimuth": 111.3,
                    "view:sun_elevation": 68.9,
                    "proj:epsg": 32634,
                    "grid:code": "MXRA-Z34-120200213132",
                    "proj:bbox": "649843.75,3619843.75,655156.25,3625156.25",
                    "tile:data_area": 28.2,
                    "tile:clouds_area": 0,
                    "tile:clouds_percent": 0,
                    "visual": "https://maxar-opendata.s3.amazonaws.com/events/Libya-Floods-Sept-2023/ard/34/120200213132/2023-07-01/105005005ADE7C00-visual.tif",
                    "style": {
                      "color": "black",
                      "fillColor": "black"
                    }
                  },
                  "geometry": {
                    "type": "Polygon",
                    "coordinates": [
                      [
                        [
                          22.5995411103129,
                          32.75407702085231
                        ],
                        [
                          22.598685637111,
                          32.706172917373806
                        ],
                        [
                          22.6553447162435,
                          32.70543770822849
                        ],
                        [
                          22.656230475105954,
                          32.753340466522694
                        ],
                        [
                          22.5995411103129,
                          32.75407702085231
                        ]
                      ]
                    ]
                  },
                  "bbox": [
                    22.598685637111,
                    32.70543770822849,
                    22.656230475105954,
                    32.75407702085231
                  ]
                },
                {
                  "id": "27",
                  "type": "Feature",
                  "properties": {
                    "datetime": "2023-07-01 09:07:42+00:00",
                    "platform": "GE01",
                    "gsd": 0.46,
                    "ard_metadata_version": "0.0.1",
                    "catalog_id": "105005005ADE7C00",
                    "utm_zone": 34,
                    "quadkey": "120200213310",
                    "view:off_nadir": 21.5,
                    "view:azimuth": 86.9,
                    "view:incidence_angle": 66.1,
                    "view:sun_azimuth": 111.3,
                    "view:sun_elevation": 68.9,
                    "proj:epsg": 32634,
                    "grid:code": "MXRA-Z34-120200213310",
                    "proj:bbox": "649843.75,3618940.1245117188,655156.25,3620156.25",
                    "tile:data_area": 6.1,
                    "tile:clouds_area": 0,
                    "tile:clouds_percent": 0,
                    "visual": "https://maxar-opendata.s3.amazonaws.com/events/Libya-Floods-Sept-2023/ard/34/120200213310/2023-07-01/105005005ADE7C00-visual.tif",
                    "style": {
                      "color": "black",
                      "fillColor": "black"
                    }
                  },
                  "geometry": {
                    "type": "Polygon",
                    "coordinates": [
                      [
                        [
                          22.598735902946853,
                          32.70899081651058
                        ],
                        [
                          22.59854032777568,
                          32.69802466830633
                        ],
                        [
                          22.65521087509309,
                          32.6981895204199
                        ],
                        [
                          22.655396761603598,
                          32.708255528275764
                        ],
                        [
                          22.598735902946853,
                          32.70899081651058
                        ]
                      ]
                    ]
                  },
                  "bbox": [
                    22.59854032777568,
                    32.69802466830633,
                    22.655396761603598,
                    32.70899081651058
                  ]
                },
                {
                  "id": "28",
                  "type": "Feature",
                  "properties": {
                    "datetime": "2023-07-01 09:07:43+00:00",
                    "platform": "GE01",
                    "gsd": 0.46,
                    "ard_metadata_version": "0.0.1",
                    "catalog_id": "105005005ADE7C00",
                    "utm_zone": 34,
                    "quadkey": "120200213101",
                    "view:off_nadir": 21.7,
                    "view:azimuth": 91.1,
                    "view:incidence_angle": 65.8,
                    "view:sun_azimuth": 111.2,
                    "view:sun_elevation": 68.8,
                    "proj:epsg": 32634,
                    "grid:code": "MXRA-Z34-120200213101",
                    "proj:bbox": "644843.75,3634843.75,650156.25,3635512.6953125",
                    "tile:data_area": 3.3,
                    "tile:clouds_area": 0,
                    "tile:clouds_percent": 0,
                    "visual": "https://maxar-opendata.s3.amazonaws.com/events/Libya-Floods-Sept-2023/ard/34/120200213101/2023-07-01/105005005ADE7C00-visual.tif",
                    "style": {
                      "color": "black",
                      "fillColor": "black"
                    }
                  },
                  "geometry": {
                    "type": "Polygon",
                    "coordinates": [
                      [
                        [
                          22.604422463727317,
                          32.847421396176195
                        ],
                        [
                          22.604444305449526,
                          32.8413878074702
                        ],
                        [
                          22.5476976085432,
                          32.84210261591142
                        ],
                        [
                          22.547792821479714,
                          32.84758707631954
                        ],
                        [
                          22.604422463727317,
                          32.847421396176195
                        ]
                      ]
                    ]
                  },
                  "bbox": [
                    22.5476976085432,
                    32.8413878074702,
                    22.604444305449526,
                    32.84758707631954
                  ]
                },
                {
                  "id": "29",
                  "type": "Feature",
                  "properties": {
                    "datetime": "2023-07-01 09:07:43+00:00",
                    "platform": "GE01",
                    "gsd": 0.46,
                    "ard_metadata_version": "0.0.1",
                    "catalog_id": "105005005ADE7C00",
                    "utm_zone": 34,
                    "quadkey": "120200213103",
                    "view:off_nadir": 21.7,
                    "view:azimuth": 90.8,
                    "view:incidence_angle": 65.8,
                    "view:sun_azimuth": 111.2,
                    "view:sun_elevation": 68.8,
                    "proj:epsg": 32634,
                    "grid:code": "MXRA-Z34-120200213103",
                    "proj:bbox": "644843.75,3629843.75,650156.25,3635156.25",
                    "tile:data_area": 28.2,
                    "tile:clouds_area": 0,
                    "tile:clouds_percent": 0,
                    "visual": "https://maxar-opendata.s3.amazonaws.com/events/Libya-Floods-Sept-2023/ard/34/120200213103/2023-07-01/105005005ADE7C00-visual.tif",
                    "style": {
                      "color": "black",
                      "fillColor": "black"
                    }
                  },
                  "geometry": {
                    "type": "Polygon",
                    "coordinates": [
                      [
                        [
                          22.547746525561326,
                          32.8449205229447
                        ],
                        [
                          22.546915862878617,
                          32.7970159217987
                        ],
                        [
                          22.60363392631726,
                          32.79630234035288
                        ],
                        [
                          22.604495014179154,
                          32.84420563777591
                        ],
                        [
                          22.547746525561326,
                          32.8449205229447
                        ]
                      ]
                    ]
                  },
                  "bbox": [
                    22.546915862878617,
                    32.79630234035288,
                    22.604495014179154,
                    32.8449205229447
                  ]
                },
                {
                  "id": "30",
                  "type": "Feature",
                  "properties": {
                    "datetime": "2023-07-01 09:07:43+00:00",
                    "platform": "GE01",
                    "gsd": 0.46,
                    "ard_metadata_version": "0.0.1",
                    "catalog_id": "105005005ADE7C00",
                    "utm_zone": 34,
                    "quadkey": "120200213121",
                    "view:off_nadir": 21.7,
                    "view:azimuth": 89.8,
                    "view:incidence_angle": 65.8,
                    "view:sun_azimuth": 111.2,
                    "view:sun_elevation": 68.8,
                    "proj:epsg": 32634,
                    "grid:code": "MXRA-Z34-120200213121",
                    "proj:bbox": "644843.75,3624843.75,650156.25,3630156.25",
                    "tile:data_area": 28.2,
                    "tile:clouds_area": 0,
                    "tile:clouds_percent": 0,
                    "visual": "https://maxar-opendata.s3.amazonaws.com/events/Libya-Floods-Sept-2023/ard/34/120200213121/2023-07-01/105005005ADE7C00-visual.tif",
                    "style": {
                      "color": "black",
                      "fillColor": "black"
                    }
                  },
                  "geometry": {
                    "type": "Polygon",
                    "coordinates": [
                      [
                        [
                          22.546964670917102,
                          32.799833850191696
                        ],
                        [
                          22.54613585898003,
                          32.75192888607584
                        ],
                        [
                          22.602825352703267,
                          32.75121653041266
                        ],
                        [
                          22.603684522078375,
                          32.799120192094236
                        ],
                        [
                          22.546964670917102,
                          32.799833850191696
                        ]
                      ]
                    ]
                  },
                  "bbox": [
                    22.54613585898003,
                    32.75121653041266,
                    22.603684522078375,
                    32.799833850191696
                  ]
                },
                {
                  "id": "31",
                  "type": "Feature",
                  "properties": {
                    "datetime": "2023-07-01 09:07:43+00:00",
                    "platform": "GE01",
                    "gsd": 0.46,
                    "ard_metadata_version": "0.0.1",
                    "catalog_id": "105005005ADE7C00",
                    "utm_zone": 34,
                    "quadkey": "120200213123",
                    "view:off_nadir": 21.7,
                    "view:azimuth": 88.8,
                    "view:incidence_angle": 65.8,
                    "view:sun_azimuth": 111.2,
                    "view:sun_elevation": 68.8,
                    "proj:epsg": 32634,
                    "grid:code": "MXRA-Z34-120200213123",
                    "proj:bbox": "644843.75,3619843.75,650156.25,3625156.25",
                    "tile:data_area": 28.2,
                    "tile:clouds_area": 0,
                    "tile:clouds_percent": 0,
                    "visual": "https://maxar-opendata.s3.amazonaws.com/events/Libya-Floods-Sept-2023/ard/34/120200213123/2023-07-01/105005005ADE7C00-visual.tif",
                    "style": {
                      "color": "black",
                      "fillColor": "black"
                    }
                  },
                  "geometry": {
                    "type": "Polygon",
                    "coordinates": [
                      [
                        [
                          22.546184558263256,
                          32.75474683581144
                        ],
                        [
                          22.54535759326373,
                          32.70684150901719
                        ],
                        [
                          22.602018580892892,
                          32.70613037792722
                        ],
                        [
                          22.602875835728447,
                          32.75403440357231
                        ],
                        [
                          22.546184558263256,
                          32.75474683581144
                        ]
                      ]
                    ]
                  },
                  "bbox": [
                    22.54535759326373,
                    32.70613037792722,
                    22.602875835728447,
                    32.75474683581144
                  ]
                },
                {
                  "id": "32",
                  "type": "Feature",
                  "properties": {
                    "datetime": "2023-07-01 09:07:43+00:00",
                    "platform": "GE01",
                    "gsd": 0.46,
                    "ard_metadata_version": "0.0.1",
                    "catalog_id": "105005005ADE7C00",
                    "utm_zone": 34,
                    "quadkey": "120200213301",
                    "view:off_nadir": 21.8,
                    "view:azimuth": 88.4,
                    "view:incidence_angle": 65.8,
                    "view:sun_azimuth": 111.2,
                    "view:sun_elevation": 68.8,
                    "proj:epsg": 32634,
                    "grid:code": "MXRA-Z34-120200213301",
                    "proj:bbox": "644843.75,3618848.5717773438,650156.25,3620156.25",
                    "tile:data_area": 6.6,
                    "tile:clouds_area": 0,
                    "tile:clouds_percent": 0,
                    "visual": "https://maxar-opendata.s3.amazonaws.com/events/Libya-Floods-Sept-2023/ard/34/120200213301/2023-07-01/105005005ADE7C00-visual.tif",
                    "style": {
                      "color": "black",
                      "fillColor": "black"
                    }
                  },
                  "geometry": {
                    "type": "Polygon",
                    "coordinates": [
                      [
                        [
                          22.545406184015327,
                          32.70965948007822
                        ],
                        [
                          22.54520289774198,
                          32.697867473158105
                        ],
                        [
                          22.601873903100323,
                          32.69803442732751
                        ],
                        [
                          22.602068951413937,
                          32.70894827248781
                        ],
                        [
                          22.545406184015327,
                          32.70965948007822
                        ]
                      ]
                    ]
                  },
                  "bbox": [
                    22.54520289774198,
                    32.697867473158105,
                    22.602068951413937,
                    32.70965948007822
                  ]
                },
                {
                  "id": "33",
                  "type": "Feature",
                  "properties": {
                    "datetime": "2023-07-01 09:07:44+00:00",
                    "platform": "GE01",
                    "gsd": 0.47,
                    "ard_metadata_version": "0.0.1",
                    "catalog_id": "105005005ADE7C00",
                    "utm_zone": 34,
                    "quadkey": "120200213100",
                    "view:off_nadir": 22,
                    "view:azimuth": 92.2,
                    "view:incidence_angle": 65.6,
                    "view:sun_azimuth": 111.2,
                    "view:sun_elevation": 68.8,
                    "proj:epsg": 32634,
                    "grid:code": "MXRA-Z34-120200213100",
                    "proj:bbox": "641148.9868164062,3634843.75,645156.25,3635455.322265625",
                    "tile:data_area": 2.3,
                    "tile:clouds_area": 0,
                    "tile:clouds_percent": 0,
                    "visual": "https://maxar-opendata.s3.amazonaws.com/events/Libya-Floods-Sept-2023/ard/34/120200213100/2023-07-01/105005005ADE7C00-visual.tif",
                    "style": {
                      "color": "black",
                      "fillColor": "black"
                    }
                  },
                  "geometry": {
                    "type": "Polygon",
                    "coordinates": [
                      [
                        [
                          22.55105340820468,
                          32.84757697246395
                        ],
                        [
                          22.55113164959208,
                          32.84757600243718
                        ],
                        [
                          22.55103570478485,
                          32.8420612802478
                        ],
                        [
                          22.50835385315629,
                          32.8425830979969
                        ],
                        [
                          22.50835087253969,
                          32.84259964877608
                        ],
                        [
                          22.508316895742706,
                          32.847722411612075
                        ],
                        [
                          22.55105340820468,
                          32.84757697246395
                        ]
                      ]
                    ]
                  },
                  "bbox": [
                    22.508316895742706,
                    32.8420612802478,
                    22.55113164959208,
                    32.847722411612075
                  ]
                },
                {
                  "id": "34",
                  "type": "Feature",
                  "properties": {
                    "datetime": "2023-07-01 09:07:44+00:00",
                    "platform": "GE01",
                    "gsd": 0.47,
                    "ard_metadata_version": "0.0.1",
                    "catalog_id": "105005005ADE7C00",
                    "utm_zone": 34,
                    "quadkey": "120200213102",
                    "view:off_nadir": 22,
                    "view:azimuth": 92,
                    "view:incidence_angle": 65.6,
                    "view:sun_azimuth": 111.2,
                    "view:sun_elevation": 68.8,
                    "proj:epsg": 32634,
                    "grid:code": "MXRA-Z34-120200213102",
                    "proj:bbox": "641154.1748046875,3629843.75,645156.25,3635156.25",
                    "tile:data_area": 20.9,
                    "tile:clouds_area": 0,
                    "tile:clouds_percent": 0,
                    "visual": "https://maxar-opendata.s3.amazonaws.com/events/Libya-Floods-Sept-2023/ard/34/120200213102/2023-07-01/105005005ADE7C00-visual.tif",
                    "style": {
                      "color": "black",
                      "fillColor": "black"
                    }
                  },
                  "geometry": {
                    "type": "Polygon",
                    "coordinates": [
                      [
                        [
                          22.508333066915654,
                          32.84540188195674
                        ],
                        [
                          22.508580812205167,
                          32.80799543119946
                        ],
                        [
                          22.50885292132762,
                          32.797480390119105
                        ],
                        [
                          22.55025227468482,
                          32.796974657089805
                        ],
                        [
                          22.5510847272049,
                          32.84487918284406
                        ],
                        [
                          22.508333066915654,
                          32.84540188195674
                        ]
                      ]
                    ]
                  },
                  "bbox": [
                    22.508333066915654,
                    32.796974657089805,
                    22.5510847272049,
                    32.84540188195674
                  ]
                },
                {
                  "id": "35",
                  "type": "Feature",
                  "properties": {
                    "datetime": "2023-07-01 09:07:44+00:00",
                    "platform": "GE01",
                    "gsd": 0.46,
                    "ard_metadata_version": "0.0.1",
                    "catalog_id": "105005005ADE7C00",
                    "utm_zone": 34,
                    "quadkey": "120200213120",
                    "view:off_nadir": 21.9,
                    "view:azimuth": 90.9,
                    "view:incidence_angle": 65.6,
                    "view:sun_azimuth": 111.2,
                    "view:sun_elevation": 68.8,
                    "proj:epsg": 32634,
                    "grid:code": "MXRA-Z34-120200213120",
                    "proj:bbox": "641268.0053710938,3624843.75,645156.25,3630156.25",
                    "tile:data_area": 19.9,
                    "tile:clouds_area": 0,
                    "tile:clouds_percent": 0,
                    "visual": "https://maxar-opendata.s3.amazonaws.com/events/Libya-Floods-Sept-2023/ard/34/120200213120/2023-07-01/105005005ADE7C00-visual.tif",
                    "style": {
                      "color": "black",
                      "fillColor": "black"
                    }
                  },
                  "geometry": {
                    "type": "Polygon",
                    "coordinates": [
                      [
                        [
                          22.508786485686624,
                          32.800299742755804
                        ],
                        [
                          22.550301187890565,
                          32.799792581050184
                        ],
                        [
                          22.549470590101304,
                          32.75188769225155
                        ],
                        [
                          22.51047270248721,
                          32.752363880936805
                        ],
                        [
                          22.510535545195932,
                          32.75492846253777
                        ],
                        [
                          22.510326134734463,
                          32.75699536877126
                        ],
                        [
                          22.51030590525725,
                          32.76293552357493
                        ],
                        [
                          22.51005409376624,
                          32.764807510596704
                        ],
                        [
                          22.510268050504457,
                          32.77168894392886
                        ],
                        [
                          22.509511697709417,
                          32.77937754000449
                        ],
                        [
                          22.51003846244882,
                          32.78201358917733
                        ],
                        [
                          22.509994327978855,
                          32.78634380009212
                        ],
                        [
                          22.50982870267025,
                          32.788498249213234
                        ],
                        [
                          22.509214960834377,
                          32.79016815496024
                        ],
                        [
                          22.50910235446511,
                          32.79102553814957
                        ],
                        [
                          22.508786485686624,
                          32.800299742755804
                        ]
                      ]
                    ]
                  },
                  "bbox": [
                    22.508786485686624,
                    32.75188769225155,
                    22.550301187890565,
                    32.800299742755804
                  ]
                },
                {
                  "id": "36",
                  "type": "Feature",
                  "properties": {
                    "datetime": "2023-07-01 09:07:44+00:00",
                    "platform": "GE01",
                    "gsd": 0.46,
                    "ard_metadata_version": "0.0.1",
                    "catalog_id": "105005005ADE7C00",
                    "utm_zone": 34,
                    "quadkey": "120200213122",
                    "view:off_nadir": 21.9,
                    "view:azimuth": 89.9,
                    "view:incidence_angle": 65.6,
                    "view:sun_azimuth": 111.2,
                    "view:sun_elevation": 68.8,
                    "proj:epsg": 32634,
                    "grid:code": "MXRA-Z34-120200213122",
                    "proj:bbox": "641502.0751953125,3619843.75,645156.25,3625156.25",
                    "tile:data_area": 19.2,
                    "tile:clouds_area": 0,
                    "tile:clouds_percent": 0,
                    "visual": "https://maxar-opendata.s3.amazonaws.com/events/Libya-Floods-Sept-2023/ard/34/120200213122/2023-07-01/105005005ADE7C00-visual.tif",
                    "style": {
                      "color": "black",
                      "fillColor": "black"
                    }
                  },
                  "geometry": {
                    "type": "Polygon",
                    "coordinates": [
                      [
                        [
                          22.510523536275883,
                          32.75518183817048
                        ],
                        [
                          22.54951939431761,
                          32.75470563755891
                        ],
                        [
                          22.54869064744289,
                          32.70680038600756
                        ],
                        [
                          22.510561928548963,
                          32.70726552428144
                        ],
                        [
                          22.51002850718234,
                          32.716569986189704
                        ],
                        [
                          22.51068957837528,
                          32.72565085333961
                        ],
                        [
                          22.510523536275883,
                          32.75518183817048
                        ]
                      ]
                    ]
                  },
                  "bbox": [
                    22.51002850718234,
                    32.70680038600756,
                    22.54951939431761,
                    32.75518183817048
                  ]
                },
                {
                  "id": "37",
                  "type": "Feature",
                  "properties": {
                    "datetime": "2023-07-01 09:07:44+00:00",
                    "platform": "GE01",
                    "gsd": 0.46,
                    "ard_metadata_version": "0.0.1",
                    "catalog_id": "105005005ADE7C00",
                    "utm_zone": 34,
                    "quadkey": "120200213300",
                    "view:off_nadir": 21.9,
                    "view:azimuth": 89.6,
                    "view:incidence_angle": 65.6,
                    "view:sun_azimuth": 111.2,
                    "view:sun_elevation": 68.8,
                    "proj:epsg": 32634,
                    "grid:code": "MXRA-Z34-120200213300",
                    "proj:bbox": "641562.5,3618789.9780273438,645156.25,3620156.25",
                    "tile:data_area": 4.7,
                    "tile:clouds_area": 0,
                    "tile:clouds_percent": 0,
                    "visual": "https://maxar-opendata.s3.amazonaws.com/events/Libya-Floods-Sept-2023/ard/34/120200213300/2023-07-01/105005005ADE7C00-visual.tif",
                    "style": {
                      "color": "black",
                      "fillColor": "black"
                    }
                  },
                  "geometry": {
                    "type": "Polygon",
                    "coordinates": [
                      [
                        [
                          22.51042388498788,
                          32.71008577622148
                        ],
                        [
                          22.54873934289386,
                          32.70961835264473
                        ],
                        [
                          22.548536474131875,
                          32.697875898890686
                        ],
                        [
                          22.51091930307733,
                          32.69775673038125
                        ],
                        [
                          22.510862642246597,
                          32.70057600576223
                        ],
                        [
                          22.51029570923898,
                          32.703445467358065
                        ],
                        [
                          22.510575775170366,
                          32.707507580000154
                        ],
                        [
                          22.51042388498788,
                          32.71008577622148
                        ]
                      ]
                    ]
                  },
                  "bbox": [
                    22.51029570923898,
                    32.69775673038125,
                    22.54873934289386,
                    32.71008577622148
                  ]
                },
                {
                  "id": "38",
                  "type": "Feature",
                  "properties": {
                    "datetime": "2023-08-30 09:06:21+00:00",
                    "platform": "GE01",
                    "gsd": 0.51,
                    "ard_metadata_version": "0.0.1",
                    "catalog_id": "1050050064DEAB00",
                    "utm_zone": 34,
                    "quadkey": "120200203123",
                    "view:off_nadir": 27.3,
                    "view:azimuth": 93.8,
                    "view:incidence_angle": 59.5,
                    "view:sun_azimuth": 134.4,
                    "view:sun_elevation": 59,
                    "proj:epsg": 32634,
                    "grid:code": "MXRA-Z34-120200203123",
                    "proj:bbox": "565785.3021622654,3621929.859086028,570156.25,3625156.25",
                    "tile:data_area": 13.2,
                    "tile:clouds_area": 0,
                    "tile:clouds_percent": 0,
                    "visual": "https://maxar-opendata.s3.amazonaws.com/events/Libya-Floods-Sept-2023/ard/34/120200203123/2023-08-30/1050050064DEAB00-visual.tif",
                    "style": {
                      "color": "black",
                      "fillColor": "black"
                    }
                  },
                  "geometry": {
                    "type": "Polygon",
                    "coordinates": [
                      [
                        [
                          21.748997277937928,
                          32.76204824233316
                        ],
                        [
                          21.748762342400664,
                          32.73395601908573
                        ],
                        [
                          21.706952,
                          32.733189
                        ],
                        [
                          21.706701,
                          32.733237
                        ],
                        [
                          21.706512,
                          32.73337
                        ],
                        [
                          21.70641,
                          32.733586
                        ],
                        [
                          21.702334751161658,
                          32.76231660966836
                        ],
                        [
                          21.748997277937928,
                          32.76204824233316
                        ]
                      ]
                    ]
                  },
                  "bbox": [
                    21.702334751161658,
                    32.733189,
                    21.748997277937928,
                    32.76231660966836
                  ]
                },
                {
                  "id": "39",
                  "type": "Feature",
                  "properties": {
                    "datetime": "2023-08-30 09:06:21+00:00",
                    "platform": "GE01",
                    "gsd": 0.5,
                    "ard_metadata_version": "0.0.1",
                    "catalog_id": "1050050064DEAB00",
                    "utm_zone": 34,
                    "quadkey": "120200203132",
                    "view:off_nadir": 27,
                    "view:azimuth": 93.9,
                    "view:incidence_angle": 59.8,
                    "view:sun_azimuth": 134.4,
                    "view:sun_elevation": 59,
                    "proj:epsg": 32634,
                    "grid:code": "MXRA-Z34-120200203132",
                    "proj:bbox": "569843.75,3622033.9391993196,575156.25,3625156.25",
                    "tile:data_area": 16.1,
                    "tile:clouds_area": 0,
                    "tile:clouds_percent": 0,
                    "visual": "https://maxar-opendata.s3.amazonaws.com/events/Libya-Floods-Sept-2023/ard/34/120200203132/2023-08-30/1050050064DEAB00-visual.tif",
                    "style": {
                      "color": "black",
                      "fillColor": "black"
                    }
                  },
                  "geometry": {
                    "type": "Polygon",
                    "coordinates": [
                      [
                        [
                          21.74566123186451,
                          32.76206813932023
                        ],
                        [
                          21.80237355749652,
                          32.76171781347056
                        ],
                        [
                          21.8021336127181,
                          32.73493512570415
                        ],
                        [
                          21.745426667533515,
                          32.73389482546377
                        ],
                        [
                          21.74566123186451,
                          32.76206813932023
                        ]
                      ]
                    ]
                  },
                  "bbox": [
                    21.745426667533515,
                    32.73389482546377,
                    21.80237355749652,
                    32.76206813932023
                  ]
                },
                {
                  "id": "40",
                  "type": "Feature",
                  "properties": {
                    "datetime": "2023-08-30 09:06:21+00:00",
                    "platform": "GE01",
                    "gsd": 0.5,
                    "ard_metadata_version": "0.0.1",
                    "catalog_id": "1050050064DEAB00",
                    "utm_zone": 34,
                    "quadkey": "120200203133",
                    "view:off_nadir": 26.8,
                    "view:azimuth": 93.9,
                    "view:incidence_angle": 60.1,
                    "view:sun_azimuth": 134.4,
                    "view:sun_elevation": 59,
                    "proj:epsg": 32634,
                    "grid:code": "MXRA-Z34-120200203133",
                    "proj:bbox": "574843.75,3622178.3151697195,576172.687771636,3625156.25",
                    "tile:data_area": 3.7,
                    "tile:clouds_area": 0,
                    "tile:clouds_percent": 0,
                    "visual": "https://maxar-opendata.s3.amazonaws.com/events/Libya-Floods-Sept-2023/ard/34/120200203133/2023-08-30/1050050064DEAB00-visual.tif",
                    "style": {
                      "color": "black",
                      "fillColor": "black"
                    }
                  },
                  "geometry": {
                    "type": "Polygon",
                    "coordinates": [
                      [
                        [
                          21.799037565846465,
                          32.76173913127703
                        ],
                        [
                          21.813224887139604,
                          32.76164704580488
                        ],
                        [
                          21.811962,
                          32.735478
                        ],
                        [
                          21.811899,
                          32.735331
                        ],
                        [
                          21.81178,
                          32.735211
                        ],
                        [
                          21.811619,
                          32.735133
                        ],
                        [
                          21.811448,
                          32.735106
                        ],
                        [
                          21.798797882458885,
                          32.73487393106601
                        ],
                        [
                          21.799037565846465,
                          32.76173913127703
                        ]
                      ]
                    ]
                  },
                  "bbox": [
                    21.798797882458885,
                    32.73487393106601,
                    21.813224887139604,
                    32.76173913127703
                  ]
                },
                {
                  "id": "41",
                  "type": "Feature",
                  "properties": {
                    "datetime": "2023-08-30 09:06:22+00:00",
                    "platform": "GE01",
                    "gsd": 0.51,
                    "ard_metadata_version": "0.0.1",
                    "catalog_id": "1050050064DEAB00",
                    "utm_zone": 34,
                    "quadkey": "120200203121",
                    "view:off_nadir": 27.3,
                    "view:azimuth": 95.7,
                    "view:incidence_angle": 59.5,
                    "view:sun_azimuth": 134.5,
                    "view:sun_elevation": 59,
                    "proj:epsg": 32634,
                    "grid:code": "MXRA-Z34-120200203121",
                    "proj:bbox": "565423.4395338238,3624843.75,570156.25,3628878.651639819",
                    "tile:data_area": 16.5,
                    "tile:clouds_area": 0.1,
                    "tile:clouds_percent": 0,
                    "visual": "https://maxar-opendata.s3.amazonaws.com/events/Libya-Floods-Sept-2023/ard/34/120200203121/2023-08-30/1050050064DEAB00-visual.tif",
                    "style": {
                      "color": "black",
                      "fillColor": "black"
                    }
                  },
                  "geometry": {
                    "type": "Polygon",
                    "coordinates": [
                      [
                        [
                          21.74897367843493,
                          32.759229507734766
                        ],
                        [
                          21.70273491877166,
                          32.759495417672234
                        ],
                        [
                          21.698674,
                          32.788125
                        ],
                        [
                          21.698678,
                          32.788257
                        ],
                        [
                          21.698741,
                          32.788404
                        ],
                        [
                          21.69891,
                          32.788555
                        ],
                        [
                          21.699116,
                          32.788624
                        ],
                        [
                          21.749278612159117,
                          32.795610167768956
                        ],
                        [
                          21.74897367843493,
                          32.759229507734766
                        ]
                      ]
                    ]
                  },
                  "bbox": [
                    21.698674,
                    32.759229507734766,
                    21.749278612159117,
                    32.795610167768956
                  ]
                },
                {
                  "id": "42",
                  "type": "Feature",
                  "properties": {
                    "datetime": "2023-08-30 09:06:22+00:00",
                    "platform": "GE01",
                    "gsd": 0.5,
                    "ard_metadata_version": "0.0.1",
                    "catalog_id": "1050050064DEAB00",
                    "utm_zone": 34,
                    "quadkey": "120200203130",
                    "view:off_nadir": 27,
                    "view:azimuth": 95.8,
                    "view:incidence_angle": 59.9,
                    "view:sun_azimuth": 134.5,
                    "view:sun_elevation": 59,
                    "proj:epsg": 32634,
                    "grid:code": "MXRA-Z34-120200203130",
                    "proj:bbox": "569843.75,3624843.75,575156.25,3629739.9217348387",
                    "tile:data_area": 23.5,
                    "tile:clouds_area": 0,
                    "tile:clouds_percent": 0,
                    "visual": "https://maxar-opendata.s3.amazonaws.com/events/Libya-Floods-Sept-2023/ard/34/120200203130/2023-08-30/1050050064DEAB00-visual.tif",
                    "style": {
                      "color": "black",
                      "fillColor": "black"
                    }
                  },
                  "geometry": {
                    "type": "Polygon",
                    "coordinates": [
                      [
                        [
                          21.802348276631932,
                          32.75889911439427
                        ],
                        [
                          21.74563773745029,
                          32.759249402582846
                        ],
                        [
                          21.74593726397562,
                          32.79514481682371
                        ],
                        [
                          21.802744766411926,
                          32.803056421213384
                        ],
                        [
                          21.802348276631932,
                          32.75889911439427
                        ]
                      ]
                    ]
                  },
                  "bbox": [
                    21.74563773745029,
                    32.75889911439427,
                    21.802744766411926,
                    32.803056421213384
                  ]
                },
                {
                  "id": "43",
                  "type": "Feature",
                  "properties": {
                    "datetime": "2023-08-30 09:06:22+00:00",
                    "platform": "GE01",
                    "gsd": 0.5,
                    "ard_metadata_version": "0.0.1",
                    "catalog_id": "1050050064DEAB00",
                    "utm_zone": 34,
                    "quadkey": "120200203131",
                    "view:off_nadir": 26.7,
                    "view:azimuth": 96,
                    "view:incidence_angle": 60.1,
                    "view:sun_azimuth": 134.5,
                    "view:sun_elevation": 59,
                    "proj:epsg": 32634,
                    "grid:code": "MXRA-Z34-120200203131",
                    "proj:bbox": "574843.75,3624843.75,576328.9570455004,3629932.2974948213",
                    "tile:data_area": 6.9,
                    "tile:clouds_area": 0,
                    "tile:clouds_percent": 0,
                    "visual": "https://maxar-opendata.s3.amazonaws.com/events/Libya-Floods-Sept-2023/ard/34/120200203131/2023-08-30/1050050064DEAB00-visual.tif",
                    "style": {
                      "color": "black",
                      "fillColor": "black"
                    }
                  },
                  "geometry": {
                    "type": "Polygon",
                    "coordinates": [
                      [
                        [
                          21.799012390063652,
                          32.75892042990901
                        ],
                        [
                          21.79940287918673,
                          32.80259099519557
                        ],
                        [
                          21.814661,
                          32.804716
                        ],
                        [
                          21.814809,
                          32.804719
                        ],
                        [
                          21.814987,
                          32.804674
                        ],
                        [
                          21.81509,
                          32.804617
                        ],
                        [
                          21.81521,
                          32.804497
                        ],
                        [
                          21.815259,
                          32.804401
                        ],
                        [
                          21.815281,
                          32.804253
                        ],
                        [
                          21.813088894786397,
                          32.75882906626528
                        ],
                        [
                          21.799012390063652,
                          32.75892042990901
                        ]
                      ]
                    ]
                  },
                  "bbox": [
                    21.799012390063652,
                    32.75882906626528,
                    21.815281,
                    32.804719
                  ]
                },
                {
                  "id": "44",
                  "type": "Feature",
                  "properties": {
                    "datetime": "2023-09-13 09:18:06+00:00",
                    "platform": "GE01",
                    "gsd": 0.42,
                    "ard_metadata_version": "0.0.1",
                    "catalog_id": "10500100363D0900",
                    "utm_zone": 34,
                    "quadkey": "120200213310",
                    "view:off_nadir": 7.5,
                    "view:azimuth": 7.2,
                    "view:incidence_angle": 81.7,
                    "view:sun_azimuth": 147.7,
                    "view:sun_elevation": 57.2,
                    "proj:epsg": 32634,
                    "grid:code": "MXRA-Z34-120200213310",
                    "proj:bbox": "649843.75,3618976.7456054688,655156.25,3620156.25",
                    "tile:data_area": 6,
                    "tile:clouds_area": 0.8,
                    "tile:clouds_percent": 14,
                    "visual": "https://maxar-opendata.s3.amazonaws.com/events/Libya-Floods-Sept-2023/ard/34/120200213310/2023-09-13/10500100363D0900-visual.tif",
                    "style": {
                      "color": "black",
                      "fillColor": "black"
                    }
                  },
                  "geometry": {
                    "type": "Polygon",
                    "coordinates": [
                      [
                        [
                          22.598735902946853,
                          32.70899081651058
                        ],
                        [
                          22.59854631369666,
                          32.69836039510128
                        ],
                        [
                          22.60648985628544,
                          32.698396508418675
                        ],
                        [
                          22.610015200342907,
                          32.69820816779097
                        ],
                        [
                          22.612826871873754,
                          32.69833993879226
                        ],
                        [
                          22.615526785989697,
                          32.69823086856693
                        ],
                        [
                          22.61988279139564,
                          32.69843616024604
                        ],
                        [
                          22.62715080917735,
                          32.698380598858485
                        ],
                        [
                          22.62882832706381,
                          32.69843864243482
                        ],
                        [
                          22.630672927996343,
                          32.69837613488304
                        ],
                        [
                          22.63254601641098,
                          32.69844810014347
                        ],
                        [
                          22.65521605711427,
                          32.698470202117555
                        ],
                        [
                          22.655396761603598,
                          32.708255528275764
                        ],
                        [
                          22.598735902946853,
                          32.70899081651058
                        ]
                      ]
                    ]
                  },
                  "bbox": [
                    22.59854631369666,
                    32.69820816779097,
                    22.655396761603598,
                    32.70899081651058
                  ]
                },
                {
                  "id": "45",
                  "type": "Feature",
                  "properties": {
                    "datetime": "2023-09-13 09:18:07+00:00",
                    "platform": "GE01",
                    "gsd": 0.42,
                    "ard_metadata_version": "0.0.1",
                    "catalog_id": "10500100363D0900",
                    "utm_zone": 34,
                    "quadkey": "120200213122",
                    "view:off_nadir": 7.1,
                    "view:azimuth": 11.1,
                    "view:incidence_angle": 82.1,
                    "view:sun_azimuth": 147.7,
                    "view:sun_elevation": 57.2,
                    "proj:epsg": 32634,
                    "grid:code": "MXRA-Z34-120200213122",
                    "proj:bbox": "644912.109375,3619843.75,645156.25,3625156.25",
                    "tile:data_area": 1.1,
                    "tile:clouds_area": 0,
                    "tile:clouds_percent": 4,
                    "visual": "https://maxar-opendata.s3.amazonaws.com/events/Libya-Floods-Sept-2023/ard/34/120200213122/2023-09-13/10500100363D0900-visual.tif",
                    "style": {
                      "color": "black",
                      "fillColor": "black"
                    }
                  },
                  "geometry": {
                    "type": "Polygon",
                    "coordinates": [
                      [
                        [
                          22.546914054230907,
                          32.75473783127255
                        ],
                        [
                          22.54693057475873,
                          32.75136032132413
                        ],
                        [
                          22.546904000315518,
                          32.7475622103264
                        ],
                        [
                          22.546908655211723,
                          32.74500508651155
                        ],
                        [
                          22.54688527223714,
                          32.74308688662909
                        ],
                        [
                          22.546875597867746,
                          32.73159533088744
                        ],
                        [
                          22.54682622990879,
                          32.728171830018184
                        ],
                        [
                          22.54682425541155,
                          32.72522943037679
                        ],
                        [
                          22.5468034159205,
                          32.72345707599875
                        ],
                        [
                          22.54684027638792,
                          32.72050043258342
                        ],
                        [
                          22.546840755144604,
                          32.71901957939988
                        ],
                        [
                          22.546811388946292,
                          32.70939717898538
                        ],
                        [
                          22.546786510876224,
                          32.70682388997474
                        ],
                        [
                          22.54869064744289,
                          32.70680038600756
                        ],
                        [
                          22.54951939431761,
                          32.75470563755891
                        ],
                        [
                          22.546914054230907,
                          32.75473783127255
                        ]
                      ]
                    ]
                  },
                  "bbox": [
                    22.546786510876224,
                    32.70680038600756,
                    22.54951939431761,
                    32.75473783127255
                  ]
                },
                {
                  "id": "46",
                  "type": "Feature",
                  "properties": {
                    "datetime": "2023-09-13 09:18:07+00:00",
                    "platform": "GE01",
                    "gsd": 0.42,
                    "ard_metadata_version": "0.0.1",
                    "catalog_id": "10500100363D0900",
                    "utm_zone": 34,
                    "quadkey": "120200213123",
                    "view:off_nadir": 7.1,
                    "view:azimuth": 10.3,
                    "view:incidence_angle": 82.1,
                    "view:sun_azimuth": 147.7,
                    "view:sun_elevation": 57.2,
                    "proj:epsg": 32634,
                    "grid:code": "MXRA-Z34-120200213123",
                    "proj:bbox": "644912.109375,3619843.75,650156.25,3625156.25",
                    "tile:data_area": 27.6,
                    "tile:clouds_area": 1.6,
                    "tile:clouds_percent": 5,
                    "visual": "https://maxar-opendata.s3.amazonaws.com/events/Libya-Floods-Sept-2023/ard/34/120200213123/2023-09-13/10500100363D0900-visual.tif",
                    "style": {
                      "color": "black",
                      "fillColor": "black"
                    }
                  },
                  "geometry": {
                    "type": "Polygon",
                    "coordinates": [
                      [
                        [
                          22.546914054230907,
                          32.75473783127255
                        ],
                        [
                          22.546786510876224,
                          32.70682388997474
                        ],
                        [
                          22.602018580892892,
                          32.70613037792722
                        ],
                        [
                          22.602875835728447,
                          32.75403440357231
                        ],
                        [
                          22.546914054230907,
                          32.75473783127255
                        ]
                      ]
                    ]
                  },
                  "bbox": [
                    22.546786510876224,
                    32.70613037792722,
                    22.602875835728447,
                    32.75473783127255
                  ]
                },
                {
                  "id": "47",
                  "type": "Feature",
                  "properties": {
                    "datetime": "2023-09-13 09:18:07+00:00",
                    "platform": "GE01",
                    "gsd": 0.42,
                    "ard_metadata_version": "0.0.1",
                    "catalog_id": "10500100363D0900",
                    "utm_zone": 34,
                    "quadkey": "120200213132",
                    "view:off_nadir": 7,
                    "view:azimuth": 7.1,
                    "view:incidence_angle": 82.2,
                    "view:sun_azimuth": 147.7,
                    "view:sun_elevation": 57.2,
                    "proj:epsg": 32634,
                    "grid:code": "MXRA-Z34-120200213132",
                    "proj:bbox": "649843.75,3619843.75,655156.25,3625156.25",
                    "tile:data_area": 28.2,
                    "tile:clouds_area": 1.6,
                    "tile:clouds_percent": 5,
                    "visual": "https://maxar-opendata.s3.amazonaws.com/events/Libya-Floods-Sept-2023/ard/34/120200213132/2023-09-13/10500100363D0900-visual.tif",
                    "style": {
                      "color": "black",
                      "fillColor": "black"
                    }
                  },
                  "geometry": {
                    "type": "Polygon",
                    "coordinates": [
                      [
                        [
                          22.5995411103129,
                          32.75407702085231
                        ],
                        [
                          22.598685637111,
                          32.706172917373806
                        ],
                        [
                          22.6553447162435,
                          32.70543770822849
                        ],
                        [
                          22.656230475105954,
                          32.753340466522694
                        ],
                        [
                          22.5995411103129,
                          32.75407702085231
                        ]
                      ]
                    ]
                  },
                  "bbox": [
                    22.598685637111,
                    32.70543770822849,
                    22.656230475105954,
                    32.75407702085231
                  ]
                },
                {
                  "id": "48",
                  "type": "Feature",
                  "properties": {
                    "datetime": "2023-09-13 09:18:07+00:00",
                    "platform": "GE01",
                    "gsd": 0.42,
                    "ard_metadata_version": "0.0.1",
                    "catalog_id": "10500100363D0900",
                    "utm_zone": 34,
                    "quadkey": "120200213133",
                    "view:off_nadir": 7,
                    "view:azimuth": 3.8,
                    "view:incidence_angle": 82.2,
                    "view:sun_azimuth": 147.7,
                    "view:sun_elevation": 57.2,
                    "proj:epsg": 32634,
                    "grid:code": "MXRA-Z34-120200213133",
                    "proj:bbox": "654843.75,3619843.75,660156.25,3625156.25",
                    "tile:data_area": 28.2,
                    "tile:clouds_area": 0.1,
                    "tile:clouds_percent": 0,
                    "visual": "https://maxar-opendata.s3.amazonaws.com/events/Libya-Floods-Sept-2023/ard/34/120200213133/2023-09-13/10500100363D0900-visual.tif",
                    "style": {
                      "color": "black",
                      "fillColor": "black"
                    }
                  },
                  "geometry": {
                    "type": "Polygon",
                    "coordinates": [
                      [
                        [
                          22.65289586407173,
                          32.75338450266737
                        ],
                        [
                          22.65201188659324,
                          32.70548166394967
                        ],
                        [
                          22.708668993751548,
                          32.70472237955542
                        ],
                        [
                          22.70958325257649,
                          32.75262382906084
                        ],
                        [
                          22.65289586407173,
                          32.75338450266737
                        ]
                      ]
                    ]
                  },
                  "bbox": [
                    22.65201188659324,
                    32.70472237955542,
                    22.70958325257649,
                    32.75338450266737
                  ]
                },
                {
                  "id": "49",
                  "type": "Feature",
                  "properties": {
                    "datetime": "2023-09-13 09:18:07+00:00",
                    "platform": "GE01",
                    "gsd": 0.42,
                    "ard_metadata_version": "0.0.1",
                    "catalog_id": "10500100363D0900",
                    "utm_zone": 34,
                    "quadkey": "120200213300",
                    "view:off_nadir": 7.4,
                    "view:azimuth": 10.6,
                    "view:incidence_angle": 81.8,
                    "view:sun_azimuth": 147.7,
                    "view:sun_elevation": 57.2,
                    "proj:epsg": 32634,
                    "grid:code": "MXRA-Z34-120200213300",
                    "proj:bbox": "644975.5859375,3618894.6533203125,645156.25,3620156.25",
                    "tile:data_area": 0.2,
                    "tile:clouds_area": 0,
                    "tile:clouds_percent": 0,
                    "visual": "https://maxar-opendata.s3.amazonaws.com/events/Libya-Floods-Sept-2023/ard/34/120200213300/2023-09-13/10500100363D0900-visual.tif",
                    "style": {
                      "color": "black",
                      "fillColor": "black"
                    }
                  },
                  "geometry": {
                    "type": "Polygon",
                    "coordinates": [
                      [
                        [
                          22.54681236124446,
                          32.70964214023974
                        ],
                        [
                          22.5467845127947,
                          32.70708540302377
                        ],
                        [
                          22.5468011884577,
                          32.70484465427256
                        ],
                        [
                          22.546781898929094,
                          32.70240616761952
                        ],
                        [
                          22.54677878960138,
                          32.69826367514123
                        ],
                        [
                          22.548543270964995,
                          32.69826942419784
                        ],
                        [
                          22.54873934289386,
                          32.70961835264473
                        ],
                        [
                          22.54681236124446,
                          32.70964214023974
                        ]
                      ]
                    ]
                  },
                  "bbox": [
                    22.54677878960138,
                    32.69826367514123,
                    22.54873934289386,
                    32.70964214023974
                  ]
                },
                {
                  "id": "50",
                  "type": "Feature",
                  "properties": {
                    "datetime": "2023-09-13 09:18:07+00:00",
                    "platform": "GE01",
                    "gsd": 0.42,
                    "ard_metadata_version": "0.0.1",
                    "catalog_id": "10500100363D0900",
                    "utm_zone": 34,
                    "quadkey": "120200213301",
                    "view:off_nadir": 7.5,
                    "view:azimuth": 10.2,
                    "view:incidence_angle": 81.7,
                    "view:sun_azimuth": 147.7,
                    "view:sun_elevation": 57.2,
                    "proj:epsg": 32634,
                    "grid:code": "MXRA-Z34-120200213301",
                    "proj:bbox": "644975.5859375,3618894.6533203125,650156.25,3620156.25",
                    "tile:data_area": 6.2,
                    "tile:clouds_area": 0.4,
                    "tile:clouds_percent": 7,
                    "visual": "https://maxar-opendata.s3.amazonaws.com/events/Libya-Floods-Sept-2023/ard/34/120200213301/2023-09-13/10500100363D0900-visual.tif",
                    "style": {
                      "color": "black",
                      "fillColor": "black"
                    }
                  },
                  "geometry": {
                    "type": "Polygon",
                    "coordinates": [
                      [
                        [
                          22.54681236124446,
                          32.70964214023974
                        ],
                        [
                          22.54677878960138,
                          32.69826367514123
                        ],
                        [
                          22.601879901503295,
                          32.698370153574416
                        ],
                        [
                          22.602068951413937,
                          32.70894827248781
                        ],
                        [
                          22.54681236124446,
                          32.70964214023974
                        ]
                      ]
                    ]
                  },
                  "bbox": [
                    22.54677878960138,
                    32.69826367514123,
                    22.602068951413937,
                    32.70964214023974
                  ]
                },
                {
                  "id": "51",
                  "type": "Feature",
                  "properties": {
                    "datetime": "2023-09-13 09:18:07+00:00",
                    "platform": "GE01",
                    "gsd": 0.42,
                    "ard_metadata_version": "0.0.1",
                    "catalog_id": "10500100363D0900",
                    "utm_zone": 34,
                    "quadkey": "120200213311",
                    "view:off_nadir": 7.4,
                    "view:azimuth": 4.1,
                    "view:incidence_angle": 81.8,
                    "view:sun_azimuth": 147.7,
                    "view:sun_elevation": 57.2,
                    "proj:epsg": 32634,
                    "grid:code": "MXRA-Z34-120200213311",
                    "proj:bbox": "654843.75,3619066.7724609375,660156.25,3620156.25",
                    "tile:data_area": 5.5,
                    "tile:clouds_area": 0,
                    "tile:clouds_percent": 1,
                    "visual": "https://maxar-opendata.s3.amazonaws.com/events/Libya-Floods-Sept-2023/ard/34/120200213311/2023-09-13/10500100363D0900-visual.tif",
                    "style": {
                      "color": "black",
                      "fillColor": "black"
                    }
                  },
                  "geometry": {
                    "type": "Polygon",
                    "coordinates": [
                      [
                        [
                          22.65206382728281,
                          32.70829948872541
                        ],
                        [
                          22.651882776384006,
                          32.69847562114538
                        ],
                        [
                          22.708551926981283,
                          32.698580575481934
                        ],
                        [
                          22.708722713712014,
                          32.70754012265308
                        ],
                        [
                          22.65206382728281,
                          32.70829948872541
                        ]
                      ]
                    ]
                  },
                  "bbox": [
                    22.651882776384006,
                    32.69847562114538,
                    22.708722713712014,
                    32.70829948872541
                  ]
                },
                {
                  "id": "52",
                  "type": "Feature",
                  "properties": {
                    "datetime": "2023-09-13 09:18:07+00:00",
                    "platform": "GE01",
                    "gsd": 0.42,
                    "ard_metadata_version": "0.0.1",
                    "catalog_id": "10500100363D0900",
                    "utm_zone": 34,
                    "quadkey": "120200302022",
                    "view:off_nadir": 7,
                    "view:azimuth": 2.8,
                    "view:incidence_angle": 82.2,
                    "view:sun_azimuth": 147.7,
                    "view:sun_elevation": 57.2,
                    "proj:epsg": 32634,
                    "grid:code": "MXRA-Z34-120200302022",
                    "proj:bbox": "659843.75,3619843.75,660600.5859375,3625156.25",
                    "tile:data_area": 3.7,
                    "tile:clouds_area": 0,
                    "tile:clouds_percent": 0,
                    "visual": "https://maxar-opendata.s3.amazonaws.com/events/Libya-Floods-Sept-2023/ard/34/120200302022/2023-09-13/10500100363D0900-visual.tif",
                    "style": {
                      "color": "black",
                      "fillColor": "black"
                    }
                  },
                  "geometry": {
                    "type": "Polygon",
                    "coordinates": [
                      [
                        [
                          22.70624875966532,
                          32.75266928390199
                        ],
                        [
                          22.705336281966492,
                          32.70476775138341
                        ],
                        [
                          22.713407680420197,
                          32.704657714106546
                        ],
                        [
                          22.71316821188961,
                          32.75256109893769
                        ],
                        [
                          22.70624875966532,
                          32.75266928390199
                        ]
                      ]
                    ]
                  },
                  "bbox": [
                    22.705336281966492,
                    32.704657714106546,
                    22.713407680420197,
                    32.75266928390199
                  ]
                },
                {
                  "id": "53",
                  "type": "Feature",
                  "properties": {
                    "datetime": "2023-09-13 09:18:07+00:00",
                    "platform": "GE01",
                    "gsd": 0.42,
                    "ard_metadata_version": "0.0.1",
                    "catalog_id": "10500100363D0900",
                    "utm_zone": 34,
                    "quadkey": "120200302200",
                    "view:off_nadir": 7.3,
                    "view:azimuth": 3.3,
                    "view:incidence_angle": 81.9,
                    "view:sun_azimuth": 147.7,
                    "view:sun_elevation": 57.2,
                    "proj:epsg": 32634,
                    "grid:code": "MXRA-Z34-120200302200",
                    "proj:bbox": "659843.75,3619156.494140625,660614.3188476562,3620156.25",
                    "tile:data_area": 0.7,
                    "tile:clouds_area": 0,
                    "tile:clouds_percent": 0,
                    "visual": "https://maxar-opendata.s3.amazonaws.com/events/Libya-Floods-Sept-2023/ard/34/120200302200/2023-09-13/10500100363D0900-visual.tif",
                    "style": {
                      "color": "black",
                      "fillColor": "black"
                    }
                  },
                  "geometry": {
                    "type": "Polygon",
                    "coordinates": [
                      [
                        [
                          22.705389897271576,
                          32.70758549936178
                        ],
                        [
                          22.70521839648047,
                          32.6985709024616
                        ],
                        [
                          22.713438155732124,
                          32.69858822009007
                        ],
                        [
                          22.713389946015525,
                          32.707476428772445
                        ],
                        [
                          22.705389897271576,
                          32.70758549936178
                        ]
                      ]
                    ]
                  },
                  "bbox": [
                    22.70521839648047,
                    32.6985709024616,
                    22.713438155732124,
                    32.70758549936178
                  ]
                },
                {
                  "id": "54",
                  "type": "Feature",
                  "properties": {
                    "datetime": "2023-09-13 09:18:08+00:00",
                    "platform": "GE01",
                    "gsd": 0.42,
                    "ard_metadata_version": "0.0.1",
                    "catalog_id": "10500100363D0900",
                    "utm_zone": 34,
                    "quadkey": "120200213131",
                    "view:off_nadir": 6,
                    "view:azimuth": 6.6,
                    "view:incidence_angle": 83.4,
                    "view:sun_azimuth": 147.7,
                    "view:sun_elevation": 57.2,
                    "proj:epsg": 32634,
                    "grid:code": "MXRA-Z34-120200213131",
                    "proj:bbox": "654843.75,3624843.75,660156.25,3630156.25",
                    "tile:data_area": 28.2,
                    "tile:clouds_area": 0.3,
                    "tile:clouds_percent": 1,
                    "visual": "https://maxar-opendata.s3.amazonaws.com/events/Libya-Floods-Sept-2023/ard/34/120200213131/2023-09-13/10500100363D0900-visual.tif",
                    "style": {
                      "color": "black",
                      "fillColor": "black"
                    }
                  },
                  "geometry": {
                    "type": "Polygon",
                    "coordinates": [
                      [
                        [
                          22.653729759028042,
                          32.798469172943385
                        ],
                        [
                          22.652843807373607,
                          32.75056669936143
                        ],
                        [
                          22.709529412636645,
                          32.749806107513585
                        ],
                        [
                          22.710445713210866,
                          32.79770719051135
                        ],
                        [
                          22.653729759028042,
                          32.798469172943385
                        ]
                      ]
                    ]
                  },
                  "bbox": [
                    22.652843807373607,
                    32.749806107513585,
                    22.710445713210866,
                    32.798469172943385
                  ]
                },
                {
                  "id": "55",
                  "type": "Feature",
                  "properties": {
                    "datetime": "2023-09-13 09:18:08+00:00",
                    "platform": "GE01",
                    "gsd": 0.42,
                    "ard_metadata_version": "0.0.1",
                    "catalog_id": "10500100363D0900",
                    "utm_zone": 34,
                    "quadkey": "120200302020",
                    "view:off_nadir": 6,
                    "view:azimuth": 5.4,
                    "view:incidence_angle": 83.4,
                    "view:sun_azimuth": 147.7,
                    "view:sun_elevation": 57.2,
                    "proj:epsg": 32634,
                    "grid:code": "MXRA-Z34-120200302020",
                    "proj:bbox": "659843.75,3624843.75,660498.3520507812,3630156.25",
                    "tile:data_area": 3.2,
                    "tile:clouds_area": 0,
                    "tile:clouds_percent": 0,
                    "visual": "https://maxar-opendata.s3.amazonaws.com/events/Libya-Floods-Sept-2023/ard/34/120200302020/2023-09-13/10500100363D0900-visual.tif",
                    "style": {
                      "color": "black",
                      "fillColor": "black"
                    }
                  },
                  "geometry": {
                    "type": "Polygon",
                    "coordinates": [
                      [
                        [
                          22.70710954008806,
                          32.79775272356212
                        ],
                        [
                          22.706195024614413,
                          32.7498515574692
                        ],
                        [
                          22.713179647167593,
                          32.74975625059215
                        ],
                        [
                          22.713006428840956,
                          32.79766942843152
                        ],
                        [
                          22.70710954008806,
                          32.79775272356212
                        ]
                      ]
                    ]
                  },
                  "bbox": [
                    22.706195024614413,
                    32.74975625059215,
                    22.713179647167593,
                    32.79775272356212
                  ]
                },
                {
                  "id": "56",
                  "type": "Feature",
                  "properties": {
                    "datetime": "2023-09-13 09:18:09+00:00",
                    "platform": "GE01",
                    "gsd": 0.42,
                    "ard_metadata_version": "0.0.1",
                    "catalog_id": "10500100363D0900",
                    "utm_zone": 34,
                    "quadkey": "120200213102",
                    "view:off_nadir": 5.3,
                    "view:azimuth": 11.7,
                    "view:incidence_angle": 84.1,
                    "view:sun_azimuth": 147.7,
                    "view:sun_elevation": 57.2,
                    "proj:epsg": 32634,
                    "grid:code": "MXRA-Z34-120200213102",
                    "proj:bbox": "644813.232421875,3629843.75,645156.25,3632756.34765625",
                    "tile:data_area": 0.9,
                    "tile:clouds_area": 0,
                    "tile:clouds_percent": 0,
                    "visual": "https://maxar-opendata.s3.amazonaws.com/events/Libya-Floods-Sept-2023/ard/34/120200213102/2023-09-13/10500100363D0900-visual.tif",
                    "style": {
                      "color": "black",
                      "fillColor": "black"
                    }
                  },
                  "geometry": {
                    "type": "Polygon",
                    "coordinates": [
                      [
                        [
                          22.550512875384516,
                          32.82324095996969
                        ],
                        [
                          22.55070842554205,
                          32.82323853724172
                        ],
                        [
                          22.55025227468482,
                          32.796974657089805
                        ],
                        [
                          22.546984285454748,
                          32.79701507644204
                        ],
                        [
                          22.547044256540165,
                          32.82323433860234
                        ],
                        [
                          22.550512875384516,
                          32.82324095996969
                        ]
                      ]
                    ]
                  },
                  "bbox": [
                    22.546984285454748,
                    32.796974657089805,
                    22.55070842554205,
                    32.82324095996969
                  ]
                },
                {
                  "id": "57",
                  "type": "Feature",
                  "properties": {
                    "datetime": "2023-09-13 09:18:09+00:00",
                    "platform": "GE01",
                    "gsd": 0.42,
                    "ard_metadata_version": "0.0.1",
                    "catalog_id": "10500100363D0900",
                    "utm_zone": 34,
                    "quadkey": "120200213103",
                    "view:off_nadir": 5.2,
                    "view:azimuth": 11.1,
                    "view:incidence_angle": 84.2,
                    "view:sun_azimuth": 147.7,
                    "view:sun_elevation": 57.2,
                    "proj:epsg": 32634,
                    "grid:code": "MXRA-Z34-120200213103",
                    "proj:bbox": "644843.75,3629843.75,650156.25,3632839.0502929688",
                    "tile:data_area": 15.6,
                    "tile:clouds_area": 0.1,
                    "tile:clouds_percent": 0,
                    "visual": "https://maxar-opendata.s3.amazonaws.com/events/Libya-Floods-Sept-2023/ard/34/120200213103/2023-09-13/10500100363D0900-visual.tif",
                    "style": {
                      "color": "black",
                      "fillColor": "black"
                    }
                  },
                  "geometry": {
                    "type": "Polygon",
                    "coordinates": [
                      [
                        [
                          22.603936666090508,
                          32.82331362320894
                        ],
                        [
                          22.60411917501831,
                          32.823311284114475
                        ],
                        [
                          22.60363392631726,
                          32.79630234035288
                        ],
                        [
                          22.546984285454748,
                          32.79701507644204
                        ],
                        [
                          22.547370269412806,
                          32.823235813327244
                        ],
                        [
                          22.603936666090508,
                          32.82331362320894
                        ]
                      ]
                    ]
                  },
                  "bbox": [
                    22.546984285454748,
                    32.79630234035288,
                    22.60411917501831,
                    32.82331362320894
                  ]
                },
                {
                  "id": "58",
                  "type": "Feature",
                  "properties": {
                    "datetime": "2023-09-13 09:18:09+00:00",
                    "platform": "GE01",
                    "gsd": 0.42,
                    "ard_metadata_version": "0.0.1",
                    "catalog_id": "10500100363D0900",
                    "utm_zone": 34,
                    "quadkey": "120200213112",
                    "view:off_nadir": 5.2,
                    "view:azimuth": 6.7,
                    "view:incidence_angle": 84.3,
                    "view:sun_azimuth": 147.7,
                    "view:sun_elevation": 57.2,
                    "proj:epsg": 32634,
                    "grid:code": "MXRA-Z34-120200213112",
                    "proj:bbox": "649843.75,3629843.75,655156.25,3632921.4477539062",
                    "tile:data_area": 16.1,
                    "tile:clouds_area": 0,
                    "tile:clouds_percent": 0,
                    "visual": "https://maxar-opendata.s3.amazonaws.com/events/Libya-Floods-Sept-2023/ard/34/120200213112/2023-09-13/10500100363D0900-visual.tif",
                    "style": {
                      "color": "black",
                      "fillColor": "black"
                    }
                  },
                  "geometry": {
                    "type": "Polygon",
                    "coordinates": [
                      [
                        [
                          22.657454000694706,
                          32.82335946991391
                        ],
                        [
                          22.657013772433526,
                          32.79560728394812
                        ],
                        [
                          22.6002976253637,
                          32.79634502637726
                        ],
                        [
                          22.600781075660038,
                          32.823309985284524
                        ],
                        [
                          22.657454000694706,
                          32.82335946991391
                        ]
                      ]
                    ]
                  },
                  "bbox": [
                    22.6002976253637,
                    32.79560728394812,
                    22.657454000694706,
                    32.82335946991391
                  ]
                },
                {
                  "id": "59",
                  "type": "Feature",
                  "properties": {
                    "datetime": "2023-09-13 09:18:09+00:00",
                    "platform": "GE01",
                    "gsd": 0.42,
                    "ard_metadata_version": "0.0.1",
                    "catalog_id": "10500100363D0900",
                    "utm_zone": 34,
                    "quadkey": "120200213113",
                    "view:off_nadir": 5.1,
                    "view:azimuth": 48.9,
                    "view:incidence_angle": 84.3,
                    "view:sun_azimuth": 147.7,
                    "view:sun_elevation": 57.2,
                    "proj:epsg": 32634,
                    "grid:code": "MXRA-Z34-120200213113",
                    "proj:bbox": "654843.75,3629843.75,660156.25,3633003.2348632812",
                    "tile:data_area": 16.5,
                    "tile:clouds_area": 0,
                    "tile:clouds_percent": 0,
                    "visual": "https://maxar-opendata.s3.amazonaws.com/events/Libya-Floods-Sept-2023/ard/34/120200213113/2023-09-13/10500100363D0900-visual.tif",
                    "style": {
                      "color": "black",
                      "fillColor": "black"
                    }
                  },
                  "geometry": {
                    "type": "Polygon",
                    "coordinates": [
                      [
                        [
                          22.71074863884388,
                          32.823379949720916
                        ],
                        [
                          22.71093765585694,
                          32.82337736580103
                        ],
                        [
                          22.710391753044473,
                          32.794889490532256
                        ],
                        [
                          22.653677586082356,
                          32.795651391124785
                        ],
                        [
                          22.65419086802158,
                          32.82335585167872
                        ],
                        [
                          22.71074863884388,
                          32.823379949720916
                        ]
                      ]
                    ]
                  },
                  "bbox": [
                    22.653677586082356,
                    32.794889490532256,
                    22.71093765585694,
                    32.823379949720916
                  ]
                },
                {
                  "id": "60",
                  "type": "Feature",
                  "properties": {
                    "datetime": "2023-09-13 09:18:09+00:00",
                    "platform": "GE01",
                    "gsd": 0.42,
                    "ard_metadata_version": "0.0.1",
                    "catalog_id": "10500100363D0900",
                    "utm_zone": 34,
                    "quadkey": "120200213120",
                    "view:off_nadir": 6,
                    "view:azimuth": 11.7,
                    "view:incidence_angle": 83.3,
                    "view:sun_azimuth": 147.7,
                    "view:sun_elevation": 57.2,
                    "proj:epsg": 32634,
                    "grid:code": "MXRA-Z34-120200213120",
                    "proj:bbox": "644846.19140625,3624843.75,645156.25,3630156.25",
                    "tile:data_area": 1.4,
                    "tile:clouds_area": 0,
                    "tile:clouds_percent": 0,
                    "visual": "https://maxar-opendata.s3.amazonaws.com/events/Libya-Floods-Sept-2023/ard/34/120200213120/2023-09-13/10500100363D0900-visual.tif",
                    "style": {
                      "color": "black",
                      "fillColor": "black"
                    }
                  },
                  "geometry": {
                    "type": "Polygon",
                    "coordinates": [
                      [
                        [
                          22.54699073748235,
                          32.79983352812088
                        ],
                        [
                          22.550301187890565,
                          32.799792581050184
                        ],
                        [
                          22.549470590101304,
                          32.75188769225155
                        ],
                        [
                          22.546927206921648,
                          32.75191911861382
                        ],
                        [
                          22.546902294129755,
                          32.762345854362415
                        ],
                        [
                          22.546926982795153,
                          32.76659814030596
                        ],
                        [
                          22.546918252611086,
                          32.77080129153673
                        ],
                        [
                          22.546932277416165,
                          32.772741618830864
                        ],
                        [
                          22.546984488563716,
                          32.775570525474954
                        ],
                        [
                          22.546986576481803,
                          32.778138564337894
                        ],
                        [
                          22.54695908989304,
                          32.78332732732059
                        ],
                        [
                          22.54699073748235,
                          32.79983352812088
                        ]
                      ]
                    ]
                  },
                  "bbox": [
                    22.546902294129755,
                    32.75188769225155,
                    22.550301187890565,
                    32.79983352812088
                  ]
                },
                {
                  "id": "61",
                  "type": "Feature",
                  "properties": {
                    "datetime": "2023-09-13 09:18:09+00:00",
                    "platform": "GE01",
                    "gsd": 0.42,
                    "ard_metadata_version": "0.0.1",
                    "catalog_id": "10500100363D0900",
                    "utm_zone": 34,
                    "quadkey": "120200213121",
                    "view:off_nadir": 6,
                    "view:azimuth": 10.7,
                    "view:incidence_angle": 83.3,
                    "view:sun_azimuth": 147.7,
                    "view:sun_elevation": 57.2,
                    "proj:epsg": 32634,
                    "grid:code": "MXRA-Z34-120200213121",
                    "proj:bbox": "644846.19140625,3624843.75,650156.25,3630156.25",
                    "tile:data_area": 28,
                    "tile:clouds_area": 0.8,
                    "tile:clouds_percent": 3,
                    "visual": "https://maxar-opendata.s3.amazonaws.com/events/Libya-Floods-Sept-2023/ard/34/120200213121/2023-09-13/10500100363D0900-visual.tif",
                    "style": {
                      "color": "black",
                      "fillColor": "black"
                    }
                  },
                  "geometry": {
                    "type": "Polygon",
                    "coordinates": [
                      [
                        [
                          22.54699073748235,
                          32.79983352812088
                        ],
                        [
                          22.603684522078375,
                          32.799120192094236
                        ],
                        [
                          22.602825352703267,
                          32.75121653041266
                        ],
                        [
                          22.546927206921648,
                          32.75191911861382
                        ],
                        [
                          22.54699073748235,
                          32.79983352812088
                        ]
                      ]
                    ]
                  },
                  "bbox": [
                    22.546927206921648,
                    32.75121653041266,
                    22.603684522078375,
                    32.79983352812088
                  ]
                },
                {
                  "id": "62",
                  "type": "Feature",
                  "properties": {
                    "datetime": "2023-09-13 09:18:09+00:00",
                    "platform": "GE01",
                    "gsd": 0.42,
                    "ard_metadata_version": "0.0.1",
                    "catalog_id": "10500100363D0900",
                    "utm_zone": 34,
                    "quadkey": "120200213130",
                    "view:off_nadir": 6,
                    "view:azimuth": 6.9,
                    "view:incidence_angle": 83.4,
                    "view:sun_azimuth": 147.7,
                    "view:sun_elevation": 57.2,
                    "proj:epsg": 32634,
                    "grid:code": "MXRA-Z34-120200213130",
                    "proj:bbox": "649843.75,3624843.75,655156.25,3630156.25",
                    "tile:data_area": 28.2,
                    "tile:clouds_area": 0.6,
                    "tile:clouds_percent": 2,
                    "visual": "https://maxar-opendata.s3.amazonaws.com/events/Libya-Floods-Sept-2023/ard/34/120200213130/2023-09-13/10500100363D0900-visual.tif",
                    "style": {
                      "color": "black",
                      "fillColor": "black"
                    }
                  },
                  "geometry": {
                    "type": "Polygon",
                    "coordinates": [
                      [
                        [
                          22.60034811597184,
                          32.79916288270382
                        ],
                        [
                          22.599490732206565,
                          32.75125914311197
                        ],
                        [
                          22.6561783135037,
                          32.75052266794987
                        ],
                        [
                          22.65706605051743,
                          32.79842506102891
                        ],
                        [
                          22.60034811597184,
                          32.79916288270382
                        ]
                      ]
                    ]
                  },
                  "bbox": [
                    22.599490732206565,
                    32.75052266794987,
                    22.65706605051743,
                    32.79916288270382
                  ]
                },
                {
                  "id": "63",
                  "type": "Feature",
                  "properties": {
                    "datetime": "2023-09-13 09:18:09+00:00",
                    "platform": "GE01",
                    "gsd": 0.42,
                    "ard_metadata_version": "0.0.1",
                    "catalog_id": "10500100363D0900",
                    "utm_zone": 34,
                    "quadkey": "120200302002",
                    "view:off_nadir": 5.2,
                    "view:azimuth": 51.8,
                    "view:incidence_angle": 84.2,
                    "view:sun_azimuth": 147.7,
                    "view:sun_elevation": 57.2,
                    "proj:epsg": 32634,
                    "grid:code": "MXRA-Z34-120200302002",
                    "proj:bbox": "659843.75,3629843.75,660401.9165039062,3633006.2866210938",
                    "tile:data_area": 1.6,
                    "tile:clouds_area": 0,
                    "tile:clouds_percent": 0,
                    "visual": "https://maxar-opendata.s3.amazonaws.com/events/Libya-Floods-Sept-2023/ard/34/120200302002/2023-09-13/10500100363D0900-visual.tif",
                    "style": {
                      "color": "black",
                      "fillColor": "black"
                    }
                  },
                  "geometry": {
                    "type": "Polygon",
                    "coordinates": [
                      [
                        [
                          22.712740362311912,
                          32.82338023158681
                        ],
                        [
                          22.71293431212096,
                          32.82329500611164
                        ],
                        [
                          22.713014340284058,
                          32.79485363700369
                        ],
                        [
                          22.707055685044633,
                          32.79493501869265
                        ],
                        [
                          22.707599681740174,
                          32.823378916982406
                        ],
                        [
                          22.712740362311912,
                          32.82338023158681
                        ]
                      ]
                    ]
                  },
                  "bbox": [
                    22.707055685044633,
                    32.79485363700369,
                    22.713014340284058,
                    32.82338023158681
                  ]
                },
                {
                  "id": "64",
                  "type": "Feature",
                  "properties": {
                    "datetime": "2023-09-13 09:18:29+00:00",
                    "platform": "GE01",
                    "gsd": 0.42,
                    "ard_metadata_version": "0.0.1",
                    "catalog_id": "10500100363D0A00",
                    "utm_zone": 34,
                    "quadkey": "120200203301",
                    "view:off_nadir": 7.4,
                    "view:azimuth": 135.9,
                    "view:incidence_angle": 81.8,
                    "view:sun_azimuth": 146.4,
                    "view:sun_elevation": 56.8,
                    "proj:epsg": 32634,
                    "grid:code": "MXRA-Z34-120200203301",
                    "proj:bbox": "564843.75,3618051.1474609375,570156.25,3620156.25",
                    "tile:data_area": 11.1,
                    "tile:clouds_area": 0,
                    "tile:clouds_percent": 0,
                    "visual": "https://maxar-opendata.s3.amazonaws.com/events/Libya-Floods-Sept-2023/ard/34/120200203301/2023-09-13/10500100363D0A00-visual.tif",
                    "style": {
                      "color": "black",
                      "fillColor": "black"
                    }
                  },
                  "geometry": {
                    "type": "Polygon",
                    "coordinates": [
                      [
                        [
                          21.69193541681758,
                          32.717273945095265
                        ],
                        [
                          21.691790074350802,
                          32.698442530520786
                        ],
                        [
                          21.70509264850979,
                          32.69840424311937
                        ],
                        [
                          21.74846152441611,
                          32.6979602502059
                        ],
                        [
                          21.748620080588214,
                          32.716948334603885
                        ],
                        [
                          21.69193541681758,
                          32.717273945095265
                        ]
                      ]
                    ]
                  },
                  "bbox": [
                    21.691790074350802,
                    32.6979602502059,
                    21.748620080588214,
                    32.717273945095265
                  ]
                },
                {
                  "id": "65",
                  "type": "Feature",
                  "properties": {
                    "datetime": "2023-09-13 09:18:30+00:00",
                    "platform": "GE01",
                    "gsd": 0.42,
                    "ard_metadata_version": "0.0.1",
                    "catalog_id": "10500100363D0A00",
                    "utm_zone": 34,
                    "quadkey": "120200203300",
                    "view:off_nadir": 7.6,
                    "view:azimuth": 135.4,
                    "view:incidence_angle": 81.5,
                    "view:sun_azimuth": 146.4,
                    "view:sun_elevation": 56.8,
                    "proj:epsg": 32634,
                    "grid:code": "MXRA-Z34-120200203300",
                    "proj:bbox": "562453.9184570312,3618071.5942382812,565156.25,3620156.25",
                    "tile:data_area": 5.6,
                    "tile:clouds_area": 0,
                    "tile:clouds_percent": 0,
                    "visual": "https://maxar-opendata.s3.amazonaws.com/events/Libya-Floods-Sept-2023/ard/34/120200203300/2023-09-13/10500100363D0A00-visual.tif",
                    "style": {
                      "color": "black",
                      "fillColor": "black"
                    }
                  },
                  "geometry": {
                    "type": "Polygon",
                    "coordinates": [
                      [
                        [
                          21.666435493910743,
                          32.7174120658893
                        ],
                        [
                          21.695269833795315,
                          32.71725550076907
                        ],
                        [
                          21.69512400444673,
                          32.698451626754455
                        ],
                        [
                          21.66651109289335,
                          32.6986757566005
                        ],
                        [
                          21.666435493910743,
                          32.7174120658893
                        ]
                      ]
                    ]
                  },
                  "bbox": [
                    21.666435493910743,
                    32.698451626754455,
                    21.695269833795315,
                    32.7174120658893
                  ]
                },
                {
                  "id": "66",
                  "type": "Feature",
                  "properties": {
                    "datetime": "2023-09-13 09:18:30+00:00",
                    "platform": "GE01",
                    "gsd": 0.42,
                    "ard_metadata_version": "0.0.1",
                    "catalog_id": "10500100363D0A00",
                    "utm_zone": 34,
                    "quadkey": "120200203310",
                    "view:off_nadir": 7.1,
                    "view:azimuth": 138.4,
                    "view:incidence_angle": 82.1,
                    "view:sun_azimuth": 146.4,
                    "view:sun_elevation": 56.8,
                    "proj:epsg": 32634,
                    "grid:code": "MXRA-Z34-120200203310",
                    "proj:bbox": "569843.75,3618039.2456054688,575156.25,3620156.25",
                    "tile:data_area": 11.2,
                    "tile:clouds_area": 0,
                    "tile:clouds_percent": 0,
                    "visual": "https://maxar-opendata.s3.amazonaws.com/events/Libya-Floods-Sept-2023/ard/34/120200203310/2023-09-13/10500100363D0A00-visual.tif",
                    "style": {
                      "color": "black",
                      "fillColor": "black"
                    }
                  },
                  "geometry": {
                    "type": "Polygon",
                    "coordinates": [
                      [
                        [
                          21.745285714177957,
                          32.716968197382876
                        ],
                        [
                          21.745127909803507,
                          32.697985603993665
                        ],
                        [
                          21.801798674003525,
                          32.69752327455673
                        ],
                        [
                          21.801969486477127,
                          32.71661847383184
                        ],
                        [
                          21.745285714177957,
                          32.716968197382876
                        ]
                      ]
                    ]
                  },
                  "bbox": [
                    21.745127909803507,
                    32.69752327455673,
                    21.801969486477127,
                    32.716968197382876
                  ]
                },
                {
                  "id": "67",
                  "type": "Feature",
                  "properties": {
                    "datetime": "2023-09-13 09:18:30+00:00",
                    "platform": "GE01",
                    "gsd": 0.42,
                    "ard_metadata_version": "0.0.1",
                    "catalog_id": "10500100363D0A00",
                    "utm_zone": 34,
                    "quadkey": "120200203311",
                    "view:off_nadir": 7,
                    "view:azimuth": 140.9,
                    "view:incidence_angle": 82.3,
                    "view:sun_azimuth": 146.4,
                    "view:sun_elevation": 56.8,
                    "proj:epsg": 32634,
                    "grid:code": "MXRA-Z34-120200203311",
                    "proj:bbox": "574843.75,3618031.6162109375,578133.8500976562,3620156.25",
                    "tile:data_area": 6.9,
                    "tile:clouds_area": 0,
                    "tile:clouds_percent": 0,
                    "visual": "https://maxar-opendata.s3.amazonaws.com/events/Libya-Floods-Sept-2023/ard/34/120200203311/2023-09-13/10500100363D0A00-visual.tif",
                    "style": {
                      "color": "black",
                      "fillColor": "black"
                    }
                  },
                  "geometry": {
                    "type": "Polygon",
                    "coordinates": [
                      [
                        [
                          21.79863517437833,
                          32.716639754987746
                        ],
                        [
                          21.798465047390224,
                          32.697541787539606
                        ],
                        [
                          21.833561484555904,
                          32.69724738952089
                        ],
                        [
                          21.83360945642971,
                          32.71641211980463
                        ],
                        [
                          21.79863517437833,
                          32.716639754987746
                        ]
                      ]
                    ]
                  },
                  "bbox": [
                    21.798465047390224,
                    32.69724738952089,
                    21.83360945642971,
                    32.716639754987746
                  ]
                },
                {
                  "id": "68",
                  "type": "Feature",
                  "properties": {
                    "datetime": "2023-09-13 09:18:31+00:00",
                    "platform": "GE01",
                    "gsd": 0.42,
                    "ard_metadata_version": "0.0.1",
                    "catalog_id": "10500100363D0A00",
                    "utm_zone": 34,
                    "quadkey": "120200203122",
                    "view:off_nadir": 8,
                    "view:azimuth": 138,
                    "view:incidence_angle": 81.2,
                    "view:sun_azimuth": 146.4,
                    "view:sun_elevation": 56.8,
                    "proj:epsg": 32634,
                    "grid:code": "MXRA-Z34-120200203122",
                    "proj:bbox": "562407.8369140625,3619843.75,565156.25,3625156.25",
                    "tile:data_area": 14.4,
                    "tile:clouds_area": 0,
                    "tile:clouds_percent": 0,
                    "visual": "https://maxar-opendata.s3.amazonaws.com/events/Libya-Floods-Sept-2023/ard/34/120200203122/2023-09-13/10500100363D0A00-visual.tif",
                    "style": {
                      "color": "black",
                      "fillColor": "black"
                    }
                  },
                  "geometry": {
                    "type": "Polygon",
                    "coordinates": [
                      [
                        [
                          21.66627934235291,
                          32.76251538910747
                        ],
                        [
                          21.695620155742663,
                          32.762355937507664
                        ],
                        [
                          21.695247964621867,
                          32.7144367125736
                        ],
                        [
                          21.666414531531956,
                          32.714593260850044
                        ],
                        [
                          21.66627934235291,
                          32.76251538910747
                        ]
                      ]
                    ]
                  },
                  "bbox": [
                    21.66627934235291,
                    32.7144367125736,
                    21.695620155742663,
                    32.76251538910747
                  ]
                },
                {
                  "id": "69",
                  "type": "Feature",
                  "properties": {
                    "datetime": "2023-09-13 09:18:31+00:00",
                    "platform": "GE01",
                    "gsd": 0.42,
                    "ard_metadata_version": "0.0.1",
                    "catalog_id": "10500100363D0A00",
                    "utm_zone": 34,
                    "quadkey": "120200203123",
                    "view:off_nadir": 7.8,
                    "view:azimuth": 139.7,
                    "view:incidence_angle": 81.4,
                    "view:sun_azimuth": 146.4,
                    "view:sun_elevation": 56.8,
                    "proj:epsg": 32634,
                    "grid:code": "MXRA-Z34-120200203123",
                    "proj:bbox": "564843.75,3619843.75,570156.25,3625156.25",
                    "tile:data_area": 28.2,
                    "tile:clouds_area": 0,
                    "tile:clouds_percent": 0,
                    "visual": "https://maxar-opendata.s3.amazonaws.com/events/Libya-Floods-Sept-2023/ard/34/120200203123/2023-09-13/10500100363D0A00-visual.tif",
                    "style": {
                      "color": "black",
                      "fillColor": "black"
                    }
                  },
                  "geometry": {
                    "type": "Polygon",
                    "coordinates": [
                      [
                        [
                          21.692284058997565,
                          32.762374413599254
                        ],
                        [
                          21.69191365250519,
                          32.7144551549155
                        ],
                        [
                          21.748596533692474,
                          32.71412957945416
                        ],
                        [
                          21.748997277937928,
                          32.76204824233316
                        ],
                        [
                          21.692284058997565,
                          32.762374413599254
                        ]
                      ]
                    ]
                  },
                  "bbox": [
                    21.69191365250519,
                    32.71412957945416,
                    21.748997277937928,
                    32.762374413599254
                  ]
                },
                {
                  "id": "70",
                  "type": "Feature",
                  "properties": {
                    "datetime": "2023-09-13 09:18:31+00:00",
                    "platform": "GE01",
                    "gsd": 0.42,
                    "ard_metadata_version": "0.0.1",
                    "catalog_id": "10500100363D0A00",
                    "utm_zone": 34,
                    "quadkey": "120200203132",
                    "view:off_nadir": 7.5,
                    "view:azimuth": 142.1,
                    "view:incidence_angle": 81.7,
                    "view:sun_azimuth": 146.4,
                    "view:sun_elevation": 56.8,
                    "proj:epsg": 32634,
                    "grid:code": "MXRA-Z34-120200203132",
                    "proj:bbox": "569843.75,3619843.75,575156.25,3625156.25",
                    "tile:data_area": 28.2,
                    "tile:clouds_area": 0,
                    "tile:clouds_percent": 0,
                    "visual": "https://maxar-opendata.s3.amazonaws.com/events/Libya-Floods-Sept-2023/ard/34/120200203132/2023-09-13/10500100363D0A00-visual.tif",
                    "style": {
                      "color": "black",
                      "fillColor": "black"
                    }
                  },
                  "geometry": {
                    "type": "Polygon",
                    "coordinates": [
                      [
                        [
                          21.74566123186451,
                          32.76206813932023
                        ],
                        [
                          21.745262272136774,
                          32.71414944009627
                        ],
                        [
                          21.801944261967197,
                          32.71379975416915
                        ],
                        [
                          21.80237355749652,
                          32.76171781347056
                        ],
                        [
                          21.74566123186451,
                          32.76206813932023
                        ]
                      ]
                    ]
                  },
                  "bbox": [
                    21.745262272136774,
                    32.71379975416915,
                    21.80237355749652,
                    32.76206813932023
                  ]
                },
                {
                  "id": "71",
                  "type": "Feature",
                  "properties": {
                    "datetime": "2023-09-13 09:18:31+00:00",
                    "platform": "GE01",
                    "gsd": 0.42,
                    "ard_metadata_version": "0.0.1",
                    "catalog_id": "10500100363D0A00",
                    "utm_zone": 34,
                    "quadkey": "120200203133",
                    "view:off_nadir": 7.3,
                    "view:azimuth": 144.1,
                    "view:incidence_angle": 81.9,
                    "view:sun_azimuth": 146.4,
                    "view:sun_elevation": 56.8,
                    "proj:epsg": 32634,
                    "grid:code": "MXRA-Z34-120200203133",
                    "proj:bbox": "574843.75,3619843.75,578122.55859375,3625156.25",
                    "tile:data_area": 17.3,
                    "tile:clouds_area": 0,
                    "tile:clouds_percent": 0,
                    "visual": "https://maxar-opendata.s3.amazonaws.com/events/Libya-Floods-Sept-2023/ard/34/120200203133/2023-09-13/10500100363D0A00-visual.tif",
                    "style": {
                      "color": "black",
                      "fillColor": "black"
                    }
                  },
                  "geometry": {
                    "type": "Polygon",
                    "coordinates": [
                      [
                        [
                          21.799037565846465,
                          32.76173913127703
                        ],
                        [
                          21.79861005471598,
                          32.71382103303561
                        ],
                        [
                          21.833593005097296,
                          32.71359335740702
                        ],
                        [
                          21.833788389840635,
                          32.76151270847344
                        ],
                        [
                          21.799037565846465,
                          32.76173913127703
                        ]
                      ]
                    ]
                  },
                  "bbox": [
                    21.79861005471598,
                    32.71359335740702,
                    21.833788389840635,
                    32.76173913127703
                  ]
                },
                {
                  "id": "72",
                  "type": "Feature",
                  "properties": {
                    "datetime": "2023-09-13 09:18:32+00:00",
                    "platform": "GE01",
                    "gsd": 0.42,
                    "ard_metadata_version": "0.0.1",
                    "catalog_id": "10500100363D0A00",
                    "utm_zone": 34,
                    "quadkey": "120200203102",
                    "view:off_nadir": 9,
                    "view:azimuth": 146,
                    "view:incidence_angle": 80,
                    "view:sun_azimuth": 146.4,
                    "view:sun_elevation": 56.8,
                    "proj:epsg": 32634,
                    "grid:code": "MXRA-Z34-120200203102",
                    "proj:bbox": "562312.6220703125,3629843.75,565156.25,3632038.57421875",
                    "tile:data_area": 6.1,
                    "tile:clouds_area": 0,
                    "tile:clouds_percent": 0,
                    "visual": "https://maxar-opendata.s3.amazonaws.com/events/Libya-Floods-Sept-2023/ard/34/120200203102/2023-09-13/10500100363D0A00-visual.tif",
                    "style": {
                      "color": "black",
                      "fillColor": "black"
                    }
                  },
                  "geometry": {
                    "type": "Polygon",
                    "coordinates": [
                      [
                        [
                          21.665725258115284,
                          32.82459980895013
                        ],
                        [
                          21.665861218293866,
                          32.80480090949425
                        ],
                        [
                          21.695949293304658,
                          32.8046372986771
                        ],
                        [
                          21.696101945668275,
                          32.82421710461126
                        ],
                        [
                          21.665725258115284,
                          32.82459980895013
                        ]
                      ]
                    ]
                  },
                  "bbox": [
                    21.665725258115284,
                    32.8046372986771,
                    21.696101945668275,
                    32.82459980895013
                  ]
                },
                {
                  "id": "73",
                  "type": "Feature",
                  "properties": {
                    "datetime": "2023-09-13 09:18:32+00:00",
                    "platform": "GE01",
                    "gsd": 0.42,
                    "ard_metadata_version": "0.0.1",
                    "catalog_id": "10500100363D0A00",
                    "utm_zone": 34,
                    "quadkey": "120200203103",
                    "view:off_nadir": 9,
                    "view:azimuth": 147.9,
                    "view:incidence_angle": 80,
                    "view:sun_azimuth": 146.4,
                    "view:sun_elevation": 56.8,
                    "proj:epsg": 32634,
                    "grid:code": "MXRA-Z34-120200203103",
                    "proj:bbox": "564843.75,3629843.75,570156.25,3632016.6015625",
                    "tile:data_area": 11.4,
                    "tile:clouds_area": 0.3,
                    "tile:clouds_percent": 2,
                    "visual": "https://maxar-opendata.s3.amazonaws.com/events/Libya-Floods-Sept-2023/ard/34/120200203103/2023-09-13/10500100363D0A00-visual.tif",
                    "style": {
                      "color": "black",
                      "fillColor": "black"
                    }
                  },
                  "geometry": {
                    "type": "Polygon",
                    "coordinates": [
                      [
                        [
                          21.69276368835699,
                          32.824254893061024
                        ],
                        [
                          21.692611618370183,
                          32.80465580457728
                        ],
                        [
                          21.749351665706573,
                          32.8043291070814
                        ],
                        [
                          21.749513092945723,
                          32.82355909738852
                        ],
                        [
                          21.69276368835699,
                          32.824254893061024
                        ]
                      ]
                    ]
                  },
                  "bbox": [
                    21.692611618370183,
                    32.8043291070814,
                    21.749513092945723,
                    32.824254893061024
                  ]
                },
                {
                  "id": "74",
                  "type": "Feature",
                  "properties": {
                    "datetime": "2023-09-13 09:18:32+00:00",
                    "platform": "GE01",
                    "gsd": 0.42,
                    "ard_metadata_version": "0.0.1",
                    "catalog_id": "10500100363D0A00",
                    "utm_zone": 34,
                    "quadkey": "120200203112",
                    "view:off_nadir": 8.8,
                    "view:azimuth": 150.3,
                    "view:incidence_angle": 80.3,
                    "view:sun_azimuth": 146.4,
                    "view:sun_elevation": 56.8,
                    "proj:epsg": 32634,
                    "grid:code": "MXRA-Z34-120200203112",
                    "proj:bbox": "569843.75,3629843.75,575156.25,3631976.9287109375",
                    "tile:data_area": 11.2,
                    "tile:clouds_area": 0,
                    "tile:clouds_percent": 0,
                    "visual": "https://maxar-opendata.s3.amazonaws.com/events/Libya-Floods-Sept-2023/ard/34/120200203112/2023-09-13/10500100363D0A00-visual.tif",
                    "style": {
                      "color": "black",
                      "fillColor": "black"
                    }
                  },
                  "geometry": {
                    "type": "Polygon",
                    "coordinates": [
                      [
                        [
                          21.74650085224956,
                          32.82358810795882
                        ],
                        [
                          21.802923001659476,
                          32.8228810642208
                        ],
                        [
                          21.802753193842097,
                          32.803998145123884
                        ],
                        [
                          21.746014041541777,
                          32.80434903616925
                        ],
                        [
                          21.746174818990298,
                          32.82358729901994
                        ],
                        [
                          21.74650085224956,
                          32.82358810795882
                        ]
                      ]
                    ]
                  },
                  "bbox": [
                    21.746014041541777,
                    32.803998145123884,
                    21.802923001659476,
                    32.82358810795882
                  ]
                },
                {
                  "id": "75",
                  "type": "Feature",
                  "properties": {
                    "datetime": "2023-09-13 09:18:32+00:00",
                    "platform": "GE01",
                    "gsd": 0.42,
                    "ard_metadata_version": "0.0.1",
                    "catalog_id": "10500100363D0A00",
                    "utm_zone": 34,
                    "quadkey": "120200203113",
                    "view:off_nadir": 8.5,
                    "view:azimuth": 151.4,
                    "view:incidence_angle": 80.5,
                    "view:sun_azimuth": 146.4,
                    "view:sun_elevation": 56.8,
                    "proj:epsg": 32634,
                    "grid:code": "MXRA-Z34-120200203113",
                    "proj:bbox": "574843.75,3629843.75,578078.3081054688,3631938.7817382812",
                    "tile:data_area": 6.7,
                    "tile:clouds_area": 0,
                    "tile:clouds_percent": 0,
                    "visual": "https://maxar-opendata.s3.amazonaws.com/events/Libya-Floods-Sept-2023/ard/34/120200203113/2023-09-13/10500100363D0A00-visual.tif",
                    "style": {
                      "color": "black",
                      "fillColor": "black"
                    }
                  },
                  "geometry": {
                    "type": "Polygon",
                    "coordinates": [
                      [
                        [
                          21.799584849514737,
                          32.822916194841405
                        ],
                        [
                          21.799415624205924,
                          32.80401949732315
                        ],
                        [
                          21.833961252608646,
                          32.80379418551921
                        ],
                        [
                          21.83393973946408,
                          32.81021652893114
                        ],
                        [
                          21.83402752973739,
                          32.81821822214874
                        ],
                        [
                          21.833952707978803,
                          32.82242218358569
                        ],
                        [
                          21.799584849514737,
                          32.822916194841405
                        ]
                      ]
                    ]
                  },
                  "bbox": [
                    21.799415624205924,
                    32.80379418551921,
                    21.83402752973739,
                    32.822916194841405
                  ]
                },
                {
                  "id": "76",
                  "type": "Feature",
                  "properties": {
                    "datetime": "2023-09-13 09:18:32+00:00",
                    "platform": "GE01",
                    "gsd": 0.42,
                    "ard_metadata_version": "0.0.1",
                    "catalog_id": "10500100363D0A00",
                    "utm_zone": 34,
                    "quadkey": "120200203120",
                    "view:off_nadir": 8.7,
                    "view:azimuth": 143.5,
                    "view:incidence_angle": 80.4,
                    "view:sun_azimuth": 146.4,
                    "view:sun_elevation": 56.8,
                    "proj:epsg": 32634,
                    "grid:code": "MXRA-Z34-120200203120",
                    "proj:bbox": "562335.5102539062,3624843.75,565156.25,3630156.25",
                    "tile:data_area": 14.7,
                    "tile:clouds_area": 0.1,
                    "tile:clouds_percent": 0,
                    "visual": "https://maxar-opendata.s3.amazonaws.com/events/Libya-Floods-Sept-2023/ard/34/120200203120/2023-09-13/10500100363D0A00-visual.tif",
                    "style": {
                      "color": "black",
                      "fillColor": "black"
                    }
                  },
                  "geometry": {
                    "type": "Polygon",
                    "coordinates": [
                      [
                        [
                          21.66584312084842,
                          32.807619882221786
                        ],
                        [
                          21.695971260297846,
                          32.80745604582028
                        ],
                        [
                          21.695598237709714,
                          32.75953716983088
                        ],
                        [
                          21.666290926923633,
                          32.75969643106678
                        ],
                        [
                          21.66584312084842,
                          32.807619882221786
                        ]
                      ]
                    ]
                  },
                  "bbox": [
                    21.66584312084842,
                    32.75953716983088,
                    21.695971260297846,
                    32.807619882221786
                  ]
                },
                {
                  "id": "77",
                  "type": "Feature",
                  "properties": {
                    "datetime": "2023-09-13 09:18:32+00:00",
                    "platform": "GE01",
                    "gsd": 0.42,
                    "ard_metadata_version": "0.0.1",
                    "catalog_id": "10500100363D0A00",
                    "utm_zone": 34,
                    "quadkey": "120200203121",
                    "view:off_nadir": 8.5,
                    "view:azimuth": 145.1,
                    "view:incidence_angle": 80.5,
                    "view:sun_azimuth": 146.4,
                    "view:sun_elevation": 56.8,
                    "proj:epsg": 32634,
                    "grid:code": "MXRA-Z34-120200203121",
                    "proj:bbox": "564843.75,3624843.75,570156.25,3630156.25",
                    "tile:data_area": 28.2,
                    "tile:clouds_area": 0.2,
                    "tile:clouds_percent": 0,
                    "visual": "https://maxar-opendata.s3.amazonaws.com/events/Libya-Floods-Sept-2023/ard/34/120200203121/2023-09-13/10500100363D0A00-visual.tif",
                    "style": {
                      "color": "black",
                      "fillColor": "black"
                    }
                  },
                  "geometry": {
                    "type": "Polygon",
                    "coordinates": [
                      [
                        [
                          21.692633480033336,
                          32.80747455370867
                        ],
                        [
                          21.692262246059922,
                          32.759555643936224
                        ],
                        [
                          21.74897367843493,
                          32.759229507734766
                        ],
                        [
                          21.749375317925296,
                          32.807147821113446
                        ],
                        [
                          21.692633480033336,
                          32.80747455370867
                        ]
                      ]
                    ]
                  },
                  "bbox": [
                    21.692262246059922,
                    32.759229507734766,
                    21.749375317925296,
                    32.80747455370867
                  ]
                },
                {
                  "id": "78",
                  "type": "Feature",
                  "properties": {
                    "datetime": "2023-09-13 09:18:32+00:00",
                    "platform": "GE01",
                    "gsd": 0.42,
                    "ard_metadata_version": "0.0.1",
                    "catalog_id": "10500100363D0A00",
                    "utm_zone": 34,
                    "quadkey": "120200203130",
                    "view:off_nadir": 8.3,
                    "view:azimuth": 147.5,
                    "view:incidence_angle": 80.8,
                    "view:sun_azimuth": 146.4,
                    "view:sun_elevation": 56.8,
                    "proj:epsg": 32634,
                    "grid:code": "MXRA-Z34-120200203130",
                    "proj:bbox": "569843.75,3624843.75,575156.25,3630156.25",
                    "tile:data_area": 28.2,
                    "tile:clouds_area": 0.1,
                    "tile:clouds_percent": 0,
                    "visual": "https://maxar-opendata.s3.amazonaws.com/events/Libya-Floods-Sept-2023/ard/34/120200203130/2023-09-13/10500100363D0A00-visual.tif",
                    "style": {
                      "color": "black",
                      "fillColor": "black"
                    }
                  },
                  "geometry": {
                    "type": "Polygon",
                    "coordinates": [
                      [
                        [
                          21.746037588437012,
                          32.8071677523424
                        ],
                        [
                          21.74563773745029,
                          32.759249402582846
                        ],
                        [
                          21.802348276631932,
                          32.75889911439427
                        ],
                        [
                          21.80277853117753,
                          32.80681682359869
                        ],
                        [
                          21.746037588437012,
                          32.8071677523424
                        ]
                      ]
                    ]
                  },
                  "bbox": [
                    21.74563773745029,
                    32.75889911439427,
                    21.80277853117753,
                    32.8071677523424
                  ]
                },
                {
                  "id": "79",
                  "type": "Feature",
                  "properties": {
                    "datetime": "2023-09-13 09:18:32+00:00",
                    "platform": "GE01",
                    "gsd": 0.42,
                    "ard_metadata_version": "0.0.1",
                    "catalog_id": "10500100363D0A00",
                    "utm_zone": 34,
                    "quadkey": "120200203131",
                    "view:off_nadir": 8.1,
                    "view:azimuth": 149.4,
                    "view:incidence_angle": 81,
                    "view:sun_azimuth": 146.4,
                    "view:sun_elevation": 56.8,
                    "proj:epsg": 32634,
                    "grid:code": "MXRA-Z34-120200203131",
                    "proj:bbox": "574843.75,3624843.75,578100.2807617188,3630156.25",
                    "tile:data_area": 17.2,
                    "tile:clouds_area": 0,
                    "tile:clouds_percent": 0,
                    "visual": "https://maxar-opendata.s3.amazonaws.com/events/Libya-Floods-Sept-2023/ard/34/120200203131/2023-09-13/10500100363D0A00-visual.tif",
                    "style": {
                      "color": "black",
                      "fillColor": "black"
                    }
                  },
                  "geometry": {
                    "type": "Polygon",
                    "coordinates": [
                      [
                        [
                          21.799440856224898,
                          32.80683817809194
                        ],
                        [
                          21.799012390063652,
                          32.75892042990901
                        ],
                        [
                          21.833775150112086,
                          32.75869394474255
                        ],
                        [
                          21.833935424074625,
                          32.806613189425384
                        ],
                        [
                          21.799440856224898,
                          32.80683817809194
                        ]
                      ]
                    ]
                  },
                  "bbox": [
                    21.799012390063652,
                    32.75869394474255,
                    21.833935424074625,
                    32.80683817809194
                  ]
                },
                {
                  "id": "80",
                  "type": "Feature",
                  "properties": {
                    "datetime": "2023-09-14 09:18:08+00:00",
                    "platform": "WV02",
                    "gsd": 0.49,
                    "ard_metadata_version": "0.0.1",
                    "catalog_id": "10300100ED0AD100",
                    "utm_zone": 34,
                    "quadkey": "120200210222",
                    "view:off_nadir": 15,
                    "view:azimuth": 145.7,
                    "view:incidence_angle": 73.1,
                    "view:sun_azimuth": 147.2,
                    "view:sun_elevation": 56.5,
                    "proj:epsg": 32634,
                    "grid:code": "MXRA-Z34-120200210222",
                    "proj:bbox": "580363.0975596167,3639843.75,585156.25,3641455.3540173345",
                    "tile:data_area": 7.6,
                    "tile:clouds_area": 0,
                    "tile:clouds_percent": 0,
                    "visual": "https://maxar-opendata.s3.amazonaws.com/events/Libya-Floods-Sept-2023/ard/34/120200210222/2023-09-14/10300100ED0AD100-visual.tif",
                    "style": {
                      "color": "black",
                      "fillColor": "black"
                    }
                  },
                  "geometry": {
                    "type": "Polygon",
                    "coordinates": [
                      [
                        [
                          21.91047409563659,
                          32.893462474403655
                        ],
                        [
                          21.85923189152689,
                          32.89382482855539
                        ],
                        [
                          21.859434,
                          32.908042
                        ],
                        [
                          21.910622836871894,
                          32.90798506123782
                        ],
                        [
                          21.91047409563659,
                          32.893462474403655
                        ]
                      ]
                    ]
                  },
                  "bbox": [
                    21.85923189152689,
                    32.893462474403655,
                    21.910622836871894,
                    32.908042
                  ]
                },
                {
                  "id": "81",
                  "type": "Feature",
                  "properties": {
                    "datetime": "2023-09-14 09:18:08+00:00",
                    "platform": "WV02",
                    "gsd": 0.49,
                    "ard_metadata_version": "0.0.1",
                    "catalog_id": "10300100ED0AD100",
                    "utm_zone": 34,
                    "quadkey": "120200210223",
                    "view:off_nadir": 14.8,
                    "view:azimuth": 146.8,
                    "view:incidence_angle": 73.3,
                    "view:sun_azimuth": 147.2,
                    "view:sun_elevation": 56.5,
                    "proj:epsg": 32634,
                    "grid:code": "MXRA-Z34-120200210223",
                    "proj:bbox": "584843.75,3639843.75,590156.25,3641492.238707915",
                    "tile:data_area": 8.6,
                    "tile:clouds_area": 0,
                    "tile:clouds_percent": 0,
                    "visual": "https://maxar-opendata.s3.amazonaws.com/events/Libya-Floods-Sept-2023/ard/34/120200210223/2023-09-14/10300100ED0AD100-visual.tif",
                    "style": {
                      "color": "black",
                      "fillColor": "black"
                    }
                  },
                  "geometry": {
                    "type": "Polygon",
                    "coordinates": [
                      [
                        [
                          21.963926758605634,
                          32.893061835365245
                        ],
                        [
                          21.907133269411673,
                          32.893486755845764
                        ],
                        [
                          21.907281255062593,
                          32.90798877817189
                        ],
                        [
                          21.96408793081873,
                          32.90792559053179
                        ],
                        [
                          21.963926758605634,
                          32.893061835365245
                        ]
                      ]
                    ]
                  },
                  "bbox": [
                    21.907133269411673,
                    32.893061835365245,
                    21.96408793081873,
                    32.90798877817189
                  ]
                },
                {
                  "id": "82",
                  "type": "Feature",
                  "properties": {
                    "datetime": "2023-09-14 09:18:08+00:00",
                    "platform": "WV02",
                    "gsd": 0.49,
                    "ard_metadata_version": "0.0.1",
                    "catalog_id": "10300100ED0AD100",
                    "utm_zone": 34,
                    "quadkey": "120200210232",
                    "view:off_nadir": 14.6,
                    "view:azimuth": 148.1,
                    "view:incidence_angle": 73.6,
                    "view:sun_azimuth": 147.2,
                    "view:sun_elevation": 56.5,
                    "proj:epsg": 32634,
                    "grid:code": "MXRA-Z34-120200210232",
                    "proj:bbox": "589843.75,3639843.75,595156.25,3641771.3499524347",
                    "tile:data_area": 9.3,
                    "tile:clouds_area": 0,
                    "tile:clouds_percent": 0,
                    "visual": "https://maxar-opendata.s3.amazonaws.com/events/Libya-Floods-Sept-2023/ard/34/120200210232/2023-09-14/10300100ED0AD100-visual.tif",
                    "style": {
                      "color": "black",
                      "fillColor": "black"
                    }
                  },
                  "geometry": {
                    "type": "Polygon",
                    "coordinates": [
                      [
                        [
                          22.017378332299142,
                          32.89263835322725
                        ],
                        [
                          21.960585998456096,
                          32.89308754455295
                        ],
                        [
                          21.960746374491467,
                          32.90792930743752
                        ],
                        [
                          21.974508,
                          32.907914
                        ],
                        [
                          22.01757725321952,
                          32.91001967225506
                        ],
                        [
                          22.017378332299142,
                          32.89263835322725
                        ]
                      ]
                    ]
                  },
                  "bbox": [
                    21.960585998456096,
                    32.89263835322725,
                    22.01757725321952,
                    32.91001967225506
                  ]
                },
                {
                  "id": "83",
                  "type": "Feature",
                  "properties": {
                    "datetime": "2023-09-14 09:18:08+00:00",
                    "platform": "WV02",
                    "gsd": 0.49,
                    "ard_metadata_version": "0.0.1",
                    "catalog_id": "10300100ED0AD100",
                    "utm_zone": 34,
                    "quadkey": "120200210233",
                    "view:off_nadir": 14.5,
                    "view:azimuth": 148.9,
                    "view:incidence_angle": 73.7,
                    "view:sun_azimuth": 147.2,
                    "view:sun_elevation": 56.5,
                    "proj:epsg": 32634,
                    "grid:code": "MXRA-Z34-120200210233",
                    "proj:bbox": "594843.75,3639843.75,597275.7110545642,3641912.795417908",
                    "tile:data_area": 4.8,
                    "tile:clouds_area": 0.1,
                    "tile:clouds_percent": 2,
                    "visual": "https://maxar-opendata.s3.amazonaws.com/events/Libya-Floods-Sept-2023/ard/34/120200210233/2023-09-14/10300100ED0AD100-visual.tif",
                    "style": {
                      "color": "black",
                      "fillColor": "black"
                    }
                  },
                  "geometry": {
                    "type": "Polygon",
                    "coordinates": [
                      [
                        [
                          22.01403764199779,
                          32.89266549006204
                        ],
                        [
                          22.014233735609775,
                          32.90985620640091
                        ],
                        [
                          22.039981,
                          32.911115
                        ],
                        [
                          22.040035772864016,
                          32.89245177307301
                        ],
                        [
                          22.01403764199779,
                          32.89266549006204
                        ]
                      ]
                    ]
                  },
                  "bbox": [
                    22.01403764199779,
                    32.89245177307301,
                    22.040035772864016,
                    32.911115
                  ]
                },
                {
                  "id": "84",
                  "type": "Feature",
                  "properties": {
                    "datetime": "2023-09-14 09:18:08+00:00",
                    "platform": "WV02",
                    "gsd": 0.49,
                    "ard_metadata_version": "0.0.1",
                    "catalog_id": "10300100ED0AD100",
                    "utm_zone": 34,
                    "quadkey": "120200212000",
                    "view:off_nadir": 14.6,
                    "view:azimuth": 144.4,
                    "view:incidence_angle": 73.6,
                    "view:sun_azimuth": 147.2,
                    "view:sun_elevation": 56.5,
                    "proj:epsg": 32634,
                    "grid:code": "MXRA-Z34-120200212000",
                    "proj:bbox": "580350.8441978507,3636512.5702797407,585156.25,3640156.25",
                    "tile:data_area": 17.1,
                    "tile:clouds_area": 0,
                    "tile:clouds_percent": 0,
                    "visual": "https://maxar-opendata.s3.amazonaws.com/events/Libya-Floods-Sept-2023/ard/34/120200212000/2023-09-14/10300100ED0AD100-visual.tif",
                    "style": {
                      "color": "black",
                      "fillColor": "black"
                    }
                  },
                  "geometry": {
                    "type": "Polygon",
                    "coordinates": [
                      [
                        [
                          21.910502931204384,
                          32.89628103302248
                        ],
                        [
                          21.91016671512039,
                          32.86339046507093
                        ],
                        [
                          21.858824,
                          32.865132
                        ],
                        [
                          21.85927195804664,
                          32.89664327833018
                        ],
                        [
                          21.910502931204384,
                          32.89628103302248
                        ]
                      ]
                    ]
                  },
                  "bbox": [
                    21.858824,
                    32.86339046507093,
                    21.910502931204384,
                    32.89664327833018
                  ]
                },
                {
                  "id": "85",
                  "type": "Feature",
                  "properties": {
                    "datetime": "2023-09-14 09:18:08+00:00",
                    "platform": "WV02",
                    "gsd": 0.49,
                    "ard_metadata_version": "0.0.1",
                    "catalog_id": "10300100ED0AD100",
                    "utm_zone": 34,
                    "quadkey": "120200212001",
                    "view:off_nadir": 14.4,
                    "view:azimuth": 145.6,
                    "view:incidence_angle": 73.8,
                    "view:sun_azimuth": 147.2,
                    "view:sun_elevation": 56.5,
                    "proj:epsg": 32634,
                    "grid:code": "MXRA-Z34-120200212001",
                    "proj:bbox": "584843.75,3636356.6378719467,590156.25,3640156.25",
                    "tile:data_area": 19.7,
                    "tile:clouds_area": 0.5,
                    "tile:clouds_percent": 2,
                    "visual": "https://maxar-opendata.s3.amazonaws.com/events/Libya-Floods-Sept-2023/ard/34/120200212001/2023-09-14/10300100ED0AD100-visual.tif",
                    "style": {
                      "color": "black",
                      "fillColor": "black"
                    }
                  },
                  "geometry": {
                    "type": "Polygon",
                    "coordinates": [
                      [
                        [
                          21.907161999207805,
                          32.89630531706946
                        ],
                        [
                          21.963957286448142,
                          32.8958803510045
                        ],
                        [
                          21.9635860720756,
                          32.86157849085398
                        ],
                        [
                          21.90682792213164,
                          32.8635037162809
                        ],
                        [
                          21.907161999207805,
                          32.89630531706946
                        ]
                      ]
                    ]
                  },
                  "bbox": [
                    21.90682792213164,
                    32.86157849085398,
                    21.963957286448142,
                    32.89630531706946
                  ]
                },
                {
                  "id": "86",
                  "type": "Feature",
                  "properties": {
                    "datetime": "2023-09-14 09:18:08+00:00",
                    "platform": "WV02",
                    "gsd": 0.49,
                    "ard_metadata_version": "0.0.1",
                    "catalog_id": "10300100ED0AD100",
                    "utm_zone": 34,
                    "quadkey": "120200212010",
                    "view:off_nadir": 14.3,
                    "view:azimuth": 146.8,
                    "view:incidence_angle": 74,
                    "view:sun_azimuth": 147.2,
                    "view:sun_elevation": 56.5,
                    "proj:epsg": 32634,
                    "grid:code": "MXRA-Z34-120200212010",
                    "proj:bbox": "589843.75,3636200.705464153,595156.25,3640156.25",
                    "tile:data_area": 20.5,
                    "tile:clouds_area": 0.5,
                    "tile:clouds_percent": 2,
                    "visual": "https://maxar-opendata.s3.amazonaws.com/events/Libya-Floods-Sept-2023/ard/34/120200212010/2023-09-14/10300100ED0AD100-visual.tif",
                    "style": {
                      "color": "black",
                      "fillColor": "black"
                    }
                  },
                  "geometry": {
                    "type": "Polygon",
                    "coordinates": [
                      [
                        [
                          21.960616420535477,
                          32.8959060629502
                        ],
                        [
                          22.017410552275592,
                          32.8954568234368
                        ],
                        [
                          22.017002910898864,
                          32.85976660205158
                        ],
                        [
                          21.96024743634673,
                          32.86169173672973
                        ],
                        [
                          21.960616420535477,
                          32.8959060629502
                        ]
                      ]
                    ]
                  },
                  "bbox": [
                    21.96024743634673,
                    32.85976660205158,
                    22.017410552275592,
                    32.8959060629502
                  ]
                },
                {
                  "id": "87",
                  "type": "Feature",
                  "properties": {
                    "datetime": "2023-09-14 09:18:08+00:00",
                    "platform": "WV02",
                    "gsd": 0.49,
                    "ard_metadata_version": "0.0.1",
                    "catalog_id": "10300100ED0AD100",
                    "utm_zone": 34,
                    "quadkey": "120200212011",
                    "view:off_nadir": 14.1,
                    "view:azimuth": 147.6,
                    "view:incidence_angle": 74.1,
                    "view:sun_azimuth": 147.2,
                    "view:sun_elevation": 56.5,
                    "proj:epsg": 32634,
                    "grid:code": "MXRA-Z34-120200212011",
                    "proj:bbox": "594843.75,3636133.179691622,597321.4757374281,3640156.25",
                    "tile:data_area": 9.7,
                    "tile:clouds_area": 0.1,
                    "tile:clouds_percent": 1,
                    "visual": "https://maxar-opendata.s3.amazonaws.com/events/Libya-Floods-Sept-2023/ard/34/120200212011/2023-09-14/10300100ED0AD100-visual.tif",
                    "style": {
                      "color": "black",
                      "fillColor": "black"
                    }
                  },
                  "geometry": {
                    "type": "Polygon",
                    "coordinates": [
                      [
                        [
                          22.01406975622014,
                          32.89548396318275
                        ],
                        [
                          22.040027500248417,
                          32.89527057221755
                        ],
                        [
                          22.040134,
                          32.858982
                        ],
                        [
                          22.013664433208234,
                          32.859879842566706
                        ],
                        [
                          22.01406975622014,
                          32.89548396318275
                        ]
                      ]
                    ]
                  },
                  "bbox": [
                    22.013664433208234,
                    32.858982,
                    22.040134,
                    32.89548396318275
                  ]
                }
              ],
              "bbox": [
                19.524212,
                30.401686,
                22.726488018445597,
                32.911115
              ]
            },
            "hover_style": {
              "weight": 4,
              "fillOpacity": 0
            },
            "layers": [],
            "name": "Post-event",
            "options": [],
            "pane": "",
            "point_style": {},
            "popup": null,
            "popup_max_height": null,
            "popup_max_width": 300,
            "popup_min_width": 50,
            "style": {
              "color": "#3388ff",
              "weight": 2,
              "opacity": 1,
              "fill": true,
              "fillColor": "#3388ff",
              "fillOpacity": 0.2
            },
            "subitems": [],
            "visible": true
          }
        },
        "5507ff22c742469991227117d5870ddf": {
          "model_module": "@jupyter-widgets/base",
          "model_name": "LayoutModel",
          "model_module_version": "1.2.0",
          "state": {
            "_model_module": "@jupyter-widgets/base",
            "_model_module_version": "1.2.0",
            "_model_name": "LayoutModel",
            "_view_count": null,
            "_view_module": "@jupyter-widgets/base",
            "_view_module_version": "1.2.0",
            "_view_name": "LayoutView",
            "align_content": null,
            "align_items": null,
            "align_self": null,
            "border": null,
            "bottom": null,
            "display": null,
            "flex": null,
            "flex_flow": null,
            "grid_area": null,
            "grid_auto_columns": null,
            "grid_auto_flow": null,
            "grid_auto_rows": null,
            "grid_column": null,
            "grid_gap": null,
            "grid_row": null,
            "grid_template_areas": null,
            "grid_template_columns": null,
            "grid_template_rows": null,
            "height": "500px",
            "justify_content": null,
            "justify_items": null,
            "left": null,
            "margin": null,
            "max_height": null,
            "max_width": null,
            "min_height": null,
            "min_width": null,
            "object_fit": null,
            "object_position": null,
            "order": null,
            "overflow": null,
            "overflow_x": null,
            "overflow_y": null,
            "padding": null,
            "right": null,
            "top": null,
            "visibility": null,
            "width": null
          }
        },
        "ebb8163420ac46bab9c7a8f38de8a538": {
          "model_module": "jupyter-leaflet",
          "model_name": "LeafletMapStyleModel",
          "model_module_version": "^0.17",
          "state": {
            "_model_module": "jupyter-leaflet",
            "_model_module_version": "^0.17",
            "_model_name": "LeafletMapStyleModel",
            "_view_count": null,
            "_view_module": "@jupyter-widgets/base",
            "_view_module_version": "1.2.0",
            "_view_name": "StyleView",
            "cursor": "grab"
          }
        },
        "d47979ca71cb44f8a23163649c844b0d": {
          "model_module": "@jupyter-widgets/controls",
          "model_name": "VBoxModel",
          "model_module_version": "1.5.0",
          "state": {
            "_dom_classes": [],
            "_model_module": "@jupyter-widgets/controls",
            "_model_module_version": "1.5.0",
            "_model_name": "VBoxModel",
            "_view_count": null,
            "_view_module": "@jupyter-widgets/controls",
            "_view_module_version": "1.5.0",
            "_view_name": "VBoxView",
            "box_style": "",
            "children": [
              "IPY_MODEL_4d02e5e87e7f4be99d105a8dde04fed1"
            ],
            "layout": "IPY_MODEL_56e0d0e0d8d14065b8712abf9cd29d42"
          }
        },
        "1497c73500ba4704bc85b704140f5267": {
          "model_module": "@jupyter-widgets/controls",
          "model_name": "VBoxModel",
          "model_module_version": "1.5.0",
          "state": {
            "_dom_classes": [],
            "_model_module": "@jupyter-widgets/controls",
            "_model_module_version": "1.5.0",
            "_model_name": "VBoxModel",
            "_view_count": null,
            "_view_module": "@jupyter-widgets/controls",
            "_view_module_version": "1.5.0",
            "_view_name": "VBoxView",
            "box_style": "",
            "children": [
              "IPY_MODEL_d74d51cb7dcb433aa9b4f7aa209e3a69"
            ],
            "layout": "IPY_MODEL_5cea28bfe8cc48c2894e862cfbcbed0f"
          }
        },
        "8a26b7ef03cf4faa85eff4346027bd68": {
          "model_module": "@jupyter-widgets/controls",
          "model_name": "VBoxModel",
          "model_module_version": "1.5.0",
          "state": {
            "_dom_classes": [],
            "_model_module": "@jupyter-widgets/controls",
            "_model_module_version": "1.5.0",
            "_model_name": "VBoxModel",
            "_view_count": null,
            "_view_module": "@jupyter-widgets/controls",
            "_view_module_version": "1.5.0",
            "_view_name": "VBoxView",
            "box_style": "",
            "children": [
              "IPY_MODEL_8c96dd1ffb0a4303a9dafb0fcab933b4",
              "IPY_MODEL_9f51107f48524b93a51a5c5b859807af"
            ],
            "layout": "IPY_MODEL_1dedf58b0f24477caf0e1fd5d3f740c4"
          }
        },
        "4d02e5e87e7f4be99d105a8dde04fed1": {
          "model_module": "@jupyter-widgets/controls",
          "model_name": "ToggleButtonModel",
          "model_module_version": "1.5.0",
          "state": {
            "_dom_classes": [],
            "_model_module": "@jupyter-widgets/controls",
            "_model_module_version": "1.5.0",
            "_model_name": "ToggleButtonModel",
            "_view_count": null,
            "_view_module": "@jupyter-widgets/controls",
            "_view_module_version": "1.5.0",
            "_view_name": "ToggleButtonView",
            "button_style": "",
            "description": "",
            "description_tooltip": null,
            "disabled": false,
            "icon": "wrench",
            "layout": "IPY_MODEL_e9ed8d48c8194aa9a5e60de048da6d74",
            "style": "IPY_MODEL_7a236071dd5c40c2b6ce6816a916f39b",
            "tooltip": "Toolbar",
            "value": false
          }
        },
        "56e0d0e0d8d14065b8712abf9cd29d42": {
          "model_module": "@jupyter-widgets/base",
          "model_name": "LayoutModel",
          "model_module_version": "1.2.0",
          "state": {
            "_model_module": "@jupyter-widgets/base",
            "_model_module_version": "1.2.0",
            "_model_name": "LayoutModel",
            "_view_count": null,
            "_view_module": "@jupyter-widgets/base",
            "_view_module_version": "1.2.0",
            "_view_name": "LayoutView",
            "align_content": null,
            "align_items": null,
            "align_self": null,
            "border": null,
            "bottom": null,
            "display": null,
            "flex": null,
            "flex_flow": null,
            "grid_area": null,
            "grid_auto_columns": null,
            "grid_auto_flow": null,
            "grid_auto_rows": null,
            "grid_column": null,
            "grid_gap": null,
            "grid_row": null,
            "grid_template_areas": null,
            "grid_template_columns": null,
            "grid_template_rows": null,
            "height": null,
            "justify_content": null,
            "justify_items": null,
            "left": null,
            "margin": null,
            "max_height": null,
            "max_width": null,
            "min_height": null,
            "min_width": null,
            "object_fit": null,
            "object_position": null,
            "order": null,
            "overflow": null,
            "overflow_x": null,
            "overflow_y": null,
            "padding": null,
            "right": null,
            "top": null,
            "visibility": null,
            "width": null
          }
        },
        "ea6112305245457c8c597fbbd26d47b6": {
          "model_module": "@jupyter-widgets/controls",
          "model_name": "HBoxModel",
          "model_module_version": "1.5.0",
          "state": {
            "_dom_classes": [],
            "_model_module": "@jupyter-widgets/controls",
            "_model_module_version": "1.5.0",
            "_model_name": "HBoxModel",
            "_view_count": null,
            "_view_module": "@jupyter-widgets/controls",
            "_view_module_version": "1.5.0",
            "_view_name": "HBoxView",
            "box_style": "",
            "children": [
              "IPY_MODEL_fcf714604da5402eb4ea9bd6ea761b98",
              "IPY_MODEL_44d3f883fe524edaa14972ed0d2da80d"
            ],
            "layout": "IPY_MODEL_c82393aa3a1f4935b4a8efecf97a40a0"
          }
        },
        "4f25ffc587f047cfb8e736dfc58761cd": {
          "model_module": "@jupyter-widgets/controls",
          "model_name": "HTMLModel",
          "model_module_version": "1.5.0",
          "state": {
            "_dom_classes": [],
            "_model_module": "@jupyter-widgets/controls",
            "_model_module_version": "1.5.0",
            "_model_name": "HTMLModel",
            "_view_count": null,
            "_view_module": "@jupyter-widgets/controls",
            "_view_module_version": "1.5.0",
            "_view_name": "HTMLView",
            "description": "",
            "description_tooltip": null,
            "layout": "IPY_MODEL_5857bfc7d0bb479c8c86b882e301c8ca",
            "placeholder": "​",
            "style": "IPY_MODEL_bf21a8cd738142afa7dc325db2d70407",
            "value": ""
          }
        },
        "5cea28bfe8cc48c2894e862cfbcbed0f": {
          "model_module": "@jupyter-widgets/base",
          "model_name": "LayoutModel",
          "model_module_version": "1.2.0",
          "state": {
            "_model_module": "@jupyter-widgets/base",
            "_model_module_version": "1.2.0",
            "_model_name": "LayoutModel",
            "_view_count": null,
            "_view_module": "@jupyter-widgets/base",
            "_view_module_version": "1.2.0",
            "_view_name": "LayoutView",
            "align_content": null,
            "align_items": null,
            "align_self": null,
            "border": null,
            "bottom": null,
            "display": null,
            "flex": null,
            "flex_flow": null,
            "grid_area": null,
            "grid_auto_columns": null,
            "grid_auto_flow": null,
            "grid_auto_rows": null,
            "grid_column": null,
            "grid_gap": null,
            "grid_row": null,
            "grid_template_areas": null,
            "grid_template_columns": null,
            "grid_template_rows": null,
            "height": null,
            "justify_content": null,
            "justify_items": null,
            "left": null,
            "margin": null,
            "max_height": null,
            "max_width": null,
            "min_height": null,
            "min_width": null,
            "object_fit": null,
            "object_position": null,
            "order": null,
            "overflow": null,
            "overflow_x": null,
            "overflow_y": null,
            "padding": null,
            "right": null,
            "top": null,
            "visibility": null,
            "width": null
          }
        },
        "8c96dd1ffb0a4303a9dafb0fcab933b4": {
          "model_module": "@jupyter-widgets/controls",
          "model_name": "HBoxModel",
          "model_module_version": "1.5.0",
          "state": {
            "_dom_classes": [],
            "_model_module": "@jupyter-widgets/controls",
            "_model_module_version": "1.5.0",
            "_model_name": "HBoxModel",
            "_view_count": null,
            "_view_module": "@jupyter-widgets/controls",
            "_view_module_version": "1.5.0",
            "_view_name": "HBoxView",
            "box_style": "",
            "children": [
              "IPY_MODEL_d1b2f7cd55d54d7f92d2ca3065f6e60a",
              "IPY_MODEL_1764c82c389148639ffe0e5128b03360"
            ],
            "layout": "IPY_MODEL_dd25329475e24f2d90288e1f46c673be"
          }
        },
        "9f51107f48524b93a51a5c5b859807af": {
          "model_module": "@jupyter-widgets/controls",
          "model_name": "HTMLModel",
          "model_module_version": "1.5.0",
          "state": {
            "_dom_classes": [],
            "_model_module": "@jupyter-widgets/controls",
            "_model_module_version": "1.5.0",
            "_model_name": "HTMLModel",
            "_view_count": null,
            "_view_module": "@jupyter-widgets/controls",
            "_view_module_version": "1.5.0",
            "_view_name": "HTMLView",
            "description": "",
            "description_tooltip": null,
            "layout": "IPY_MODEL_04d3b5ee1c4c496fb312f34884c7626c",
            "placeholder": "​",
            "style": "IPY_MODEL_c5bf46b8cdfd4983aa5613309e3b508f",
            "value": "<b>datetime: </b>2023-09-13 09:18:09+00:00<br><b>platform: </b>GE01<br><b>gsd: </b>0.42<br><b>ard_metadata_version: </b>0.0.1<br><b>catalog_id: </b>10500100363D0900<br><b>utm_zone: </b>34<br><b>quadkey: </b>120200213130<br><b>view:off_nadir: </b>6<br><b>view:azimuth: </b>6.9<br><b>view:incidence_angle: </b>83.4<br><b>view:sun_azimuth: </b>147.7<br><b>view:sun_elevation: </b>57.2<br><b>proj:epsg: </b>32634<br><b>grid:code: </b>MXRA-Z34-120200213130<br><b>proj:bbox: </b>649843.75,3624843.75,655156.25,3630156.25<br><b>tile:data_area: </b>28.2<br><b>tile:clouds_area: </b>0.6<br><b>tile:clouds_percent: </b>2<br><b>visual: </b>https://maxar-opendata.s3.amazonaws.com/events/Libya-Floods-Sept-2023/ard/34/120200213130/2023-09-13/10500100363D0900-visual.tif<br>"
          }
        },
        "1dedf58b0f24477caf0e1fd5d3f740c4": {
          "model_module": "@jupyter-widgets/base",
          "model_name": "LayoutModel",
          "model_module_version": "1.2.0",
          "state": {
            "_model_module": "@jupyter-widgets/base",
            "_model_module_version": "1.2.0",
            "_model_name": "LayoutModel",
            "_view_count": null,
            "_view_module": "@jupyter-widgets/base",
            "_view_module_version": "1.2.0",
            "_view_name": "LayoutView",
            "align_content": null,
            "align_items": null,
            "align_self": null,
            "border": null,
            "bottom": null,
            "display": null,
            "flex": null,
            "flex_flow": null,
            "grid_area": null,
            "grid_auto_columns": null,
            "grid_auto_flow": null,
            "grid_auto_rows": null,
            "grid_column": null,
            "grid_gap": null,
            "grid_row": null,
            "grid_template_areas": null,
            "grid_template_columns": null,
            "grid_template_rows": null,
            "height": null,
            "justify_content": null,
            "justify_items": null,
            "left": null,
            "margin": null,
            "max_height": null,
            "max_width": null,
            "min_height": null,
            "min_width": null,
            "object_fit": null,
            "object_position": null,
            "order": null,
            "overflow": null,
            "overflow_x": null,
            "overflow_y": null,
            "padding": null,
            "right": null,
            "top": null,
            "visibility": null,
            "width": null
          }
        },
        "e9ed8d48c8194aa9a5e60de048da6d74": {
          "model_module": "@jupyter-widgets/base",
          "model_name": "LayoutModel",
          "model_module_version": "1.2.0",
          "state": {
            "_model_module": "@jupyter-widgets/base",
            "_model_module_version": "1.2.0",
            "_model_name": "LayoutModel",
            "_view_count": null,
            "_view_module": "@jupyter-widgets/base",
            "_view_module_version": "1.2.0",
            "_view_name": "LayoutView",
            "align_content": null,
            "align_items": null,
            "align_self": null,
            "border": null,
            "bottom": null,
            "display": null,
            "flex": null,
            "flex_flow": null,
            "grid_area": null,
            "grid_auto_columns": null,
            "grid_auto_flow": null,
            "grid_auto_rows": null,
            "grid_column": null,
            "grid_gap": null,
            "grid_row": null,
            "grid_template_areas": null,
            "grid_template_columns": null,
            "grid_template_rows": null,
            "height": "28px",
            "justify_content": null,
            "justify_items": null,
            "left": null,
            "margin": null,
            "max_height": null,
            "max_width": null,
            "min_height": null,
            "min_width": null,
            "object_fit": null,
            "object_position": null,
            "order": null,
            "overflow": null,
            "overflow_x": null,
            "overflow_y": null,
            "padding": "0px 0px 0px 4px",
            "right": null,
            "top": null,
            "visibility": null,
            "width": "28px"
          }
        },
        "7a236071dd5c40c2b6ce6816a916f39b": {
          "model_module": "@jupyter-widgets/controls",
          "model_name": "DescriptionStyleModel",
          "model_module_version": "1.5.0",
          "state": {
            "_model_module": "@jupyter-widgets/controls",
            "_model_module_version": "1.5.0",
            "_model_name": "DescriptionStyleModel",
            "_view_count": null,
            "_view_module": "@jupyter-widgets/base",
            "_view_module_version": "1.2.0",
            "_view_name": "StyleView",
            "description_width": ""
          }
        },
        "fcf714604da5402eb4ea9bd6ea761b98": {
          "model_module": "@jupyter-widgets/controls",
          "model_name": "ToggleButtonModel",
          "model_module_version": "1.5.0",
          "state": {
            "_dom_classes": [],
            "_model_module": "@jupyter-widgets/controls",
            "_model_module_version": "1.5.0",
            "_model_name": "ToggleButtonModel",
            "_view_count": null,
            "_view_module": "@jupyter-widgets/controls",
            "_view_module_version": "1.5.0",
            "_view_name": "ToggleButtonView",
            "button_style": "",
            "description": "",
            "description_tooltip": null,
            "disabled": false,
            "icon": "info",
            "layout": "IPY_MODEL_93f8d98ab9d14b9e8f9a234e87f63fcf",
            "style": "IPY_MODEL_73f918fb9f0c47a49c9c194ab7889eb0",
            "tooltip": "Toolbar",
            "value": false
          }
        },
        "44d3f883fe524edaa14972ed0d2da80d": {
          "model_module": "@jupyter-widgets/controls",
          "model_name": "ToggleButtonModel",
          "model_module_version": "1.5.0",
          "state": {
            "_dom_classes": [],
            "_model_module": "@jupyter-widgets/controls",
            "_model_module_version": "1.5.0",
            "_model_name": "ToggleButtonModel",
            "_view_count": null,
            "_view_module": "@jupyter-widgets/controls",
            "_view_module_version": "1.5.0",
            "_view_name": "ToggleButtonView",
            "button_style": "",
            "description": "",
            "description_tooltip": null,
            "disabled": false,
            "icon": "times",
            "layout": "IPY_MODEL_57b35afa5a8b444681d71e0abf9c2d08",
            "style": "IPY_MODEL_18ade896eded4129b1391dae92b2a0df",
            "tooltip": "Close the tool",
            "value": false
          }
        },
        "c82393aa3a1f4935b4a8efecf97a40a0": {
          "model_module": "@jupyter-widgets/base",
          "model_name": "LayoutModel",
          "model_module_version": "1.2.0",
          "state": {
            "_model_module": "@jupyter-widgets/base",
            "_model_module_version": "1.2.0",
            "_model_name": "LayoutModel",
            "_view_count": null,
            "_view_module": "@jupyter-widgets/base",
            "_view_module_version": "1.2.0",
            "_view_name": "LayoutView",
            "align_content": null,
            "align_items": null,
            "align_self": null,
            "border": null,
            "bottom": null,
            "display": null,
            "flex": null,
            "flex_flow": null,
            "grid_area": null,
            "grid_auto_columns": null,
            "grid_auto_flow": null,
            "grid_auto_rows": null,
            "grid_column": null,
            "grid_gap": null,
            "grid_row": null,
            "grid_template_areas": null,
            "grid_template_columns": null,
            "grid_template_rows": null,
            "height": null,
            "justify_content": null,
            "justify_items": null,
            "left": null,
            "margin": null,
            "max_height": null,
            "max_width": null,
            "min_height": null,
            "min_width": null,
            "object_fit": null,
            "object_position": null,
            "order": null,
            "overflow": null,
            "overflow_x": null,
            "overflow_y": null,
            "padding": null,
            "right": null,
            "top": null,
            "visibility": null,
            "width": null
          }
        },
        "5857bfc7d0bb479c8c86b882e301c8ca": {
          "model_module": "@jupyter-widgets/base",
          "model_name": "LayoutModel",
          "model_module_version": "1.2.0",
          "state": {
            "_model_module": "@jupyter-widgets/base",
            "_model_module_version": "1.2.0",
            "_model_name": "LayoutModel",
            "_view_count": null,
            "_view_module": "@jupyter-widgets/base",
            "_view_module_version": "1.2.0",
            "_view_name": "LayoutView",
            "align_content": null,
            "align_items": null,
            "align_self": null,
            "border": null,
            "bottom": null,
            "display": null,
            "flex": null,
            "flex_flow": null,
            "grid_area": null,
            "grid_auto_columns": null,
            "grid_auto_flow": null,
            "grid_auto_rows": null,
            "grid_column": null,
            "grid_gap": null,
            "grid_row": null,
            "grid_template_areas": null,
            "grid_template_columns": null,
            "grid_template_rows": null,
            "height": null,
            "justify_content": null,
            "justify_items": null,
            "left": null,
            "margin": "0px 10px 0px 10px",
            "max_height": "250px",
            "max_width": "250px",
            "min_height": null,
            "min_width": null,
            "object_fit": null,
            "object_position": null,
            "order": null,
            "overflow": null,
            "overflow_x": null,
            "overflow_y": null,
            "padding": null,
            "right": null,
            "top": null,
            "visibility": null,
            "width": null
          }
        },
        "bf21a8cd738142afa7dc325db2d70407": {
          "model_module": "@jupyter-widgets/controls",
          "model_name": "DescriptionStyleModel",
          "model_module_version": "1.5.0",
          "state": {
            "_model_module": "@jupyter-widgets/controls",
            "_model_module_version": "1.5.0",
            "_model_name": "DescriptionStyleModel",
            "_view_count": null,
            "_view_module": "@jupyter-widgets/base",
            "_view_module_version": "1.2.0",
            "_view_name": "StyleView",
            "description_width": ""
          }
        },
        "d1b2f7cd55d54d7f92d2ca3065f6e60a": {
          "model_module": "@jupyter-widgets/controls",
          "model_name": "ToggleButtonModel",
          "model_module_version": "1.5.0",
          "state": {
            "_dom_classes": [],
            "_model_module": "@jupyter-widgets/controls",
            "_model_module_version": "1.5.0",
            "_model_name": "ToggleButtonModel",
            "_view_count": null,
            "_view_module": "@jupyter-widgets/controls",
            "_view_module_version": "1.5.0",
            "_view_name": "ToggleButtonView",
            "button_style": "",
            "description": "",
            "description_tooltip": null,
            "disabled": false,
            "icon": "info",
            "layout": "IPY_MODEL_13010d952dff4e48ae42d11ead9f21ef",
            "style": "IPY_MODEL_ae09a3eae3774ad4a16ae98adeb1f567",
            "tooltip": "Toolbar",
            "value": true
          }
        },
        "1764c82c389148639ffe0e5128b03360": {
          "model_module": "@jupyter-widgets/controls",
          "model_name": "ToggleButtonModel",
          "model_module_version": "1.5.0",
          "state": {
            "_dom_classes": [],
            "_model_module": "@jupyter-widgets/controls",
            "_model_module_version": "1.5.0",
            "_model_name": "ToggleButtonModel",
            "_view_count": null,
            "_view_module": "@jupyter-widgets/controls",
            "_view_module_version": "1.5.0",
            "_view_name": "ToggleButtonView",
            "button_style": "",
            "description": "",
            "description_tooltip": null,
            "disabled": false,
            "icon": "times",
            "layout": "IPY_MODEL_4a809396dafc4f638f56af47c957c763",
            "style": "IPY_MODEL_7a5e474c5cb8486f9c13b0c1b0af2393",
            "tooltip": "Close the tool",
            "value": false
          }
        },
        "dd25329475e24f2d90288e1f46c673be": {
          "model_module": "@jupyter-widgets/base",
          "model_name": "LayoutModel",
          "model_module_version": "1.2.0",
          "state": {
            "_model_module": "@jupyter-widgets/base",
            "_model_module_version": "1.2.0",
            "_model_name": "LayoutModel",
            "_view_count": null,
            "_view_module": "@jupyter-widgets/base",
            "_view_module_version": "1.2.0",
            "_view_name": "LayoutView",
            "align_content": null,
            "align_items": null,
            "align_self": null,
            "border": null,
            "bottom": null,
            "display": null,
            "flex": null,
            "flex_flow": null,
            "grid_area": null,
            "grid_auto_columns": null,
            "grid_auto_flow": null,
            "grid_auto_rows": null,
            "grid_column": null,
            "grid_gap": null,
            "grid_row": null,
            "grid_template_areas": null,
            "grid_template_columns": null,
            "grid_template_rows": null,
            "height": null,
            "justify_content": null,
            "justify_items": null,
            "left": null,
            "margin": null,
            "max_height": null,
            "max_width": null,
            "min_height": null,
            "min_width": null,
            "object_fit": null,
            "object_position": null,
            "order": null,
            "overflow": null,
            "overflow_x": null,
            "overflow_y": null,
            "padding": null,
            "right": null,
            "top": null,
            "visibility": null,
            "width": null
          }
        },
        "04d3b5ee1c4c496fb312f34884c7626c": {
          "model_module": "@jupyter-widgets/base",
          "model_name": "LayoutModel",
          "model_module_version": "1.2.0",
          "state": {
            "_model_module": "@jupyter-widgets/base",
            "_model_module_version": "1.2.0",
            "_model_name": "LayoutModel",
            "_view_count": null,
            "_view_module": "@jupyter-widgets/base",
            "_view_module_version": "1.2.0",
            "_view_name": "LayoutView",
            "align_content": null,
            "align_items": null,
            "align_self": null,
            "border": null,
            "bottom": null,
            "display": null,
            "flex": null,
            "flex_flow": null,
            "grid_area": null,
            "grid_auto_columns": null,
            "grid_auto_flow": null,
            "grid_auto_rows": null,
            "grid_column": null,
            "grid_gap": null,
            "grid_row": null,
            "grid_template_areas": null,
            "grid_template_columns": null,
            "grid_template_rows": null,
            "height": null,
            "justify_content": null,
            "justify_items": null,
            "left": null,
            "margin": "0px 10px 0px 10px",
            "max_height": "250px",
            "max_width": "250px",
            "min_height": null,
            "min_width": null,
            "object_fit": null,
            "object_position": null,
            "order": null,
            "overflow": null,
            "overflow_x": null,
            "overflow_y": null,
            "padding": null,
            "right": null,
            "top": null,
            "visibility": null,
            "width": null
          }
        },
        "c5bf46b8cdfd4983aa5613309e3b508f": {
          "model_module": "@jupyter-widgets/controls",
          "model_name": "DescriptionStyleModel",
          "model_module_version": "1.5.0",
          "state": {
            "_model_module": "@jupyter-widgets/controls",
            "_model_module_version": "1.5.0",
            "_model_name": "DescriptionStyleModel",
            "_view_count": null,
            "_view_module": "@jupyter-widgets/base",
            "_view_module_version": "1.2.0",
            "_view_name": "StyleView",
            "description_width": ""
          }
        },
        "93f8d98ab9d14b9e8f9a234e87f63fcf": {
          "model_module": "@jupyter-widgets/base",
          "model_name": "LayoutModel",
          "model_module_version": "1.2.0",
          "state": {
            "_model_module": "@jupyter-widgets/base",
            "_model_module_version": "1.2.0",
            "_model_name": "LayoutModel",
            "_view_count": null,
            "_view_module": "@jupyter-widgets/base",
            "_view_module_version": "1.2.0",
            "_view_name": "LayoutView",
            "align_content": null,
            "align_items": null,
            "align_self": null,
            "border": null,
            "bottom": null,
            "display": null,
            "flex": null,
            "flex_flow": null,
            "grid_area": null,
            "grid_auto_columns": null,
            "grid_auto_flow": null,
            "grid_auto_rows": null,
            "grid_column": null,
            "grid_gap": null,
            "grid_row": null,
            "grid_template_areas": null,
            "grid_template_columns": null,
            "grid_template_rows": null,
            "height": "28px",
            "justify_content": null,
            "justify_items": null,
            "left": null,
            "margin": null,
            "max_height": null,
            "max_width": null,
            "min_height": null,
            "min_width": null,
            "object_fit": null,
            "object_position": null,
            "order": null,
            "overflow": null,
            "overflow_x": null,
            "overflow_y": null,
            "padding": "0px 0px 0px 4px",
            "right": null,
            "top": null,
            "visibility": null,
            "width": "28px"
          }
        },
        "73f918fb9f0c47a49c9c194ab7889eb0": {
          "model_module": "@jupyter-widgets/controls",
          "model_name": "DescriptionStyleModel",
          "model_module_version": "1.5.0",
          "state": {
            "_model_module": "@jupyter-widgets/controls",
            "_model_module_version": "1.5.0",
            "_model_name": "DescriptionStyleModel",
            "_view_count": null,
            "_view_module": "@jupyter-widgets/base",
            "_view_module_version": "1.2.0",
            "_view_name": "StyleView",
            "description_width": ""
          }
        },
        "57b35afa5a8b444681d71e0abf9c2d08": {
          "model_module": "@jupyter-widgets/base",
          "model_name": "LayoutModel",
          "model_module_version": "1.2.0",
          "state": {
            "_model_module": "@jupyter-widgets/base",
            "_model_module_version": "1.2.0",
            "_model_name": "LayoutModel",
            "_view_count": null,
            "_view_module": "@jupyter-widgets/base",
            "_view_module_version": "1.2.0",
            "_view_name": "LayoutView",
            "align_content": null,
            "align_items": null,
            "align_self": null,
            "border": null,
            "bottom": null,
            "display": null,
            "flex": null,
            "flex_flow": null,
            "grid_area": null,
            "grid_auto_columns": null,
            "grid_auto_flow": null,
            "grid_auto_rows": null,
            "grid_column": null,
            "grid_gap": null,
            "grid_row": null,
            "grid_template_areas": null,
            "grid_template_columns": null,
            "grid_template_rows": null,
            "height": "28px",
            "justify_content": null,
            "justify_items": null,
            "left": null,
            "margin": null,
            "max_height": null,
            "max_width": null,
            "min_height": null,
            "min_width": null,
            "object_fit": null,
            "object_position": null,
            "order": null,
            "overflow": null,
            "overflow_x": null,
            "overflow_y": null,
            "padding": "0px 0px 0px 4px",
            "right": null,
            "top": null,
            "visibility": null,
            "width": "28px"
          }
        },
        "18ade896eded4129b1391dae92b2a0df": {
          "model_module": "@jupyter-widgets/controls",
          "model_name": "DescriptionStyleModel",
          "model_module_version": "1.5.0",
          "state": {
            "_model_module": "@jupyter-widgets/controls",
            "_model_module_version": "1.5.0",
            "_model_name": "DescriptionStyleModel",
            "_view_count": null,
            "_view_module": "@jupyter-widgets/base",
            "_view_module_version": "1.2.0",
            "_view_name": "StyleView",
            "description_width": ""
          }
        },
        "13010d952dff4e48ae42d11ead9f21ef": {
          "model_module": "@jupyter-widgets/base",
          "model_name": "LayoutModel",
          "model_module_version": "1.2.0",
          "state": {
            "_model_module": "@jupyter-widgets/base",
            "_model_module_version": "1.2.0",
            "_model_name": "LayoutModel",
            "_view_count": null,
            "_view_module": "@jupyter-widgets/base",
            "_view_module_version": "1.2.0",
            "_view_name": "LayoutView",
            "align_content": null,
            "align_items": null,
            "align_self": null,
            "border": null,
            "bottom": null,
            "display": null,
            "flex": null,
            "flex_flow": null,
            "grid_area": null,
            "grid_auto_columns": null,
            "grid_auto_flow": null,
            "grid_auto_rows": null,
            "grid_column": null,
            "grid_gap": null,
            "grid_row": null,
            "grid_template_areas": null,
            "grid_template_columns": null,
            "grid_template_rows": null,
            "height": "28px",
            "justify_content": null,
            "justify_items": null,
            "left": null,
            "margin": null,
            "max_height": null,
            "max_width": null,
            "min_height": null,
            "min_width": null,
            "object_fit": null,
            "object_position": null,
            "order": null,
            "overflow": null,
            "overflow_x": null,
            "overflow_y": null,
            "padding": "0px 0px 0px 4px",
            "right": null,
            "top": null,
            "visibility": null,
            "width": "28px"
          }
        },
        "ae09a3eae3774ad4a16ae98adeb1f567": {
          "model_module": "@jupyter-widgets/controls",
          "model_name": "DescriptionStyleModel",
          "model_module_version": "1.5.0",
          "state": {
            "_model_module": "@jupyter-widgets/controls",
            "_model_module_version": "1.5.0",
            "_model_name": "DescriptionStyleModel",
            "_view_count": null,
            "_view_module": "@jupyter-widgets/base",
            "_view_module_version": "1.2.0",
            "_view_name": "StyleView",
            "description_width": ""
          }
        },
        "4a809396dafc4f638f56af47c957c763": {
          "model_module": "@jupyter-widgets/base",
          "model_name": "LayoutModel",
          "model_module_version": "1.2.0",
          "state": {
            "_model_module": "@jupyter-widgets/base",
            "_model_module_version": "1.2.0",
            "_model_name": "LayoutModel",
            "_view_count": null,
            "_view_module": "@jupyter-widgets/base",
            "_view_module_version": "1.2.0",
            "_view_name": "LayoutView",
            "align_content": null,
            "align_items": null,
            "align_self": null,
            "border": null,
            "bottom": null,
            "display": null,
            "flex": null,
            "flex_flow": null,
            "grid_area": null,
            "grid_auto_columns": null,
            "grid_auto_flow": null,
            "grid_auto_rows": null,
            "grid_column": null,
            "grid_gap": null,
            "grid_row": null,
            "grid_template_areas": null,
            "grid_template_columns": null,
            "grid_template_rows": null,
            "height": "28px",
            "justify_content": null,
            "justify_items": null,
            "left": null,
            "margin": null,
            "max_height": null,
            "max_width": null,
            "min_height": null,
            "min_width": null,
            "object_fit": null,
            "object_position": null,
            "order": null,
            "overflow": null,
            "overflow_x": null,
            "overflow_y": null,
            "padding": "0px 0px 0px 4px",
            "right": null,
            "top": null,
            "visibility": null,
            "width": "28px"
          }
        },
        "7a5e474c5cb8486f9c13b0c1b0af2393": {
          "model_module": "@jupyter-widgets/controls",
          "model_name": "DescriptionStyleModel",
          "model_module_version": "1.5.0",
          "state": {
            "_model_module": "@jupyter-widgets/controls",
            "_model_module_version": "1.5.0",
            "_model_name": "DescriptionStyleModel",
            "_view_count": null,
            "_view_module": "@jupyter-widgets/base",
            "_view_module_version": "1.2.0",
            "_view_name": "StyleView",
            "description_width": ""
          }
        },
        "175b0f9776104d79a1ae73df62b51ab4": {
          "model_module": "@jupyter-widgets/base",
          "model_name": "LayoutModel",
          "model_module_version": "1.2.0",
          "state": {
            "_model_module": "@jupyter-widgets/base",
            "_model_module_version": "1.2.0",
            "_model_name": "LayoutModel",
            "_view_count": null,
            "_view_module": "@jupyter-widgets/base",
            "_view_module_version": "1.2.0",
            "_view_name": "LayoutView",
            "align_content": null,
            "align_items": null,
            "align_self": null,
            "border": null,
            "bottom": null,
            "display": null,
            "flex": null,
            "flex_flow": null,
            "grid_area": null,
            "grid_auto_columns": null,
            "grid_auto_flow": null,
            "grid_auto_rows": null,
            "grid_column": null,
            "grid_gap": null,
            "grid_row": null,
            "grid_template_areas": null,
            "grid_template_columns": null,
            "grid_template_rows": null,
            "height": null,
            "justify_content": null,
            "justify_items": null,
            "left": null,
            "margin": null,
            "max_height": null,
            "max_width": null,
            "min_height": null,
            "min_width": null,
            "object_fit": null,
            "object_position": null,
            "order": null,
            "overflow": null,
            "overflow_x": null,
            "overflow_y": null,
            "padding": null,
            "right": null,
            "top": null,
            "visibility": null,
            "width": null
          }
        },
        "281324c7345e4c059f79da453fdd9f8d": {
          "model_module": "@jupyter-widgets/controls",
          "model_name": "HBoxModel",
          "model_module_version": "1.5.0",
          "state": {
            "_dom_classes": [],
            "_model_module": "@jupyter-widgets/controls",
            "_model_module_version": "1.5.0",
            "_model_name": "HBoxModel",
            "_view_count": null,
            "_view_module": "@jupyter-widgets/controls",
            "_view_module_version": "1.5.0",
            "_view_name": "HBoxView",
            "box_style": "",
            "children": [
              "IPY_MODEL_fcf714604da5402eb4ea9bd6ea761b98",
              "IPY_MODEL_44d3f883fe524edaa14972ed0d2da80d"
            ],
            "layout": "IPY_MODEL_175b0f9776104d79a1ae73df62b51ab4"
          }
        },
        "5e43a682b239469db6902b68ed6f31f1": {
          "model_module": "@jupyter-widgets/base",
          "model_name": "LayoutModel",
          "model_module_version": "1.2.0",
          "state": {
            "_model_module": "@jupyter-widgets/base",
            "_model_module_version": "1.2.0",
            "_model_name": "LayoutModel",
            "_view_count": null,
            "_view_module": "@jupyter-widgets/base",
            "_view_module_version": "1.2.0",
            "_view_name": "LayoutView",
            "align_content": null,
            "align_items": null,
            "align_self": null,
            "border": null,
            "bottom": null,
            "display": null,
            "flex": null,
            "flex_flow": null,
            "grid_area": null,
            "grid_auto_columns": null,
            "grid_auto_flow": null,
            "grid_auto_rows": null,
            "grid_column": null,
            "grid_gap": null,
            "grid_row": null,
            "grid_template_areas": null,
            "grid_template_columns": null,
            "grid_template_rows": null,
            "height": null,
            "justify_content": null,
            "justify_items": null,
            "left": null,
            "margin": null,
            "max_height": null,
            "max_width": null,
            "min_height": null,
            "min_width": null,
            "object_fit": null,
            "object_position": null,
            "order": null,
            "overflow": null,
            "overflow_x": null,
            "overflow_y": null,
            "padding": null,
            "right": null,
            "top": null,
            "visibility": null,
            "width": null
          }
        },
        "edc3efb78d0e4dc29bbf87b41ee69503": {
          "model_module": "@jupyter-widgets/controls",
          "model_name": "HBoxModel",
          "model_module_version": "1.5.0",
          "state": {
            "_dom_classes": [],
            "_model_module": "@jupyter-widgets/controls",
            "_model_module_version": "1.5.0",
            "_model_name": "HBoxModel",
            "_view_count": null,
            "_view_module": "@jupyter-widgets/controls",
            "_view_module_version": "1.5.0",
            "_view_name": "HBoxView",
            "box_style": "",
            "children": [
              "IPY_MODEL_fcf714604da5402eb4ea9bd6ea761b98",
              "IPY_MODEL_44d3f883fe524edaa14972ed0d2da80d"
            ],
            "layout": "IPY_MODEL_5e43a682b239469db6902b68ed6f31f1"
          }
        },
        "e7adcbd4fae94b5a8e02d65ecbf686d9": {
          "model_module": "@jupyter-widgets/base",
          "model_name": "LayoutModel",
          "model_module_version": "1.2.0",
          "state": {
            "_model_module": "@jupyter-widgets/base",
            "_model_module_version": "1.2.0",
            "_model_name": "LayoutModel",
            "_view_count": null,
            "_view_module": "@jupyter-widgets/base",
            "_view_module_version": "1.2.0",
            "_view_name": "LayoutView",
            "align_content": null,
            "align_items": null,
            "align_self": null,
            "border": null,
            "bottom": null,
            "display": null,
            "flex": null,
            "flex_flow": null,
            "grid_area": null,
            "grid_auto_columns": null,
            "grid_auto_flow": null,
            "grid_auto_rows": null,
            "grid_column": null,
            "grid_gap": null,
            "grid_row": null,
            "grid_template_areas": null,
            "grid_template_columns": null,
            "grid_template_rows": null,
            "height": null,
            "justify_content": null,
            "justify_items": null,
            "left": null,
            "margin": null,
            "max_height": null,
            "max_width": null,
            "min_height": null,
            "min_width": null,
            "object_fit": null,
            "object_position": null,
            "order": null,
            "overflow": null,
            "overflow_x": null,
            "overflow_y": null,
            "padding": null,
            "right": null,
            "top": null,
            "visibility": null,
            "width": null
          }
        },
        "ab5f7483d0294fdca749dda9da82c022": {
          "model_module": "@jupyter-widgets/controls",
          "model_name": "VBoxModel",
          "model_module_version": "1.5.0",
          "state": {
            "_dom_classes": [],
            "_model_module": "@jupyter-widgets/controls",
            "_model_module_version": "1.5.0",
            "_model_name": "VBoxModel",
            "_view_count": null,
            "_view_module": "@jupyter-widgets/controls",
            "_view_module_version": "1.5.0",
            "_view_name": "VBoxView",
            "box_style": "",
            "children": [
              "IPY_MODEL_edc3efb78d0e4dc29bbf87b41ee69503",
              "IPY_MODEL_4f25ffc587f047cfb8e736dfc58761cd"
            ],
            "layout": "IPY_MODEL_e7adcbd4fae94b5a8e02d65ecbf686d9"
          }
        },
        "ae53d86288884adfbc07f8362391c483": {
          "model_module": "@jupyter-widgets/base",
          "model_name": "LayoutModel",
          "model_module_version": "1.2.0",
          "state": {
            "_model_module": "@jupyter-widgets/base",
            "_model_module_version": "1.2.0",
            "_model_name": "LayoutModel",
            "_view_count": null,
            "_view_module": "@jupyter-widgets/base",
            "_view_module_version": "1.2.0",
            "_view_name": "LayoutView",
            "align_content": null,
            "align_items": null,
            "align_self": null,
            "border": null,
            "bottom": null,
            "display": null,
            "flex": null,
            "flex_flow": null,
            "grid_area": null,
            "grid_auto_columns": null,
            "grid_auto_flow": null,
            "grid_auto_rows": null,
            "grid_column": null,
            "grid_gap": null,
            "grid_row": null,
            "grid_template_areas": null,
            "grid_template_columns": null,
            "grid_template_rows": null,
            "height": null,
            "justify_content": null,
            "justify_items": null,
            "left": null,
            "margin": null,
            "max_height": null,
            "max_width": null,
            "min_height": null,
            "min_width": null,
            "object_fit": null,
            "object_position": null,
            "order": null,
            "overflow": null,
            "overflow_x": null,
            "overflow_y": null,
            "padding": null,
            "right": null,
            "top": null,
            "visibility": null,
            "width": null
          }
        },
        "d74d51cb7dcb433aa9b4f7aa209e3a69": {
          "model_module": "@jupyter-widgets/controls",
          "model_name": "HBoxModel",
          "model_module_version": "1.5.0",
          "state": {
            "_dom_classes": [],
            "_model_module": "@jupyter-widgets/controls",
            "_model_module_version": "1.5.0",
            "_model_name": "HBoxModel",
            "_view_count": null,
            "_view_module": "@jupyter-widgets/controls",
            "_view_module_version": "1.5.0",
            "_view_name": "HBoxView",
            "box_style": "",
            "children": [
              "IPY_MODEL_fcf714604da5402eb4ea9bd6ea761b98",
              "IPY_MODEL_44d3f883fe524edaa14972ed0d2da80d"
            ],
            "layout": "IPY_MODEL_ae53d86288884adfbc07f8362391c483"
          }
        }
      }
    }
  },
  "nbformat_minor": 5,
  "nbformat": 4,
  "cells": [
    {
      "cell_type": "markdown",
      "source": [
        "\n",
        "\n",
        "**Visualizing Maxar Open Data for the 2023 Libya Floods**\n",
        "\n",
        "The [Maxar Open Data Program](https://www.maxar.com/open-data) provides pre- and post-event high-resolution satellite imagery in support of emergency planning, risk assessment, monitoring of staging areas and emergency response, damage assessment, and recovery. Check out the links below for more information.\n",
        "- [Maxar Open Data Program](https://www.maxar.com/open-data)\n",
        "- [Maxar Open Data on STAC Index](https://stacindex.org/catalogs/maxar-open-data-catalog-ard-format#/)\n",
        "- [Maxar Open Data on STAC Browser](https://radiantearth.github.io/stac-browser/#/external/maxar-opendata.s3.amazonaws.com/events/catalog.json?.language=en)\n",
        "- [Maxar Open Data in CSV, GeoJSON, and MosaicJSON formats](https://github.com/giswqs/maxar-open-data)\n",
        "\n",
        "This notebook shows how to visualize and download the Maxar Open Data for the 2023 Libya Floods using leafmap.\n",
        "\n",
        "First, install libraries and import modules."
      ],
      "metadata": {
        "id": "1f34140e-d01f-4041-a541-55c841459040"
      },
      "id": "1f34140e-d01f-4041-a541-55c841459040"
    },
    {
      "cell_type": "code",
      "source": [
        "#!pip install -U leafmap geopandas"
      ],
      "metadata": {
        "colab": {
          "base_uri": "https://localhost:8080/"
        },
        "id": "b21fefd5-f9c5-4adf-8771-f18cc7bf5142",
        "outputId": "53580fa2-0a90-4860-9dec-50fec5df3e6c"
      },
      "execution_count": 1,
      "outputs": [
        {
          "output_type": "stream",
          "name": "stdout",
          "text": [
            "Collecting leafmap\n",
            "  Downloading leafmap-0.25.2-py2.py3-none-any.whl (1.8 MB)\n",
            "\u001b[2K     \u001b[90m━━━━━━━━━━━━━━━━━━━━━━━━━━━━━━━━━━━━━━━━\u001b[0m \u001b[32m1.8/1.8 MB\u001b[0m \u001b[31m9.1 MB/s\u001b[0m eta \u001b[36m0:00:00\u001b[0m\n",
            "\u001b[?25hRequirement already satisfied: geopandas in /usr/local/lib/python3.10/dist-packages (0.13.2)\n",
            "Collecting geopandas\n",
            "  Downloading geopandas-0.14.0-py3-none-any.whl (1.1 MB)\n",
            "\u001b[2K     \u001b[90m━━━━━━━━━━━━━━━━━━━━━━━━━━━━━━━━━━━━━━━━\u001b[0m \u001b[32m1.1/1.1 MB\u001b[0m \u001b[31m15.0 MB/s\u001b[0m eta \u001b[36m0:00:00\u001b[0m\n",
            "\u001b[?25hRequirement already satisfied: bqplot in /usr/local/lib/python3.10/dist-packages (from leafmap) (0.12.40)\n",
            "Requirement already satisfied: colour in /usr/local/lib/python3.10/dist-packages (from leafmap) (0.1.5)\n",
            "Requirement already satisfied: folium in /usr/local/lib/python3.10/dist-packages (from leafmap) (0.14.0)\n",
            "Requirement already satisfied: gdown in /usr/local/lib/python3.10/dist-packages (from leafmap) (4.6.6)\n",
            "Collecting geojson (from leafmap)\n",
            "  Downloading geojson-3.0.1-py3-none-any.whl (15 kB)\n",
            "Requirement already satisfied: ipyevents in /usr/local/lib/python3.10/dist-packages (from leafmap) (2.0.2)\n",
            "Requirement already satisfied: ipyfilechooser in /usr/local/lib/python3.10/dist-packages (from leafmap) (0.6.0)\n",
            "Requirement already satisfied: ipyleaflet in /usr/local/lib/python3.10/dist-packages (from leafmap) (0.17.3)\n",
            "Requirement already satisfied: ipywidgets in /usr/local/lib/python3.10/dist-packages (from leafmap) (7.7.1)\n",
            "Requirement already satisfied: matplotlib in /usr/local/lib/python3.10/dist-packages (from leafmap) (3.7.1)\n",
            "Requirement already satisfied: numpy in /usr/local/lib/python3.10/dist-packages (from leafmap) (1.23.5)\n",
            "Requirement already satisfied: pandas in /usr/local/lib/python3.10/dist-packages (from leafmap) (1.5.3)\n",
            "Requirement already satisfied: pyshp in /usr/local/lib/python3.10/dist-packages (from leafmap) (2.3.1)\n",
            "Collecting pystac-client (from leafmap)\n",
            "  Downloading pystac_client-0.7.5-py3-none-any.whl (33 kB)\n",
            "Requirement already satisfied: python-box in /usr/local/lib/python3.10/dist-packages (from leafmap) (7.1.1)\n",
            "Requirement already satisfied: scooby in /usr/local/lib/python3.10/dist-packages (from leafmap) (0.7.2)\n",
            "Collecting whiteboxgui (from leafmap)\n",
            "  Downloading whiteboxgui-2.3.0-py2.py3-none-any.whl (108 kB)\n",
            "\u001b[2K     \u001b[90m━━━━━━━━━━━━━━━━━━━━━━━━━━━━━━━━━━━━━━━\u001b[0m \u001b[32m108.6/108.6 kB\u001b[0m \u001b[31m9.5 MB/s\u001b[0m eta \u001b[36m0:00:00\u001b[0m\n",
            "\u001b[?25hRequirement already satisfied: xyzservices in /usr/local/lib/python3.10/dist-packages (from leafmap) (2023.7.0)\n",
            "Requirement already satisfied: fiona>=1.8.21 in /usr/local/lib/python3.10/dist-packages (from geopandas) (1.9.4.post1)\n",
            "Requirement already satisfied: packaging in /usr/local/lib/python3.10/dist-packages (from geopandas) (23.1)\n",
            "Requirement already satisfied: pyproj>=3.3.0 in /usr/local/lib/python3.10/dist-packages (from geopandas) (3.6.0)\n",
            "Requirement already satisfied: shapely>=1.8.0 in /usr/local/lib/python3.10/dist-packages (from geopandas) (2.0.1)\n",
            "Requirement already satisfied: attrs>=19.2.0 in /usr/local/lib/python3.10/dist-packages (from fiona>=1.8.21->geopandas) (23.1.0)\n",
            "Requirement already satisfied: certifi in /usr/local/lib/python3.10/dist-packages (from fiona>=1.8.21->geopandas) (2023.7.22)\n",
            "Requirement already satisfied: click~=8.0 in /usr/local/lib/python3.10/dist-packages (from fiona>=1.8.21->geopandas) (8.1.7)\n",
            "Requirement already satisfied: click-plugins>=1.0 in /usr/local/lib/python3.10/dist-packages (from fiona>=1.8.21->geopandas) (1.1.1)\n",
            "Requirement already satisfied: cligj>=0.5 in /usr/local/lib/python3.10/dist-packages (from fiona>=1.8.21->geopandas) (0.7.2)\n",
            "Requirement already satisfied: six in /usr/local/lib/python3.10/dist-packages (from fiona>=1.8.21->geopandas) (1.16.0)\n",
            "Requirement already satisfied: python-dateutil>=2.8.1 in /usr/local/lib/python3.10/dist-packages (from pandas->leafmap) (2.8.2)\n",
            "Requirement already satisfied: pytz>=2020.1 in /usr/local/lib/python3.10/dist-packages (from pandas->leafmap) (2023.3.post1)\n",
            "Requirement already satisfied: traitlets>=4.3.0 in /usr/local/lib/python3.10/dist-packages (from bqplot->leafmap) (5.7.1)\n",
            "Requirement already satisfied: traittypes>=0.0.6 in /usr/local/lib/python3.10/dist-packages (from bqplot->leafmap) (0.2.1)\n",
            "Requirement already satisfied: ipykernel>=4.5.1 in /usr/local/lib/python3.10/dist-packages (from ipywidgets->leafmap) (5.5.6)\n",
            "Requirement already satisfied: ipython-genutils~=0.2.0 in /usr/local/lib/python3.10/dist-packages (from ipywidgets->leafmap) (0.2.0)\n",
            "Requirement already satisfied: widgetsnbextension~=3.6.0 in /usr/local/lib/python3.10/dist-packages (from ipywidgets->leafmap) (3.6.5)\n",
            "Requirement already satisfied: ipython>=4.0.0 in /usr/local/lib/python3.10/dist-packages (from ipywidgets->leafmap) (7.34.0)\n",
            "Requirement already satisfied: jupyterlab-widgets>=1.0.0 in /usr/local/lib/python3.10/dist-packages (from ipywidgets->leafmap) (3.0.8)\n",
            "Requirement already satisfied: branca>=0.6.0 in /usr/local/lib/python3.10/dist-packages (from folium->leafmap) (0.6.0)\n",
            "Requirement already satisfied: jinja2>=2.9 in /usr/local/lib/python3.10/dist-packages (from folium->leafmap) (3.1.2)\n",
            "Requirement already satisfied: requests in /usr/local/lib/python3.10/dist-packages (from folium->leafmap) (2.31.0)\n",
            "Requirement already satisfied: filelock in /usr/local/lib/python3.10/dist-packages (from gdown->leafmap) (3.12.2)\n",
            "Requirement already satisfied: tqdm in /usr/local/lib/python3.10/dist-packages (from gdown->leafmap) (4.66.1)\n",
            "Requirement already satisfied: beautifulsoup4 in /usr/local/lib/python3.10/dist-packages (from gdown->leafmap) (4.11.2)\n",
            "Requirement already satisfied: contourpy>=1.0.1 in /usr/local/lib/python3.10/dist-packages (from matplotlib->leafmap) (1.1.0)\n",
            "Requirement already satisfied: cycler>=0.10 in /usr/local/lib/python3.10/dist-packages (from matplotlib->leafmap) (0.11.0)\n",
            "Requirement already satisfied: fonttools>=4.22.0 in /usr/local/lib/python3.10/dist-packages (from matplotlib->leafmap) (4.42.1)\n",
            "Requirement already satisfied: kiwisolver>=1.0.1 in /usr/local/lib/python3.10/dist-packages (from matplotlib->leafmap) (1.4.5)\n",
            "Requirement already satisfied: pillow>=6.2.0 in /usr/local/lib/python3.10/dist-packages (from matplotlib->leafmap) (9.4.0)\n",
            "Requirement already satisfied: pyparsing>=2.3.1 in /usr/local/lib/python3.10/dist-packages (from matplotlib->leafmap) (3.1.1)\n",
            "Collecting pystac[validation]>=1.8.2 (from pystac-client->leafmap)\n",
            "  Downloading pystac-1.8.3-py3-none-any.whl (175 kB)\n",
            "\u001b[2K     \u001b[90m━━━━━━━━━━━━━━━━━━━━━━━━━━━━━━━━━━━━━━\u001b[0m \u001b[32m175.6/175.6 kB\u001b[0m \u001b[31m11.0 MB/s\u001b[0m eta \u001b[36m0:00:00\u001b[0m\n",
            "\u001b[?25hRequirement already satisfied: ipytree in /usr/local/lib/python3.10/dist-packages (from whiteboxgui->leafmap) (0.2.2)\n",
            "Collecting whitebox (from whiteboxgui->leafmap)\n",
            "  Downloading whitebox-2.3.1-py2.py3-none-any.whl (72 kB)\n",
            "\u001b[2K     \u001b[90m━━━━━━━━━━━━━━━━━━━━━━━━━━━━━━━━━━━━━━━━\u001b[0m \u001b[32m72.1/72.1 kB\u001b[0m \u001b[31m5.8 MB/s\u001b[0m eta \u001b[36m0:00:00\u001b[0m\n",
            "\u001b[?25hRequirement already satisfied: jupyter-client in /usr/local/lib/python3.10/dist-packages (from ipykernel>=4.5.1->ipywidgets->leafmap) (6.1.12)\n",
            "Requirement already satisfied: tornado>=4.2 in /usr/local/lib/python3.10/dist-packages (from ipykernel>=4.5.1->ipywidgets->leafmap) (6.3.2)\n",
            "Requirement already satisfied: setuptools>=18.5 in /usr/local/lib/python3.10/dist-packages (from ipython>=4.0.0->ipywidgets->leafmap) (67.7.2)\n",
            "Collecting jedi>=0.16 (from ipython>=4.0.0->ipywidgets->leafmap)\n",
            "  Downloading jedi-0.19.0-py2.py3-none-any.whl (1.6 MB)\n",
            "\u001b[2K     \u001b[90m━━━━━━━━━━━━━━━━━━━━━━━━━━━━━━━━━━━━━━━━\u001b[0m \u001b[32m1.6/1.6 MB\u001b[0m \u001b[31m17.8 MB/s\u001b[0m eta \u001b[36m0:00:00\u001b[0m\n",
            "\u001b[?25hRequirement already satisfied: decorator in /usr/local/lib/python3.10/dist-packages (from ipython>=4.0.0->ipywidgets->leafmap) (4.4.2)\n",
            "Requirement already satisfied: pickleshare in /usr/local/lib/python3.10/dist-packages (from ipython>=4.0.0->ipywidgets->leafmap) (0.7.5)\n",
            "Requirement already satisfied: prompt-toolkit!=3.0.0,!=3.0.1,<3.1.0,>=2.0.0 in /usr/local/lib/python3.10/dist-packages (from ipython>=4.0.0->ipywidgets->leafmap) (3.0.39)\n",
            "Requirement already satisfied: pygments in /usr/local/lib/python3.10/dist-packages (from ipython>=4.0.0->ipywidgets->leafmap) (2.16.1)\n",
            "Requirement already satisfied: backcall in /usr/local/lib/python3.10/dist-packages (from ipython>=4.0.0->ipywidgets->leafmap) (0.2.0)\n",
            "Requirement already satisfied: matplotlib-inline in /usr/local/lib/python3.10/dist-packages (from ipython>=4.0.0->ipywidgets->leafmap) (0.1.6)\n",
            "Requirement already satisfied: pexpect>4.3 in /usr/local/lib/python3.10/dist-packages (from ipython>=4.0.0->ipywidgets->leafmap) (4.8.0)\n",
            "Requirement already satisfied: MarkupSafe>=2.0 in /usr/local/lib/python3.10/dist-packages (from jinja2>=2.9->folium->leafmap) (2.1.3)\n",
            "Collecting jsonschema<4.18,>=4.0.1 (from pystac[validation]>=1.8.2->pystac-client->leafmap)\n",
            "  Downloading jsonschema-4.17.3-py3-none-any.whl (90 kB)\n",
            "\u001b[2K     \u001b[90m━━━━━━━━━━━━━━━━━━━━━━━━━━━━━━━━━━━━━━━━\u001b[0m \u001b[32m90.4/90.4 kB\u001b[0m \u001b[31m7.7 MB/s\u001b[0m eta \u001b[36m0:00:00\u001b[0m\n",
            "\u001b[?25hRequirement already satisfied: charset-normalizer<4,>=2 in /usr/local/lib/python3.10/dist-packages (from requests->folium->leafmap) (3.2.0)\n",
            "Requirement already satisfied: idna<4,>=2.5 in /usr/local/lib/python3.10/dist-packages (from requests->folium->leafmap) (3.4)\n",
            "Requirement already satisfied: urllib3<3,>=1.21.1 in /usr/local/lib/python3.10/dist-packages (from requests->folium->leafmap) (2.0.4)\n",
            "Requirement already satisfied: notebook>=4.4.1 in /usr/local/lib/python3.10/dist-packages (from widgetsnbextension~=3.6.0->ipywidgets->leafmap) (6.5.5)\n",
            "Requirement already satisfied: soupsieve>1.2 in /usr/local/lib/python3.10/dist-packages (from beautifulsoup4->gdown->leafmap) (2.5)\n",
            "Requirement already satisfied: PySocks!=1.5.7,>=1.5.6 in /usr/local/lib/python3.10/dist-packages (from requests->folium->leafmap) (1.7.1)\n",
            "Requirement already satisfied: parso<0.9.0,>=0.8.3 in /usr/local/lib/python3.10/dist-packages (from jedi>=0.16->ipython>=4.0.0->ipywidgets->leafmap) (0.8.3)\n",
            "Collecting pyrsistent!=0.17.0,!=0.17.1,!=0.17.2,>=0.14.0 (from jsonschema<4.18,>=4.0.1->pystac[validation]>=1.8.2->pystac-client->leafmap)\n",
            "  Downloading pyrsistent-0.19.3-py3-none-any.whl (57 kB)\n",
            "\u001b[2K     \u001b[90m━━━━━━━━━━━━━━━━━━━━━━━━━━━━━━━━━━━━━━━━\u001b[0m \u001b[32m57.5/57.5 kB\u001b[0m \u001b[31m6.0 MB/s\u001b[0m eta \u001b[36m0:00:00\u001b[0m\n",
            "\u001b[?25hRequirement already satisfied: pyzmq<25,>=17 in /usr/local/lib/python3.10/dist-packages (from notebook>=4.4.1->widgetsnbextension~=3.6.0->ipywidgets->leafmap) (23.2.1)\n",
            "Requirement already satisfied: argon2-cffi in /usr/local/lib/python3.10/dist-packages (from notebook>=4.4.1->widgetsnbextension~=3.6.0->ipywidgets->leafmap) (23.1.0)\n",
            "Requirement already satisfied: jupyter-core>=4.6.1 in /usr/local/lib/python3.10/dist-packages (from notebook>=4.4.1->widgetsnbextension~=3.6.0->ipywidgets->leafmap) (5.3.1)\n",
            "Requirement already satisfied: nbformat in /usr/local/lib/python3.10/dist-packages (from notebook>=4.4.1->widgetsnbextension~=3.6.0->ipywidgets->leafmap) (5.9.2)\n",
            "Requirement already satisfied: nbconvert>=5 in /usr/local/lib/python3.10/dist-packages (from notebook>=4.4.1->widgetsnbextension~=3.6.0->ipywidgets->leafmap) (6.5.4)\n",
            "Requirement already satisfied: nest-asyncio>=1.5 in /usr/local/lib/python3.10/dist-packages (from notebook>=4.4.1->widgetsnbextension~=3.6.0->ipywidgets->leafmap) (1.5.7)\n",
            "Requirement already satisfied: Send2Trash>=1.8.0 in /usr/local/lib/python3.10/dist-packages (from notebook>=4.4.1->widgetsnbextension~=3.6.0->ipywidgets->leafmap) (1.8.2)\n",
            "Requirement already satisfied: terminado>=0.8.3 in /usr/local/lib/python3.10/dist-packages (from notebook>=4.4.1->widgetsnbextension~=3.6.0->ipywidgets->leafmap) (0.17.1)\n",
            "Requirement already satisfied: prometheus-client in /usr/local/lib/python3.10/dist-packages (from notebook>=4.4.1->widgetsnbextension~=3.6.0->ipywidgets->leafmap) (0.17.1)\n",
            "Requirement already satisfied: nbclassic>=0.4.7 in /usr/local/lib/python3.10/dist-packages (from notebook>=4.4.1->widgetsnbextension~=3.6.0->ipywidgets->leafmap) (1.0.0)\n",
            "Requirement already satisfied: ptyprocess>=0.5 in /usr/local/lib/python3.10/dist-packages (from pexpect>4.3->ipython>=4.0.0->ipywidgets->leafmap) (0.7.0)\n",
            "Requirement already satisfied: wcwidth in /usr/local/lib/python3.10/dist-packages (from prompt-toolkit!=3.0.0,!=3.0.1,<3.1.0,>=2.0.0->ipython>=4.0.0->ipywidgets->leafmap) (0.2.6)\n",
            "Requirement already satisfied: platformdirs>=2.5 in /usr/local/lib/python3.10/dist-packages (from jupyter-core>=4.6.1->notebook>=4.4.1->widgetsnbextension~=3.6.0->ipywidgets->leafmap) (3.10.0)\n",
            "Requirement already satisfied: jupyter-server>=1.8 in /usr/local/lib/python3.10/dist-packages (from nbclassic>=0.4.7->notebook>=4.4.1->widgetsnbextension~=3.6.0->ipywidgets->leafmap) (1.24.0)\n",
            "Requirement already satisfied: notebook-shim>=0.2.3 in /usr/local/lib/python3.10/dist-packages (from nbclassic>=0.4.7->notebook>=4.4.1->widgetsnbextension~=3.6.0->ipywidgets->leafmap) (0.2.3)\n",
            "Requirement already satisfied: lxml in /usr/local/lib/python3.10/dist-packages (from nbconvert>=5->notebook>=4.4.1->widgetsnbextension~=3.6.0->ipywidgets->leafmap) (4.9.3)\n",
            "Requirement already satisfied: bleach in /usr/local/lib/python3.10/dist-packages (from nbconvert>=5->notebook>=4.4.1->widgetsnbextension~=3.6.0->ipywidgets->leafmap) (6.0.0)\n",
            "Requirement already satisfied: defusedxml in /usr/local/lib/python3.10/dist-packages (from nbconvert>=5->notebook>=4.4.1->widgetsnbextension~=3.6.0->ipywidgets->leafmap) (0.7.1)\n",
            "Requirement already satisfied: entrypoints>=0.2.2 in /usr/local/lib/python3.10/dist-packages (from nbconvert>=5->notebook>=4.4.1->widgetsnbextension~=3.6.0->ipywidgets->leafmap) (0.4)\n",
            "Requirement already satisfied: jupyterlab-pygments in /usr/local/lib/python3.10/dist-packages (from nbconvert>=5->notebook>=4.4.1->widgetsnbextension~=3.6.0->ipywidgets->leafmap) (0.2.2)\n",
            "Requirement already satisfied: mistune<2,>=0.8.1 in /usr/local/lib/python3.10/dist-packages (from nbconvert>=5->notebook>=4.4.1->widgetsnbextension~=3.6.0->ipywidgets->leafmap) (0.8.4)\n",
            "Requirement already satisfied: nbclient>=0.5.0 in /usr/local/lib/python3.10/dist-packages (from nbconvert>=5->notebook>=4.4.1->widgetsnbextension~=3.6.0->ipywidgets->leafmap) (0.8.0)\n",
            "Requirement already satisfied: pandocfilters>=1.4.1 in /usr/local/lib/python3.10/dist-packages (from nbconvert>=5->notebook>=4.4.1->widgetsnbextension~=3.6.0->ipywidgets->leafmap) (1.5.0)\n",
            "Requirement already satisfied: tinycss2 in /usr/local/lib/python3.10/dist-packages (from nbconvert>=5->notebook>=4.4.1->widgetsnbextension~=3.6.0->ipywidgets->leafmap) (1.2.1)\n",
            "Requirement already satisfied: fastjsonschema in /usr/local/lib/python3.10/dist-packages (from nbformat->notebook>=4.4.1->widgetsnbextension~=3.6.0->ipywidgets->leafmap) (2.18.0)\n",
            "Requirement already satisfied: argon2-cffi-bindings in /usr/local/lib/python3.10/dist-packages (from argon2-cffi->notebook>=4.4.1->widgetsnbextension~=3.6.0->ipywidgets->leafmap) (21.2.0)\n",
            "Requirement already satisfied: anyio<4,>=3.1.0 in /usr/local/lib/python3.10/dist-packages (from jupyter-server>=1.8->nbclassic>=0.4.7->notebook>=4.4.1->widgetsnbextension~=3.6.0->ipywidgets->leafmap) (3.7.1)\n",
            "Requirement already satisfied: websocket-client in /usr/local/lib/python3.10/dist-packages (from jupyter-server>=1.8->nbclassic>=0.4.7->notebook>=4.4.1->widgetsnbextension~=3.6.0->ipywidgets->leafmap) (1.6.2)\n",
            "Requirement already satisfied: cffi>=1.0.1 in /usr/local/lib/python3.10/dist-packages (from argon2-cffi-bindings->argon2-cffi->notebook>=4.4.1->widgetsnbextension~=3.6.0->ipywidgets->leafmap) (1.15.1)\n",
            "Requirement already satisfied: webencodings in /usr/local/lib/python3.10/dist-packages (from bleach->nbconvert>=5->notebook>=4.4.1->widgetsnbextension~=3.6.0->ipywidgets->leafmap) (0.5.1)\n",
            "Requirement already satisfied: sniffio>=1.1 in /usr/local/lib/python3.10/dist-packages (from anyio<4,>=3.1.0->jupyter-server>=1.8->nbclassic>=0.4.7->notebook>=4.4.1->widgetsnbextension~=3.6.0->ipywidgets->leafmap) (1.3.0)\n",
            "Requirement already satisfied: exceptiongroup in /usr/local/lib/python3.10/dist-packages (from anyio<4,>=3.1.0->jupyter-server>=1.8->nbclassic>=0.4.7->notebook>=4.4.1->widgetsnbextension~=3.6.0->ipywidgets->leafmap) (1.1.3)\n",
            "Requirement already satisfied: pycparser in /usr/local/lib/python3.10/dist-packages (from cffi>=1.0.1->argon2-cffi-bindings->argon2-cffi->notebook>=4.4.1->widgetsnbextension~=3.6.0->ipywidgets->leafmap) (2.21)\n",
            "Installing collected packages: whitebox, pyrsistent, jedi, geojson, pystac, jsonschema, geopandas, pystac-client, whiteboxgui, leafmap\n",
            "  Attempting uninstall: jsonschema\n",
            "    Found existing installation: jsonschema 4.19.0\n",
            "    Uninstalling jsonschema-4.19.0:\n",
            "      Successfully uninstalled jsonschema-4.19.0\n",
            "  Attempting uninstall: geopandas\n",
            "    Found existing installation: geopandas 0.13.2\n",
            "    Uninstalling geopandas-0.13.2:\n",
            "      Successfully uninstalled geopandas-0.13.2\n",
            "Successfully installed geojson-3.0.1 geopandas-0.14.0 jedi-0.19.0 jsonschema-4.17.3 leafmap-0.25.2 pyrsistent-0.19.3 pystac-1.8.3 pystac-client-0.7.5 whitebox-2.3.1 whiteboxgui-2.3.0\n"
          ]
        }
      ],
      "id": "b21fefd5-f9c5-4adf-8771-f18cc7bf5142"
    },
    {
      "cell_type": "code",
      "source": [
        "import leafmap\n",
        "import geopandas as gpd"
      ],
      "metadata": {
        "id": "640b5879-a7b7-49ad-a382-56e61d19faf1"
      },
      "execution_count": 2,
      "outputs": [],
      "id": "640b5879-a7b7-49ad-a382-56e61d19faf1"
    },
    {
      "cell_type": "markdown",
      "source": [
        "Retrieve all collections from the Maxar Open Data STAC catalog. Each collection represents a single event."
      ],
      "metadata": {
        "id": "f9691d0e-aa97-4863-ba2b-71158b866c60"
      },
      "id": "f9691d0e-aa97-4863-ba2b-71158b866c60"
    },
    {
      "cell_type": "code",
      "source": [
        "leafmap.maxar_collections()"
      ],
      "metadata": {
        "id": "ebf96214-4ca1-4629-bff2-429878f702ff"
      },
      "execution_count": null,
      "outputs": [],
      "id": "ebf96214-4ca1-4629-bff2-429878f702ff"
    },
    {
      "cell_type": "markdown",
      "source": [
        "The collection ID for the 2023 Libya Floods is `Libya-Floods-Sept-2023`. We can get the footprints ([geojson](https://github.com/giswqs/maxar-open-data/blob/master/datasets/Libya-Floods-Sept-2023.geojson), [tsv](https://github.com/giswqs/maxar-open-data/blob/master/datasets/Libya-Floods-Sept-2023.tsv)) of the event from the [Maxar Open Data GitHub repo](https://github.com/giswqs/maxar-open-data):"
      ],
      "metadata": {
        "id": "2f4f2e46-7a79-402a-bda6-64f723eed622"
      },
      "id": "2f4f2e46-7a79-402a-bda6-64f723eed622"
    },
    {
      "cell_type": "code",
      "source": [
        "collection = 'Libya-Floods-Sept-2023'\n",
        "url = leafmap.maxar_collection_url(collection, dtype='geojson')\n",
        "url"
      ],
      "metadata": {
        "colab": {
          "base_uri": "https://localhost:8080/",
          "height": 35
        },
        "id": "5cac4209-d9fe-48db-ac1c-ff7d43eb5c3f",
        "outputId": "dd702623-4cb8-463a-a7af-5be4d334f38b"
      },
      "execution_count": 3,
      "outputs": [
        {
          "output_type": "execute_result",
          "data": {
            "text/plain": [
              "'https://raw.githubusercontent.com/giswqs/maxar-open-data/master/datasets/Libya-Floods-Sept-2023.geojson'"
            ],
            "application/vnd.google.colaboratory.intrinsic+json": {
              "type": "string"
            }
          },
          "metadata": {},
          "execution_count": 3
        }
      ],
      "id": "5cac4209-d9fe-48db-ac1c-ff7d43eb5c3f"
    },
    {
      "cell_type": "markdown",
      "source": [
        "Let's find out how many images are available for the event:"
      ],
      "metadata": {
        "id": "5f8a3fd6-191d-44d8-8aa6-19942e99653f"
      },
      "id": "5f8a3fd6-191d-44d8-8aa6-19942e99653f"
    },
    {
      "cell_type": "code",
      "source": [
        "gdf = gpd.read_file(url)\n",
        "print(f'Total number of images: {len(gdf)}')\n",
        "gdf.head()"
      ],
      "metadata": {
        "colab": {
          "base_uri": "https://localhost:8080/",
          "height": 591
        },
        "id": "84ad7d43-1de9-41a9-9728-862c9e7accb7",
        "outputId": "a987d2b8-6c18-4bd0-f9ab-fa953e856bfd"
      },
      "execution_count": 4,
      "outputs": [
        {
          "output_type": "stream",
          "name": "stdout",
          "text": [
            "Total number of images: 88\n"
          ]
        },
        {
          "output_type": "execute_result",
          "data": {
            "text/plain": [
              "                   datetime platform   gsd ard_metadata_version  \\\n",
              "0 2023-01-22 09:24:17+00:00     WV02  0.47                0.0.1   \n",
              "1 2023-01-22 09:24:17+00:00     WV02  0.47                0.0.1   \n",
              "2 2023-01-22 09:24:17+00:00     WV02  0.47                0.0.1   \n",
              "3 2023-01-22 09:24:17+00:00     WV02  0.47                0.0.1   \n",
              "4 2023-01-22 09:24:17+00:00     WV02  0.47                0.0.1   \n",
              "\n",
              "         catalog_id  utm_zone       quadkey  view:off_nadir  view:azimuth  \\\n",
              "0  10300500D8F96700        34  120200210222             6.8          45.9   \n",
              "1  10300500D8F96700        34  120200210223             6.7          45.0   \n",
              "2  10300500D8F96700        34  120200210232             6.5          42.8   \n",
              "3  10300500D8F96700        34  120200212000             6.9          45.4   \n",
              "4  10300500D8F96700        34  120200212001             6.8          44.3   \n",
              "\n",
              "   view:incidence_angle  view:sun_azimuth  view:sun_elevation  proj:epsg  \\\n",
              "0                  82.3             157.3                34.3      32634   \n",
              "1                  82.4             157.3                34.3      32634   \n",
              "2                  82.7             157.3                34.3      32634   \n",
              "3                  82.3             157.3                34.3      32634   \n",
              "4                  82.4             157.3                34.3      32634   \n",
              "\n",
              "               grid:code                                          proj:bbox  \\\n",
              "0  MXRA-Z34-120200210222  584451.4193005192,3639843.75,585156.25,3640544...   \n",
              "1  MXRA-Z34-120200210223  584843.75,3639843.75,590156.25,3641261.4759275885   \n",
              "2  MXRA-Z34-120200210232  589843.75,3639843.75,593407.3490171629,3641467...   \n",
              "3  MXRA-Z34-120200212000  584283.9775149978,3638225.8946303963,585156.25...   \n",
              "4  MXRA-Z34-120200212001   584843.75,3637880.504079527,590156.25,3640156.25   \n",
              "\n",
              "   tile:data_area  tile:clouds_area  tile:clouds_percent  \\\n",
              "0             0.4               0.0                    0   \n",
              "1             3.9               0.0                    0   \n",
              "2             5.1               0.0                    0   \n",
              "3             1.4               0.0                    0   \n",
              "4            11.2               0.0                    0   \n",
              "\n",
              "                                              visual  \\\n",
              "0  https://maxar-opendata.s3.amazonaws.com/events...   \n",
              "1  https://maxar-opendata.s3.amazonaws.com/events...   \n",
              "2  https://maxar-opendata.s3.amazonaws.com/events...   \n",
              "3  https://maxar-opendata.s3.amazonaws.com/events...   \n",
              "4  https://maxar-opendata.s3.amazonaws.com/events...   \n",
              "\n",
              "                                            geometry  \n",
              "0  POLYGON ((21.91047 32.89346, 21.90294 32.89352...  \n",
              "1  POLYGON ((21.96393 32.89306, 21.90713 32.89349...  \n",
              "2  POLYGON ((21.96059 32.89309, 21.96072 32.90509...  \n",
              "3  POLYGON ((21.91050 32.89628, 21.91033 32.87887...  \n",
              "4  POLYGON ((21.90716 32.89631, 21.92163 32.89620...  "
            ],
            "text/html": [
              "\n",
              "  <div id=\"df-9a8fac01-d4f6-4c27-8d59-d63356f09b0e\" class=\"colab-df-container\">\n",
              "    <div>\n",
              "<style scoped>\n",
              "    .dataframe tbody tr th:only-of-type {\n",
              "        vertical-align: middle;\n",
              "    }\n",
              "\n",
              "    .dataframe tbody tr th {\n",
              "        vertical-align: top;\n",
              "    }\n",
              "\n",
              "    .dataframe thead th {\n",
              "        text-align: right;\n",
              "    }\n",
              "</style>\n",
              "<table border=\"1\" class=\"dataframe\">\n",
              "  <thead>\n",
              "    <tr style=\"text-align: right;\">\n",
              "      <th></th>\n",
              "      <th>datetime</th>\n",
              "      <th>platform</th>\n",
              "      <th>gsd</th>\n",
              "      <th>ard_metadata_version</th>\n",
              "      <th>catalog_id</th>\n",
              "      <th>utm_zone</th>\n",
              "      <th>quadkey</th>\n",
              "      <th>view:off_nadir</th>\n",
              "      <th>view:azimuth</th>\n",
              "      <th>view:incidence_angle</th>\n",
              "      <th>view:sun_azimuth</th>\n",
              "      <th>view:sun_elevation</th>\n",
              "      <th>proj:epsg</th>\n",
              "      <th>grid:code</th>\n",
              "      <th>proj:bbox</th>\n",
              "      <th>tile:data_area</th>\n",
              "      <th>tile:clouds_area</th>\n",
              "      <th>tile:clouds_percent</th>\n",
              "      <th>visual</th>\n",
              "      <th>geometry</th>\n",
              "    </tr>\n",
              "  </thead>\n",
              "  <tbody>\n",
              "    <tr>\n",
              "      <th>0</th>\n",
              "      <td>2023-01-22 09:24:17+00:00</td>\n",
              "      <td>WV02</td>\n",
              "      <td>0.47</td>\n",
              "      <td>0.0.1</td>\n",
              "      <td>10300500D8F96700</td>\n",
              "      <td>34</td>\n",
              "      <td>120200210222</td>\n",
              "      <td>6.8</td>\n",
              "      <td>45.9</td>\n",
              "      <td>82.3</td>\n",
              "      <td>157.3</td>\n",
              "      <td>34.3</td>\n",
              "      <td>32634</td>\n",
              "      <td>MXRA-Z34-120200210222</td>\n",
              "      <td>584451.4193005192,3639843.75,585156.25,3640544...</td>\n",
              "      <td>0.4</td>\n",
              "      <td>0.0</td>\n",
              "      <td>0</td>\n",
              "      <td>https://maxar-opendata.s3.amazonaws.com/events...</td>\n",
              "      <td>POLYGON ((21.91047 32.89346, 21.90294 32.89352...</td>\n",
              "    </tr>\n",
              "    <tr>\n",
              "      <th>1</th>\n",
              "      <td>2023-01-22 09:24:17+00:00</td>\n",
              "      <td>WV02</td>\n",
              "      <td>0.47</td>\n",
              "      <td>0.0.1</td>\n",
              "      <td>10300500D8F96700</td>\n",
              "      <td>34</td>\n",
              "      <td>120200210223</td>\n",
              "      <td>6.7</td>\n",
              "      <td>45.0</td>\n",
              "      <td>82.4</td>\n",
              "      <td>157.3</td>\n",
              "      <td>34.3</td>\n",
              "      <td>32634</td>\n",
              "      <td>MXRA-Z34-120200210223</td>\n",
              "      <td>584843.75,3639843.75,590156.25,3641261.4759275885</td>\n",
              "      <td>3.9</td>\n",
              "      <td>0.0</td>\n",
              "      <td>0</td>\n",
              "      <td>https://maxar-opendata.s3.amazonaws.com/events...</td>\n",
              "      <td>POLYGON ((21.96393 32.89306, 21.90713 32.89349...</td>\n",
              "    </tr>\n",
              "    <tr>\n",
              "      <th>2</th>\n",
              "      <td>2023-01-22 09:24:17+00:00</td>\n",
              "      <td>WV02</td>\n",
              "      <td>0.47</td>\n",
              "      <td>0.0.1</td>\n",
              "      <td>10300500D8F96700</td>\n",
              "      <td>34</td>\n",
              "      <td>120200210232</td>\n",
              "      <td>6.5</td>\n",
              "      <td>42.8</td>\n",
              "      <td>82.7</td>\n",
              "      <td>157.3</td>\n",
              "      <td>34.3</td>\n",
              "      <td>32634</td>\n",
              "      <td>MXRA-Z34-120200210232</td>\n",
              "      <td>589843.75,3639843.75,593407.3490171629,3641467...</td>\n",
              "      <td>5.1</td>\n",
              "      <td>0.0</td>\n",
              "      <td>0</td>\n",
              "      <td>https://maxar-opendata.s3.amazonaws.com/events...</td>\n",
              "      <td>POLYGON ((21.96059 32.89309, 21.96072 32.90509...</td>\n",
              "    </tr>\n",
              "    <tr>\n",
              "      <th>3</th>\n",
              "      <td>2023-01-22 09:24:17+00:00</td>\n",
              "      <td>WV02</td>\n",
              "      <td>0.47</td>\n",
              "      <td>0.0.1</td>\n",
              "      <td>10300500D8F96700</td>\n",
              "      <td>34</td>\n",
              "      <td>120200212000</td>\n",
              "      <td>6.9</td>\n",
              "      <td>45.4</td>\n",
              "      <td>82.3</td>\n",
              "      <td>157.3</td>\n",
              "      <td>34.3</td>\n",
              "      <td>32634</td>\n",
              "      <td>MXRA-Z34-120200212000</td>\n",
              "      <td>584283.9775149978,3638225.8946303963,585156.25...</td>\n",
              "      <td>1.4</td>\n",
              "      <td>0.0</td>\n",
              "      <td>0</td>\n",
              "      <td>https://maxar-opendata.s3.amazonaws.com/events...</td>\n",
              "      <td>POLYGON ((21.91050 32.89628, 21.91033 32.87887...</td>\n",
              "    </tr>\n",
              "    <tr>\n",
              "      <th>4</th>\n",
              "      <td>2023-01-22 09:24:17+00:00</td>\n",
              "      <td>WV02</td>\n",
              "      <td>0.47</td>\n",
              "      <td>0.0.1</td>\n",
              "      <td>10300500D8F96700</td>\n",
              "      <td>34</td>\n",
              "      <td>120200212001</td>\n",
              "      <td>6.8</td>\n",
              "      <td>44.3</td>\n",
              "      <td>82.4</td>\n",
              "      <td>157.3</td>\n",
              "      <td>34.3</td>\n",
              "      <td>32634</td>\n",
              "      <td>MXRA-Z34-120200212001</td>\n",
              "      <td>584843.75,3637880.504079527,590156.25,3640156.25</td>\n",
              "      <td>11.2</td>\n",
              "      <td>0.0</td>\n",
              "      <td>0</td>\n",
              "      <td>https://maxar-opendata.s3.amazonaws.com/events...</td>\n",
              "      <td>POLYGON ((21.90716 32.89631, 21.92163 32.89620...</td>\n",
              "    </tr>\n",
              "  </tbody>\n",
              "</table>\n",
              "</div>\n",
              "    <div class=\"colab-df-buttons\">\n",
              "\n",
              "  <div class=\"colab-df-container\">\n",
              "    <button class=\"colab-df-convert\" onclick=\"convertToInteractive('df-9a8fac01-d4f6-4c27-8d59-d63356f09b0e')\"\n",
              "            title=\"Convert this dataframe to an interactive table.\"\n",
              "            style=\"display:none;\">\n",
              "\n",
              "  <svg xmlns=\"http://www.w3.org/2000/svg\" height=\"24px\" viewBox=\"0 -960 960 960\">\n",
              "    <path d=\"M120-120v-720h720v720H120Zm60-500h600v-160H180v160Zm220 220h160v-160H400v160Zm0 220h160v-160H400v160ZM180-400h160v-160H180v160Zm440 0h160v-160H620v160ZM180-180h160v-160H180v160Zm440 0h160v-160H620v160Z\"/>\n",
              "  </svg>\n",
              "    </button>\n",
              "\n",
              "  <style>\n",
              "    .colab-df-container {\n",
              "      display:flex;\n",
              "      gap: 12px;\n",
              "    }\n",
              "\n",
              "    .colab-df-convert {\n",
              "      background-color: #E8F0FE;\n",
              "      border: none;\n",
              "      border-radius: 50%;\n",
              "      cursor: pointer;\n",
              "      display: none;\n",
              "      fill: #1967D2;\n",
              "      height: 32px;\n",
              "      padding: 0 0 0 0;\n",
              "      width: 32px;\n",
              "    }\n",
              "\n",
              "    .colab-df-convert:hover {\n",
              "      background-color: #E2EBFA;\n",
              "      box-shadow: 0px 1px 2px rgba(60, 64, 67, 0.3), 0px 1px 3px 1px rgba(60, 64, 67, 0.15);\n",
              "      fill: #174EA6;\n",
              "    }\n",
              "\n",
              "    .colab-df-buttons div {\n",
              "      margin-bottom: 4px;\n",
              "    }\n",
              "\n",
              "    [theme=dark] .colab-df-convert {\n",
              "      background-color: #3B4455;\n",
              "      fill: #D2E3FC;\n",
              "    }\n",
              "\n",
              "    [theme=dark] .colab-df-convert:hover {\n",
              "      background-color: #434B5C;\n",
              "      box-shadow: 0px 1px 3px 1px rgba(0, 0, 0, 0.15);\n",
              "      filter: drop-shadow(0px 1px 2px rgba(0, 0, 0, 0.3));\n",
              "      fill: #FFFFFF;\n",
              "    }\n",
              "  </style>\n",
              "\n",
              "    <script>\n",
              "      const buttonEl =\n",
              "        document.querySelector('#df-9a8fac01-d4f6-4c27-8d59-d63356f09b0e button.colab-df-convert');\n",
              "      buttonEl.style.display =\n",
              "        google.colab.kernel.accessAllowed ? 'block' : 'none';\n",
              "\n",
              "      async function convertToInteractive(key) {\n",
              "        const element = document.querySelector('#df-9a8fac01-d4f6-4c27-8d59-d63356f09b0e');\n",
              "        const dataTable =\n",
              "          await google.colab.kernel.invokeFunction('convertToInteractive',\n",
              "                                                    [key], {});\n",
              "        if (!dataTable) return;\n",
              "\n",
              "        const docLinkHtml = 'Like what you see? Visit the ' +\n",
              "          '<a target=\"_blank\" href=https://colab.research.google.com/notebooks/data_table.ipynb>data table notebook</a>'\n",
              "          + ' to learn more about interactive tables.';\n",
              "        element.innerHTML = '';\n",
              "        dataTable['output_type'] = 'display_data';\n",
              "        await google.colab.output.renderOutput(dataTable, element);\n",
              "        const docLink = document.createElement('div');\n",
              "        docLink.innerHTML = docLinkHtml;\n",
              "        element.appendChild(docLink);\n",
              "      }\n",
              "    </script>\n",
              "  </div>\n",
              "\n",
              "\n",
              "<div id=\"df-04566908-4b6a-4733-8c78-8b44a9da0c20\">\n",
              "  <button class=\"colab-df-quickchart\" onclick=\"quickchart('df-04566908-4b6a-4733-8c78-8b44a9da0c20')\"\n",
              "            title=\"Suggest charts.\"\n",
              "            style=\"display:none;\">\n",
              "\n",
              "<svg xmlns=\"http://www.w3.org/2000/svg\" height=\"24px\"viewBox=\"0 0 24 24\"\n",
              "     width=\"24px\">\n",
              "    <g>\n",
              "        <path d=\"M19 3H5c-1.1 0-2 .9-2 2v14c0 1.1.9 2 2 2h14c1.1 0 2-.9 2-2V5c0-1.1-.9-2-2-2zM9 17H7v-7h2v7zm4 0h-2V7h2v10zm4 0h-2v-4h2v4z\"/>\n",
              "    </g>\n",
              "</svg>\n",
              "  </button>\n",
              "\n",
              "<style>\n",
              "  .colab-df-quickchart {\n",
              "      --bg-color: #E8F0FE;\n",
              "      --fill-color: #1967D2;\n",
              "      --hover-bg-color: #E2EBFA;\n",
              "      --hover-fill-color: #174EA6;\n",
              "      --disabled-fill-color: #AAA;\n",
              "      --disabled-bg-color: #DDD;\n",
              "  }\n",
              "\n",
              "  [theme=dark] .colab-df-quickchart {\n",
              "      --bg-color: #3B4455;\n",
              "      --fill-color: #D2E3FC;\n",
              "      --hover-bg-color: #434B5C;\n",
              "      --hover-fill-color: #FFFFFF;\n",
              "      --disabled-bg-color: #3B4455;\n",
              "      --disabled-fill-color: #666;\n",
              "  }\n",
              "\n",
              "  .colab-df-quickchart {\n",
              "    background-color: var(--bg-color);\n",
              "    border: none;\n",
              "    border-radius: 50%;\n",
              "    cursor: pointer;\n",
              "    display: none;\n",
              "    fill: var(--fill-color);\n",
              "    height: 32px;\n",
              "    padding: 0;\n",
              "    width: 32px;\n",
              "  }\n",
              "\n",
              "  .colab-df-quickchart:hover {\n",
              "    background-color: var(--hover-bg-color);\n",
              "    box-shadow: 0 1px 2px rgba(60, 64, 67, 0.3), 0 1px 3px 1px rgba(60, 64, 67, 0.15);\n",
              "    fill: var(--button-hover-fill-color);\n",
              "  }\n",
              "\n",
              "  .colab-df-quickchart-complete:disabled,\n",
              "  .colab-df-quickchart-complete:disabled:hover {\n",
              "    background-color: var(--disabled-bg-color);\n",
              "    fill: var(--disabled-fill-color);\n",
              "    box-shadow: none;\n",
              "  }\n",
              "\n",
              "  .colab-df-spinner {\n",
              "    border: 2px solid var(--fill-color);\n",
              "    border-color: transparent;\n",
              "    border-bottom-color: var(--fill-color);\n",
              "    animation:\n",
              "      spin 1s steps(1) infinite;\n",
              "  }\n",
              "\n",
              "  @keyframes spin {\n",
              "    0% {\n",
              "      border-color: transparent;\n",
              "      border-bottom-color: var(--fill-color);\n",
              "      border-left-color: var(--fill-color);\n",
              "    }\n",
              "    20% {\n",
              "      border-color: transparent;\n",
              "      border-left-color: var(--fill-color);\n",
              "      border-top-color: var(--fill-color);\n",
              "    }\n",
              "    30% {\n",
              "      border-color: transparent;\n",
              "      border-left-color: var(--fill-color);\n",
              "      border-top-color: var(--fill-color);\n",
              "      border-right-color: var(--fill-color);\n",
              "    }\n",
              "    40% {\n",
              "      border-color: transparent;\n",
              "      border-right-color: var(--fill-color);\n",
              "      border-top-color: var(--fill-color);\n",
              "    }\n",
              "    60% {\n",
              "      border-color: transparent;\n",
              "      border-right-color: var(--fill-color);\n",
              "    }\n",
              "    80% {\n",
              "      border-color: transparent;\n",
              "      border-right-color: var(--fill-color);\n",
              "      border-bottom-color: var(--fill-color);\n",
              "    }\n",
              "    90% {\n",
              "      border-color: transparent;\n",
              "      border-bottom-color: var(--fill-color);\n",
              "    }\n",
              "  }\n",
              "</style>\n",
              "\n",
              "  <script>\n",
              "    async function quickchart(key) {\n",
              "      const quickchartButtonEl =\n",
              "        document.querySelector('#' + key + ' button');\n",
              "      quickchartButtonEl.disabled = true;  // To prevent multiple clicks.\n",
              "      quickchartButtonEl.classList.add('colab-df-spinner');\n",
              "      try {\n",
              "        const charts = await google.colab.kernel.invokeFunction(\n",
              "            'suggestCharts', [key], {});\n",
              "      } catch (error) {\n",
              "        console.error('Error during call to suggestCharts:', error);\n",
              "      }\n",
              "      quickchartButtonEl.classList.remove('colab-df-spinner');\n",
              "      quickchartButtonEl.classList.add('colab-df-quickchart-complete');\n",
              "    }\n",
              "    (() => {\n",
              "      let quickchartButtonEl =\n",
              "        document.querySelector('#df-04566908-4b6a-4733-8c78-8b44a9da0c20 button');\n",
              "      quickchartButtonEl.style.display =\n",
              "        google.colab.kernel.accessAllowed ? 'block' : 'none';\n",
              "    })();\n",
              "  </script>\n",
              "</div>\n",
              "    </div>\n",
              "  </div>\n"
            ]
          },
          "metadata": {},
          "execution_count": 4
        }
      ],
      "id": "84ad7d43-1de9-41a9-9728-862c9e7accb7"
    },
    {
      "cell_type": "markdown",
      "source": [
        "Visualize the footprints of the images on the map:"
      ],
      "metadata": {
        "id": "8eb1b2f3-4bd0-4c6c-ba7b-fa241c75a481"
      },
      "id": "8eb1b2f3-4bd0-4c6c-ba7b-fa241c75a481"
    },
    {
      "cell_type": "code",
      "source": [
        "m = leafmap.Map()\n",
        "m.add_gdf(gdf, layer_name='Footprints')\n",
        "m"
      ],
      "metadata": {
        "colab": {
          "base_uri": "https://localhost:8080/",
          "height": 521,
          "referenced_widgets": [
            "5472b4c3f19c4d03b54ffc06236a7aad",
            "2c88a4b23d104e16b0405f64aac4c7ea",
            "490b8d7440b6407bbf89708323d267b8",
            "9dd0c1d71473402a8dd54eca78ac3d56",
            "a428fe5d62544c3893be1d670ac93e3c",
            "54f12d89e9ac445e87849b14a1cca6e8",
            "d7ef8161ae944aa3946fe5503b5dd884",
            "8cf91a67bece404c84c0e6af298aa8fd",
            "0754e57d73f14aa69866bc5696a5fefe",
            "4bb74f1c9a50448fbd822f6dc6ac9ce4",
            "67d043726bcd44e0a7fbe7ef9bdd6abe",
            "2e485f3fefa24087bfe0fb0558d9e022",
            "c23d7d2f5f30455a9a744f6eb2494f41",
            "80bf0f9e18f441f789739b69bd2d1d7a",
            "611e889e90b44fd096fa0956947878a7",
            "b2146dc0f6bd45ceb38ce41420efb710",
            "adaf5cf58561429c9157043ac9444596",
            "3288d00fdb2647df82f199e451169de4",
            "d538edb15ce84e03a6e428a0793fc69c",
            "e9d9d9f169e841e19a500db6af6865e3",
            "b26616d9729542078b7e05f4c5081600",
            "c5d68a47b72941459bfd3036022dc26a",
            "dec64c6c6efa4b8086414b154c6f0f7f",
            "06556a236a5243878e2eac00d48c5ea7",
            "86e87e71ec4c4dd09a07c35088bbd680",
            "d043cc936d844a7c8e6297347dcc1105",
            "33df7ee33a234a898578936870eb613a",
            "bb24179997be4d59b75a46fba08f47ac",
            "0cb876883b9d434987b45d6b1e7c463a",
            "95228a8ab5fc4c9b999a798d2515fe3f",
            "d78708579d4a4880807e8971cede8056",
            "a6380ead6e564086b5395039aa03d1c3",
            "119f380b183f4e5cbb6e6c18117572f2",
            "c930f94430194579b8827746d4d7a2c5"
          ]
        },
        "id": "fdf52f71-fc3f-46f1-9513-e57b55336299",
        "outputId": "9352cecb-0730-4cd0-c593-a3138e3019a1"
      },
      "execution_count": 5,
      "outputs": [
        {
          "output_type": "display_data",
          "data": {
            "text/plain": [
              "Map(center=[20, 0], controls=(ZoomControl(options=['position', 'zoom_in_text', 'zoom_in_title', 'zoom_out_text…"
            ],
            "application/vnd.jupyter.widget-view+json": {
              "version_major": 2,
              "version_minor": 0,
              "model_id": "5472b4c3f19c4d03b54ffc06236a7aad"
            }
          },
          "metadata": {
            "application/vnd.jupyter.widget-view+json": {
              "colab": {
                "custom_widget_manager": {
                  "url": "https://ssl.gstatic.com/colaboratory-static/widgets/colab-cdn-widget-manager/b3e629b1971e1542/manager.min.js"
                }
              }
            }
          }
        }
      ],
      "id": "fdf52f71-fc3f-46f1-9513-e57b55336299"
    },
    {
      "cell_type": "markdown",
      "source": [
        "The Storm started on Sep 6, 11. We can use the `start_date` and `end_date` parameters to filter the images by date. Set `end_date` to `2023-09-14` to get all images captured before the earthquake:"
      ],
      "metadata": {
        "id": "76783f38-155b-45d0-877d-2c120bb7814e"
      },
      "id": "76783f38-155b-45d0-877d-2c120bb7814e"
    },
    {
      "cell_type": "code",
      "source": [
        "pre_gdf = leafmap.maxar_search(collection, end_date='2023-09-14')\n",
        "print(f'Total number of pre-event images: {len(pre_gdf)}')\n",
        "pre_gdf.head()"
      ],
      "metadata": {
        "colab": {
          "base_uri": "https://localhost:8080/",
          "height": 591
        },
        "id": "adf0f443-2503-44d1-80b6-baeddcd5976f",
        "outputId": "e6a3e008-0c86-424e-cbc8-35e80787556d"
      },
      "execution_count": 6,
      "outputs": [
        {
          "output_type": "stream",
          "name": "stdout",
          "text": [
            "Total number of pre-event images: 80\n"
          ]
        },
        {
          "output_type": "execute_result",
          "data": {
            "text/plain": [
              "                   datetime platform   gsd ard_metadata_version  \\\n",
              "0 2023-01-22 09:24:17+00:00     WV02  0.47                0.0.1   \n",
              "1 2023-01-22 09:24:17+00:00     WV02  0.47                0.0.1   \n",
              "2 2023-01-22 09:24:17+00:00     WV02  0.47                0.0.1   \n",
              "3 2023-01-22 09:24:17+00:00     WV02  0.47                0.0.1   \n",
              "4 2023-01-22 09:24:17+00:00     WV02  0.47                0.0.1   \n",
              "\n",
              "         catalog_id  utm_zone       quadkey  view:off_nadir  view:azimuth  \\\n",
              "0  10300500D8F96700        34  120200210222             6.8          45.9   \n",
              "1  10300500D8F96700        34  120200210223             6.7          45.0   \n",
              "2  10300500D8F96700        34  120200210232             6.5          42.8   \n",
              "3  10300500D8F96700        34  120200212000             6.9          45.4   \n",
              "4  10300500D8F96700        34  120200212001             6.8          44.3   \n",
              "\n",
              "   view:incidence_angle  view:sun_azimuth  view:sun_elevation  proj:epsg  \\\n",
              "0                  82.3             157.3                34.3      32634   \n",
              "1                  82.4             157.3                34.3      32634   \n",
              "2                  82.7             157.3                34.3      32634   \n",
              "3                  82.3             157.3                34.3      32634   \n",
              "4                  82.4             157.3                34.3      32634   \n",
              "\n",
              "               grid:code                                          proj:bbox  \\\n",
              "0  MXRA-Z34-120200210222  584451.4193005192,3639843.75,585156.25,3640544...   \n",
              "1  MXRA-Z34-120200210223  584843.75,3639843.75,590156.25,3641261.4759275885   \n",
              "2  MXRA-Z34-120200210232  589843.75,3639843.75,593407.3490171629,3641467...   \n",
              "3  MXRA-Z34-120200212000  584283.9775149978,3638225.8946303963,585156.25...   \n",
              "4  MXRA-Z34-120200212001   584843.75,3637880.504079527,590156.25,3640156.25   \n",
              "\n",
              "   tile:data_area  tile:clouds_area  tile:clouds_percent  \\\n",
              "0             0.4               0.0                    0   \n",
              "1             3.9               0.0                    0   \n",
              "2             5.1               0.0                    0   \n",
              "3             1.4               0.0                    0   \n",
              "4            11.2               0.0                    0   \n",
              "\n",
              "                                              visual  \\\n",
              "0  https://maxar-opendata.s3.amazonaws.com/events...   \n",
              "1  https://maxar-opendata.s3.amazonaws.com/events...   \n",
              "2  https://maxar-opendata.s3.amazonaws.com/events...   \n",
              "3  https://maxar-opendata.s3.amazonaws.com/events...   \n",
              "4  https://maxar-opendata.s3.amazonaws.com/events...   \n",
              "\n",
              "                                            geometry  \n",
              "0  POLYGON ((21.91047 32.89346, 21.90294 32.89352...  \n",
              "1  POLYGON ((21.96393 32.89306, 21.90713 32.89349...  \n",
              "2  POLYGON ((21.96059 32.89309, 21.96072 32.90509...  \n",
              "3  POLYGON ((21.91050 32.89628, 21.91033 32.87887...  \n",
              "4  POLYGON ((21.90716 32.89631, 21.92163 32.89620...  "
            ],
            "text/html": [
              "\n",
              "  <div id=\"df-1135d577-16bf-4610-96bf-24fb211d59cc\" class=\"colab-df-container\">\n",
              "    <div>\n",
              "<style scoped>\n",
              "    .dataframe tbody tr th:only-of-type {\n",
              "        vertical-align: middle;\n",
              "    }\n",
              "\n",
              "    .dataframe tbody tr th {\n",
              "        vertical-align: top;\n",
              "    }\n",
              "\n",
              "    .dataframe thead th {\n",
              "        text-align: right;\n",
              "    }\n",
              "</style>\n",
              "<table border=\"1\" class=\"dataframe\">\n",
              "  <thead>\n",
              "    <tr style=\"text-align: right;\">\n",
              "      <th></th>\n",
              "      <th>datetime</th>\n",
              "      <th>platform</th>\n",
              "      <th>gsd</th>\n",
              "      <th>ard_metadata_version</th>\n",
              "      <th>catalog_id</th>\n",
              "      <th>utm_zone</th>\n",
              "      <th>quadkey</th>\n",
              "      <th>view:off_nadir</th>\n",
              "      <th>view:azimuth</th>\n",
              "      <th>view:incidence_angle</th>\n",
              "      <th>view:sun_azimuth</th>\n",
              "      <th>view:sun_elevation</th>\n",
              "      <th>proj:epsg</th>\n",
              "      <th>grid:code</th>\n",
              "      <th>proj:bbox</th>\n",
              "      <th>tile:data_area</th>\n",
              "      <th>tile:clouds_area</th>\n",
              "      <th>tile:clouds_percent</th>\n",
              "      <th>visual</th>\n",
              "      <th>geometry</th>\n",
              "    </tr>\n",
              "  </thead>\n",
              "  <tbody>\n",
              "    <tr>\n",
              "      <th>0</th>\n",
              "      <td>2023-01-22 09:24:17+00:00</td>\n",
              "      <td>WV02</td>\n",
              "      <td>0.47</td>\n",
              "      <td>0.0.1</td>\n",
              "      <td>10300500D8F96700</td>\n",
              "      <td>34</td>\n",
              "      <td>120200210222</td>\n",
              "      <td>6.8</td>\n",
              "      <td>45.9</td>\n",
              "      <td>82.3</td>\n",
              "      <td>157.3</td>\n",
              "      <td>34.3</td>\n",
              "      <td>32634</td>\n",
              "      <td>MXRA-Z34-120200210222</td>\n",
              "      <td>584451.4193005192,3639843.75,585156.25,3640544...</td>\n",
              "      <td>0.4</td>\n",
              "      <td>0.0</td>\n",
              "      <td>0</td>\n",
              "      <td>https://maxar-opendata.s3.amazonaws.com/events...</td>\n",
              "      <td>POLYGON ((21.91047 32.89346, 21.90294 32.89352...</td>\n",
              "    </tr>\n",
              "    <tr>\n",
              "      <th>1</th>\n",
              "      <td>2023-01-22 09:24:17+00:00</td>\n",
              "      <td>WV02</td>\n",
              "      <td>0.47</td>\n",
              "      <td>0.0.1</td>\n",
              "      <td>10300500D8F96700</td>\n",
              "      <td>34</td>\n",
              "      <td>120200210223</td>\n",
              "      <td>6.7</td>\n",
              "      <td>45.0</td>\n",
              "      <td>82.4</td>\n",
              "      <td>157.3</td>\n",
              "      <td>34.3</td>\n",
              "      <td>32634</td>\n",
              "      <td>MXRA-Z34-120200210223</td>\n",
              "      <td>584843.75,3639843.75,590156.25,3641261.4759275885</td>\n",
              "      <td>3.9</td>\n",
              "      <td>0.0</td>\n",
              "      <td>0</td>\n",
              "      <td>https://maxar-opendata.s3.amazonaws.com/events...</td>\n",
              "      <td>POLYGON ((21.96393 32.89306, 21.90713 32.89349...</td>\n",
              "    </tr>\n",
              "    <tr>\n",
              "      <th>2</th>\n",
              "      <td>2023-01-22 09:24:17+00:00</td>\n",
              "      <td>WV02</td>\n",
              "      <td>0.47</td>\n",
              "      <td>0.0.1</td>\n",
              "      <td>10300500D8F96700</td>\n",
              "      <td>34</td>\n",
              "      <td>120200210232</td>\n",
              "      <td>6.5</td>\n",
              "      <td>42.8</td>\n",
              "      <td>82.7</td>\n",
              "      <td>157.3</td>\n",
              "      <td>34.3</td>\n",
              "      <td>32634</td>\n",
              "      <td>MXRA-Z34-120200210232</td>\n",
              "      <td>589843.75,3639843.75,593407.3490171629,3641467...</td>\n",
              "      <td>5.1</td>\n",
              "      <td>0.0</td>\n",
              "      <td>0</td>\n",
              "      <td>https://maxar-opendata.s3.amazonaws.com/events...</td>\n",
              "      <td>POLYGON ((21.96059 32.89309, 21.96072 32.90509...</td>\n",
              "    </tr>\n",
              "    <tr>\n",
              "      <th>3</th>\n",
              "      <td>2023-01-22 09:24:17+00:00</td>\n",
              "      <td>WV02</td>\n",
              "      <td>0.47</td>\n",
              "      <td>0.0.1</td>\n",
              "      <td>10300500D8F96700</td>\n",
              "      <td>34</td>\n",
              "      <td>120200212000</td>\n",
              "      <td>6.9</td>\n",
              "      <td>45.4</td>\n",
              "      <td>82.3</td>\n",
              "      <td>157.3</td>\n",
              "      <td>34.3</td>\n",
              "      <td>32634</td>\n",
              "      <td>MXRA-Z34-120200212000</td>\n",
              "      <td>584283.9775149978,3638225.8946303963,585156.25...</td>\n",
              "      <td>1.4</td>\n",
              "      <td>0.0</td>\n",
              "      <td>0</td>\n",
              "      <td>https://maxar-opendata.s3.amazonaws.com/events...</td>\n",
              "      <td>POLYGON ((21.91050 32.89628, 21.91033 32.87887...</td>\n",
              "    </tr>\n",
              "    <tr>\n",
              "      <th>4</th>\n",
              "      <td>2023-01-22 09:24:17+00:00</td>\n",
              "      <td>WV02</td>\n",
              "      <td>0.47</td>\n",
              "      <td>0.0.1</td>\n",
              "      <td>10300500D8F96700</td>\n",
              "      <td>34</td>\n",
              "      <td>120200212001</td>\n",
              "      <td>6.8</td>\n",
              "      <td>44.3</td>\n",
              "      <td>82.4</td>\n",
              "      <td>157.3</td>\n",
              "      <td>34.3</td>\n",
              "      <td>32634</td>\n",
              "      <td>MXRA-Z34-120200212001</td>\n",
              "      <td>584843.75,3637880.504079527,590156.25,3640156.25</td>\n",
              "      <td>11.2</td>\n",
              "      <td>0.0</td>\n",
              "      <td>0</td>\n",
              "      <td>https://maxar-opendata.s3.amazonaws.com/events...</td>\n",
              "      <td>POLYGON ((21.90716 32.89631, 21.92163 32.89620...</td>\n",
              "    </tr>\n",
              "  </tbody>\n",
              "</table>\n",
              "</div>\n",
              "    <div class=\"colab-df-buttons\">\n",
              "\n",
              "  <div class=\"colab-df-container\">\n",
              "    <button class=\"colab-df-convert\" onclick=\"convertToInteractive('df-1135d577-16bf-4610-96bf-24fb211d59cc')\"\n",
              "            title=\"Convert this dataframe to an interactive table.\"\n",
              "            style=\"display:none;\">\n",
              "\n",
              "  <svg xmlns=\"http://www.w3.org/2000/svg\" height=\"24px\" viewBox=\"0 -960 960 960\">\n",
              "    <path d=\"M120-120v-720h720v720H120Zm60-500h600v-160H180v160Zm220 220h160v-160H400v160Zm0 220h160v-160H400v160ZM180-400h160v-160H180v160Zm440 0h160v-160H620v160ZM180-180h160v-160H180v160Zm440 0h160v-160H620v160Z\"/>\n",
              "  </svg>\n",
              "    </button>\n",
              "\n",
              "  <style>\n",
              "    .colab-df-container {\n",
              "      display:flex;\n",
              "      gap: 12px;\n",
              "    }\n",
              "\n",
              "    .colab-df-convert {\n",
              "      background-color: #E8F0FE;\n",
              "      border: none;\n",
              "      border-radius: 50%;\n",
              "      cursor: pointer;\n",
              "      display: none;\n",
              "      fill: #1967D2;\n",
              "      height: 32px;\n",
              "      padding: 0 0 0 0;\n",
              "      width: 32px;\n",
              "    }\n",
              "\n",
              "    .colab-df-convert:hover {\n",
              "      background-color: #E2EBFA;\n",
              "      box-shadow: 0px 1px 2px rgba(60, 64, 67, 0.3), 0px 1px 3px 1px rgba(60, 64, 67, 0.15);\n",
              "      fill: #174EA6;\n",
              "    }\n",
              "\n",
              "    .colab-df-buttons div {\n",
              "      margin-bottom: 4px;\n",
              "    }\n",
              "\n",
              "    [theme=dark] .colab-df-convert {\n",
              "      background-color: #3B4455;\n",
              "      fill: #D2E3FC;\n",
              "    }\n",
              "\n",
              "    [theme=dark] .colab-df-convert:hover {\n",
              "      background-color: #434B5C;\n",
              "      box-shadow: 0px 1px 3px 1px rgba(0, 0, 0, 0.15);\n",
              "      filter: drop-shadow(0px 1px 2px rgba(0, 0, 0, 0.3));\n",
              "      fill: #FFFFFF;\n",
              "    }\n",
              "  </style>\n",
              "\n",
              "    <script>\n",
              "      const buttonEl =\n",
              "        document.querySelector('#df-1135d577-16bf-4610-96bf-24fb211d59cc button.colab-df-convert');\n",
              "      buttonEl.style.display =\n",
              "        google.colab.kernel.accessAllowed ? 'block' : 'none';\n",
              "\n",
              "      async function convertToInteractive(key) {\n",
              "        const element = document.querySelector('#df-1135d577-16bf-4610-96bf-24fb211d59cc');\n",
              "        const dataTable =\n",
              "          await google.colab.kernel.invokeFunction('convertToInteractive',\n",
              "                                                    [key], {});\n",
              "        if (!dataTable) return;\n",
              "\n",
              "        const docLinkHtml = 'Like what you see? Visit the ' +\n",
              "          '<a target=\"_blank\" href=https://colab.research.google.com/notebooks/data_table.ipynb>data table notebook</a>'\n",
              "          + ' to learn more about interactive tables.';\n",
              "        element.innerHTML = '';\n",
              "        dataTable['output_type'] = 'display_data';\n",
              "        await google.colab.output.renderOutput(dataTable, element);\n",
              "        const docLink = document.createElement('div');\n",
              "        docLink.innerHTML = docLinkHtml;\n",
              "        element.appendChild(docLink);\n",
              "      }\n",
              "    </script>\n",
              "  </div>\n",
              "\n",
              "\n",
              "<div id=\"df-90c8cbe6-0faf-45df-9988-98f72bd3ef30\">\n",
              "  <button class=\"colab-df-quickchart\" onclick=\"quickchart('df-90c8cbe6-0faf-45df-9988-98f72bd3ef30')\"\n",
              "            title=\"Suggest charts.\"\n",
              "            style=\"display:none;\">\n",
              "\n",
              "<svg xmlns=\"http://www.w3.org/2000/svg\" height=\"24px\"viewBox=\"0 0 24 24\"\n",
              "     width=\"24px\">\n",
              "    <g>\n",
              "        <path d=\"M19 3H5c-1.1 0-2 .9-2 2v14c0 1.1.9 2 2 2h14c1.1 0 2-.9 2-2V5c0-1.1-.9-2-2-2zM9 17H7v-7h2v7zm4 0h-2V7h2v10zm4 0h-2v-4h2v4z\"/>\n",
              "    </g>\n",
              "</svg>\n",
              "  </button>\n",
              "\n",
              "<style>\n",
              "  .colab-df-quickchart {\n",
              "      --bg-color: #E8F0FE;\n",
              "      --fill-color: #1967D2;\n",
              "      --hover-bg-color: #E2EBFA;\n",
              "      --hover-fill-color: #174EA6;\n",
              "      --disabled-fill-color: #AAA;\n",
              "      --disabled-bg-color: #DDD;\n",
              "  }\n",
              "\n",
              "  [theme=dark] .colab-df-quickchart {\n",
              "      --bg-color: #3B4455;\n",
              "      --fill-color: #D2E3FC;\n",
              "      --hover-bg-color: #434B5C;\n",
              "      --hover-fill-color: #FFFFFF;\n",
              "      --disabled-bg-color: #3B4455;\n",
              "      --disabled-fill-color: #666;\n",
              "  }\n",
              "\n",
              "  .colab-df-quickchart {\n",
              "    background-color: var(--bg-color);\n",
              "    border: none;\n",
              "    border-radius: 50%;\n",
              "    cursor: pointer;\n",
              "    display: none;\n",
              "    fill: var(--fill-color);\n",
              "    height: 32px;\n",
              "    padding: 0;\n",
              "    width: 32px;\n",
              "  }\n",
              "\n",
              "  .colab-df-quickchart:hover {\n",
              "    background-color: var(--hover-bg-color);\n",
              "    box-shadow: 0 1px 2px rgba(60, 64, 67, 0.3), 0 1px 3px 1px rgba(60, 64, 67, 0.15);\n",
              "    fill: var(--button-hover-fill-color);\n",
              "  }\n",
              "\n",
              "  .colab-df-quickchart-complete:disabled,\n",
              "  .colab-df-quickchart-complete:disabled:hover {\n",
              "    background-color: var(--disabled-bg-color);\n",
              "    fill: var(--disabled-fill-color);\n",
              "    box-shadow: none;\n",
              "  }\n",
              "\n",
              "  .colab-df-spinner {\n",
              "    border: 2px solid var(--fill-color);\n",
              "    border-color: transparent;\n",
              "    border-bottom-color: var(--fill-color);\n",
              "    animation:\n",
              "      spin 1s steps(1) infinite;\n",
              "  }\n",
              "\n",
              "  @keyframes spin {\n",
              "    0% {\n",
              "      border-color: transparent;\n",
              "      border-bottom-color: var(--fill-color);\n",
              "      border-left-color: var(--fill-color);\n",
              "    }\n",
              "    20% {\n",
              "      border-color: transparent;\n",
              "      border-left-color: var(--fill-color);\n",
              "      border-top-color: var(--fill-color);\n",
              "    }\n",
              "    30% {\n",
              "      border-color: transparent;\n",
              "      border-left-color: var(--fill-color);\n",
              "      border-top-color: var(--fill-color);\n",
              "      border-right-color: var(--fill-color);\n",
              "    }\n",
              "    40% {\n",
              "      border-color: transparent;\n",
              "      border-right-color: var(--fill-color);\n",
              "      border-top-color: var(--fill-color);\n",
              "    }\n",
              "    60% {\n",
              "      border-color: transparent;\n",
              "      border-right-color: var(--fill-color);\n",
              "    }\n",
              "    80% {\n",
              "      border-color: transparent;\n",
              "      border-right-color: var(--fill-color);\n",
              "      border-bottom-color: var(--fill-color);\n",
              "    }\n",
              "    90% {\n",
              "      border-color: transparent;\n",
              "      border-bottom-color: var(--fill-color);\n",
              "    }\n",
              "  }\n",
              "</style>\n",
              "\n",
              "  <script>\n",
              "    async function quickchart(key) {\n",
              "      const quickchartButtonEl =\n",
              "        document.querySelector('#' + key + ' button');\n",
              "      quickchartButtonEl.disabled = true;  // To prevent multiple clicks.\n",
              "      quickchartButtonEl.classList.add('colab-df-spinner');\n",
              "      try {\n",
              "        const charts = await google.colab.kernel.invokeFunction(\n",
              "            'suggestCharts', [key], {});\n",
              "      } catch (error) {\n",
              "        console.error('Error during call to suggestCharts:', error);\n",
              "      }\n",
              "      quickchartButtonEl.classList.remove('colab-df-spinner');\n",
              "      quickchartButtonEl.classList.add('colab-df-quickchart-complete');\n",
              "    }\n",
              "    (() => {\n",
              "      let quickchartButtonEl =\n",
              "        document.querySelector('#df-90c8cbe6-0faf-45df-9988-98f72bd3ef30 button');\n",
              "      quickchartButtonEl.style.display =\n",
              "        google.colab.kernel.accessAllowed ? 'block' : 'none';\n",
              "    })();\n",
              "  </script>\n",
              "</div>\n",
              "    </div>\n",
              "  </div>\n"
            ]
          },
          "metadata": {},
          "execution_count": 6
        }
      ],
      "id": "adf0f443-2503-44d1-80b6-baeddcd5976f"
    },
    {
      "cell_type": "markdown",
      "source": [
        "Set the `start_date` to `2023-09-11` to get all images captured after the floods:"
      ],
      "metadata": {
        "id": "4aad8631-2f4c-4ffa-858f-1974c518e48e"
      },
      "id": "4aad8631-2f4c-4ffa-858f-1974c518e48e"
    },
    {
      "cell_type": "code",
      "source": [
        "post_gdf = leafmap.maxar_search(collection, start_date='2023-02-11')\n",
        "print(f'Total number of post-event images: {len(post_gdf)}')\n",
        "post_gdf.head()"
      ],
      "metadata": {
        "colab": {
          "base_uri": "https://localhost:8080/",
          "height": 591
        },
        "id": "5b45fa6d-c33b-46ba-865a-8882a345e5d1",
        "outputId": "d32485e2-9def-4f77-82fb-a502636e2d71"
      },
      "execution_count": 7,
      "outputs": [
        {
          "output_type": "stream",
          "name": "stdout",
          "text": [
            "Total number of post-event images: 82\n"
          ]
        },
        {
          "output_type": "execute_result",
          "data": {
            "text/plain": [
              "                    datetime platform   gsd ard_metadata_version  \\\n",
              "6  2023-06-29 09:34:21+00:00     GE01  0.42                0.0.1   \n",
              "7  2023-06-29 09:34:21+00:00     GE01  0.42                0.0.1   \n",
              "8  2023-06-29 09:34:22+00:00     GE01  0.42                0.0.1   \n",
              "9  2023-06-29 09:34:22+00:00     GE01  0.42                0.0.1   \n",
              "10 2023-06-29 09:34:22+00:00     GE01  0.42                0.0.1   \n",
              "\n",
              "          catalog_id  utm_zone       quadkey  view:off_nadir  view:azimuth  \\\n",
              "6   1050050059DEBF00        34  031313122322            11.6         316.4   \n",
              "7   1050050059DEBF00        34  031313122323            11.8         314.8   \n",
              "8   1050050059DEBF00        34  031313122231            10.7         313.2   \n",
              "9   1050050059DEBF00        34  031313122302            10.6         308.5   \n",
              "10  1050050059DEBF00        34  031313122303            10.9         307.2   \n",
              "\n",
              "    view:incidence_angle  view:sun_azimuth  view:sun_elevation  proj:epsg  \\\n",
              "6                   77.2             109.7                72.7      32634   \n",
              "7                   76.9             109.7                72.7      32634   \n",
              "8                   78.1             109.8                72.7      32634   \n",
              "9                   78.3             109.8                72.7      32634   \n",
              "10                  77.9             109.8                72.7      32634   \n",
              "\n",
              "                grid:code                                          proj:bbox  \\\n",
              "6   MXRA-Z34-031313122322  360198.5815526425,3364139.2295093657,365156.25...   \n",
              "7   MXRA-Z34-031313122323  364843.75,3364128.2642564904,367093.7801329948...   \n",
              "8   MXRA-Z34-031313122231  358301.37027922046,3365252.655941413,360156.25...   \n",
              "9   MXRA-Z34-031313122302  360369.01160396234,3369843.75,365156.25,337056...   \n",
              "10  MXRA-Z34-031313122303  364843.75,3369843.75,368235.0417189856,3371025...   \n",
              "\n",
              "    tile:data_area  tile:clouds_area  tile:clouds_percent  \\\n",
              "6              4.5               0.0                    0   \n",
              "7              1.5               0.0                    0   \n",
              "8              4.2               0.0                    0   \n",
              "9              1.7               0.0                    0   \n",
              "10             3.1               0.0                    0   \n",
              "\n",
              "                                               visual  \\\n",
              "6   https://maxar-opendata.s3.amazonaws.com/events...   \n",
              "7   https://maxar-opendata.s3.amazonaws.com/events...   \n",
              "8   https://maxar-opendata.s3.amazonaws.com/events...   \n",
              "9   https://maxar-opendata.s3.amazonaws.com/events...   \n",
              "10  https://maxar-opendata.s3.amazonaws.com/events...   \n",
              "\n",
              "                                             geometry  \n",
              "6   POLYGON ((19.59615 30.41092, 19.59628 30.40174...  \n",
              "7   POLYGON ((19.59289 30.41088, 19.61631 30.41113...  \n",
              "8   POLYGON ((19.54409 30.41121, 19.52426 30.44903...  \n",
              "9   POLYGON ((19.59554 30.45321, 19.54574 30.45266...  \n",
              "10  POLYGON ((19.59229 30.45317, 19.59220 30.45927...  "
            ],
            "text/html": [
              "\n",
              "  <div id=\"df-de577065-55bc-4bd5-bc40-2e4dca1548b2\" class=\"colab-df-container\">\n",
              "    <div>\n",
              "<style scoped>\n",
              "    .dataframe tbody tr th:only-of-type {\n",
              "        vertical-align: middle;\n",
              "    }\n",
              "\n",
              "    .dataframe tbody tr th {\n",
              "        vertical-align: top;\n",
              "    }\n",
              "\n",
              "    .dataframe thead th {\n",
              "        text-align: right;\n",
              "    }\n",
              "</style>\n",
              "<table border=\"1\" class=\"dataframe\">\n",
              "  <thead>\n",
              "    <tr style=\"text-align: right;\">\n",
              "      <th></th>\n",
              "      <th>datetime</th>\n",
              "      <th>platform</th>\n",
              "      <th>gsd</th>\n",
              "      <th>ard_metadata_version</th>\n",
              "      <th>catalog_id</th>\n",
              "      <th>utm_zone</th>\n",
              "      <th>quadkey</th>\n",
              "      <th>view:off_nadir</th>\n",
              "      <th>view:azimuth</th>\n",
              "      <th>view:incidence_angle</th>\n",
              "      <th>view:sun_azimuth</th>\n",
              "      <th>view:sun_elevation</th>\n",
              "      <th>proj:epsg</th>\n",
              "      <th>grid:code</th>\n",
              "      <th>proj:bbox</th>\n",
              "      <th>tile:data_area</th>\n",
              "      <th>tile:clouds_area</th>\n",
              "      <th>tile:clouds_percent</th>\n",
              "      <th>visual</th>\n",
              "      <th>geometry</th>\n",
              "    </tr>\n",
              "  </thead>\n",
              "  <tbody>\n",
              "    <tr>\n",
              "      <th>6</th>\n",
              "      <td>2023-06-29 09:34:21+00:00</td>\n",
              "      <td>GE01</td>\n",
              "      <td>0.42</td>\n",
              "      <td>0.0.1</td>\n",
              "      <td>1050050059DEBF00</td>\n",
              "      <td>34</td>\n",
              "      <td>031313122322</td>\n",
              "      <td>11.6</td>\n",
              "      <td>316.4</td>\n",
              "      <td>77.2</td>\n",
              "      <td>109.7</td>\n",
              "      <td>72.7</td>\n",
              "      <td>32634</td>\n",
              "      <td>MXRA-Z34-031313122322</td>\n",
              "      <td>360198.5815526425,3364139.2295093657,365156.25...</td>\n",
              "      <td>4.5</td>\n",
              "      <td>0.0</td>\n",
              "      <td>0</td>\n",
              "      <td>https://maxar-opendata.s3.amazonaws.com/events...</td>\n",
              "      <td>POLYGON ((19.59615 30.41092, 19.59628 30.40174...</td>\n",
              "    </tr>\n",
              "    <tr>\n",
              "      <th>7</th>\n",
              "      <td>2023-06-29 09:34:21+00:00</td>\n",
              "      <td>GE01</td>\n",
              "      <td>0.42</td>\n",
              "      <td>0.0.1</td>\n",
              "      <td>1050050059DEBF00</td>\n",
              "      <td>34</td>\n",
              "      <td>031313122323</td>\n",
              "      <td>11.8</td>\n",
              "      <td>314.8</td>\n",
              "      <td>76.9</td>\n",
              "      <td>109.7</td>\n",
              "      <td>72.7</td>\n",
              "      <td>32634</td>\n",
              "      <td>MXRA-Z34-031313122323</td>\n",
              "      <td>364843.75,3364128.2642564904,367093.7801329948...</td>\n",
              "      <td>1.5</td>\n",
              "      <td>0.0</td>\n",
              "      <td>0</td>\n",
              "      <td>https://maxar-opendata.s3.amazonaws.com/events...</td>\n",
              "      <td>POLYGON ((19.59289 30.41088, 19.61631 30.41113...</td>\n",
              "    </tr>\n",
              "    <tr>\n",
              "      <th>8</th>\n",
              "      <td>2023-06-29 09:34:22+00:00</td>\n",
              "      <td>GE01</td>\n",
              "      <td>0.42</td>\n",
              "      <td>0.0.1</td>\n",
              "      <td>1050050059DEBF00</td>\n",
              "      <td>34</td>\n",
              "      <td>031313122231</td>\n",
              "      <td>10.7</td>\n",
              "      <td>313.2</td>\n",
              "      <td>78.1</td>\n",
              "      <td>109.8</td>\n",
              "      <td>72.7</td>\n",
              "      <td>32634</td>\n",
              "      <td>MXRA-Z34-031313122231</td>\n",
              "      <td>358301.37027922046,3365252.655941413,360156.25...</td>\n",
              "      <td>4.2</td>\n",
              "      <td>0.0</td>\n",
              "      <td>0</td>\n",
              "      <td>https://maxar-opendata.s3.amazonaws.com/events...</td>\n",
              "      <td>POLYGON ((19.54409 30.41121, 19.52426 30.44903...</td>\n",
              "    </tr>\n",
              "    <tr>\n",
              "      <th>9</th>\n",
              "      <td>2023-06-29 09:34:22+00:00</td>\n",
              "      <td>GE01</td>\n",
              "      <td>0.42</td>\n",
              "      <td>0.0.1</td>\n",
              "      <td>1050050059DEBF00</td>\n",
              "      <td>34</td>\n",
              "      <td>031313122302</td>\n",
              "      <td>10.6</td>\n",
              "      <td>308.5</td>\n",
              "      <td>78.3</td>\n",
              "      <td>109.8</td>\n",
              "      <td>72.7</td>\n",
              "      <td>32634</td>\n",
              "      <td>MXRA-Z34-031313122302</td>\n",
              "      <td>360369.01160396234,3369843.75,365156.25,337056...</td>\n",
              "      <td>1.7</td>\n",
              "      <td>0.0</td>\n",
              "      <td>0</td>\n",
              "      <td>https://maxar-opendata.s3.amazonaws.com/events...</td>\n",
              "      <td>POLYGON ((19.59554 30.45321, 19.54574 30.45266...</td>\n",
              "    </tr>\n",
              "    <tr>\n",
              "      <th>10</th>\n",
              "      <td>2023-06-29 09:34:22+00:00</td>\n",
              "      <td>GE01</td>\n",
              "      <td>0.42</td>\n",
              "      <td>0.0.1</td>\n",
              "      <td>1050050059DEBF00</td>\n",
              "      <td>34</td>\n",
              "      <td>031313122303</td>\n",
              "      <td>10.9</td>\n",
              "      <td>307.2</td>\n",
              "      <td>77.9</td>\n",
              "      <td>109.8</td>\n",
              "      <td>72.7</td>\n",
              "      <td>32634</td>\n",
              "      <td>MXRA-Z34-031313122303</td>\n",
              "      <td>364843.75,3369843.75,368235.0417189856,3371025...</td>\n",
              "      <td>3.1</td>\n",
              "      <td>0.0</td>\n",
              "      <td>0</td>\n",
              "      <td>https://maxar-opendata.s3.amazonaws.com/events...</td>\n",
              "      <td>POLYGON ((19.59229 30.45317, 19.59220 30.45927...</td>\n",
              "    </tr>\n",
              "  </tbody>\n",
              "</table>\n",
              "</div>\n",
              "    <div class=\"colab-df-buttons\">\n",
              "\n",
              "  <div class=\"colab-df-container\">\n",
              "    <button class=\"colab-df-convert\" onclick=\"convertToInteractive('df-de577065-55bc-4bd5-bc40-2e4dca1548b2')\"\n",
              "            title=\"Convert this dataframe to an interactive table.\"\n",
              "            style=\"display:none;\">\n",
              "\n",
              "  <svg xmlns=\"http://www.w3.org/2000/svg\" height=\"24px\" viewBox=\"0 -960 960 960\">\n",
              "    <path d=\"M120-120v-720h720v720H120Zm60-500h600v-160H180v160Zm220 220h160v-160H400v160Zm0 220h160v-160H400v160ZM180-400h160v-160H180v160Zm440 0h160v-160H620v160ZM180-180h160v-160H180v160Zm440 0h160v-160H620v160Z\"/>\n",
              "  </svg>\n",
              "    </button>\n",
              "\n",
              "  <style>\n",
              "    .colab-df-container {\n",
              "      display:flex;\n",
              "      gap: 12px;\n",
              "    }\n",
              "\n",
              "    .colab-df-convert {\n",
              "      background-color: #E8F0FE;\n",
              "      border: none;\n",
              "      border-radius: 50%;\n",
              "      cursor: pointer;\n",
              "      display: none;\n",
              "      fill: #1967D2;\n",
              "      height: 32px;\n",
              "      padding: 0 0 0 0;\n",
              "      width: 32px;\n",
              "    }\n",
              "\n",
              "    .colab-df-convert:hover {\n",
              "      background-color: #E2EBFA;\n",
              "      box-shadow: 0px 1px 2px rgba(60, 64, 67, 0.3), 0px 1px 3px 1px rgba(60, 64, 67, 0.15);\n",
              "      fill: #174EA6;\n",
              "    }\n",
              "\n",
              "    .colab-df-buttons div {\n",
              "      margin-bottom: 4px;\n",
              "    }\n",
              "\n",
              "    [theme=dark] .colab-df-convert {\n",
              "      background-color: #3B4455;\n",
              "      fill: #D2E3FC;\n",
              "    }\n",
              "\n",
              "    [theme=dark] .colab-df-convert:hover {\n",
              "      background-color: #434B5C;\n",
              "      box-shadow: 0px 1px 3px 1px rgba(0, 0, 0, 0.15);\n",
              "      filter: drop-shadow(0px 1px 2px rgba(0, 0, 0, 0.3));\n",
              "      fill: #FFFFFF;\n",
              "    }\n",
              "  </style>\n",
              "\n",
              "    <script>\n",
              "      const buttonEl =\n",
              "        document.querySelector('#df-de577065-55bc-4bd5-bc40-2e4dca1548b2 button.colab-df-convert');\n",
              "      buttonEl.style.display =\n",
              "        google.colab.kernel.accessAllowed ? 'block' : 'none';\n",
              "\n",
              "      async function convertToInteractive(key) {\n",
              "        const element = document.querySelector('#df-de577065-55bc-4bd5-bc40-2e4dca1548b2');\n",
              "        const dataTable =\n",
              "          await google.colab.kernel.invokeFunction('convertToInteractive',\n",
              "                                                    [key], {});\n",
              "        if (!dataTable) return;\n",
              "\n",
              "        const docLinkHtml = 'Like what you see? Visit the ' +\n",
              "          '<a target=\"_blank\" href=https://colab.research.google.com/notebooks/data_table.ipynb>data table notebook</a>'\n",
              "          + ' to learn more about interactive tables.';\n",
              "        element.innerHTML = '';\n",
              "        dataTable['output_type'] = 'display_data';\n",
              "        await google.colab.output.renderOutput(dataTable, element);\n",
              "        const docLink = document.createElement('div');\n",
              "        docLink.innerHTML = docLinkHtml;\n",
              "        element.appendChild(docLink);\n",
              "      }\n",
              "    </script>\n",
              "  </div>\n",
              "\n",
              "\n",
              "<div id=\"df-d7cf202e-4325-415b-881d-0697d9f90a88\">\n",
              "  <button class=\"colab-df-quickchart\" onclick=\"quickchart('df-d7cf202e-4325-415b-881d-0697d9f90a88')\"\n",
              "            title=\"Suggest charts.\"\n",
              "            style=\"display:none;\">\n",
              "\n",
              "<svg xmlns=\"http://www.w3.org/2000/svg\" height=\"24px\"viewBox=\"0 0 24 24\"\n",
              "     width=\"24px\">\n",
              "    <g>\n",
              "        <path d=\"M19 3H5c-1.1 0-2 .9-2 2v14c0 1.1.9 2 2 2h14c1.1 0 2-.9 2-2V5c0-1.1-.9-2-2-2zM9 17H7v-7h2v7zm4 0h-2V7h2v10zm4 0h-2v-4h2v4z\"/>\n",
              "    </g>\n",
              "</svg>\n",
              "  </button>\n",
              "\n",
              "<style>\n",
              "  .colab-df-quickchart {\n",
              "      --bg-color: #E8F0FE;\n",
              "      --fill-color: #1967D2;\n",
              "      --hover-bg-color: #E2EBFA;\n",
              "      --hover-fill-color: #174EA6;\n",
              "      --disabled-fill-color: #AAA;\n",
              "      --disabled-bg-color: #DDD;\n",
              "  }\n",
              "\n",
              "  [theme=dark] .colab-df-quickchart {\n",
              "      --bg-color: #3B4455;\n",
              "      --fill-color: #D2E3FC;\n",
              "      --hover-bg-color: #434B5C;\n",
              "      --hover-fill-color: #FFFFFF;\n",
              "      --disabled-bg-color: #3B4455;\n",
              "      --disabled-fill-color: #666;\n",
              "  }\n",
              "\n",
              "  .colab-df-quickchart {\n",
              "    background-color: var(--bg-color);\n",
              "    border: none;\n",
              "    border-radius: 50%;\n",
              "    cursor: pointer;\n",
              "    display: none;\n",
              "    fill: var(--fill-color);\n",
              "    height: 32px;\n",
              "    padding: 0;\n",
              "    width: 32px;\n",
              "  }\n",
              "\n",
              "  .colab-df-quickchart:hover {\n",
              "    background-color: var(--hover-bg-color);\n",
              "    box-shadow: 0 1px 2px rgba(60, 64, 67, 0.3), 0 1px 3px 1px rgba(60, 64, 67, 0.15);\n",
              "    fill: var(--button-hover-fill-color);\n",
              "  }\n",
              "\n",
              "  .colab-df-quickchart-complete:disabled,\n",
              "  .colab-df-quickchart-complete:disabled:hover {\n",
              "    background-color: var(--disabled-bg-color);\n",
              "    fill: var(--disabled-fill-color);\n",
              "    box-shadow: none;\n",
              "  }\n",
              "\n",
              "  .colab-df-spinner {\n",
              "    border: 2px solid var(--fill-color);\n",
              "    border-color: transparent;\n",
              "    border-bottom-color: var(--fill-color);\n",
              "    animation:\n",
              "      spin 1s steps(1) infinite;\n",
              "  }\n",
              "\n",
              "  @keyframes spin {\n",
              "    0% {\n",
              "      border-color: transparent;\n",
              "      border-bottom-color: var(--fill-color);\n",
              "      border-left-color: var(--fill-color);\n",
              "    }\n",
              "    20% {\n",
              "      border-color: transparent;\n",
              "      border-left-color: var(--fill-color);\n",
              "      border-top-color: var(--fill-color);\n",
              "    }\n",
              "    30% {\n",
              "      border-color: transparent;\n",
              "      border-left-color: var(--fill-color);\n",
              "      border-top-color: var(--fill-color);\n",
              "      border-right-color: var(--fill-color);\n",
              "    }\n",
              "    40% {\n",
              "      border-color: transparent;\n",
              "      border-right-color: var(--fill-color);\n",
              "      border-top-color: var(--fill-color);\n",
              "    }\n",
              "    60% {\n",
              "      border-color: transparent;\n",
              "      border-right-color: var(--fill-color);\n",
              "    }\n",
              "    80% {\n",
              "      border-color: transparent;\n",
              "      border-right-color: var(--fill-color);\n",
              "      border-bottom-color: var(--fill-color);\n",
              "    }\n",
              "    90% {\n",
              "      border-color: transparent;\n",
              "      border-bottom-color: var(--fill-color);\n",
              "    }\n",
              "  }\n",
              "</style>\n",
              "\n",
              "  <script>\n",
              "    async function quickchart(key) {\n",
              "      const quickchartButtonEl =\n",
              "        document.querySelector('#' + key + ' button');\n",
              "      quickchartButtonEl.disabled = true;  // To prevent multiple clicks.\n",
              "      quickchartButtonEl.classList.add('colab-df-spinner');\n",
              "      try {\n",
              "        const charts = await google.colab.kernel.invokeFunction(\n",
              "            'suggestCharts', [key], {});\n",
              "      } catch (error) {\n",
              "        console.error('Error during call to suggestCharts:', error);\n",
              "      }\n",
              "      quickchartButtonEl.classList.remove('colab-df-spinner');\n",
              "      quickchartButtonEl.classList.add('colab-df-quickchart-complete');\n",
              "    }\n",
              "    (() => {\n",
              "      let quickchartButtonEl =\n",
              "        document.querySelector('#df-d7cf202e-4325-415b-881d-0697d9f90a88 button');\n",
              "      quickchartButtonEl.style.display =\n",
              "        google.colab.kernel.accessAllowed ? 'block' : 'none';\n",
              "    })();\n",
              "  </script>\n",
              "</div>\n",
              "    </div>\n",
              "  </div>\n"
            ]
          },
          "metadata": {},
          "execution_count": 7
        }
      ],
      "id": "5b45fa6d-c33b-46ba-865a-8882a345e5d1"
    },
    {
      "cell_type": "markdown",
      "source": [
        "Visualize the pre-event and post-event image footprints on the map. The red footprints represent the pre-event images and the blue footprints represent the post-event images:"
      ],
      "metadata": {
        "id": "3c087468-3066-4907-871b-9f3b87c3bf67"
      },
      "id": "3c087468-3066-4907-871b-9f3b87c3bf67"
    },
    {
      "cell_type": "code",
      "source": [
        "m = leafmap.Map()\n",
        "pre_style = {'color': 'red', 'fillColor': 'red', 'opacity': 1, 'fillOpacity': 0.5}\n",
        "m.add_gdf(pre_gdf, layer_name='Pre-event', style=pre_style, info_mode='on_click')\n",
        "m.add_gdf(post_gdf, layer_name='Post-event', info_mode='on_click')\n",
        "m"
      ],
      "metadata": {
        "colab": {
          "base_uri": "https://localhost:8080/",
          "height": 521,
          "referenced_widgets": [
            "885d7773de2f43f3952433d7b4a4c1be",
            "e771cbefd88c402590571cad829aa087",
            "df3937e8acda49918db4cb3c1a01c22b",
            "10c96530f0bb4ac3b04f50644adf2bfa",
            "72ef51010b9a404a9852506faa5d254b",
            "dad9c009f91d4571b1d988809fc37dfb",
            "52122ee948354eb39903ccddeb4ec664",
            "805d3432503144af9dbb4cb5efe3a5b6",
            "676d08091cf64b63b0859c036601f2d8",
            "9af2cb0c03844197af8bd39754e6ce8f",
            "2f271625966042e2af7a4e4d8ea124cd",
            "548e8843f59444038f573b77a3235e7b",
            "8f54fbc625ff442caf44720c2e3c145d",
            "751bdd34d4f9493597737843f5e3cd43",
            "598e3d10d1744f98ac34dbabc5d0ac79",
            "8bc0b69f2ea14c65a41478e5efe1204b",
            "5507ff22c742469991227117d5870ddf",
            "ebb8163420ac46bab9c7a8f38de8a538",
            "d47979ca71cb44f8a23163649c844b0d",
            "1497c73500ba4704bc85b704140f5267",
            "8a26b7ef03cf4faa85eff4346027bd68",
            "4d02e5e87e7f4be99d105a8dde04fed1",
            "56e0d0e0d8d14065b8712abf9cd29d42",
            "ea6112305245457c8c597fbbd26d47b6",
            "4f25ffc587f047cfb8e736dfc58761cd",
            "5cea28bfe8cc48c2894e862cfbcbed0f",
            "8c96dd1ffb0a4303a9dafb0fcab933b4",
            "9f51107f48524b93a51a5c5b859807af",
            "1dedf58b0f24477caf0e1fd5d3f740c4",
            "e9ed8d48c8194aa9a5e60de048da6d74",
            "7a236071dd5c40c2b6ce6816a916f39b",
            "fcf714604da5402eb4ea9bd6ea761b98",
            "44d3f883fe524edaa14972ed0d2da80d",
            "c82393aa3a1f4935b4a8efecf97a40a0",
            "5857bfc7d0bb479c8c86b882e301c8ca",
            "bf21a8cd738142afa7dc325db2d70407",
            "d1b2f7cd55d54d7f92d2ca3065f6e60a",
            "1764c82c389148639ffe0e5128b03360",
            "dd25329475e24f2d90288e1f46c673be",
            "04d3b5ee1c4c496fb312f34884c7626c",
            "c5bf46b8cdfd4983aa5613309e3b508f",
            "93f8d98ab9d14b9e8f9a234e87f63fcf",
            "73f918fb9f0c47a49c9c194ab7889eb0",
            "57b35afa5a8b444681d71e0abf9c2d08",
            "18ade896eded4129b1391dae92b2a0df",
            "13010d952dff4e48ae42d11ead9f21ef",
            "ae09a3eae3774ad4a16ae98adeb1f567",
            "4a809396dafc4f638f56af47c957c763",
            "7a5e474c5cb8486f9c13b0c1b0af2393",
            "175b0f9776104d79a1ae73df62b51ab4",
            "281324c7345e4c059f79da453fdd9f8d",
            "5e43a682b239469db6902b68ed6f31f1",
            "edc3efb78d0e4dc29bbf87b41ee69503",
            "e7adcbd4fae94b5a8e02d65ecbf686d9",
            "ab5f7483d0294fdca749dda9da82c022",
            "ae53d86288884adfbc07f8362391c483",
            "d74d51cb7dcb433aa9b4f7aa209e3a69"
          ]
        },
        "id": "d01b3121-4e0b-4d72-ae13-9ec33192cc20",
        "outputId": "3b976238-a425-44fe-c047-a50cfb3b853b"
      },
      "execution_count": 8,
      "outputs": [
        {
          "output_type": "display_data",
          "data": {
            "text/plain": [
              "Map(center=[20, 0], controls=(ZoomControl(options=['position', 'zoom_in_text', 'zoom_in_title', 'zoom_out_text…"
            ],
            "application/vnd.jupyter.widget-view+json": {
              "version_major": 2,
              "version_minor": 0,
              "model_id": "885d7773de2f43f3952433d7b4a4c1be"
            }
          },
          "metadata": {
            "application/vnd.jupyter.widget-view+json": {
              "colab": {
                "custom_widget_manager": {
                  "url": "https://ssl.gstatic.com/colaboratory-static/widgets/colab-cdn-widget-manager/b3e629b1971e1542/manager.min.js"
                }
              }
            }
          }
        }
      ],
      "id": "d01b3121-4e0b-4d72-ae13-9ec33192cc20"
    },
    {
      "cell_type": "markdown",
      "source": [
        "Use the draw tools to select a region of interest (ROI) and get the bounding box coordinates:"
      ],
      "metadata": {
        "id": "2229cc98-42d8-461e-b9f1-f340df180cb5"
      },
      "id": "2229cc98-42d8-461e-b9f1-f340df180cb5"
    },
    {
      "cell_type": "code",
      "source": [
        "bbox = m.user_roi_bounds()\n",
        "if bbox is None:\n",
        "    bbox = [32.579499, 21.372557, 32.946253, 23.037117]"
      ],
      "metadata": {
        "id": "222ef66d-0b8d-47d9-b5d0-727262238b07"
      },
      "execution_count": 27,
      "outputs": [],
      "id": "222ef66d-0b8d-47d9-b5d0-727262238b07"
    },
    {
      "cell_type": "markdown",
      "source": [
        "Search the Maxar Open Data catalog for images within the ROI before the earthquake:"
      ],
      "metadata": {
        "id": "4729b7b2-d27f-4e45-aecc-670e197aadfd"
      },
      "id": "4729b7b2-d27f-4e45-aecc-670e197aadfd"
    },
    {
      "cell_type": "code",
      "source": [
        "pre_event = leafmap.maxar_search(collection, bbox=bbox, end_date='2023-09-11')\n",
        "pre_event.head()"
      ],
      "metadata": {
        "colab": {
          "base_uri": "https://localhost:8080/",
          "height": 573
        },
        "id": "76a7b1dc-a094-43ae-8bfd-7133794b2573",
        "outputId": "1e16267b-9746-464d-a7c5-c1e289569a48"
      },
      "execution_count": 28,
      "outputs": [
        {
          "output_type": "execute_result",
          "data": {
            "text/plain": [
              "                    datetime platform   gsd ard_metadata_version  \\\n",
              "13 2023-07-01 09:07:41+00:00     GE01  0.46                0.0.1   \n",
              "14 2023-07-01 09:07:41+00:00     GE01  0.46                0.0.1   \n",
              "15 2023-07-01 09:07:41+00:00     GE01  0.46                0.0.1   \n",
              "16 2023-07-01 09:07:41+00:00     GE01  0.46                0.0.1   \n",
              "17 2023-07-01 09:07:41+00:00     GE01  0.46                0.0.1   \n",
              "\n",
              "          catalog_id  utm_zone       quadkey  view:off_nadir  view:azimuth  \\\n",
              "13  105005005ADE7C00        34  120200213111            21.2          88.2   \n",
              "14  105005005ADE7C00        34  120200213113            21.2          87.8   \n",
              "15  105005005ADE7C00        34  120200213131            21.2          86.8   \n",
              "16  105005005ADE7C00        34  120200213133            21.3          85.7   \n",
              "17  105005005ADE7C00        34  120200213311            21.3          85.3   \n",
              "\n",
              "    view:incidence_angle  view:sun_azimuth  view:sun_elevation  proj:epsg  \\\n",
              "13                  66.4             111.3                68.9      32634   \n",
              "14                  66.4             111.3                68.9      32634   \n",
              "15                  66.4             111.3                68.9      32634   \n",
              "16                  66.3             111.3                68.9      32634   \n",
              "17                  66.3             111.3                68.9      32634   \n",
              "\n",
              "                grid:code                                          proj:bbox  \\\n",
              "13  MXRA-Z34-120200213111  654843.75,3634843.75,660156.25,3635646.3623046875   \n",
              "14  MXRA-Z34-120200213113          654843.75,3629843.75,660156.25,3635156.25   \n",
              "15  MXRA-Z34-120200213131          654843.75,3624843.75,660156.25,3630156.25   \n",
              "16  MXRA-Z34-120200213133          654843.75,3619843.75,660156.25,3625156.25   \n",
              "17  MXRA-Z34-120200213311  654843.75,3619034.1186523438,660156.25,3620156.25   \n",
              "\n",
              "    tile:data_area  tile:clouds_area  tile:clouds_percent  \\\n",
              "13             4.0               0.0                    0   \n",
              "14            28.2               0.0                    0   \n",
              "15            28.2               0.0                    0   \n",
              "16            28.2               0.0                    0   \n",
              "17             5.6               0.0                    0   \n",
              "\n",
              "                                               visual  \\\n",
              "13  https://maxar-opendata.s3.amazonaws.com/events...   \n",
              "14  https://maxar-opendata.s3.amazonaws.com/events...   \n",
              "15  https://maxar-opendata.s3.amazonaws.com/events...   \n",
              "16  https://maxar-opendata.s3.amazonaws.com/events...   \n",
              "17  https://maxar-opendata.s3.amazonaws.com/events...   \n",
              "\n",
              "                                             geometry  \n",
              "13  POLYGON ((22.71118 32.84721, 22.71139 32.84721...  \n",
              "14  POLYGON ((22.65457 32.84355, 22.65368 32.79565...  \n",
              "15  POLYGON ((22.65373 32.79847, 22.65284 32.75057...  \n",
              "16  POLYGON ((22.65290 32.75338, 22.65201 32.70548...  \n",
              "17  POLYGON ((22.65206 32.70830, 22.65188 32.69818...  "
            ],
            "text/html": [
              "\n",
              "  <div id=\"df-12265c2a-0861-40da-80d4-f94983ef1dd0\" class=\"colab-df-container\">\n",
              "    <div>\n",
              "<style scoped>\n",
              "    .dataframe tbody tr th:only-of-type {\n",
              "        vertical-align: middle;\n",
              "    }\n",
              "\n",
              "    .dataframe tbody tr th {\n",
              "        vertical-align: top;\n",
              "    }\n",
              "\n",
              "    .dataframe thead th {\n",
              "        text-align: right;\n",
              "    }\n",
              "</style>\n",
              "<table border=\"1\" class=\"dataframe\">\n",
              "  <thead>\n",
              "    <tr style=\"text-align: right;\">\n",
              "      <th></th>\n",
              "      <th>datetime</th>\n",
              "      <th>platform</th>\n",
              "      <th>gsd</th>\n",
              "      <th>ard_metadata_version</th>\n",
              "      <th>catalog_id</th>\n",
              "      <th>utm_zone</th>\n",
              "      <th>quadkey</th>\n",
              "      <th>view:off_nadir</th>\n",
              "      <th>view:azimuth</th>\n",
              "      <th>view:incidence_angle</th>\n",
              "      <th>view:sun_azimuth</th>\n",
              "      <th>view:sun_elevation</th>\n",
              "      <th>proj:epsg</th>\n",
              "      <th>grid:code</th>\n",
              "      <th>proj:bbox</th>\n",
              "      <th>tile:data_area</th>\n",
              "      <th>tile:clouds_area</th>\n",
              "      <th>tile:clouds_percent</th>\n",
              "      <th>visual</th>\n",
              "      <th>geometry</th>\n",
              "    </tr>\n",
              "  </thead>\n",
              "  <tbody>\n",
              "    <tr>\n",
              "      <th>13</th>\n",
              "      <td>2023-07-01 09:07:41+00:00</td>\n",
              "      <td>GE01</td>\n",
              "      <td>0.46</td>\n",
              "      <td>0.0.1</td>\n",
              "      <td>105005005ADE7C00</td>\n",
              "      <td>34</td>\n",
              "      <td>120200213111</td>\n",
              "      <td>21.2</td>\n",
              "      <td>88.2</td>\n",
              "      <td>66.4</td>\n",
              "      <td>111.3</td>\n",
              "      <td>68.9</td>\n",
              "      <td>32634</td>\n",
              "      <td>MXRA-Z34-120200213111</td>\n",
              "      <td>654843.75,3634843.75,660156.25,3635646.3623046875</td>\n",
              "      <td>4.0</td>\n",
              "      <td>0.0</td>\n",
              "      <td>0</td>\n",
              "      <td>https://maxar-opendata.s3.amazonaws.com/events...</td>\n",
              "      <td>POLYGON ((22.71118 32.84721, 22.71139 32.84721...</td>\n",
              "    </tr>\n",
              "    <tr>\n",
              "      <th>14</th>\n",
              "      <td>2023-07-01 09:07:41+00:00</td>\n",
              "      <td>GE01</td>\n",
              "      <td>0.46</td>\n",
              "      <td>0.0.1</td>\n",
              "      <td>105005005ADE7C00</td>\n",
              "      <td>34</td>\n",
              "      <td>120200213113</td>\n",
              "      <td>21.2</td>\n",
              "      <td>87.8</td>\n",
              "      <td>66.4</td>\n",
              "      <td>111.3</td>\n",
              "      <td>68.9</td>\n",
              "      <td>32634</td>\n",
              "      <td>MXRA-Z34-120200213113</td>\n",
              "      <td>654843.75,3629843.75,660156.25,3635156.25</td>\n",
              "      <td>28.2</td>\n",
              "      <td>0.0</td>\n",
              "      <td>0</td>\n",
              "      <td>https://maxar-opendata.s3.amazonaws.com/events...</td>\n",
              "      <td>POLYGON ((22.65457 32.84355, 22.65368 32.79565...</td>\n",
              "    </tr>\n",
              "    <tr>\n",
              "      <th>15</th>\n",
              "      <td>2023-07-01 09:07:41+00:00</td>\n",
              "      <td>GE01</td>\n",
              "      <td>0.46</td>\n",
              "      <td>0.0.1</td>\n",
              "      <td>105005005ADE7C00</td>\n",
              "      <td>34</td>\n",
              "      <td>120200213131</td>\n",
              "      <td>21.2</td>\n",
              "      <td>86.8</td>\n",
              "      <td>66.4</td>\n",
              "      <td>111.3</td>\n",
              "      <td>68.9</td>\n",
              "      <td>32634</td>\n",
              "      <td>MXRA-Z34-120200213131</td>\n",
              "      <td>654843.75,3624843.75,660156.25,3630156.25</td>\n",
              "      <td>28.2</td>\n",
              "      <td>0.0</td>\n",
              "      <td>0</td>\n",
              "      <td>https://maxar-opendata.s3.amazonaws.com/events...</td>\n",
              "      <td>POLYGON ((22.65373 32.79847, 22.65284 32.75057...</td>\n",
              "    </tr>\n",
              "    <tr>\n",
              "      <th>16</th>\n",
              "      <td>2023-07-01 09:07:41+00:00</td>\n",
              "      <td>GE01</td>\n",
              "      <td>0.46</td>\n",
              "      <td>0.0.1</td>\n",
              "      <td>105005005ADE7C00</td>\n",
              "      <td>34</td>\n",
              "      <td>120200213133</td>\n",
              "      <td>21.3</td>\n",
              "      <td>85.7</td>\n",
              "      <td>66.3</td>\n",
              "      <td>111.3</td>\n",
              "      <td>68.9</td>\n",
              "      <td>32634</td>\n",
              "      <td>MXRA-Z34-120200213133</td>\n",
              "      <td>654843.75,3619843.75,660156.25,3625156.25</td>\n",
              "      <td>28.2</td>\n",
              "      <td>0.0</td>\n",
              "      <td>0</td>\n",
              "      <td>https://maxar-opendata.s3.amazonaws.com/events...</td>\n",
              "      <td>POLYGON ((22.65290 32.75338, 22.65201 32.70548...</td>\n",
              "    </tr>\n",
              "    <tr>\n",
              "      <th>17</th>\n",
              "      <td>2023-07-01 09:07:41+00:00</td>\n",
              "      <td>GE01</td>\n",
              "      <td>0.46</td>\n",
              "      <td>0.0.1</td>\n",
              "      <td>105005005ADE7C00</td>\n",
              "      <td>34</td>\n",
              "      <td>120200213311</td>\n",
              "      <td>21.3</td>\n",
              "      <td>85.3</td>\n",
              "      <td>66.3</td>\n",
              "      <td>111.3</td>\n",
              "      <td>68.9</td>\n",
              "      <td>32634</td>\n",
              "      <td>MXRA-Z34-120200213311</td>\n",
              "      <td>654843.75,3619034.1186523438,660156.25,3620156.25</td>\n",
              "      <td>5.6</td>\n",
              "      <td>0.0</td>\n",
              "      <td>0</td>\n",
              "      <td>https://maxar-opendata.s3.amazonaws.com/events...</td>\n",
              "      <td>POLYGON ((22.65206 32.70830, 22.65188 32.69818...</td>\n",
              "    </tr>\n",
              "  </tbody>\n",
              "</table>\n",
              "</div>\n",
              "    <div class=\"colab-df-buttons\">\n",
              "\n",
              "  <div class=\"colab-df-container\">\n",
              "    <button class=\"colab-df-convert\" onclick=\"convertToInteractive('df-12265c2a-0861-40da-80d4-f94983ef1dd0')\"\n",
              "            title=\"Convert this dataframe to an interactive table.\"\n",
              "            style=\"display:none;\">\n",
              "\n",
              "  <svg xmlns=\"http://www.w3.org/2000/svg\" height=\"24px\" viewBox=\"0 -960 960 960\">\n",
              "    <path d=\"M120-120v-720h720v720H120Zm60-500h600v-160H180v160Zm220 220h160v-160H400v160Zm0 220h160v-160H400v160ZM180-400h160v-160H180v160Zm440 0h160v-160H620v160ZM180-180h160v-160H180v160Zm440 0h160v-160H620v160Z\"/>\n",
              "  </svg>\n",
              "    </button>\n",
              "\n",
              "  <style>\n",
              "    .colab-df-container {\n",
              "      display:flex;\n",
              "      gap: 12px;\n",
              "    }\n",
              "\n",
              "    .colab-df-convert {\n",
              "      background-color: #E8F0FE;\n",
              "      border: none;\n",
              "      border-radius: 50%;\n",
              "      cursor: pointer;\n",
              "      display: none;\n",
              "      fill: #1967D2;\n",
              "      height: 32px;\n",
              "      padding: 0 0 0 0;\n",
              "      width: 32px;\n",
              "    }\n",
              "\n",
              "    .colab-df-convert:hover {\n",
              "      background-color: #E2EBFA;\n",
              "      box-shadow: 0px 1px 2px rgba(60, 64, 67, 0.3), 0px 1px 3px 1px rgba(60, 64, 67, 0.15);\n",
              "      fill: #174EA6;\n",
              "    }\n",
              "\n",
              "    .colab-df-buttons div {\n",
              "      margin-bottom: 4px;\n",
              "    }\n",
              "\n",
              "    [theme=dark] .colab-df-convert {\n",
              "      background-color: #3B4455;\n",
              "      fill: #D2E3FC;\n",
              "    }\n",
              "\n",
              "    [theme=dark] .colab-df-convert:hover {\n",
              "      background-color: #434B5C;\n",
              "      box-shadow: 0px 1px 3px 1px rgba(0, 0, 0, 0.15);\n",
              "      filter: drop-shadow(0px 1px 2px rgba(0, 0, 0, 0.3));\n",
              "      fill: #FFFFFF;\n",
              "    }\n",
              "  </style>\n",
              "\n",
              "    <script>\n",
              "      const buttonEl =\n",
              "        document.querySelector('#df-12265c2a-0861-40da-80d4-f94983ef1dd0 button.colab-df-convert');\n",
              "      buttonEl.style.display =\n",
              "        google.colab.kernel.accessAllowed ? 'block' : 'none';\n",
              "\n",
              "      async function convertToInteractive(key) {\n",
              "        const element = document.querySelector('#df-12265c2a-0861-40da-80d4-f94983ef1dd0');\n",
              "        const dataTable =\n",
              "          await google.colab.kernel.invokeFunction('convertToInteractive',\n",
              "                                                    [key], {});\n",
              "        if (!dataTable) return;\n",
              "\n",
              "        const docLinkHtml = 'Like what you see? Visit the ' +\n",
              "          '<a target=\"_blank\" href=https://colab.research.google.com/notebooks/data_table.ipynb>data table notebook</a>'\n",
              "          + ' to learn more about interactive tables.';\n",
              "        element.innerHTML = '';\n",
              "        dataTable['output_type'] = 'display_data';\n",
              "        await google.colab.output.renderOutput(dataTable, element);\n",
              "        const docLink = document.createElement('div');\n",
              "        docLink.innerHTML = docLinkHtml;\n",
              "        element.appendChild(docLink);\n",
              "      }\n",
              "    </script>\n",
              "  </div>\n",
              "\n",
              "\n",
              "<div id=\"df-97c1eacf-4abd-46ec-8e35-f1dea401f7da\">\n",
              "  <button class=\"colab-df-quickchart\" onclick=\"quickchart('df-97c1eacf-4abd-46ec-8e35-f1dea401f7da')\"\n",
              "            title=\"Suggest charts.\"\n",
              "            style=\"display:none;\">\n",
              "\n",
              "<svg xmlns=\"http://www.w3.org/2000/svg\" height=\"24px\"viewBox=\"0 0 24 24\"\n",
              "     width=\"24px\">\n",
              "    <g>\n",
              "        <path d=\"M19 3H5c-1.1 0-2 .9-2 2v14c0 1.1.9 2 2 2h14c1.1 0 2-.9 2-2V5c0-1.1-.9-2-2-2zM9 17H7v-7h2v7zm4 0h-2V7h2v10zm4 0h-2v-4h2v4z\"/>\n",
              "    </g>\n",
              "</svg>\n",
              "  </button>\n",
              "\n",
              "<style>\n",
              "  .colab-df-quickchart {\n",
              "      --bg-color: #E8F0FE;\n",
              "      --fill-color: #1967D2;\n",
              "      --hover-bg-color: #E2EBFA;\n",
              "      --hover-fill-color: #174EA6;\n",
              "      --disabled-fill-color: #AAA;\n",
              "      --disabled-bg-color: #DDD;\n",
              "  }\n",
              "\n",
              "  [theme=dark] .colab-df-quickchart {\n",
              "      --bg-color: #3B4455;\n",
              "      --fill-color: #D2E3FC;\n",
              "      --hover-bg-color: #434B5C;\n",
              "      --hover-fill-color: #FFFFFF;\n",
              "      --disabled-bg-color: #3B4455;\n",
              "      --disabled-fill-color: #666;\n",
              "  }\n",
              "\n",
              "  .colab-df-quickchart {\n",
              "    background-color: var(--bg-color);\n",
              "    border: none;\n",
              "    border-radius: 50%;\n",
              "    cursor: pointer;\n",
              "    display: none;\n",
              "    fill: var(--fill-color);\n",
              "    height: 32px;\n",
              "    padding: 0;\n",
              "    width: 32px;\n",
              "  }\n",
              "\n",
              "  .colab-df-quickchart:hover {\n",
              "    background-color: var(--hover-bg-color);\n",
              "    box-shadow: 0 1px 2px rgba(60, 64, 67, 0.3), 0 1px 3px 1px rgba(60, 64, 67, 0.15);\n",
              "    fill: var(--button-hover-fill-color);\n",
              "  }\n",
              "\n",
              "  .colab-df-quickchart-complete:disabled,\n",
              "  .colab-df-quickchart-complete:disabled:hover {\n",
              "    background-color: var(--disabled-bg-color);\n",
              "    fill: var(--disabled-fill-color);\n",
              "    box-shadow: none;\n",
              "  }\n",
              "\n",
              "  .colab-df-spinner {\n",
              "    border: 2px solid var(--fill-color);\n",
              "    border-color: transparent;\n",
              "    border-bottom-color: var(--fill-color);\n",
              "    animation:\n",
              "      spin 1s steps(1) infinite;\n",
              "  }\n",
              "\n",
              "  @keyframes spin {\n",
              "    0% {\n",
              "      border-color: transparent;\n",
              "      border-bottom-color: var(--fill-color);\n",
              "      border-left-color: var(--fill-color);\n",
              "    }\n",
              "    20% {\n",
              "      border-color: transparent;\n",
              "      border-left-color: var(--fill-color);\n",
              "      border-top-color: var(--fill-color);\n",
              "    }\n",
              "    30% {\n",
              "      border-color: transparent;\n",
              "      border-left-color: var(--fill-color);\n",
              "      border-top-color: var(--fill-color);\n",
              "      border-right-color: var(--fill-color);\n",
              "    }\n",
              "    40% {\n",
              "      border-color: transparent;\n",
              "      border-right-color: var(--fill-color);\n",
              "      border-top-color: var(--fill-color);\n",
              "    }\n",
              "    60% {\n",
              "      border-color: transparent;\n",
              "      border-right-color: var(--fill-color);\n",
              "    }\n",
              "    80% {\n",
              "      border-color: transparent;\n",
              "      border-right-color: var(--fill-color);\n",
              "      border-bottom-color: var(--fill-color);\n",
              "    }\n",
              "    90% {\n",
              "      border-color: transparent;\n",
              "      border-bottom-color: var(--fill-color);\n",
              "    }\n",
              "  }\n",
              "</style>\n",
              "\n",
              "  <script>\n",
              "    async function quickchart(key) {\n",
              "      const quickchartButtonEl =\n",
              "        document.querySelector('#' + key + ' button');\n",
              "      quickchartButtonEl.disabled = true;  // To prevent multiple clicks.\n",
              "      quickchartButtonEl.classList.add('colab-df-spinner');\n",
              "      try {\n",
              "        const charts = await google.colab.kernel.invokeFunction(\n",
              "            'suggestCharts', [key], {});\n",
              "      } catch (error) {\n",
              "        console.error('Error during call to suggestCharts:', error);\n",
              "      }\n",
              "      quickchartButtonEl.classList.remove('colab-df-spinner');\n",
              "      quickchartButtonEl.classList.add('colab-df-quickchart-complete');\n",
              "    }\n",
              "    (() => {\n",
              "      let quickchartButtonEl =\n",
              "        document.querySelector('#df-97c1eacf-4abd-46ec-8e35-f1dea401f7da button');\n",
              "      quickchartButtonEl.style.display =\n",
              "        google.colab.kernel.accessAllowed ? 'block' : 'none';\n",
              "    })();\n",
              "  </script>\n",
              "</div>\n",
              "    </div>\n",
              "  </div>\n"
            ]
          },
          "metadata": {},
          "execution_count": 28
        }
      ],
      "id": "76a7b1dc-a094-43ae-8bfd-7133794b2573"
    },
    {
      "cell_type": "markdown",
      "source": [
        "Search the Maxar Open Data catalog for images within the ROI after the earthquake:"
      ],
      "metadata": {
        "id": "35038e88-3a8e-4d9a-85a2-9bee93b728f1"
      },
      "id": "35038e88-3a8e-4d9a-85a2-9bee93b728f1"
    },
    {
      "cell_type": "code",
      "source": [
        "post_event = leafmap.maxar_search(collection, bbox=bbox, start_date='2023-09-11')\n",
        "post_event.head()\n"
      ],
      "metadata": {
        "colab": {
          "base_uri": "https://localhost:8080/",
          "height": 573
        },
        "id": "bcf972c7-eff2-4260-9afb-5fd11adf4b1f",
        "outputId": "683a230d-3d13-4f83-e1d5-9b9117539293"
      },
      "execution_count": 29,
      "outputs": [
        {
          "output_type": "execute_result",
          "data": {
            "text/plain": [
              "                    datetime platform   gsd ard_metadata_version  \\\n",
              "44 2023-09-13 09:18:06+00:00     GE01  0.42                0.0.1   \n",
              "45 2023-09-13 09:18:07+00:00     GE01  0.42                0.0.1   \n",
              "46 2023-09-13 09:18:07+00:00     GE01  0.42                0.0.1   \n",
              "47 2023-09-13 09:18:07+00:00     GE01  0.42                0.0.1   \n",
              "48 2023-09-13 09:18:07+00:00     GE01  0.42                0.0.1   \n",
              "\n",
              "          catalog_id  utm_zone       quadkey  view:off_nadir  view:azimuth  \\\n",
              "44  10500100363D0900        34  120200213310             7.5           7.2   \n",
              "45  10500100363D0900        34  120200213122             7.1          11.1   \n",
              "46  10500100363D0900        34  120200213123             7.1          10.3   \n",
              "47  10500100363D0900        34  120200213132             7.0           7.1   \n",
              "48  10500100363D0900        34  120200213133             7.0           3.8   \n",
              "\n",
              "    view:incidence_angle  view:sun_azimuth  view:sun_elevation  proj:epsg  \\\n",
              "44                  81.7             147.7                57.2      32634   \n",
              "45                  82.1             147.7                57.2      32634   \n",
              "46                  82.1             147.7                57.2      32634   \n",
              "47                  82.2             147.7                57.2      32634   \n",
              "48                  82.2             147.7                57.2      32634   \n",
              "\n",
              "                grid:code                                          proj:bbox  \\\n",
              "44  MXRA-Z34-120200213310  649843.75,3618976.7456054688,655156.25,3620156.25   \n",
              "45  MXRA-Z34-120200213122      644912.109375,3619843.75,645156.25,3625156.25   \n",
              "46  MXRA-Z34-120200213123      644912.109375,3619843.75,650156.25,3625156.25   \n",
              "47  MXRA-Z34-120200213132          649843.75,3619843.75,655156.25,3625156.25   \n",
              "48  MXRA-Z34-120200213133          654843.75,3619843.75,660156.25,3625156.25   \n",
              "\n",
              "    tile:data_area  tile:clouds_area  tile:clouds_percent  \\\n",
              "44             6.0               0.8                   14   \n",
              "45             1.1               0.0                    4   \n",
              "46            27.6               1.6                    5   \n",
              "47            28.2               1.6                    5   \n",
              "48            28.2               0.1                    0   \n",
              "\n",
              "                                               visual  \\\n",
              "44  https://maxar-opendata.s3.amazonaws.com/events...   \n",
              "45  https://maxar-opendata.s3.amazonaws.com/events...   \n",
              "46  https://maxar-opendata.s3.amazonaws.com/events...   \n",
              "47  https://maxar-opendata.s3.amazonaws.com/events...   \n",
              "48  https://maxar-opendata.s3.amazonaws.com/events...   \n",
              "\n",
              "                                             geometry  \n",
              "44  POLYGON ((22.59874 32.70899, 22.59855 32.69836...  \n",
              "45  POLYGON ((22.54691 32.75474, 22.54693 32.75136...  \n",
              "46  POLYGON ((22.54691 32.75474, 22.54679 32.70682...  \n",
              "47  POLYGON ((22.59954 32.75408, 22.59869 32.70617...  \n",
              "48  POLYGON ((22.65290 32.75338, 22.65201 32.70548...  "
            ],
            "text/html": [
              "\n",
              "  <div id=\"df-79db6004-f735-40e6-83c4-a7d81ec1c8c9\" class=\"colab-df-container\">\n",
              "    <div>\n",
              "<style scoped>\n",
              "    .dataframe tbody tr th:only-of-type {\n",
              "        vertical-align: middle;\n",
              "    }\n",
              "\n",
              "    .dataframe tbody tr th {\n",
              "        vertical-align: top;\n",
              "    }\n",
              "\n",
              "    .dataframe thead th {\n",
              "        text-align: right;\n",
              "    }\n",
              "</style>\n",
              "<table border=\"1\" class=\"dataframe\">\n",
              "  <thead>\n",
              "    <tr style=\"text-align: right;\">\n",
              "      <th></th>\n",
              "      <th>datetime</th>\n",
              "      <th>platform</th>\n",
              "      <th>gsd</th>\n",
              "      <th>ard_metadata_version</th>\n",
              "      <th>catalog_id</th>\n",
              "      <th>utm_zone</th>\n",
              "      <th>quadkey</th>\n",
              "      <th>view:off_nadir</th>\n",
              "      <th>view:azimuth</th>\n",
              "      <th>view:incidence_angle</th>\n",
              "      <th>view:sun_azimuth</th>\n",
              "      <th>view:sun_elevation</th>\n",
              "      <th>proj:epsg</th>\n",
              "      <th>grid:code</th>\n",
              "      <th>proj:bbox</th>\n",
              "      <th>tile:data_area</th>\n",
              "      <th>tile:clouds_area</th>\n",
              "      <th>tile:clouds_percent</th>\n",
              "      <th>visual</th>\n",
              "      <th>geometry</th>\n",
              "    </tr>\n",
              "  </thead>\n",
              "  <tbody>\n",
              "    <tr>\n",
              "      <th>44</th>\n",
              "      <td>2023-09-13 09:18:06+00:00</td>\n",
              "      <td>GE01</td>\n",
              "      <td>0.42</td>\n",
              "      <td>0.0.1</td>\n",
              "      <td>10500100363D0900</td>\n",
              "      <td>34</td>\n",
              "      <td>120200213310</td>\n",
              "      <td>7.5</td>\n",
              "      <td>7.2</td>\n",
              "      <td>81.7</td>\n",
              "      <td>147.7</td>\n",
              "      <td>57.2</td>\n",
              "      <td>32634</td>\n",
              "      <td>MXRA-Z34-120200213310</td>\n",
              "      <td>649843.75,3618976.7456054688,655156.25,3620156.25</td>\n",
              "      <td>6.0</td>\n",
              "      <td>0.8</td>\n",
              "      <td>14</td>\n",
              "      <td>https://maxar-opendata.s3.amazonaws.com/events...</td>\n",
              "      <td>POLYGON ((22.59874 32.70899, 22.59855 32.69836...</td>\n",
              "    </tr>\n",
              "    <tr>\n",
              "      <th>45</th>\n",
              "      <td>2023-09-13 09:18:07+00:00</td>\n",
              "      <td>GE01</td>\n",
              "      <td>0.42</td>\n",
              "      <td>0.0.1</td>\n",
              "      <td>10500100363D0900</td>\n",
              "      <td>34</td>\n",
              "      <td>120200213122</td>\n",
              "      <td>7.1</td>\n",
              "      <td>11.1</td>\n",
              "      <td>82.1</td>\n",
              "      <td>147.7</td>\n",
              "      <td>57.2</td>\n",
              "      <td>32634</td>\n",
              "      <td>MXRA-Z34-120200213122</td>\n",
              "      <td>644912.109375,3619843.75,645156.25,3625156.25</td>\n",
              "      <td>1.1</td>\n",
              "      <td>0.0</td>\n",
              "      <td>4</td>\n",
              "      <td>https://maxar-opendata.s3.amazonaws.com/events...</td>\n",
              "      <td>POLYGON ((22.54691 32.75474, 22.54693 32.75136...</td>\n",
              "    </tr>\n",
              "    <tr>\n",
              "      <th>46</th>\n",
              "      <td>2023-09-13 09:18:07+00:00</td>\n",
              "      <td>GE01</td>\n",
              "      <td>0.42</td>\n",
              "      <td>0.0.1</td>\n",
              "      <td>10500100363D0900</td>\n",
              "      <td>34</td>\n",
              "      <td>120200213123</td>\n",
              "      <td>7.1</td>\n",
              "      <td>10.3</td>\n",
              "      <td>82.1</td>\n",
              "      <td>147.7</td>\n",
              "      <td>57.2</td>\n",
              "      <td>32634</td>\n",
              "      <td>MXRA-Z34-120200213123</td>\n",
              "      <td>644912.109375,3619843.75,650156.25,3625156.25</td>\n",
              "      <td>27.6</td>\n",
              "      <td>1.6</td>\n",
              "      <td>5</td>\n",
              "      <td>https://maxar-opendata.s3.amazonaws.com/events...</td>\n",
              "      <td>POLYGON ((22.54691 32.75474, 22.54679 32.70682...</td>\n",
              "    </tr>\n",
              "    <tr>\n",
              "      <th>47</th>\n",
              "      <td>2023-09-13 09:18:07+00:00</td>\n",
              "      <td>GE01</td>\n",
              "      <td>0.42</td>\n",
              "      <td>0.0.1</td>\n",
              "      <td>10500100363D0900</td>\n",
              "      <td>34</td>\n",
              "      <td>120200213132</td>\n",
              "      <td>7.0</td>\n",
              "      <td>7.1</td>\n",
              "      <td>82.2</td>\n",
              "      <td>147.7</td>\n",
              "      <td>57.2</td>\n",
              "      <td>32634</td>\n",
              "      <td>MXRA-Z34-120200213132</td>\n",
              "      <td>649843.75,3619843.75,655156.25,3625156.25</td>\n",
              "      <td>28.2</td>\n",
              "      <td>1.6</td>\n",
              "      <td>5</td>\n",
              "      <td>https://maxar-opendata.s3.amazonaws.com/events...</td>\n",
              "      <td>POLYGON ((22.59954 32.75408, 22.59869 32.70617...</td>\n",
              "    </tr>\n",
              "    <tr>\n",
              "      <th>48</th>\n",
              "      <td>2023-09-13 09:18:07+00:00</td>\n",
              "      <td>GE01</td>\n",
              "      <td>0.42</td>\n",
              "      <td>0.0.1</td>\n",
              "      <td>10500100363D0900</td>\n",
              "      <td>34</td>\n",
              "      <td>120200213133</td>\n",
              "      <td>7.0</td>\n",
              "      <td>3.8</td>\n",
              "      <td>82.2</td>\n",
              "      <td>147.7</td>\n",
              "      <td>57.2</td>\n",
              "      <td>32634</td>\n",
              "      <td>MXRA-Z34-120200213133</td>\n",
              "      <td>654843.75,3619843.75,660156.25,3625156.25</td>\n",
              "      <td>28.2</td>\n",
              "      <td>0.1</td>\n",
              "      <td>0</td>\n",
              "      <td>https://maxar-opendata.s3.amazonaws.com/events...</td>\n",
              "      <td>POLYGON ((22.65290 32.75338, 22.65201 32.70548...</td>\n",
              "    </tr>\n",
              "  </tbody>\n",
              "</table>\n",
              "</div>\n",
              "    <div class=\"colab-df-buttons\">\n",
              "\n",
              "  <div class=\"colab-df-container\">\n",
              "    <button class=\"colab-df-convert\" onclick=\"convertToInteractive('df-79db6004-f735-40e6-83c4-a7d81ec1c8c9')\"\n",
              "            title=\"Convert this dataframe to an interactive table.\"\n",
              "            style=\"display:none;\">\n",
              "\n",
              "  <svg xmlns=\"http://www.w3.org/2000/svg\" height=\"24px\" viewBox=\"0 -960 960 960\">\n",
              "    <path d=\"M120-120v-720h720v720H120Zm60-500h600v-160H180v160Zm220 220h160v-160H400v160Zm0 220h160v-160H400v160ZM180-400h160v-160H180v160Zm440 0h160v-160H620v160ZM180-180h160v-160H180v160Zm440 0h160v-160H620v160Z\"/>\n",
              "  </svg>\n",
              "    </button>\n",
              "\n",
              "  <style>\n",
              "    .colab-df-container {\n",
              "      display:flex;\n",
              "      gap: 12px;\n",
              "    }\n",
              "\n",
              "    .colab-df-convert {\n",
              "      background-color: #E8F0FE;\n",
              "      border: none;\n",
              "      border-radius: 50%;\n",
              "      cursor: pointer;\n",
              "      display: none;\n",
              "      fill: #1967D2;\n",
              "      height: 32px;\n",
              "      padding: 0 0 0 0;\n",
              "      width: 32px;\n",
              "    }\n",
              "\n",
              "    .colab-df-convert:hover {\n",
              "      background-color: #E2EBFA;\n",
              "      box-shadow: 0px 1px 2px rgba(60, 64, 67, 0.3), 0px 1px 3px 1px rgba(60, 64, 67, 0.15);\n",
              "      fill: #174EA6;\n",
              "    }\n",
              "\n",
              "    .colab-df-buttons div {\n",
              "      margin-bottom: 4px;\n",
              "    }\n",
              "\n",
              "    [theme=dark] .colab-df-convert {\n",
              "      background-color: #3B4455;\n",
              "      fill: #D2E3FC;\n",
              "    }\n",
              "\n",
              "    [theme=dark] .colab-df-convert:hover {\n",
              "      background-color: #434B5C;\n",
              "      box-shadow: 0px 1px 3px 1px rgba(0, 0, 0, 0.15);\n",
              "      filter: drop-shadow(0px 1px 2px rgba(0, 0, 0, 0.3));\n",
              "      fill: #FFFFFF;\n",
              "    }\n",
              "  </style>\n",
              "\n",
              "    <script>\n",
              "      const buttonEl =\n",
              "        document.querySelector('#df-79db6004-f735-40e6-83c4-a7d81ec1c8c9 button.colab-df-convert');\n",
              "      buttonEl.style.display =\n",
              "        google.colab.kernel.accessAllowed ? 'block' : 'none';\n",
              "\n",
              "      async function convertToInteractive(key) {\n",
              "        const element = document.querySelector('#df-79db6004-f735-40e6-83c4-a7d81ec1c8c9');\n",
              "        const dataTable =\n",
              "          await google.colab.kernel.invokeFunction('convertToInteractive',\n",
              "                                                    [key], {});\n",
              "        if (!dataTable) return;\n",
              "\n",
              "        const docLinkHtml = 'Like what you see? Visit the ' +\n",
              "          '<a target=\"_blank\" href=https://colab.research.google.com/notebooks/data_table.ipynb>data table notebook</a>'\n",
              "          + ' to learn more about interactive tables.';\n",
              "        element.innerHTML = '';\n",
              "        dataTable['output_type'] = 'display_data';\n",
              "        await google.colab.output.renderOutput(dataTable, element);\n",
              "        const docLink = document.createElement('div');\n",
              "        docLink.innerHTML = docLinkHtml;\n",
              "        element.appendChild(docLink);\n",
              "      }\n",
              "    </script>\n",
              "  </div>\n",
              "\n",
              "\n",
              "<div id=\"df-36b9bb9e-c3a4-4ae6-9c2c-73ec8f0cbfec\">\n",
              "  <button class=\"colab-df-quickchart\" onclick=\"quickchart('df-36b9bb9e-c3a4-4ae6-9c2c-73ec8f0cbfec')\"\n",
              "            title=\"Suggest charts.\"\n",
              "            style=\"display:none;\">\n",
              "\n",
              "<svg xmlns=\"http://www.w3.org/2000/svg\" height=\"24px\"viewBox=\"0 0 24 24\"\n",
              "     width=\"24px\">\n",
              "    <g>\n",
              "        <path d=\"M19 3H5c-1.1 0-2 .9-2 2v14c0 1.1.9 2 2 2h14c1.1 0 2-.9 2-2V5c0-1.1-.9-2-2-2zM9 17H7v-7h2v7zm4 0h-2V7h2v10zm4 0h-2v-4h2v4z\"/>\n",
              "    </g>\n",
              "</svg>\n",
              "  </button>\n",
              "\n",
              "<style>\n",
              "  .colab-df-quickchart {\n",
              "      --bg-color: #E8F0FE;\n",
              "      --fill-color: #1967D2;\n",
              "      --hover-bg-color: #E2EBFA;\n",
              "      --hover-fill-color: #174EA6;\n",
              "      --disabled-fill-color: #AAA;\n",
              "      --disabled-bg-color: #DDD;\n",
              "  }\n",
              "\n",
              "  [theme=dark] .colab-df-quickchart {\n",
              "      --bg-color: #3B4455;\n",
              "      --fill-color: #D2E3FC;\n",
              "      --hover-bg-color: #434B5C;\n",
              "      --hover-fill-color: #FFFFFF;\n",
              "      --disabled-bg-color: #3B4455;\n",
              "      --disabled-fill-color: #666;\n",
              "  }\n",
              "\n",
              "  .colab-df-quickchart {\n",
              "    background-color: var(--bg-color);\n",
              "    border: none;\n",
              "    border-radius: 50%;\n",
              "    cursor: pointer;\n",
              "    display: none;\n",
              "    fill: var(--fill-color);\n",
              "    height: 32px;\n",
              "    padding: 0;\n",
              "    width: 32px;\n",
              "  }\n",
              "\n",
              "  .colab-df-quickchart:hover {\n",
              "    background-color: var(--hover-bg-color);\n",
              "    box-shadow: 0 1px 2px rgba(60, 64, 67, 0.3), 0 1px 3px 1px rgba(60, 64, 67, 0.15);\n",
              "    fill: var(--button-hover-fill-color);\n",
              "  }\n",
              "\n",
              "  .colab-df-quickchart-complete:disabled,\n",
              "  .colab-df-quickchart-complete:disabled:hover {\n",
              "    background-color: var(--disabled-bg-color);\n",
              "    fill: var(--disabled-fill-color);\n",
              "    box-shadow: none;\n",
              "  }\n",
              "\n",
              "  .colab-df-spinner {\n",
              "    border: 2px solid var(--fill-color);\n",
              "    border-color: transparent;\n",
              "    border-bottom-color: var(--fill-color);\n",
              "    animation:\n",
              "      spin 1s steps(1) infinite;\n",
              "  }\n",
              "\n",
              "  @keyframes spin {\n",
              "    0% {\n",
              "      border-color: transparent;\n",
              "      border-bottom-color: var(--fill-color);\n",
              "      border-left-color: var(--fill-color);\n",
              "    }\n",
              "    20% {\n",
              "      border-color: transparent;\n",
              "      border-left-color: var(--fill-color);\n",
              "      border-top-color: var(--fill-color);\n",
              "    }\n",
              "    30% {\n",
              "      border-color: transparent;\n",
              "      border-left-color: var(--fill-color);\n",
              "      border-top-color: var(--fill-color);\n",
              "      border-right-color: var(--fill-color);\n",
              "    }\n",
              "    40% {\n",
              "      border-color: transparent;\n",
              "      border-right-color: var(--fill-color);\n",
              "      border-top-color: var(--fill-color);\n",
              "    }\n",
              "    60% {\n",
              "      border-color: transparent;\n",
              "      border-right-color: var(--fill-color);\n",
              "    }\n",
              "    80% {\n",
              "      border-color: transparent;\n",
              "      border-right-color: var(--fill-color);\n",
              "      border-bottom-color: var(--fill-color);\n",
              "    }\n",
              "    90% {\n",
              "      border-color: transparent;\n",
              "      border-bottom-color: var(--fill-color);\n",
              "    }\n",
              "  }\n",
              "</style>\n",
              "\n",
              "  <script>\n",
              "    async function quickchart(key) {\n",
              "      const quickchartButtonEl =\n",
              "        document.querySelector('#' + key + ' button');\n",
              "      quickchartButtonEl.disabled = true;  // To prevent multiple clicks.\n",
              "      quickchartButtonEl.classList.add('colab-df-spinner');\n",
              "      try {\n",
              "        const charts = await google.colab.kernel.invokeFunction(\n",
              "            'suggestCharts', [key], {});\n",
              "      } catch (error) {\n",
              "        console.error('Error during call to suggestCharts:', error);\n",
              "      }\n",
              "      quickchartButtonEl.classList.remove('colab-df-spinner');\n",
              "      quickchartButtonEl.classList.add('colab-df-quickchart-complete');\n",
              "    }\n",
              "    (() => {\n",
              "      let quickchartButtonEl =\n",
              "        document.querySelector('#df-36b9bb9e-c3a4-4ae6-9c2c-73ec8f0cbfec button');\n",
              "      quickchartButtonEl.style.display =\n",
              "        google.colab.kernel.accessAllowed ? 'block' : 'none';\n",
              "    })();\n",
              "  </script>\n",
              "</div>\n",
              "    </div>\n",
              "  </div>\n"
            ]
          },
          "metadata": {},
          "execution_count": 29
        }
      ],
      "id": "bcf972c7-eff2-4260-9afb-5fd11adf4b1f"
    },
    {
      "cell_type": "markdown",
      "source": [
        "Get the catalog id of the pre-event tile, which contain several images. Each of the image has a unique `quadkey`:"
      ],
      "metadata": {
        "id": "293bf070-9372-4c69-a380-c93cf6891fdd"
      },
      "id": "293bf070-9372-4c69-a380-c93cf6891fdd"
    },
    {
      "cell_type": "code",
      "source": [
        "pre_tile = pre_event['catalog_id'].values[0]\n",
        "pre_tile"
      ],
      "metadata": {
        "colab": {
          "base_uri": "https://localhost:8080/",
          "height": 35
        },
        "id": "e4c4933d-60b9-4126-849d-07f3d09d80c4",
        "outputId": "9f6bd5a1-d684-417e-b0a5-01c34903e18f"
      },
      "execution_count": 30,
      "outputs": [
        {
          "output_type": "execute_result",
          "data": {
            "text/plain": [
              "'105005005ADE7C00'"
            ],
            "application/vnd.google.colaboratory.intrinsic+json": {
              "type": "string"
            }
          },
          "metadata": {},
          "execution_count": 30
        }
      ],
      "id": "e4c4933d-60b9-4126-849d-07f3d09d80c4"
    },
    {
      "cell_type": "markdown",
      "source": [
        "Get the catalog id of the post-event tile, which contain several images. Each of the image has a unique `quadkey`:"
      ],
      "metadata": {
        "id": "9d276f45-6227-4808-b669-3fb8904a067a"
      },
      "id": "9d276f45-6227-4808-b669-3fb8904a067a"
    },
    {
      "cell_type": "code",
      "source": [
        "post_tile = post_event['catalog_id'].values[0]\n",
        "post_tile"
      ],
      "metadata": {
        "colab": {
          "base_uri": "https://localhost:8080/",
          "height": 35
        },
        "id": "40a4bcd5-b658-43a0-8098-269e27bd5d4f",
        "outputId": "88ce6639-0174-49f3-a5c5-23f2f5829abb"
      },
      "execution_count": 31,
      "outputs": [
        {
          "output_type": "execute_result",
          "data": {
            "text/plain": [
              "'10500100363D0900'"
            ],
            "application/vnd.google.colaboratory.intrinsic+json": {
              "type": "string"
            }
          },
          "metadata": {},
          "execution_count": 31
        }
      ],
      "id": "40a4bcd5-b658-43a0-8098-269e27bd5d4f"
    },
    {
      "cell_type": "markdown",
      "source": [
        "Get the MosaicJSON for the pre-event tile:"
      ],
      "metadata": {
        "id": "af60a235-808a-4402-8a12-75a04e3d9904"
      },
      "id": "af60a235-808a-4402-8a12-75a04e3d9904"
    },
    {
      "cell_type": "code",
      "source": [
        "pre_stac = leafmap.maxar_tile_url(collection, pre_tile, dtype='json')\n",
        "pre_stac"
      ],
      "metadata": {
        "colab": {
          "base_uri": "https://localhost:8080/",
          "height": 35
        },
        "id": "335a910a-3d25-4708-800b-41b21f0bd906",
        "outputId": "b859cb1a-e851-416e-a234-62d61a65e2f3"
      },
      "execution_count": 32,
      "outputs": [
        {
          "output_type": "execute_result",
          "data": {
            "text/plain": [
              "'https://raw.githubusercontent.com/giswqs/maxar-open-data/master/datasets/Libya-Floods-Sept-2023/105005005ADE7C00.json'"
            ],
            "application/vnd.google.colaboratory.intrinsic+json": {
              "type": "string"
            }
          },
          "metadata": {},
          "execution_count": 32
        }
      ],
      "id": "335a910a-3d25-4708-800b-41b21f0bd906"
    },
    {
      "cell_type": "markdown",
      "source": [
        "Get the MosaicJSON for the post-event tile:"
      ],
      "metadata": {
        "id": "0bebcd69-410d-4be1-9877-cffc3b71b88b"
      },
      "id": "0bebcd69-410d-4be1-9877-cffc3b71b88b"
    },
    {
      "cell_type": "code",
      "source": [
        "post_stac = leafmap.maxar_tile_url(collection, post_tile, dtype='json')\n",
        "post_stac"
      ],
      "metadata": {
        "colab": {
          "base_uri": "https://localhost:8080/",
          "height": 35
        },
        "id": "3ed33858-07c6-42e0-8624-266f2c63f5aa",
        "outputId": "d17386e7-f9f1-4657-de6c-8a7012bf623f"
      },
      "execution_count": 33,
      "outputs": [
        {
          "output_type": "execute_result",
          "data": {
            "text/plain": [
              "'https://raw.githubusercontent.com/giswqs/maxar-open-data/master/datasets/Libya-Floods-Sept-2023/10500100363D0900.json'"
            ],
            "application/vnd.google.colaboratory.intrinsic+json": {
              "type": "string"
            }
          },
          "metadata": {},
          "execution_count": 33
        }
      ],
      "id": "3ed33858-07c6-42e0-8624-266f2c63f5aa"
    },
    {
      "cell_type": "markdown",
      "source": [
        "Create a split map to compare the pre-event and post-event images. Note the the ipyleaflet split map has some bugs ([source](https://github.com/jupyter-widgets/ipyleaflet/issues/1066)), so we will use the folium plotting backend instead."
      ],
      "metadata": {
        "id": "04a80900-b53d-492e-9594-2761ba1332ae"
      },
      "id": "04a80900-b53d-492e-9594-2761ba1332ae"
    },
    {
      "cell_type": "code",
      "source": [
        "import leafmap.foliumap as leafmap"
      ],
      "metadata": {
        "id": "0259a4eb-11ba-43a8-8879-161a415b018b"
      },
      "execution_count": 34,
      "outputs": [],
      "id": "0259a4eb-11ba-43a8-8879-161a415b018b"
    },
    {
      "cell_type": "code",
      "source": [
        "m = leafmap.Map()\n",
        "m.split_map(\n",
        "    left_layer=pre_stac,\n",
        "    right_layer=post_stac,\n",
        "    left_label='Pre-event',\n",
        "    right_label='Post-event',\n",
        ")\n",
        "m.set_center(22.641429,32.762448,  16)\n",
        "m"
      ],
      "metadata": {
        "colab": {
          "base_uri": "https://localhost:8080/",
          "height": 621
        },
        "id": "f8a714e0-bb12-4993-9a4c-4b43bae48c5c",
        "outputId": "e508a173-1dcf-4ce0-a52a-73efb8dd6a0c"
      },
      "execution_count": 38,
      "outputs": [
        {
          "output_type": "execute_result",
          "data": {
            "text/plain": [
              "<leafmap.foliumap.Map at 0x7aec90ec0d00>"
            ],
            "text/html": [
              "<iframe srcdoc=\"&lt;!DOCTYPE html&gt;\n",
              "&lt;html&gt;\n",
              "&lt;head&gt;\n",
              "    \n",
              "    &lt;meta http-equiv=&quot;content-type&quot; content=&quot;text/html; charset=UTF-8&quot; /&gt;\n",
              "    \n",
              "        &lt;script&gt;\n",
              "            L_NO_TOUCH = false;\n",
              "            L_DISABLE_3D = false;\n",
              "        &lt;/script&gt;\n",
              "    \n",
              "    &lt;style&gt;html, body {width: 100%;height: 100%;margin: 0;padding: 0;}&lt;/style&gt;\n",
              "    &lt;style&gt;#map {position:absolute;top:0;bottom:0;right:0;left:0;}&lt;/style&gt;\n",
              "    &lt;script src=&quot;https://cdn.jsdelivr.net/npm/leaflet@1.9.3/dist/leaflet.js&quot;&gt;&lt;/script&gt;\n",
              "    &lt;script src=&quot;https://code.jquery.com/jquery-1.12.4.min.js&quot;&gt;&lt;/script&gt;\n",
              "    &lt;script src=&quot;https://cdn.jsdelivr.net/npm/bootstrap@5.2.2/dist/js/bootstrap.bundle.min.js&quot;&gt;&lt;/script&gt;\n",
              "    &lt;script src=&quot;https://cdnjs.cloudflare.com/ajax/libs/Leaflet.awesome-markers/2.0.2/leaflet.awesome-markers.js&quot;&gt;&lt;/script&gt;\n",
              "    &lt;link rel=&quot;stylesheet&quot; href=&quot;https://cdn.jsdelivr.net/npm/leaflet@1.9.3/dist/leaflet.css&quot;/&gt;\n",
              "    &lt;link rel=&quot;stylesheet&quot; href=&quot;https://cdn.jsdelivr.net/npm/bootstrap@5.2.2/dist/css/bootstrap.min.css&quot;/&gt;\n",
              "    &lt;link rel=&quot;stylesheet&quot; href=&quot;https://netdna.bootstrapcdn.com/bootstrap/3.0.0/css/bootstrap.min.css&quot;/&gt;\n",
              "    &lt;link rel=&quot;stylesheet&quot; href=&quot;https://cdn.jsdelivr.net/npm/@fortawesome/fontawesome-free@6.2.0/css/all.min.css&quot;/&gt;\n",
              "    &lt;link rel=&quot;stylesheet&quot; href=&quot;https://cdnjs.cloudflare.com/ajax/libs/Leaflet.awesome-markers/2.0.2/leaflet.awesome-markers.css&quot;/&gt;\n",
              "    &lt;link rel=&quot;stylesheet&quot; href=&quot;https://cdn.jsdelivr.net/gh/python-visualization/folium/folium/templates/leaflet.awesome.rotate.min.css&quot;/&gt;\n",
              "    \n",
              "            &lt;meta name=&quot;viewport&quot; content=&quot;width=device-width,\n",
              "                initial-scale=1.0, maximum-scale=1.0, user-scalable=no&quot; /&gt;\n",
              "            &lt;style&gt;\n",
              "                #map_9ddc10b6640276ce86299b17efb821b0 {\n",
              "                    position: relative;\n",
              "                    width: 100.0%;\n",
              "                    height: 100.0%;\n",
              "                    left: 0.0%;\n",
              "                    top: 0.0%;\n",
              "                }\n",
              "                .leaflet-container { font-size: 1rem; }\n",
              "            &lt;/style&gt;\n",
              "        \n",
              "    &lt;script src=&quot;https://cdnjs.cloudflare.com/ajax/libs/leaflet.fullscreen/1.4.2/Control.FullScreen.min.js&quot;&gt;&lt;/script&gt;\n",
              "    &lt;link rel=&quot;stylesheet&quot; href=&quot;https://cdnjs.cloudflare.com/ajax/libs/leaflet.fullscreen/1.4.2/Control.FullScreen.min.css&quot;/&gt;\n",
              "    &lt;script src=&quot;https://cdnjs.cloudflare.com/ajax/libs/leaflet.draw/1.0.2/leaflet.draw.js&quot;&gt;&lt;/script&gt;\n",
              "    &lt;link rel=&quot;stylesheet&quot; href=&quot;https://cdnjs.cloudflare.com/ajax/libs/leaflet.draw/1.0.2/leaflet.draw.css&quot;/&gt;\n",
              "    &lt;script src=&quot;https://cdn.jsdelivr.net/gh/ljagis/leaflet-measure@2.1.7/dist/leaflet-measure.min.js&quot;&gt;&lt;/script&gt;\n",
              "    &lt;link rel=&quot;stylesheet&quot; href=&quot;https://cdn.jsdelivr.net/gh/ljagis/leaflet-measure@2.1.7/dist/leaflet-measure.min.css&quot;/&gt;\n",
              "    &lt;script src=&quot;https://unpkg.com/leaflet-control-geocoder/dist/Control.Geocoder.js&quot;&gt;&lt;/script&gt;\n",
              "    &lt;link rel=&quot;stylesheet&quot; href=&quot;https://unpkg.com/leaflet-control-geocoder/dist/Control.Geocoder.css&quot;/&gt;\n",
              "    &lt;script src=&quot;https://cdn.jsdelivr.net/gh/digidem/leaflet-side-by-side@gh-pages/leaflet-side-by-side.min.js&quot;&gt;&lt;/script&gt;\n",
              "&lt;/head&gt;\n",
              "&lt;body&gt;\n",
              "    \n",
              "    \n",
              "            &lt;div class=&quot;folium-map&quot; id=&quot;map_9ddc10b6640276ce86299b17efb821b0&quot; &gt;&lt;/div&gt;\n",
              "        \n",
              "&lt;/body&gt;\n",
              "&lt;script&gt;\n",
              "    \n",
              "    \n",
              "            var map_9ddc10b6640276ce86299b17efb821b0 = L.map(\n",
              "                &quot;map_9ddc10b6640276ce86299b17efb821b0&quot;,\n",
              "                {\n",
              "                    center: [20.0, 0.0],\n",
              "                    crs: L.CRS.EPSG3857,\n",
              "                    zoom: 2,\n",
              "                    zoomControl: true,\n",
              "                    preferCanvas: false,\n",
              "                    drawExport: false,\n",
              "                    layersControl: true,\n",
              "                }\n",
              "            );\n",
              "            L.control.scale().addTo(map_9ddc10b6640276ce86299b17efb821b0);\n",
              "\n",
              "            \n",
              "\n",
              "        \n",
              "    \n",
              "            var tile_layer_828de3af62cf011776fb3ca76a682446 = L.tileLayer(\n",
              "                &quot;https://{s}.tile.openstreetmap.org/{z}/{x}/{y}.png&quot;,\n",
              "                {&quot;attribution&quot;: &quot;Data by \\u0026copy; \\u003ca target=\\&quot;_blank\\&quot; href=\\&quot;http://openstreetmap.org\\&quot;\\u003eOpenStreetMap\\u003c/a\\u003e, under \\u003ca target=\\&quot;_blank\\&quot; href=\\&quot;http://www.openstreetmap.org/copyright\\&quot;\\u003eODbL\\u003c/a\\u003e.&quot;, &quot;detectRetina&quot;: false, &quot;maxNativeZoom&quot;: 24, &quot;maxZoom&quot;: 24, &quot;minZoom&quot;: 0, &quot;noWrap&quot;: false, &quot;opacity&quot;: 1, &quot;subdomains&quot;: &quot;abc&quot;, &quot;tms&quot;: false}\n",
              "            ).addTo(map_9ddc10b6640276ce86299b17efb821b0);\n",
              "        \n",
              "    \n",
              "            L.control.fullscreen(\n",
              "                {&quot;forceSeparateButton&quot;: false, &quot;position&quot;: &quot;topleft&quot;, &quot;title&quot;: &quot;Full Screen&quot;, &quot;titleCancel&quot;: &quot;Exit Full Screen&quot;}\n",
              "            ).addTo(map_9ddc10b6640276ce86299b17efb821b0);\n",
              "        \n",
              "    \n",
              "            var options = {\n",
              "              position: &quot;topleft&quot;,\n",
              "              draw: {},\n",
              "              edit: {},\n",
              "            }\n",
              "            // FeatureGroup is to store editable layers.\n",
              "            var drawnItems = new L.featureGroup().addTo(\n",
              "                map_9ddc10b6640276ce86299b17efb821b0\n",
              "            );\n",
              "            options.edit.featureGroup = drawnItems;\n",
              "            var draw_control_af316a44f0fb410e22e9e30d96982c71 = new L.Control.Draw(\n",
              "                options\n",
              "            ).addTo( map_9ddc10b6640276ce86299b17efb821b0 );\n",
              "            map_9ddc10b6640276ce86299b17efb821b0.on(L.Draw.Event.CREATED, function(e) {\n",
              "                var layer = e.layer,\n",
              "                    type = e.layerType;\n",
              "                var coords = JSON.stringify(layer.toGeoJSON());\n",
              "                layer.on(&#x27;click&#x27;, function() {\n",
              "                    alert(coords);\n",
              "                    console.log(coords);\n",
              "                });\n",
              "                drawnItems.addLayer(layer);\n",
              "             });\n",
              "            map_9ddc10b6640276ce86299b17efb821b0.on(&#x27;draw:created&#x27;, function(e) {\n",
              "                drawnItems.addLayer(e.layer);\n",
              "            });\n",
              "            \n",
              "        \n",
              "    \n",
              "            var measure_control_9676a8f9ec3f827c7e6924afa8fd13bb = new L.Control.Measure(\n",
              "                {&quot;position&quot;: &quot;bottomleft&quot;, &quot;primaryAreaUnit&quot;: &quot;sqmeters&quot;, &quot;primaryLengthUnit&quot;: &quot;meters&quot;, &quot;secondaryAreaUnit&quot;: &quot;acres&quot;, &quot;secondaryLengthUnit&quot;: &quot;miles&quot;});\n",
              "            map_9ddc10b6640276ce86299b17efb821b0.addControl(measure_control_9676a8f9ec3f827c7e6924afa8fd13bb);\n",
              "\n",
              "        \n",
              "    \n",
              "            L.Control.geocoder(\n",
              "                {&quot;collapsed&quot;: true, &quot;defaultMarkGeocode&quot;: true, &quot;position&quot;: &quot;topleft&quot;}\n",
              "            ).on(&#x27;markgeocode&#x27;, function(e) {\n",
              "                map_9ddc10b6640276ce86299b17efb821b0.setView(e.geocode.center, 11);\n",
              "            }).addTo(map_9ddc10b6640276ce86299b17efb821b0);\n",
              "\n",
              "        \n",
              "    \n",
              "            map_9ddc10b6640276ce86299b17efb821b0.fitBounds(\n",
              "                [[20, 0], [20, 0]],\n",
              "                {&quot;maxZoom&quot;: 2}\n",
              "            );\n",
              "        \n",
              "    \n",
              "            var tile_layer_4cfa4e8e34b383ce0e0dda6d00c7536a = L.tileLayer(\n",
              "                &quot;https://titiler.xyz/mosaicjson/tiles/WebMercatorQuad/{z}/{x}/{y}@1x?max_zoom=100\\u0026max_native_zoom=100\\u0026layer_name=Left+Layer\\u0026url=https%3A%2F%2Fraw.githubusercontent.com%2Fgiswqs%2Fmaxar-open-data%2Fmaster%2Fdatasets%2FLibya-Floods-Sept-2023%2F105005005ADE7C00.json&quot;,\n",
              "                {&quot;attribution&quot;: &quot; &quot;, &quot;detectRetina&quot;: false, &quot;maxNativeZoom&quot;: 18, &quot;maxZoom&quot;: 18, &quot;minZoom&quot;: 0, &quot;noWrap&quot;: false, &quot;opacity&quot;: 1, &quot;subdomains&quot;: &quot;abc&quot;, &quot;tms&quot;: false}\n",
              "            ).addTo(map_9ddc10b6640276ce86299b17efb821b0);\n",
              "        \n",
              "    \n",
              "            var tile_layer_b23f1973f18f4e0765c12524158fd8f5 = L.tileLayer(\n",
              "                &quot;https://titiler.xyz/mosaicjson/tiles/WebMercatorQuad/{z}/{x}/{y}@1x?max_zoom=100\\u0026max_native_zoom=100\\u0026layer_name=Left+Layer\\u0026url=https%3A%2F%2Fraw.githubusercontent.com%2Fgiswqs%2Fmaxar-open-data%2Fmaster%2Fdatasets%2FLibya-Floods-Sept-2023%2F10500100363D0900.json&quot;,\n",
              "                {&quot;attribution&quot;: &quot; &quot;, &quot;detectRetina&quot;: false, &quot;maxNativeZoom&quot;: 18, &quot;maxZoom&quot;: 18, &quot;minZoom&quot;: 0, &quot;noWrap&quot;: false, &quot;opacity&quot;: 1, &quot;subdomains&quot;: &quot;abc&quot;, &quot;tms&quot;: false}\n",
              "            ).addTo(map_9ddc10b6640276ce86299b17efb821b0);\n",
              "        \n",
              "    \n",
              "            var side_by_side_layers_9d6f3a27cb55654a5a0c9fb6fc3cf80c = L.control.sideBySide(\n",
              "                tile_layer_4cfa4e8e34b383ce0e0dda6d00c7536a, tile_layer_b23f1973f18f4e0765c12524158fd8f5\n",
              "            ).addTo(map_9ddc10b6640276ce86299b17efb821b0);\n",
              "        \n",
              "    \n",
              "        L.Control.CustomControl = L.Control.extend({\n",
              "            onAdd: function(map) {\n",
              "                let div = L.DomUtil.create(&#x27;div&#x27;);\n",
              "                div.innerHTML = `&lt;h4&gt;Pre-event&lt;/h4&gt;`;\n",
              "                return div;\n",
              "            },\n",
              "            onRemove: function(map) {\n",
              "                // Nothing to do here\n",
              "            }\n",
              "        });\n",
              "        L.control.customControl = function(opts) {\n",
              "            return new L.Control.CustomControl(opts);\n",
              "        }\n",
              "        L.control.customControl(\n",
              "            { position: &quot;bottomleft&quot; }\n",
              "        ).addTo(map_9ddc10b6640276ce86299b17efb821b0);\n",
              "        \n",
              "    \n",
              "        L.Control.CustomControl = L.Control.extend({\n",
              "            onAdd: function(map) {\n",
              "                let div = L.DomUtil.create(&#x27;div&#x27;);\n",
              "                div.innerHTML = `&lt;h4&gt;Post-event&lt;/h4&gt;`;\n",
              "                return div;\n",
              "            },\n",
              "            onRemove: function(map) {\n",
              "                // Nothing to do here\n",
              "            }\n",
              "        });\n",
              "        L.control.customControl = function(opts) {\n",
              "            return new L.Control.CustomControl(opts);\n",
              "        }\n",
              "        L.control.customControl(\n",
              "            { position: &quot;bottomright&quot; }\n",
              "        ).addTo(map_9ddc10b6640276ce86299b17efb821b0);\n",
              "        \n",
              "    \n",
              "            map_9ddc10b6640276ce86299b17efb821b0.fitBounds(\n",
              "                [[32.65890159153033, 22.491278056884596], [32.8455698601728, 22.764714777772582]],\n",
              "                {}\n",
              "            );\n",
              "        \n",
              "    \n",
              "            map_9ddc10b6640276ce86299b17efb821b0.fitBounds(\n",
              "                [[32.762448, 22.641429], [32.762448, 22.641429]],\n",
              "                {&quot;maxZoom&quot;: 16}\n",
              "            );\n",
              "        \n",
              "    \n",
              "            var layer_control_2dd6203fae76aaa425733bf61dfd2bb4 = {\n",
              "                base_layers : {\n",
              "                    &quot;openstreetmap&quot; : tile_layer_828de3af62cf011776fb3ca76a682446,\n",
              "                },\n",
              "                overlays :  {\n",
              "                    &quot;Pre-event&quot; : tile_layer_4cfa4e8e34b383ce0e0dda6d00c7536a,\n",
              "                    &quot;Post-event&quot; : tile_layer_b23f1973f18f4e0765c12524158fd8f5,\n",
              "                },\n",
              "            };\n",
              "            L.control.layers(\n",
              "                layer_control_2dd6203fae76aaa425733bf61dfd2bb4.base_layers,\n",
              "                layer_control_2dd6203fae76aaa425733bf61dfd2bb4.overlays,\n",
              "                {&quot;autoZIndex&quot;: true, &quot;collapsed&quot;: true, &quot;position&quot;: &quot;topright&quot;}\n",
              "            ).addTo(map_9ddc10b6640276ce86299b17efb821b0);\n",
              "        \n",
              "&lt;/script&gt;\n",
              "&lt;/html&gt;\" width=\"100%\" height=\"600\"style=\"border:none !important;\" \"allowfullscreen\" \"webkitallowfullscreen\" \"mozallowfullscreen\"></iframe>"
            ]
          },
          "metadata": {},
          "execution_count": 38
        }
      ],
      "id": "f8a714e0-bb12-4993-9a4c-4b43bae48c5c"
    },
    {
      "cell_type": "markdown",
      "source": [
        "Get download links for the pre-event and post-event images:"
      ],
      "metadata": {
        "id": "079509f3-47b8-45cc-b36d-d997b41130ef"
      },
      "id": "079509f3-47b8-45cc-b36d-d997b41130ef"
    },
    {
      "cell_type": "code",
      "source": [
        "pre_images = pre_event['visual'].tolist()\n",
        "post_images = post_event['visual'].tolist()"
      ],
      "metadata": {
        "id": "147824fa-69e6-4459-a16d-652fcc57e763"
      },
      "execution_count": 39,
      "outputs": [],
      "id": "147824fa-69e6-4459-a16d-652fcc57e763"
    },
    {
      "cell_type": "markdown",
      "source": [
        "Download the pre-event and post-event images:"
      ],
      "metadata": {
        "id": "c4d46021-7fad-47bf-8ed1-7a27996de1c5"
      },
      "id": "c4d46021-7fad-47bf-8ed1-7a27996de1c5"
    },
    {
      "cell_type": "code",
      "source": [
        "leafmap.maxar_download(pre_images)"
      ],
      "metadata": {
        "colab": {
          "base_uri": "https://localhost:8080/"
        },
        "id": "8b5f5c0c-7df8-4edd-b0a1-1763d0afc72c",
        "outputId": "5490b5fe-ceaf-4c14-b731-b60b6d938a2c"
      },
      "execution_count": 40,
      "outputs": [
        {
          "output_type": "stream",
          "name": "stdout",
          "text": [
            "Downloading 01 out of 25: 105005005ADE7C00/120200213111.tif\n"
          ]
        },
        {
          "output_type": "stream",
          "name": "stderr",
          "text": [
            "Downloading...\n",
            "From: https://maxar-opendata.s3.amazonaws.com/events/Libya-Floods-Sept-2023/ard/34/120200213111/2023-07-01/105005005ADE7C00-visual.tif\n",
            "To: /content/105005005ADE7C00/120200213111.tif\n",
            "100%|██████████| 10.4M/10.4M [00:00<00:00, 17.2MB/s]\n"
          ]
        },
        {
          "output_type": "stream",
          "name": "stdout",
          "text": [
            "Downloading 02 out of 25: 105005005ADE7C00/120200213113.tif\n"
          ]
        },
        {
          "output_type": "stream",
          "name": "stderr",
          "text": [
            "Downloading...\n",
            "From: https://maxar-opendata.s3.amazonaws.com/events/Libya-Floods-Sept-2023/ard/34/120200213113/2023-07-01/105005005ADE7C00-visual.tif\n",
            "To: /content/105005005ADE7C00/120200213113.tif\n",
            "100%|██████████| 54.1M/54.1M [00:03<00:00, 17.9MB/s]\n"
          ]
        },
        {
          "output_type": "stream",
          "name": "stdout",
          "text": [
            "Downloading 03 out of 25: 105005005ADE7C00/120200213131.tif\n"
          ]
        },
        {
          "output_type": "stream",
          "name": "stderr",
          "text": [
            "Downloading...\n",
            "From: https://maxar-opendata.s3.amazonaws.com/events/Libya-Floods-Sept-2023/ard/34/120200213131/2023-07-01/105005005ADE7C00-visual.tif\n",
            "To: /content/105005005ADE7C00/120200213131.tif\n",
            "100%|██████████| 54.2M/54.2M [00:02<00:00, 22.0MB/s]\n"
          ]
        },
        {
          "output_type": "stream",
          "name": "stdout",
          "text": [
            "Downloading 04 out of 25: 105005005ADE7C00/120200213133.tif\n"
          ]
        },
        {
          "output_type": "stream",
          "name": "stderr",
          "text": [
            "Downloading...\n",
            "From: https://maxar-opendata.s3.amazonaws.com/events/Libya-Floods-Sept-2023/ard/34/120200213133/2023-07-01/105005005ADE7C00-visual.tif\n",
            "To: /content/105005005ADE7C00/120200213133.tif\n",
            "100%|██████████| 81.2M/81.2M [00:03<00:00, 23.2MB/s]\n"
          ]
        },
        {
          "output_type": "stream",
          "name": "stdout",
          "text": [
            "Downloading 05 out of 25: 105005005ADE7C00/120200213311.tif\n"
          ]
        },
        {
          "output_type": "stream",
          "name": "stderr",
          "text": [
            "Downloading...\n",
            "From: https://maxar-opendata.s3.amazonaws.com/events/Libya-Floods-Sept-2023/ard/34/120200213311/2023-07-01/105005005ADE7C00-visual.tif\n",
            "To: /content/105005005ADE7C00/120200213311.tif\n",
            "100%|██████████| 13.7M/13.7M [00:01<00:00, 13.3MB/s]\n"
          ]
        },
        {
          "output_type": "stream",
          "name": "stdout",
          "text": [
            "Downloading 06 out of 25: 105005005ADE7C00/120200302000.tif\n"
          ]
        },
        {
          "output_type": "stream",
          "name": "stderr",
          "text": [
            "Downloading...\n",
            "From: https://maxar-opendata.s3.amazonaws.com/events/Libya-Floods-Sept-2023/ard/34/120200302000/2023-07-01/105005005ADE7C00-visual.tif\n",
            "To: /content/105005005ADE7C00/120200302000.tif\n",
            "100%|██████████| 5.44M/5.44M [00:00<00:00, 10.2MB/s]\n"
          ]
        },
        {
          "output_type": "stream",
          "name": "stdout",
          "text": [
            "Downloading 07 out of 25: 105005005ADE7C00/120200302002.tif\n"
          ]
        },
        {
          "output_type": "stream",
          "name": "stderr",
          "text": [
            "Downloading...\n",
            "From: https://maxar-opendata.s3.amazonaws.com/events/Libya-Floods-Sept-2023/ard/34/120200302002/2023-07-01/105005005ADE7C00-visual.tif\n",
            "To: /content/105005005ADE7C00/120200302002.tif\n",
            "100%|██████████| 20.0M/20.0M [00:00<00:00, 22.9MB/s]\n"
          ]
        },
        {
          "output_type": "stream",
          "name": "stdout",
          "text": [
            "Downloading 08 out of 25: 105005005ADE7C00/120200302020.tif\n"
          ]
        },
        {
          "output_type": "stream",
          "name": "stderr",
          "text": [
            "Downloading...\n",
            "From: https://maxar-opendata.s3.amazonaws.com/events/Libya-Floods-Sept-2023/ard/34/120200302020/2023-07-01/105005005ADE7C00-visual.tif\n",
            "To: /content/105005005ADE7C00/120200302020.tif\n",
            "100%|██████████| 19.5M/19.5M [00:00<00:00, 20.8MB/s]\n"
          ]
        },
        {
          "output_type": "stream",
          "name": "stdout",
          "text": [
            "Downloading 09 out of 25: 105005005ADE7C00/120200302022.tif\n"
          ]
        },
        {
          "output_type": "stream",
          "name": "stderr",
          "text": [
            "Downloading...\n",
            "From: https://maxar-opendata.s3.amazonaws.com/events/Libya-Floods-Sept-2023/ard/34/120200302022/2023-07-01/105005005ADE7C00-visual.tif\n",
            "To: /content/105005005ADE7C00/120200302022.tif\n",
            "100%|██████████| 24.6M/24.6M [00:01<00:00, 12.8MB/s]\n"
          ]
        },
        {
          "output_type": "stream",
          "name": "stdout",
          "text": [
            "Downloading 10 out of 25: 105005005ADE7C00/120200302200.tif\n"
          ]
        },
        {
          "output_type": "stream",
          "name": "stderr",
          "text": [
            "Downloading...\n",
            "From: https://maxar-opendata.s3.amazonaws.com/events/Libya-Floods-Sept-2023/ard/34/120200302200/2023-07-01/105005005ADE7C00-visual.tif\n",
            "To: /content/105005005ADE7C00/120200302200.tif\n",
            "100%|██████████| 5.98M/5.98M [00:00<00:00, 17.2MB/s]\n"
          ]
        },
        {
          "output_type": "stream",
          "name": "stdout",
          "text": [
            "Downloading 11 out of 25: 105005005ADE7C00/120200213110.tif\n"
          ]
        },
        {
          "output_type": "stream",
          "name": "stderr",
          "text": [
            "Downloading...\n",
            "From: https://maxar-opendata.s3.amazonaws.com/events/Libya-Floods-Sept-2023/ard/34/120200213110/2023-07-01/105005005ADE7C00-visual.tif\n",
            "To: /content/105005005ADE7C00/120200213110.tif\n",
            "100%|██████████| 9.58M/9.58M [00:00<00:00, 22.0MB/s]\n"
          ]
        },
        {
          "output_type": "stream",
          "name": "stdout",
          "text": [
            "Downloading 12 out of 25: 105005005ADE7C00/120200213112.tif\n"
          ]
        },
        {
          "output_type": "stream",
          "name": "stderr",
          "text": [
            "Downloading...\n",
            "From: https://maxar-opendata.s3.amazonaws.com/events/Libya-Floods-Sept-2023/ard/34/120200213112/2023-07-01/105005005ADE7C00-visual.tif\n",
            "To: /content/105005005ADE7C00/120200213112.tif\n",
            "100%|██████████| 53.3M/53.3M [00:02<00:00, 18.5MB/s]\n"
          ]
        },
        {
          "output_type": "stream",
          "name": "stdout",
          "text": [
            "Downloading 13 out of 25: 105005005ADE7C00/120200213130.tif\n"
          ]
        },
        {
          "output_type": "stream",
          "name": "stderr",
          "text": [
            "Downloading...\n",
            "From: https://maxar-opendata.s3.amazonaws.com/events/Libya-Floods-Sept-2023/ard/34/120200213130/2023-07-01/105005005ADE7C00-visual.tif\n",
            "To: /content/105005005ADE7C00/120200213130.tif\n",
            "100%|██████████| 72.1M/72.1M [00:02<00:00, 26.0MB/s]\n"
          ]
        },
        {
          "output_type": "stream",
          "name": "stdout",
          "text": [
            "Downloading 14 out of 25: 105005005ADE7C00/120200213132.tif\n"
          ]
        },
        {
          "output_type": "stream",
          "name": "stderr",
          "text": [
            "Downloading...\n",
            "From: https://maxar-opendata.s3.amazonaws.com/events/Libya-Floods-Sept-2023/ard/34/120200213132/2023-07-01/105005005ADE7C00-visual.tif\n",
            "To: /content/105005005ADE7C00/120200213132.tif\n",
            "100%|██████████| 103M/103M [00:04<00:00, 22.1MB/s] \n"
          ]
        },
        {
          "output_type": "stream",
          "name": "stdout",
          "text": [
            "Downloading 15 out of 25: 105005005ADE7C00/120200213310.tif\n"
          ]
        },
        {
          "output_type": "stream",
          "name": "stderr",
          "text": [
            "Downloading...\n",
            "From: https://maxar-opendata.s3.amazonaws.com/events/Libya-Floods-Sept-2023/ard/34/120200213310/2023-07-01/105005005ADE7C00-visual.tif\n",
            "To: /content/105005005ADE7C00/120200213310.tif\n",
            "100%|██████████| 25.6M/25.6M [00:01<00:00, 18.0MB/s]\n"
          ]
        },
        {
          "output_type": "stream",
          "name": "stdout",
          "text": [
            "Downloading 16 out of 25: 105005005ADE7C00/120200213101.tif\n"
          ]
        },
        {
          "output_type": "stream",
          "name": "stderr",
          "text": [
            "Downloading...\n",
            "From: https://maxar-opendata.s3.amazonaws.com/events/Libya-Floods-Sept-2023/ard/34/120200213101/2023-07-01/105005005ADE7C00-visual.tif\n",
            "To: /content/105005005ADE7C00/120200213101.tif\n",
            "100%|██████████| 8.99M/8.99M [00:02<00:00, 4.00MB/s]\n"
          ]
        },
        {
          "output_type": "stream",
          "name": "stdout",
          "text": [
            "Downloading 17 out of 25: 105005005ADE7C00/120200213103.tif\n"
          ]
        },
        {
          "output_type": "stream",
          "name": "stderr",
          "text": [
            "Downloading...\n",
            "From: https://maxar-opendata.s3.amazonaws.com/events/Libya-Floods-Sept-2023/ard/34/120200213103/2023-07-01/105005005ADE7C00-visual.tif\n",
            "To: /content/105005005ADE7C00/120200213103.tif\n",
            "100%|██████████| 52.5M/52.5M [00:02<00:00, 23.6MB/s]\n"
          ]
        },
        {
          "output_type": "stream",
          "name": "stdout",
          "text": [
            "Downloading 18 out of 25: 105005005ADE7C00/120200213121.tif\n"
          ]
        },
        {
          "output_type": "stream",
          "name": "stderr",
          "text": [
            "Downloading...\n",
            "From: https://maxar-opendata.s3.amazonaws.com/events/Libya-Floods-Sept-2023/ard/34/120200213121/2023-07-01/105005005ADE7C00-visual.tif\n",
            "To: /content/105005005ADE7C00/120200213121.tif\n",
            "100%|██████████| 87.2M/87.2M [00:04<00:00, 19.4MB/s]\n"
          ]
        },
        {
          "output_type": "stream",
          "name": "stdout",
          "text": [
            "Downloading 19 out of 25: 105005005ADE7C00/120200213123.tif\n"
          ]
        },
        {
          "output_type": "stream",
          "name": "stderr",
          "text": [
            "Downloading...\n",
            "From: https://maxar-opendata.s3.amazonaws.com/events/Libya-Floods-Sept-2023/ard/34/120200213123/2023-07-01/105005005ADE7C00-visual.tif\n",
            "To: /content/105005005ADE7C00/120200213123.tif\n",
            "100%|██████████| 95.6M/95.6M [00:04<00:00, 19.6MB/s]\n"
          ]
        },
        {
          "output_type": "stream",
          "name": "stdout",
          "text": [
            "Downloading 20 out of 25: 105005005ADE7C00/120200213301.tif\n"
          ]
        },
        {
          "output_type": "stream",
          "name": "stderr",
          "text": [
            "Downloading...\n",
            "From: https://maxar-opendata.s3.amazonaws.com/events/Libya-Floods-Sept-2023/ard/34/120200213301/2023-07-01/105005005ADE7C00-visual.tif\n",
            "To: /content/105005005ADE7C00/120200213301.tif\n",
            "100%|██████████| 23.5M/23.5M [00:00<00:00, 24.4MB/s]\n"
          ]
        },
        {
          "output_type": "stream",
          "name": "stdout",
          "text": [
            "Downloading 21 out of 25: 105005005ADE7C00/120200213100.tif\n"
          ]
        },
        {
          "output_type": "stream",
          "name": "stderr",
          "text": [
            "Downloading...\n",
            "From: https://maxar-opendata.s3.amazonaws.com/events/Libya-Floods-Sept-2023/ard/34/120200213100/2023-07-01/105005005ADE7C00-visual.tif\n",
            "To: /content/105005005ADE7C00/120200213100.tif\n",
            "100%|██████████| 7.22M/7.22M [00:00<00:00, 20.6MB/s]\n"
          ]
        },
        {
          "output_type": "stream",
          "name": "stdout",
          "text": [
            "Downloading 22 out of 25: 105005005ADE7C00/120200213102.tif\n"
          ]
        },
        {
          "output_type": "stream",
          "name": "stderr",
          "text": [
            "Downloading...\n",
            "From: https://maxar-opendata.s3.amazonaws.com/events/Libya-Floods-Sept-2023/ard/34/120200213102/2023-07-01/105005005ADE7C00-visual.tif\n",
            "To: /content/105005005ADE7C00/120200213102.tif\n",
            "100%|██████████| 38.3M/38.3M [00:02<00:00, 18.4MB/s]\n"
          ]
        },
        {
          "output_type": "stream",
          "name": "stdout",
          "text": [
            "Downloading 23 out of 25: 105005005ADE7C00/120200213120.tif\n"
          ]
        },
        {
          "output_type": "stream",
          "name": "stderr",
          "text": [
            "Downloading...\n",
            "From: https://maxar-opendata.s3.amazonaws.com/events/Libya-Floods-Sept-2023/ard/34/120200213120/2023-07-01/105005005ADE7C00-visual.tif\n",
            "To: /content/105005005ADE7C00/120200213120.tif\n",
            "100%|██████████| 72.4M/72.4M [00:03<00:00, 22.0MB/s]\n"
          ]
        },
        {
          "output_type": "stream",
          "name": "stdout",
          "text": [
            "Downloading 24 out of 25: 105005005ADE7C00/120200213122.tif\n"
          ]
        },
        {
          "output_type": "stream",
          "name": "stderr",
          "text": [
            "Downloading...\n",
            "From: https://maxar-opendata.s3.amazonaws.com/events/Libya-Floods-Sept-2023/ard/34/120200213122/2023-07-01/105005005ADE7C00-visual.tif\n",
            "To: /content/105005005ADE7C00/120200213122.tif\n",
            "100%|██████████| 67.4M/67.4M [00:02<00:00, 22.8MB/s]\n"
          ]
        },
        {
          "output_type": "stream",
          "name": "stdout",
          "text": [
            "Downloading 25 out of 25: 105005005ADE7C00/120200213300.tif\n"
          ]
        },
        {
          "output_type": "stream",
          "name": "stderr",
          "text": [
            "Downloading...\n",
            "From: https://maxar-opendata.s3.amazonaws.com/events/Libya-Floods-Sept-2023/ard/34/120200213300/2023-07-01/105005005ADE7C00-visual.tif\n",
            "To: /content/105005005ADE7C00/120200213300.tif\n",
            "100%|██████████| 18.0M/18.0M [00:01<00:00, 17.7MB/s]\n"
          ]
        }
      ],
      "id": "8b5f5c0c-7df8-4edd-b0a1-1763d0afc72c"
    },
    {
      "cell_type": "code",
      "source": [
        "# leafmap.maxar_download(post_images)"
      ],
      "metadata": {
        "id": "4ceccc5a-7cbc-4601-b1a1-4522eb12715d"
      },
      "execution_count": null,
      "outputs": [],
      "id": "4ceccc5a-7cbc-4601-b1a1-4522eb12715d"
    }
  ]
}